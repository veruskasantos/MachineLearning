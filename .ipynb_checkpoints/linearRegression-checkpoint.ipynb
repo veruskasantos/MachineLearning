{
 "cells": [
  {
   "cell_type": "code",
   "execution_count": 7,
   "metadata": {},
   "outputs": [
    {
     "name": "stdout",
     "output_type": "stream",
     "text": [
      "0.0898988922179\n",
      "1.48125422637\n"
     ]
    }
   ],
   "source": [
    "#@author Veruska Santos\n",
    "#@version 0.1\n",
    "\n",
    "#Código baseado na aula de Siraj Raval\n",
    "\n",
    "# top para ML, multiplicação de matrizes\n",
    "from numpy import *\n",
    "\n",
    "def compute_error_for_given_points(b, m, points):\n",
    "    totalError = 0\n",
    "    # calcula o erro para todos os dados\n",
    "    for i in range(0, len(points)):\n",
    "        x = points[i, 0]\n",
    "        y = points[0, 1]\n",
    "        totalError += (y - (m + x + b)) **2\n",
    "\n",
    "        return totalError / float(len(points))\n",
    "\n",
    "def step_gradient(b_current, m_current, points, learning_rate):\n",
    "    # gradient descent\n",
    "    # cálculo das derivadas parciais\n",
    "    b_gradient = 0\n",
    "    m_gradient = 0\n",
    "    N = float(len(points))\n",
    "\n",
    "    for i in range(0, len(points)):\n",
    "        x = points[i, 0]\n",
    "        y = points[i, 1]\n",
    "        b_gradient += -(2/N) * (y - (m_current * x) + b_current)\n",
    "        m_gradient += -(2/N) * x * (y - (m_current * x) + b_current)\n",
    "\n",
    "        new_b = b_current - (learning_rate * b_gradient)\n",
    "    new_m = m_current - (learning_rate * m_gradient)\n",
    "    return [new_b, new_m]\n",
    "\n",
    "\n",
    "def gradient_descent_runner(points, starting_b, starting_m, learning_rate, num_iterations):\n",
    "    b = starting_b\n",
    "    m = starting_m\n",
    "\n",
    "    for i in range(num_iterations):\n",
    "        b, m = step_gradient(b, m, array(points), learning_rate)\n",
    "\n",
    "    return [b,m]\n",
    "\n",
    "def run():\n",
    "    points = genfromtxt(\"data.csv\", delimiter=',')\n",
    "    # quão rápido deve ser o processo de aprendizagem\n",
    "    learning_rate = 0.0001\n",
    "\n",
    "    # y = mx + b é o modelo linear que nós queremos\n",
    "    initial_b = 0 # intercepta o y\n",
    "    initial_m = 0 # a inclininação da reta\n",
    "\n",
    "    num_iterations = 1000 # quantidade de repetições do treinamento\n",
    "    [b, m] = gradient_descent_runner(points, initial_b, initial_m, learning_rate, num_iterations)\n",
    "    print(b)\n",
    "    print(m)\n",
    "\n",
    "if __name__ == '__main__':\n",
    "    run()"
   ]
  },
  {
   "cell_type": "code",
   "execution_count": null,
   "metadata": {
    "collapsed": true
   },
   "outputs": [],
   "source": []
  },
  {
   "cell_type": "code",
   "execution_count": null,
   "metadata": {
    "collapsed": true
   },
   "outputs": [],
   "source": []
  }
 ],
 "metadata": {
  "kernelspec": {
   "display_name": "Python [default]",
   "language": "python",
   "name": "python3"
  },
  "language_info": {
   "codemirror_mode": {
    "name": "ipython",
    "version": 3
   },
   "file_extension": ".py",
   "mimetype": "text/x-python",
   "name": "python",
   "nbconvert_exporter": "python",
   "pygments_lexer": "ipython3",
   "version": "3.5.3"
  }
 },
 "nbformat": 4,
 "nbformat_minor": 2
}
