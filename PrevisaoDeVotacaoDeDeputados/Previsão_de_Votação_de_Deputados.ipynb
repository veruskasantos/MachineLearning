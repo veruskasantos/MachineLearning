{
 "cells": [
  {
   "cell_type": "markdown",
   "metadata": {},
   "source": [
    "Nesta atividade construiremos modelos preditivos de regressão em scikit learn para a predição dos votos de deputados federais considerando as últimas eleições. As atividades esperadas para essa etapa são descritas a seguir:\n",
    "\n",
    "1. Baixe os dados aqui (veja descrição dos dados mais abaixo).\n",
    "\n",
    "Vamos explorar dados sobre as votações que candidatos à Câmara Federal de Deputados receberam nos anos de 2006 e 2010. Esses dados foram extraídos do TSE (Links para um site externo)Links para um site externo, pré-processados e contemplam informações sobre aproximadamente 7.300 candidatos. A descrição de cada atributo é dada mais abaixo.\n",
    "\n",
    "\"sequencial_candidato\" :(character) id do candidato\n",
    "\n",
    "\"nome\": (character)\n",
    "\n",
    "\"uf\": (character)\n",
    "\n",
    "\"partido\": (character)\n",
    "\n",
    "\"quantidade_doacoes\": (integer)\n",
    "\n",
    "\"quantidade_doadores\": (integer) número de doadores diferentes\n",
    "\n",
    "\"total_receita\": (double) soma em R$ das doações\n",
    "\n",
    "\"media_receita\": (double) média das doações\n",
    "\n",
    "\"recursos_de_outros_candidatos/comites\": (double) quantia em R$ das doações provenientes de outros candidatos ou comite partidário\n",
    "\n",
    "\"recursos_de_pessoas_fisicas\": (double) quantia em R$ das doações provenientes de outros CPFs\n",
    "\n",
    "\"recursos_de_pessoas_juridicas\": (double) quantia em R$ das doações provenientes de outros CNPJ\n",
    "\n",
    "\"recursos_proprios\": (double) quantia em R$ das doações provenientes do próprio candidato\n",
    "\n",
    "\"recursos_de_partido_politico\": (double) quantia em R$ das doações provenientes do partido político do candidato\n",
    "\n",
    "\"votos\": (integer) variável alvo. Se refere ao número de votos na campanha de 2006 e 2010\n",
    "\n",
    "\"quantidade_despesas\": (integer)\n",
    "\n",
    "\"quantidade_fornecedores\": (integer) número de fornecedores/despesas diferentes\n",
    "\n",
    "\"total_despesa\": (double) soma em R$ das despesas de campanha\n",
    "\n",
    "\"media_despesa\": (double) média das despesas de campanha\n",
    "\n",
    "\"cargo\": (character)\n",
    "\n",
    "\"Sexo\": (character)\n",
    "\n",
    "\"grau\": (character) grau de instrução do candidato\n",
    "\n",
    "\"estado_civil\": (character)\n",
    "\n",
    "\"ocupacao\": (character) ocupação do candidato\n",
    "\n",
    "\n",
    "2. Considere o pipeline mostrado nesse [link](https://www.kaggle.com/apapiu/regularized-linear-models) para um site externo para construir seus modelos de regressão. Isso implica, dentre outras coisas:\n",
    "\n",
    "    1. Analisar as distribuições das variáveis para ver se estão enviesadas e precisam de correção; tratamento de valores ausentes, variáveis categóricas e normalização, quando for o caso.\n",
    "    2. Construir modelos de regressão com (ridge e lasso) e sem regularização.\n",
    "    3. Considerar também modelos de regressão não paramétrica como K-NN.\n",
    "    4. Considerar outros modelos ainda não vistos em sala de sua escolha (e.g. SVR, Regression Trees e Random Florests).\n",
    "    5. Tunar os hiperâmetros para cada caso e retornar os rmses de validação cruzada para todos os modelos avaliados.\n",
    "    6. Plotar os resíduos versus predições e analisar se esses plots representam bons indícios da adequabilidade dos modelos a esse problema.\n",
    "    \n",
    "3. Alguns dias antes da entrega final serão liberados os dados de teste referentes à 2014 para validação final dos seus melhores modelos.\n",
    "    1. Dica: Uma coisa que você pode fazer é usar os dados de 2006 como treino e os de 2010 como validação. Uma vez encontrados os melhores modelos para 2010 junte 2006+2010, retreine, e aplique o modelo aos dados de 2014 que serão liberados.\n",
    "    \n",
    "4. Responder:\n",
    "    1. Dentre os modelos avaliados, qual foi o que deu o melhor resultado nos dados de 2014 em termos de RMSE? Justifique bem sua resposta.\n",
    "\n",
    "A entrega deve ser um notebook Jupyter com código python e texto explicativo quando necessário. Crie um repositório na sua conta do github e envie o link do html do notebook.\n"
   ]
  },
  {
   "cell_type": "code",
   "execution_count": 77,
   "metadata": {},
   "outputs": [],
   "source": [
    "import pandas as pd\n",
    "import numpy as np\n",
    "import seaborn as sns\n",
    "import matplotlib\n",
    "\n",
    "import matplotlib.pyplot as plt\n",
    "from sklearn.model_selection import train_test_split\n",
    "from scipy.stats import skew\n",
    "from scipy.stats.stats import pearsonr"
   ]
  },
  {
   "cell_type": "markdown",
   "metadata": {},
   "source": [
    "## Dados "
   ]
  },
  {
   "cell_type": "markdown",
   "metadata": {},
   "source": [
    "### Leitura dos dados e divisão em treinamento e validação"
   ]
  },
  {
   "cell_type": "code",
   "execution_count": 78,
   "metadata": {},
   "outputs": [],
   "source": [
    "columns = \"ano sequencial_candidato nome uf partido quantidade_doacoes quantidade_doadores total_receita media_receita recursos_de_outros_candidatos/comites recursos_de_pessoas_fisicas recursos_de_pessoas_juridicas recursos_proprios quantidade_despesas quantidade_fornecedores total_despesa media_despesa cargo sexo grau estado_civil ocupacao\".split() # Declare the columns names\n",
    "\n",
    "data = pd.read_csv(\"dados/eleicoes_2006_a_2010.csv\")\n",
    "df = pd.DataFrame(data, columns=columns) # load the dataset as a pandas data frame\n",
    "y = data.votos # define the target variable (dependent variable) as y\n",
    "\n",
    "# test = pd.read_csv(\"../input/test.csv\")"
   ]
  },
  {
   "cell_type": "code",
   "execution_count": 79,
   "metadata": {},
   "outputs": [
    {
     "data": {
      "text/html": [
       "<div>\n",
       "<style>\n",
       "    .dataframe thead tr:only-child th {\n",
       "        text-align: right;\n",
       "    }\n",
       "\n",
       "    .dataframe thead th {\n",
       "        text-align: left;\n",
       "    }\n",
       "\n",
       "    .dataframe tbody tr th {\n",
       "        vertical-align: top;\n",
       "    }\n",
       "</style>\n",
       "<table border=\"1\" class=\"dataframe\">\n",
       "  <thead>\n",
       "    <tr style=\"text-align: right;\">\n",
       "      <th></th>\n",
       "      <th>ano</th>\n",
       "      <th>sequencial_candidato</th>\n",
       "      <th>nome</th>\n",
       "      <th>uf</th>\n",
       "      <th>partido</th>\n",
       "      <th>quantidade_doacoes</th>\n",
       "      <th>quantidade_doadores</th>\n",
       "      <th>total_receita</th>\n",
       "      <th>media_receita</th>\n",
       "      <th>recursos_de_outros_candidatos/comites</th>\n",
       "      <th>...</th>\n",
       "      <th>recursos_proprios</th>\n",
       "      <th>quantidade_despesas</th>\n",
       "      <th>quantidade_fornecedores</th>\n",
       "      <th>total_despesa</th>\n",
       "      <th>media_despesa</th>\n",
       "      <th>cargo</th>\n",
       "      <th>sexo</th>\n",
       "      <th>grau</th>\n",
       "      <th>estado_civil</th>\n",
       "      <th>ocupacao</th>\n",
       "    </tr>\n",
       "  </thead>\n",
       "  <tbody>\n",
       "    <tr>\n",
       "      <th>0</th>\n",
       "      <td>2006</td>\n",
       "      <td>10001</td>\n",
       "      <td>JOSÉ LUIZ NOGUEIRA DE SOUSA</td>\n",
       "      <td>AP</td>\n",
       "      <td>PT</td>\n",
       "      <td>6</td>\n",
       "      <td>6</td>\n",
       "      <td>16600.00</td>\n",
       "      <td>2766.666667</td>\n",
       "      <td>NaN</td>\n",
       "      <td>...</td>\n",
       "      <td>1300.00</td>\n",
       "      <td>14</td>\n",
       "      <td>14</td>\n",
       "      <td>16583.60</td>\n",
       "      <td>1184.542857</td>\n",
       "      <td>DEPUTADO FEDERAL</td>\n",
       "      <td>MASCULINO</td>\n",
       "      <td>ENSINO MÉDIO COMPLETO</td>\n",
       "      <td>CASADO(A)</td>\n",
       "      <td>VEREADOR</td>\n",
       "    </tr>\n",
       "    <tr>\n",
       "      <th>1</th>\n",
       "      <td>2006</td>\n",
       "      <td>10002</td>\n",
       "      <td>LOIVA DE OLIVEIRA</td>\n",
       "      <td>RO</td>\n",
       "      <td>PT</td>\n",
       "      <td>13</td>\n",
       "      <td>13</td>\n",
       "      <td>22826.00</td>\n",
       "      <td>1755.846154</td>\n",
       "      <td>6625.0</td>\n",
       "      <td>...</td>\n",
       "      <td>201.00</td>\n",
       "      <td>24</td>\n",
       "      <td>23</td>\n",
       "      <td>20325.99</td>\n",
       "      <td>883.738696</td>\n",
       "      <td>DEPUTADO FEDERAL</td>\n",
       "      <td>FEMININO</td>\n",
       "      <td>SUPERIOR COMPLETO</td>\n",
       "      <td>SOLTEIRO(A)</td>\n",
       "      <td>SERVIDOR PÚBLICO ESTADUAL</td>\n",
       "    </tr>\n",
       "    <tr>\n",
       "      <th>2</th>\n",
       "      <td>2006</td>\n",
       "      <td>10002</td>\n",
       "      <td>MARIA DALVA DE SOUZA FIGUEIREDO</td>\n",
       "      <td>AP</td>\n",
       "      <td>PT</td>\n",
       "      <td>17</td>\n",
       "      <td>16</td>\n",
       "      <td>148120.80</td>\n",
       "      <td>9257.550000</td>\n",
       "      <td>2250.0</td>\n",
       "      <td>...</td>\n",
       "      <td>59500.00</td>\n",
       "      <td>123</td>\n",
       "      <td>108</td>\n",
       "      <td>146011.70</td>\n",
       "      <td>1351.960185</td>\n",
       "      <td>DEPUTADO FEDERAL</td>\n",
       "      <td>FEMININO</td>\n",
       "      <td>SUPERIOR COMPLETO</td>\n",
       "      <td>VIÚVO(A)</td>\n",
       "      <td>PEDAGOGO</td>\n",
       "    </tr>\n",
       "    <tr>\n",
       "      <th>3</th>\n",
       "      <td>2006</td>\n",
       "      <td>10002</td>\n",
       "      <td>ROMALDO MILANI</td>\n",
       "      <td>MS</td>\n",
       "      <td>PRONA</td>\n",
       "      <td>6</td>\n",
       "      <td>6</td>\n",
       "      <td>3001.12</td>\n",
       "      <td>500.186667</td>\n",
       "      <td>NaN</td>\n",
       "      <td>...</td>\n",
       "      <td>750.00</td>\n",
       "      <td>8</td>\n",
       "      <td>8</td>\n",
       "      <td>3001.12</td>\n",
       "      <td>375.140000</td>\n",
       "      <td>DEPUTADO FEDERAL</td>\n",
       "      <td>MASCULINO</td>\n",
       "      <td>ENSINO MÉDIO INCOMPLETO</td>\n",
       "      <td>CASADO(A)</td>\n",
       "      <td>MILITAR REFORMADO</td>\n",
       "    </tr>\n",
       "    <tr>\n",
       "      <th>4</th>\n",
       "      <td>2006</td>\n",
       "      <td>10003</td>\n",
       "      <td>ANSELMO DE JESUS ABREU</td>\n",
       "      <td>RO</td>\n",
       "      <td>PT</td>\n",
       "      <td>48</td>\n",
       "      <td>48</td>\n",
       "      <td>NaN</td>\n",
       "      <td>NaN</td>\n",
       "      <td>NaN</td>\n",
       "      <td>...</td>\n",
       "      <td>68942.00</td>\n",
       "      <td>133</td>\n",
       "      <td>120</td>\n",
       "      <td>116416.64</td>\n",
       "      <td>970.138667</td>\n",
       "      <td>DEPUTADO FEDERAL</td>\n",
       "      <td>MASCULINO</td>\n",
       "      <td>ENSINO FUNDAMENTAL COMPLETO</td>\n",
       "      <td>CASADO(A)</td>\n",
       "      <td>DEPUTADO</td>\n",
       "    </tr>\n",
       "    <tr>\n",
       "      <th>5</th>\n",
       "      <td>2006</td>\n",
       "      <td>10003</td>\n",
       "      <td>JOSÉ RODRIGUES DOS SANTOS NETO</td>\n",
       "      <td>PI</td>\n",
       "      <td>PCO</td>\n",
       "      <td>6</td>\n",
       "      <td>6</td>\n",
       "      <td>1771.21</td>\n",
       "      <td>295.201667</td>\n",
       "      <td>NaN</td>\n",
       "      <td>...</td>\n",
       "      <td>1771.21</td>\n",
       "      <td>9</td>\n",
       "      <td>9</td>\n",
       "      <td>1771.21</td>\n",
       "      <td>196.801111</td>\n",
       "      <td>DEPUTADO FEDERAL</td>\n",
       "      <td>MASCULINO</td>\n",
       "      <td>SUPERIOR COMPLETO</td>\n",
       "      <td>CASADO(A)</td>\n",
       "      <td>SERVIDOR PÚBLICO FEDERAL</td>\n",
       "    </tr>\n",
       "    <tr>\n",
       "      <th>6</th>\n",
       "      <td>2006</td>\n",
       "      <td>10003</td>\n",
       "      <td>JOSÉ TOMAZ DA SILVA</td>\n",
       "      <td>MS</td>\n",
       "      <td>PRONA</td>\n",
       "      <td>14</td>\n",
       "      <td>7</td>\n",
       "      <td>697.00</td>\n",
       "      <td>99.571429</td>\n",
       "      <td>NaN</td>\n",
       "      <td>...</td>\n",
       "      <td>NaN</td>\n",
       "      <td>17</td>\n",
       "      <td>10</td>\n",
       "      <td>696.91</td>\n",
       "      <td>69.691000</td>\n",
       "      <td>DEPUTADO FEDERAL</td>\n",
       "      <td>MASCULINO</td>\n",
       "      <td>SUPERIOR COMPLETO</td>\n",
       "      <td>CASADO(A)</td>\n",
       "      <td>MÉDICO</td>\n",
       "    </tr>\n",
       "    <tr>\n",
       "      <th>7</th>\n",
       "      <td>2006</td>\n",
       "      <td>10003</td>\n",
       "      <td>LUIZ CARLOS MUNHOZ MEIRA</td>\n",
       "      <td>MG</td>\n",
       "      <td>PPS</td>\n",
       "      <td>2</td>\n",
       "      <td>2</td>\n",
       "      <td>70000.00</td>\n",
       "      <td>35000.000000</td>\n",
       "      <td>NaN</td>\n",
       "      <td>...</td>\n",
       "      <td>70000.00</td>\n",
       "      <td>332</td>\n",
       "      <td>278</td>\n",
       "      <td>66016.95</td>\n",
       "      <td>237.471043</td>\n",
       "      <td>DEPUTADO FEDERAL</td>\n",
       "      <td>MASCULINO</td>\n",
       "      <td>SUPERIOR COMPLETO</td>\n",
       "      <td>CASADO(A)</td>\n",
       "      <td>SERVIDOR PÚBLICO FEDERAL</td>\n",
       "    </tr>\n",
       "    <tr>\n",
       "      <th>8</th>\n",
       "      <td>2006</td>\n",
       "      <td>10004</td>\n",
       "      <td>EDILSON VEIRA ROCHA</td>\n",
       "      <td>AP</td>\n",
       "      <td>PT</td>\n",
       "      <td>2</td>\n",
       "      <td>2</td>\n",
       "      <td>6065.00</td>\n",
       "      <td>3032.500000</td>\n",
       "      <td>6065.0</td>\n",
       "      <td>...</td>\n",
       "      <td>NaN</td>\n",
       "      <td>10</td>\n",
       "      <td>10</td>\n",
       "      <td>6060.42</td>\n",
       "      <td>606.042000</td>\n",
       "      <td>DEPUTADO FEDERAL</td>\n",
       "      <td>MASCULINO</td>\n",
       "      <td>ENSINO MÉDIO COMPLETO</td>\n",
       "      <td>CASADO(A)</td>\n",
       "      <td>FEIRANTE, AMBULANTE E MASCATE</td>\n",
       "    </tr>\n",
       "    <tr>\n",
       "      <th>9</th>\n",
       "      <td>2006</td>\n",
       "      <td>10004</td>\n",
       "      <td>EDUARDO VALVERDE ARAÚJO ALVES</td>\n",
       "      <td>RO</td>\n",
       "      <td>PT</td>\n",
       "      <td>68</td>\n",
       "      <td>65</td>\n",
       "      <td>105813.20</td>\n",
       "      <td>1627.895385</td>\n",
       "      <td>9575.0</td>\n",
       "      <td>...</td>\n",
       "      <td>16500.00</td>\n",
       "      <td>68</td>\n",
       "      <td>67</td>\n",
       "      <td>110818.20</td>\n",
       "      <td>1654.002985</td>\n",
       "      <td>DEPUTADO FEDERAL</td>\n",
       "      <td>MASCULINO</td>\n",
       "      <td>SUPERIOR COMPLETO</td>\n",
       "      <td>CASADO(A)</td>\n",
       "      <td>DEPUTADO</td>\n",
       "    </tr>\n",
       "  </tbody>\n",
       "</table>\n",
       "<p>10 rows × 22 columns</p>\n",
       "</div>"
      ],
      "text/plain": [
       "    ano  sequencial_candidato                             nome  uf partido  \\\n",
       "0  2006                 10001      JOSÉ LUIZ NOGUEIRA DE SOUSA  AP      PT   \n",
       "1  2006                 10002                LOIVA DE OLIVEIRA  RO      PT   \n",
       "2  2006                 10002  MARIA DALVA DE SOUZA FIGUEIREDO  AP      PT   \n",
       "3  2006                 10002                   ROMALDO MILANI  MS   PRONA   \n",
       "4  2006                 10003           ANSELMO DE JESUS ABREU  RO      PT   \n",
       "5  2006                 10003   JOSÉ RODRIGUES DOS SANTOS NETO  PI     PCO   \n",
       "6  2006                 10003              JOSÉ TOMAZ DA SILVA  MS   PRONA   \n",
       "7  2006                 10003         LUIZ CARLOS MUNHOZ MEIRA  MG     PPS   \n",
       "8  2006                 10004              EDILSON VEIRA ROCHA  AP      PT   \n",
       "9  2006                 10004    EDUARDO VALVERDE ARAÚJO ALVES  RO      PT   \n",
       "\n",
       "   quantidade_doacoes  quantidade_doadores  total_receita  media_receita  \\\n",
       "0                   6                    6       16600.00    2766.666667   \n",
       "1                  13                   13       22826.00    1755.846154   \n",
       "2                  17                   16      148120.80    9257.550000   \n",
       "3                   6                    6        3001.12     500.186667   \n",
       "4                  48                   48            NaN            NaN   \n",
       "5                   6                    6        1771.21     295.201667   \n",
       "6                  14                    7         697.00      99.571429   \n",
       "7                   2                    2       70000.00   35000.000000   \n",
       "8                   2                    2        6065.00    3032.500000   \n",
       "9                  68                   65      105813.20    1627.895385   \n",
       "\n",
       "   recursos_de_outros_candidatos/comites              ...                \\\n",
       "0                                    NaN              ...                 \n",
       "1                                 6625.0              ...                 \n",
       "2                                 2250.0              ...                 \n",
       "3                                    NaN              ...                 \n",
       "4                                    NaN              ...                 \n",
       "5                                    NaN              ...                 \n",
       "6                                    NaN              ...                 \n",
       "7                                    NaN              ...                 \n",
       "8                                 6065.0              ...                 \n",
       "9                                 9575.0              ...                 \n",
       "\n",
       "   recursos_proprios  quantidade_despesas  quantidade_fornecedores  \\\n",
       "0            1300.00                   14                       14   \n",
       "1             201.00                   24                       23   \n",
       "2           59500.00                  123                      108   \n",
       "3             750.00                    8                        8   \n",
       "4           68942.00                  133                      120   \n",
       "5            1771.21                    9                        9   \n",
       "6                NaN                   17                       10   \n",
       "7           70000.00                  332                      278   \n",
       "8                NaN                   10                       10   \n",
       "9           16500.00                   68                       67   \n",
       "\n",
       "   total_despesa  media_despesa             cargo       sexo  \\\n",
       "0       16583.60    1184.542857  DEPUTADO FEDERAL  MASCULINO   \n",
       "1       20325.99     883.738696  DEPUTADO FEDERAL   FEMININO   \n",
       "2      146011.70    1351.960185  DEPUTADO FEDERAL   FEMININO   \n",
       "3        3001.12     375.140000  DEPUTADO FEDERAL  MASCULINO   \n",
       "4      116416.64     970.138667  DEPUTADO FEDERAL  MASCULINO   \n",
       "5        1771.21     196.801111  DEPUTADO FEDERAL  MASCULINO   \n",
       "6         696.91      69.691000  DEPUTADO FEDERAL  MASCULINO   \n",
       "7       66016.95     237.471043  DEPUTADO FEDERAL  MASCULINO   \n",
       "8        6060.42     606.042000  DEPUTADO FEDERAL  MASCULINO   \n",
       "9      110818.20    1654.002985  DEPUTADO FEDERAL  MASCULINO   \n",
       "\n",
       "                          grau estado_civil                       ocupacao  \n",
       "0        ENSINO MÉDIO COMPLETO    CASADO(A)                       VEREADOR  \n",
       "1            SUPERIOR COMPLETO  SOLTEIRO(A)      SERVIDOR PÚBLICO ESTADUAL  \n",
       "2            SUPERIOR COMPLETO     VIÚVO(A)                       PEDAGOGO  \n",
       "3      ENSINO MÉDIO INCOMPLETO    CASADO(A)              MILITAR REFORMADO  \n",
       "4  ENSINO FUNDAMENTAL COMPLETO    CASADO(A)                       DEPUTADO  \n",
       "5            SUPERIOR COMPLETO    CASADO(A)       SERVIDOR PÚBLICO FEDERAL  \n",
       "6            SUPERIOR COMPLETO    CASADO(A)                         MÉDICO  \n",
       "7            SUPERIOR COMPLETO    CASADO(A)       SERVIDOR PÚBLICO FEDERAL  \n",
       "8        ENSINO MÉDIO COMPLETO    CASADO(A)  FEIRANTE, AMBULANTE E MASCATE  \n",
       "9            SUPERIOR COMPLETO    CASADO(A)                       DEPUTADO  \n",
       "\n",
       "[10 rows x 22 columns]"
      ]
     },
     "execution_count": 79,
     "metadata": {},
     "output_type": "execute_result"
    }
   ],
   "source": [
    "df.head(10)"
   ]
  },
  {
   "cell_type": "code",
   "execution_count": 80,
   "metadata": {},
   "outputs": [
    {
     "name": "stdout",
     "output_type": "stream",
     "text": [
      "(5864, 22) (5864,)\n",
      "(1466, 22) (1466,)\n"
     ]
    }
   ],
   "source": [
    "# create training and validation vars\n",
    "X_train, X_validation, y_train, y_validation = train_test_split(df, y, test_size=0.2)\n",
    "print(X_train.shape, y_train.shape)\n",
    "print(X_validation.shape, y_validation.shape)"
   ]
  },
  {
   "cell_type": "markdown",
   "metadata": {},
   "source": [
    "### Pré-processamento dos dados"
   ]
  },
  {
   "cell_type": "markdown",
   "metadata": {},
   "source": [
    "- **TODO Transformação das features numéricas enviesadas usando log(feature + 1) - isto tornará as features normais;**\n",
    "- Substituição dos valores numéricos ausentes (NaN's) pela média de suas respectivas colunas;\n",
    "- **TODO Transformação das variáveis categóricas.**"
   ]
  },
  {
   "cell_type": "markdown",
   "metadata": {},
   "source": [
    "#### Enviesamento de features numéricas"
   ]
  },
  {
   "cell_type": "markdown",
   "metadata": {},
   "source": [
    "Através dos histogramas abaixo vemos que as variáveis analisadas precisam de normalização, porque a distribuição dos seus valores não está igual."
   ]
  },
  {
   "cell_type": "code",
   "execution_count": 81,
   "metadata": {},
   "outputs": [
    {
     "data": {
      "image/png": "[encoded data removed]",
      "text/plain": [
       "<matplotlib.figure.Figure at 0x25b0e97be0>"
      ]
     },
     "metadata": {},
     "output_type": "display_data"
    }
   ],
   "source": [
    "plt.hist(X_train[\"quantidade_doacoes\"], bins='auto')\n",
    "plt.title(\"Histogram with 'auto' bins\")\n",
    "plt.xscale('log')\n",
    "plt.show()"
   ]
  },
  {
   "cell_type": "code",
   "execution_count": null,
   "metadata": {
    "collapsed": true
   },
   "outputs": [],
   "source": []
  },
  {
   "cell_type": "code",
   "execution_count": 82,
   "metadata": {},
   "outputs": [
    {
     "data": {
      "image/png": "[encoded data removed]",
      "text/plain": [
       "<matplotlib.figure.Figure at 0x25ade0acc0>"
      ]
     },
     "metadata": {},
     "output_type": "display_data"
    }
   ],
   "source": [
    "plt.hist(X_train[\"quantidade_doadores\"], bins='auto')\n",
    "plt.title(\"Histogram with 'auto' bins\")\n",
    "plt.xscale('log')\n",
    "plt.show()"
   ]
  },
  {
   "cell_type": "code",
   "execution_count": null,
   "metadata": {
    "collapsed": true
   },
   "outputs": [],
   "source": []
  },
  {
   "cell_type": "code",
   "execution_count": 83,
   "metadata": {},
   "outputs": [
    {
     "data": {
      "image/png": "[encoded data removed]",
      "text/plain": [
       "<matplotlib.figure.Figure at 0x25aefcc8d0>"
      ]
     },
     "metadata": {},
     "output_type": "display_data"
    }
   ],
   "source": [
    "plt.hist(X_train[\"quantidade_despesas\"], bins='auto')\n",
    "plt.title(\"Histogram with 'auto' bins\")\n",
    "plt.xscale('log')\n",
    "plt.show()"
   ]
  },
  {
   "cell_type": "code",
   "execution_count": null,
   "metadata": {
    "collapsed": true
   },
   "outputs": [],
   "source": []
  },
  {
   "cell_type": "code",
   "execution_count": 84,
   "metadata": {},
   "outputs": [
    {
     "data": {
      "image/png": "[encoded data removed]",
      "text/plain": [
       "<matplotlib.figure.Figure at 0x25ac077b38>"
      ]
     },
     "metadata": {},
     "output_type": "display_data"
    }
   ],
   "source": [
    "plt.hist(X_train[\"quantidade_fornecedores\"], bins='auto')\n",
    "plt.title(\"Histogram with 'auto' bins\")\n",
    "plt.xscale('log')\n",
    "plt.show()"
   ]
  },
  {
   "cell_type": "code",
   "execution_count": null,
   "metadata": {
    "collapsed": true
   },
   "outputs": [],
   "source": []
  },
  {
   "cell_type": "code",
   "execution_count": 85,
   "metadata": {},
   "outputs": [
    {
     "data": {
      "image/png": "[encoded data removed]",
      "text/plain": [
       "<matplotlib.figure.Figure at 0x25adf859b0>"
      ]
     },
     "metadata": {},
     "output_type": "display_data"
    }
   ],
   "source": [
    "plt.hist(X_train[\"total_despesa\"], bins='auto')\n",
    "plt.title(\"Histogram with 'auto' bins\")\n",
    "plt.xscale('log')\n",
    "plt.show()"
   ]
  },
  {
   "cell_type": "code",
   "execution_count": null,
   "metadata": {
    "collapsed": true
   },
   "outputs": [],
   "source": []
  },
  {
   "cell_type": "code",
   "execution_count": 86,
   "metadata": {},
   "outputs": [
    {
     "data": {
      "image/png": "[encoded data removed]",
      "text/plain": [
       "<matplotlib.figure.Figure at 0x25ab151048>"
      ]
     },
     "metadata": {},
     "output_type": "display_data"
    }
   ],
   "source": [
    "plt.hist(X_train[\"media_despesa\"], bins='auto')\n",
    "plt.title(\"Histogram with 'auto' bins\")\n",
    "plt.xscale('log')\n",
    "plt.show()"
   ]
  },
  {
   "cell_type": "code",
   "execution_count": null,
   "metadata": {
    "collapsed": true
   },
   "outputs": [],
   "source": []
  },
  {
   "cell_type": "markdown",
   "metadata": {},
   "source": [
    "#### Features com valores numéricos ausentes (NaN) "
   ]
  },
  {
   "cell_type": "markdown",
   "metadata": {},
   "source": [
    "Abaixo veremos quais as variáveis com valores ausentes (NaN)."
   ]
  },
  {
   "cell_type": "code",
   "execution_count": 87,
   "metadata": {},
   "outputs": [
    {
     "data": {
      "text/plain": [
       "ano                                      False\n",
       "sequencial_candidato                     False\n",
       "nome                                     False\n",
       "uf                                       False\n",
       "partido                                  False\n",
       "quantidade_doacoes                       False\n",
       "quantidade_doadores                      False\n",
       "total_receita                             True\n",
       "media_receita                             True\n",
       "recursos_de_outros_candidatos/comites     True\n",
       "recursos_de_pessoas_fisicas               True\n",
       "recursos_de_pessoas_juridicas             True\n",
       "recursos_proprios                         True\n",
       "quantidade_despesas                      False\n",
       "quantidade_fornecedores                  False\n",
       "total_despesa                            False\n",
       "media_despesa                            False\n",
       "cargo                                    False\n",
       "sexo                                     False\n",
       "grau                                     False\n",
       "estado_civil                             False\n",
       "ocupacao                                 False\n",
       "dtype: bool"
      ]
     },
     "execution_count": 87,
     "metadata": {},
     "output_type": "execute_result"
    }
   ],
   "source": [
    "X_train.isnull().any()"
   ]
  },
  {
   "cell_type": "markdown",
   "metadata": {},
   "source": [
    "As variáveis **recursos_de_outros_candidatos/comites**, **recursos_de_pessoas_fisicas**, **recursos_de_pessoas_juridicas** e **recursos_proprios** são as que possuem valores ausentes e, portanto, serão substituídos pela média dos valores da respectiva variável. "
   ]
  },
  {
   "cell_type": "code",
   "execution_count": 88,
   "metadata": {},
   "outputs": [
    {
     "data": {
      "text/html": [
       "<div>\n",
       "<style>\n",
       "    .dataframe thead tr:only-child th {\n",
       "        text-align: right;\n",
       "    }\n",
       "\n",
       "    .dataframe thead th {\n",
       "        text-align: left;\n",
       "    }\n",
       "\n",
       "    .dataframe tbody tr th {\n",
       "        vertical-align: top;\n",
       "    }\n",
       "</style>\n",
       "<table border=\"1\" class=\"dataframe\">\n",
       "  <thead>\n",
       "    <tr style=\"text-align: right;\">\n",
       "      <th></th>\n",
       "      <th>ano</th>\n",
       "      <th>sequencial_candidato</th>\n",
       "      <th>nome</th>\n",
       "      <th>uf</th>\n",
       "      <th>partido</th>\n",
       "      <th>quantidade_doacoes</th>\n",
       "      <th>quantidade_doadores</th>\n",
       "      <th>total_receita</th>\n",
       "      <th>media_receita</th>\n",
       "      <th>recursos_de_outros_candidatos/comites</th>\n",
       "      <th>...</th>\n",
       "      <th>recursos_proprios</th>\n",
       "      <th>quantidade_despesas</th>\n",
       "      <th>quantidade_fornecedores</th>\n",
       "      <th>total_despesa</th>\n",
       "      <th>media_despesa</th>\n",
       "      <th>cargo</th>\n",
       "      <th>sexo</th>\n",
       "      <th>grau</th>\n",
       "      <th>estado_civil</th>\n",
       "      <th>ocupacao</th>\n",
       "    </tr>\n",
       "  </thead>\n",
       "  <tbody>\n",
       "    <tr>\n",
       "      <th>1023</th>\n",
       "      <td>2006</td>\n",
       "      <td>10240</td>\n",
       "      <td>LAUDENOR OLIVEIRA ALBARADO</td>\n",
       "      <td>PA</td>\n",
       "      <td>PT do B</td>\n",
       "      <td>2</td>\n",
       "      <td>2</td>\n",
       "      <td>3058.52</td>\n",
       "      <td>1529.260000</td>\n",
       "      <td>29822.263167</td>\n",
       "      <td>...</td>\n",
       "      <td>3058.520000</td>\n",
       "      <td>26</td>\n",
       "      <td>22</td>\n",
       "      <td>2991.28</td>\n",
       "      <td>135.967273</td>\n",
       "      <td>DEPUTADO FEDERAL</td>\n",
       "      <td>MASCULINO</td>\n",
       "      <td>SUPERIOR COMPLETO</td>\n",
       "      <td>DIVORCIADO(A)</td>\n",
       "      <td>PROFESSOR DE ENSINO MÉDIO</td>\n",
       "    </tr>\n",
       "    <tr>\n",
       "      <th>5508</th>\n",
       "      <td>2010</td>\n",
       "      <td>190000001734</td>\n",
       "      <td>PEDRO PAULO CARVALHO TEIXEIRA</td>\n",
       "      <td>RJ</td>\n",
       "      <td>PMDB</td>\n",
       "      <td>48</td>\n",
       "      <td>45</td>\n",
       "      <td>1462488.00</td>\n",
       "      <td>32499.733333</td>\n",
       "      <td>647048.000000</td>\n",
       "      <td>...</td>\n",
       "      <td>38824.583295</td>\n",
       "      <td>1239</td>\n",
       "      <td>391</td>\n",
       "      <td>964480.53</td>\n",
       "      <td>2466.702123</td>\n",
       "      <td>DEPUTADO FEDERAL</td>\n",
       "      <td>MASCULINO</td>\n",
       "      <td>SUPERIOR COMPLETO</td>\n",
       "      <td>CASADO(A)</td>\n",
       "      <td>DEPUTADO</td>\n",
       "    </tr>\n",
       "    <tr>\n",
       "      <th>5361</th>\n",
       "      <td>2010</td>\n",
       "      <td>190000000712</td>\n",
       "      <td>SANDRO VITOR SILVA GONÇALVES</td>\n",
       "      <td>RJ</td>\n",
       "      <td>PMN</td>\n",
       "      <td>18</td>\n",
       "      <td>18</td>\n",
       "      <td>62084.00</td>\n",
       "      <td>3449.111111</td>\n",
       "      <td>7134.000000</td>\n",
       "      <td>...</td>\n",
       "      <td>4000.000000</td>\n",
       "      <td>40</td>\n",
       "      <td>37</td>\n",
       "      <td>60559.55</td>\n",
       "      <td>1636.744595</td>\n",
       "      <td>DEPUTADO FEDERAL</td>\n",
       "      <td>MASCULINO</td>\n",
       "      <td>SUPERIOR INCOMPLETO</td>\n",
       "      <td>CASADO(A)</td>\n",
       "      <td>OUTROS</td>\n",
       "    </tr>\n",
       "    <tr>\n",
       "      <th>1984</th>\n",
       "      <td>2006</td>\n",
       "      <td>10628</td>\n",
       "      <td>ARACELY DE PAULA</td>\n",
       "      <td>MG</td>\n",
       "      <td>PL</td>\n",
       "      <td>46</td>\n",
       "      <td>41</td>\n",
       "      <td>357652.31</td>\n",
       "      <td>8723.227073</td>\n",
       "      <td>29822.263167</td>\n",
       "      <td>...</td>\n",
       "      <td>186552.150000</td>\n",
       "      <td>350</td>\n",
       "      <td>324</td>\n",
       "      <td>391477.31</td>\n",
       "      <td>1208.263302</td>\n",
       "      <td>DEPUTADO FEDERAL</td>\n",
       "      <td>MASCULINO</td>\n",
       "      <td>SUPERIOR COMPLETO</td>\n",
       "      <td>CASADO(A)</td>\n",
       "      <td>DEPUTADO</td>\n",
       "    </tr>\n",
       "    <tr>\n",
       "      <th>5667</th>\n",
       "      <td>2010</td>\n",
       "      <td>190000002496</td>\n",
       "      <td>ALEXANDRE JOSE FARAH</td>\n",
       "      <td>RJ</td>\n",
       "      <td>PR</td>\n",
       "      <td>8</td>\n",
       "      <td>8</td>\n",
       "      <td>495752.72</td>\n",
       "      <td>61969.090000</td>\n",
       "      <td>2272.720000</td>\n",
       "      <td>...</td>\n",
       "      <td>2480.000000</td>\n",
       "      <td>148</td>\n",
       "      <td>96</td>\n",
       "      <td>377501.82</td>\n",
       "      <td>3932.310625</td>\n",
       "      <td>DEPUTADO FEDERAL</td>\n",
       "      <td>MASCULINO</td>\n",
       "      <td>SUPERIOR COMPLETO</td>\n",
       "      <td>DIVORCIADO(A)</td>\n",
       "      <td>ADVOGADO</td>\n",
       "    </tr>\n",
       "  </tbody>\n",
       "</table>\n",
       "<p>5 rows × 22 columns</p>\n",
       "</div>"
      ],
      "text/plain": [
       "       ano  sequencial_candidato                           nome  uf  partido  \\\n",
       "1023  2006                 10240     LAUDENOR OLIVEIRA ALBARADO  PA  PT do B   \n",
       "5508  2010          190000001734  PEDRO PAULO CARVALHO TEIXEIRA  RJ     PMDB   \n",
       "5361  2010          190000000712   SANDRO VITOR SILVA GONÇALVES  RJ      PMN   \n",
       "1984  2006                 10628               ARACELY DE PAULA  MG       PL   \n",
       "5667  2010          190000002496           ALEXANDRE JOSE FARAH  RJ       PR   \n",
       "\n",
       "      quantidade_doacoes  quantidade_doadores  total_receita  media_receita  \\\n",
       "1023                   2                    2        3058.52    1529.260000   \n",
       "5508                  48                   45     1462488.00   32499.733333   \n",
       "5361                  18                   18       62084.00    3449.111111   \n",
       "1984                  46                   41      357652.31    8723.227073   \n",
       "5667                   8                    8      495752.72   61969.090000   \n",
       "\n",
       "      recursos_de_outros_candidatos/comites            ...              \\\n",
       "1023                           29822.263167            ...               \n",
       "5508                          647048.000000            ...               \n",
       "5361                            7134.000000            ...               \n",
       "1984                           29822.263167            ...               \n",
       "5667                            2272.720000            ...               \n",
       "\n",
       "      recursos_proprios  quantidade_despesas  quantidade_fornecedores  \\\n",
       "1023        3058.520000                   26                       22   \n",
       "5508       38824.583295                 1239                      391   \n",
       "5361        4000.000000                   40                       37   \n",
       "1984      186552.150000                  350                      324   \n",
       "5667        2480.000000                  148                       96   \n",
       "\n",
       "      total_despesa  media_despesa             cargo       sexo  \\\n",
       "1023        2991.28     135.967273  DEPUTADO FEDERAL  MASCULINO   \n",
       "5508      964480.53    2466.702123  DEPUTADO FEDERAL  MASCULINO   \n",
       "5361       60559.55    1636.744595  DEPUTADO FEDERAL  MASCULINO   \n",
       "1984      391477.31    1208.263302  DEPUTADO FEDERAL  MASCULINO   \n",
       "5667      377501.82    3932.310625  DEPUTADO FEDERAL  MASCULINO   \n",
       "\n",
       "                     grau   estado_civil                   ocupacao  \n",
       "1023    SUPERIOR COMPLETO  DIVORCIADO(A)  PROFESSOR DE ENSINO MÉDIO  \n",
       "5508    SUPERIOR COMPLETO      CASADO(A)                   DEPUTADO  \n",
       "5361  SUPERIOR INCOMPLETO      CASADO(A)                     OUTROS  \n",
       "1984    SUPERIOR COMPLETO      CASADO(A)                   DEPUTADO  \n",
       "5667    SUPERIOR COMPLETO  DIVORCIADO(A)                   ADVOGADO  \n",
       "\n",
       "[5 rows x 22 columns]"
      ]
     },
     "execution_count": 88,
     "metadata": {},
     "output_type": "execute_result"
    }
   ],
   "source": [
    "#filling NA's with the mean of the column:\n",
    "X_train = X_train.fillna(X_train.mean())\n",
    "\n",
    "X_train.head()"
   ]
  },
  {
   "cell_type": "code",
   "execution_count": 89,
   "metadata": {},
   "outputs": [
    {
     "data": {
      "text/plain": [
       "ano                                      False\n",
       "sequencial_candidato                     False\n",
       "nome                                     False\n",
       "uf                                       False\n",
       "partido                                  False\n",
       "quantidade_doacoes                       False\n",
       "quantidade_doadores                      False\n",
       "total_receita                            False\n",
       "media_receita                            False\n",
       "recursos_de_outros_candidatos/comites    False\n",
       "recursos_de_pessoas_fisicas              False\n",
       "recursos_de_pessoas_juridicas            False\n",
       "recursos_proprios                        False\n",
       "quantidade_despesas                      False\n",
       "quantidade_fornecedores                  False\n",
       "total_despesa                            False\n",
       "media_despesa                            False\n",
       "cargo                                    False\n",
       "sexo                                     False\n",
       "grau                                     False\n",
       "estado_civil                             False\n",
       "ocupacao                                 False\n",
       "dtype: bool"
      ]
     },
     "execution_count": 89,
     "metadata": {},
     "output_type": "execute_result"
    }
   ],
   "source": [
    "X_train.isnull().any()"
   ]
  },
  {
   "cell_type": "markdown",
   "metadata": {},
   "source": [
    "#### Tranformação das variáveis categóricas"
   ]
  },
  {
   "cell_type": "code",
   "execution_count": null,
   "metadata": {
    "collapsed": true
   },
   "outputs": [],
   "source": []
  },
  {
   "cell_type": "code",
   "execution_count": null,
   "metadata": {
    "collapsed": true
   },
   "outputs": [],
   "source": []
  },
  {
   "cell_type": "code",
   "execution_count": null,
   "metadata": {
    "collapsed": true
   },
   "outputs": [],
   "source": []
  },
  {
   "cell_type": "code",
   "execution_count": null,
   "metadata": {
    "collapsed": true
   },
   "outputs": [],
   "source": []
  },
  {
   "cell_type": "code",
   "execution_count": null,
   "metadata": {
    "collapsed": true
   },
   "outputs": [],
   "source": []
  },
  {
   "cell_type": "code",
   "execution_count": null,
   "metadata": {
    "collapsed": true
   },
   "outputs": [],
   "source": []
  }
 ],
 "metadata": {
  "kernelspec": {
   "display_name": "Python [conda root]",
   "language": "python",
   "name": "conda-root-py"
  },
  "language_info": {
   "codemirror_mode": {
    "name": "ipython",
    "version": 3
   },
   "file_extension": ".py",
   "mimetype": "text/x-python",
   "name": "python",
   "nbconvert_exporter": "python",
   "pygments_lexer": "ipython3",
   "version": "3.5.3"
  }
 },
 "nbformat": 4,
 "nbformat_minor": 2
}
