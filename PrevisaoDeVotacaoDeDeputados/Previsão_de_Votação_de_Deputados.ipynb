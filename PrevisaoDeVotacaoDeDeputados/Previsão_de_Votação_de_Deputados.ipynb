{
 "cells": [
  {
   "cell_type": "markdown",
   "metadata": {},
   "source": [
    "Nesta atividade construiremos modelos preditivos de regressão em scikit learn para a predição dos votos de deputados federais considerando as últimas eleições. As atividades esperadas para essa etapa são descritas a seguir:\n",
    "\n",
    "1. Baixe os dados aqui.\n",
    "\n",
    "Vamos explorar dados sobre as votações que candidatos à Câmara Federal de Deputados receberam nos anos de 2006 e 2010. Esses dados foram extraídos do TSE (Links para um site externo)Links para um site externo, pré-processados e contemplam informações sobre aproximadamente 7.300 candidatos.\n",
    "\n",
    "2. Considere o pipeline mostrado nesse [link](https://www.kaggle.com/apapiu/regularized-linear-models) para um site externo para construir seus modelos de regressão. Isso implica, dentre outras coisas:\n",
    "\n",
    "    1. Analisar as distribuições das variáveis para ver se estão enviesadas e precisam de correção; tratamento de valores ausentes, variáveis categóricas e normalização, quando for o caso.\n",
    "    2. Construir modelos de regressão com (ridge e lasso) e sem regularização.\n",
    "    3. Considerar também modelos de regressão não paramétrica como K-NN.\n",
    "    4. Considerar outros modelos ainda não vistos em sala de sua escolha (e.g. SVR, Regression Trees e Random Florests).\n",
    "    5. Tunar os hiperâmetros para cada caso e retornar os rmses de validação cruzada para todos os modelos avaliados.\n",
    "    6. Plotar os resíduos versus predições e analisar se esses plots representam bons indícios da adequabilidade dos modelos a esse problema.\n",
    "    \n",
    "3. Alguns dias antes da entrega final serão liberados os dados de teste referentes à 2014 para validação final dos seus melhores modelos.\n",
    "    1. Dica: Uma coisa que você pode fazer é usar os dados de 2006 como treino e os de 2010 como validação. Uma vez encontrados os melhores modelos para 2010 junte 2006+2010, retreine, e aplique o modelo aos dados de 2014 que serão liberados.\n",
    "    \n",
    "4. Responder:\n",
    "    1. Dentre os modelos avaliados, qual foi o que deu o melhor resultado nos dados de 2014 em termos de RMSE? Justifique bem sua resposta.\n",
    "\n",
    "A entrega deve ser um notebook Jupyter com código python e texto explicativo quando necessário. Crie um repositório na sua conta do github e envie o link do html do notebook.\n"
   ]
  },
  {
   "cell_type": "code",
   "execution_count": 2,
   "metadata": {
    "collapsed": true
   },
   "outputs": [],
   "source": [
    "import pandas as pd\n",
    "import numpy as np\n",
    "import seaborn as sns\n",
    "import matplotlib\n",
    "\n",
    "import matplotlib.pyplot as plt\n",
    "from scipy.stats import skew\n",
    "\n",
    "from sklearn.linear_model import Ridge, Lasso\n",
    "from sklearn.model_selection import cross_val_score\n",
    "from sklearn.neighbors import KNeighborsClassifier\n",
    "from sklearn.svm import SVR\n",
    "from sklearn.ensemble import RandomForestClassifier\n",
    "from sklearn.model_selection import cross_val_score"
   ]
  },
  {
   "cell_type": "markdown",
   "metadata": {},
   "source": [
    "## Análise dos dados "
   ]
  },
  {
   "cell_type": "markdown",
   "metadata": {},
   "source": [
    "### Leitura dos dados"
   ]
  },
  {
   "cell_type": "code",
   "execution_count": 3,
   "metadata": {
    "collapsed": true
   },
   "outputs": [],
   "source": [
    "train_data = pd.read_csv(\"dados/eleicoes_2006_a_2010.csv\")\n",
    "#test_data = pd.read_csv(\"dados/eleicoes_2006_a_2010.csv\") #TODO change\n",
    "\n",
    "# load the dataset as a pandas data frame\n",
    "df_train_data = pd.DataFrame(train_data)\n",
    "\n",
    "df_data = df_train_data #TODO remove this line\n",
    "#TODO and uncommet the lines below\n",
    "#df_test_data = pd.DataFrame(test_data)\n",
    "\n",
    "#frames = [df_train_data, df_test_data]\n",
    "#df_data = pd.concat(frames)"
   ]
  },
  {
   "cell_type": "code",
   "execution_count": 4,
   "metadata": {},
   "outputs": [
    {
     "data": {
      "text/html": [
       "<div>\n",
       "<style>\n",
       "    .dataframe thead tr:only-child th {\n",
       "        text-align: right;\n",
       "    }\n",
       "\n",
       "    .dataframe thead th {\n",
       "        text-align: left;\n",
       "    }\n",
       "\n",
       "    .dataframe tbody tr th {\n",
       "        vertical-align: top;\n",
       "    }\n",
       "</style>\n",
       "<table border=\"1\" class=\"dataframe\">\n",
       "  <thead>\n",
       "    <tr style=\"text-align: right;\">\n",
       "      <th></th>\n",
       "      <th>ano</th>\n",
       "      <th>sequencial_candidato</th>\n",
       "      <th>nome</th>\n",
       "      <th>uf</th>\n",
       "      <th>partido</th>\n",
       "      <th>quantidade_doacoes</th>\n",
       "      <th>quantidade_doadores</th>\n",
       "      <th>total_receita</th>\n",
       "      <th>media_receita</th>\n",
       "      <th>recursos_de_outros_candidatos/comites</th>\n",
       "      <th>...</th>\n",
       "      <th>quantidade_despesas</th>\n",
       "      <th>quantidade_fornecedores</th>\n",
       "      <th>total_despesa</th>\n",
       "      <th>media_despesa</th>\n",
       "      <th>cargo</th>\n",
       "      <th>sexo</th>\n",
       "      <th>grau</th>\n",
       "      <th>estado_civil</th>\n",
       "      <th>ocupacao</th>\n",
       "      <th>votos</th>\n",
       "    </tr>\n",
       "  </thead>\n",
       "  <tbody>\n",
       "    <tr>\n",
       "      <th>0</th>\n",
       "      <td>2006</td>\n",
       "      <td>10001</td>\n",
       "      <td>JOSÉ LUIZ NOGUEIRA DE SOUSA</td>\n",
       "      <td>AP</td>\n",
       "      <td>PT</td>\n",
       "      <td>6</td>\n",
       "      <td>6</td>\n",
       "      <td>16600.00</td>\n",
       "      <td>2766.666667</td>\n",
       "      <td>NaN</td>\n",
       "      <td>...</td>\n",
       "      <td>14</td>\n",
       "      <td>14</td>\n",
       "      <td>16583.60</td>\n",
       "      <td>1184.542857</td>\n",
       "      <td>DEPUTADO FEDERAL</td>\n",
       "      <td>MASCULINO</td>\n",
       "      <td>ENSINO MÉDIO COMPLETO</td>\n",
       "      <td>CASADO(A)</td>\n",
       "      <td>VEREADOR</td>\n",
       "      <td>8579</td>\n",
       "    </tr>\n",
       "    <tr>\n",
       "      <th>1</th>\n",
       "      <td>2006</td>\n",
       "      <td>10002</td>\n",
       "      <td>LOIVA DE OLIVEIRA</td>\n",
       "      <td>RO</td>\n",
       "      <td>PT</td>\n",
       "      <td>13</td>\n",
       "      <td>13</td>\n",
       "      <td>22826.00</td>\n",
       "      <td>1755.846154</td>\n",
       "      <td>6625.0</td>\n",
       "      <td>...</td>\n",
       "      <td>24</td>\n",
       "      <td>23</td>\n",
       "      <td>20325.99</td>\n",
       "      <td>883.738696</td>\n",
       "      <td>DEPUTADO FEDERAL</td>\n",
       "      <td>FEMININO</td>\n",
       "      <td>SUPERIOR COMPLETO</td>\n",
       "      <td>SOLTEIRO(A)</td>\n",
       "      <td>SERVIDOR PÚBLICO ESTADUAL</td>\n",
       "      <td>2757</td>\n",
       "    </tr>\n",
       "    <tr>\n",
       "      <th>2</th>\n",
       "      <td>2006</td>\n",
       "      <td>10002</td>\n",
       "      <td>MARIA DALVA DE SOUZA FIGUEIREDO</td>\n",
       "      <td>AP</td>\n",
       "      <td>PT</td>\n",
       "      <td>17</td>\n",
       "      <td>16</td>\n",
       "      <td>148120.80</td>\n",
       "      <td>9257.550000</td>\n",
       "      <td>2250.0</td>\n",
       "      <td>...</td>\n",
       "      <td>123</td>\n",
       "      <td>108</td>\n",
       "      <td>146011.70</td>\n",
       "      <td>1351.960185</td>\n",
       "      <td>DEPUTADO FEDERAL</td>\n",
       "      <td>FEMININO</td>\n",
       "      <td>SUPERIOR COMPLETO</td>\n",
       "      <td>VIÚVO(A)</td>\n",
       "      <td>PEDAGOGO</td>\n",
       "      <td>17428</td>\n",
       "    </tr>\n",
       "    <tr>\n",
       "      <th>3</th>\n",
       "      <td>2006</td>\n",
       "      <td>10002</td>\n",
       "      <td>ROMALDO MILANI</td>\n",
       "      <td>MS</td>\n",
       "      <td>PRONA</td>\n",
       "      <td>6</td>\n",
       "      <td>6</td>\n",
       "      <td>3001.12</td>\n",
       "      <td>500.186667</td>\n",
       "      <td>NaN</td>\n",
       "      <td>...</td>\n",
       "      <td>8</td>\n",
       "      <td>8</td>\n",
       "      <td>3001.12</td>\n",
       "      <td>375.140000</td>\n",
       "      <td>DEPUTADO FEDERAL</td>\n",
       "      <td>MASCULINO</td>\n",
       "      <td>ENSINO MÉDIO INCOMPLETO</td>\n",
       "      <td>CASADO(A)</td>\n",
       "      <td>MILITAR REFORMADO</td>\n",
       "      <td>1193</td>\n",
       "    </tr>\n",
       "    <tr>\n",
       "      <th>4</th>\n",
       "      <td>2006</td>\n",
       "      <td>10003</td>\n",
       "      <td>ANSELMO DE JESUS ABREU</td>\n",
       "      <td>RO</td>\n",
       "      <td>PT</td>\n",
       "      <td>48</td>\n",
       "      <td>48</td>\n",
       "      <td>NaN</td>\n",
       "      <td>NaN</td>\n",
       "      <td>NaN</td>\n",
       "      <td>...</td>\n",
       "      <td>133</td>\n",
       "      <td>120</td>\n",
       "      <td>116416.64</td>\n",
       "      <td>970.138667</td>\n",
       "      <td>DEPUTADO FEDERAL</td>\n",
       "      <td>MASCULINO</td>\n",
       "      <td>ENSINO FUNDAMENTAL COMPLETO</td>\n",
       "      <td>CASADO(A)</td>\n",
       "      <td>DEPUTADO</td>\n",
       "      <td>29401</td>\n",
       "    </tr>\n",
       "  </tbody>\n",
       "</table>\n",
       "<p>5 rows × 23 columns</p>\n",
       "</div>"
      ],
      "text/plain": [
       "    ano  sequencial_candidato                             nome  uf partido  \\\n",
       "0  2006                 10001      JOSÉ LUIZ NOGUEIRA DE SOUSA  AP      PT   \n",
       "1  2006                 10002                LOIVA DE OLIVEIRA  RO      PT   \n",
       "2  2006                 10002  MARIA DALVA DE SOUZA FIGUEIREDO  AP      PT   \n",
       "3  2006                 10002                   ROMALDO MILANI  MS   PRONA   \n",
       "4  2006                 10003           ANSELMO DE JESUS ABREU  RO      PT   \n",
       "\n",
       "   quantidade_doacoes  quantidade_doadores  total_receita  media_receita  \\\n",
       "0                   6                    6       16600.00    2766.666667   \n",
       "1                  13                   13       22826.00    1755.846154   \n",
       "2                  17                   16      148120.80    9257.550000   \n",
       "3                   6                    6        3001.12     500.186667   \n",
       "4                  48                   48            NaN            NaN   \n",
       "\n",
       "   recursos_de_outros_candidatos/comites  ...    quantidade_despesas  \\\n",
       "0                                    NaN  ...                     14   \n",
       "1                                 6625.0  ...                     24   \n",
       "2                                 2250.0  ...                    123   \n",
       "3                                    NaN  ...                      8   \n",
       "4                                    NaN  ...                    133   \n",
       "\n",
       "   quantidade_fornecedores  total_despesa  media_despesa             cargo  \\\n",
       "0                       14       16583.60    1184.542857  DEPUTADO FEDERAL   \n",
       "1                       23       20325.99     883.738696  DEPUTADO FEDERAL   \n",
       "2                      108      146011.70    1351.960185  DEPUTADO FEDERAL   \n",
       "3                        8        3001.12     375.140000  DEPUTADO FEDERAL   \n",
       "4                      120      116416.64     970.138667  DEPUTADO FEDERAL   \n",
       "\n",
       "        sexo                         grau estado_civil  \\\n",
       "0  MASCULINO        ENSINO MÉDIO COMPLETO    CASADO(A)   \n",
       "1   FEMININO            SUPERIOR COMPLETO  SOLTEIRO(A)   \n",
       "2   FEMININO            SUPERIOR COMPLETO     VIÚVO(A)   \n",
       "3  MASCULINO      ENSINO MÉDIO INCOMPLETO    CASADO(A)   \n",
       "4  MASCULINO  ENSINO FUNDAMENTAL COMPLETO    CASADO(A)   \n",
       "\n",
       "                    ocupacao  votos  \n",
       "0                   VEREADOR   8579  \n",
       "1  SERVIDOR PÚBLICO ESTADUAL   2757  \n",
       "2                   PEDAGOGO  17428  \n",
       "3          MILITAR REFORMADO   1193  \n",
       "4                   DEPUTADO  29401  \n",
       "\n",
       "[5 rows x 23 columns]"
      ]
     },
     "execution_count": 4,
     "metadata": {},
     "output_type": "execute_result"
    }
   ],
   "source": [
    "df_data.head()"
   ]
  },
  {
   "cell_type": "markdown",
   "metadata": {},
   "source": [
    "### Pré-processamento dos dados"
   ]
  },
  {
   "cell_type": "markdown",
   "metadata": {},
   "source": [
    "- Transformação das features numéricas enviesadas usando log(feature + 1), a fim de normalizar a distribuição dos valores;\n",
    "- Tratamento das features numéricas com valores ausentes (NaN's);\n",
    "- Transformação das variáveis categóricas."
   ]
  },
  {
   "cell_type": "markdown",
   "metadata": {},
   "source": [
    "#### Enviesamento de features numéricas"
   ]
  },
  {
   "cell_type": "markdown",
   "metadata": {},
   "source": [
    "Através dos histogramas abaixo vemos que as variáveis analisadas precisam de normalização, porque a distribuição dos seus valores não está igual."
   ]
  },
  {
   "cell_type": "code",
   "execution_count": 5,
   "metadata": {
    "collapsed": true
   },
   "outputs": [],
   "source": [
    "# function to plot a histogram of each variable\n",
    "def plot_histogram(feature):\n",
    "    # log (feature + 1) because of features with values 0\n",
    "    feature = pd.DataFrame({\"1. \" + feature: df_data[feature], \"2. log(\" + feature + \")\": np.log1p(df_data[feature])})\n",
    "    feature.hist() # TODO check how to increase the number of bins\n",
    "\n",
    "# function to transform skewed variables using log(feature + 1)\n",
    "def transform_skewed_var(feature):\n",
    "    df_data[feature] = np.log1p(df_data[feature])"
   ]
  },
  {
   "cell_type": "code",
   "execution_count": 6,
   "metadata": {
    "collapsed": true
   },
   "outputs": [],
   "source": [
    "columns = \"quantidade_doacoes quantidade_doadores total_receita media_receita recursos_de_outros_candidatos/comites recursos_de_pessoas_fisicas recursos_de_pessoas_juridicas recursos_proprios quantidade_despesas quantidade_fornecedores total_despesa media_despesa\".split()\n",
    "\n",
    "for feature in columns:\n",
    "    plot_histogram(feature)\n",
    "    transform_skewed_var(feature)    "
   ]
  },
  {
   "cell_type": "markdown",
   "metadata": {},
   "source": [
    "#### Features com valores numéricos ausentes (NaN) "
   ]
  },
  {
   "cell_type": "markdown",
   "metadata": {},
   "source": [
    "Abaixo veremos quais as variáveis com valores ausentes (NaN)."
   ]
  },
  {
   "cell_type": "code",
   "execution_count": 7,
   "metadata": {},
   "outputs": [
    {
     "data": {
      "text/plain": [
       "ano                                      False\n",
       "sequencial_candidato                     False\n",
       "nome                                     False\n",
       "uf                                       False\n",
       "partido                                  False\n",
       "quantidade_doacoes                       False\n",
       "quantidade_doadores                      False\n",
       "total_receita                             True\n",
       "media_receita                             True\n",
       "recursos_de_outros_candidatos/comites     True\n",
       "recursos_de_pessoas_fisicas               True\n",
       "recursos_de_pessoas_juridicas             True\n",
       "recursos_proprios                         True\n",
       "quantidade_despesas                      False\n",
       "quantidade_fornecedores                  False\n",
       "total_despesa                            False\n",
       "media_despesa                            False\n",
       "cargo                                    False\n",
       "sexo                                     False\n",
       "grau                                     False\n",
       "estado_civil                             False\n",
       "ocupacao                                 False\n",
       "votos                                    False\n",
       "dtype: bool"
      ]
     },
     "execution_count": 7,
     "metadata": {},
     "output_type": "execute_result"
    }
   ],
   "source": [
    "df_data.isnull().any()"
   ]
  },
  {
   "cell_type": "code",
   "execution_count": 8,
   "metadata": {},
   "outputs": [
    {
     "name": "stdout",
     "output_type": "stream",
     "text": [
      "<class 'pandas.core.frame.DataFrame'>\n",
      "RangeIndex: 7330 entries, 0 to 7329\n",
      "Data columns (total 23 columns):\n",
      "ano                                      7330 non-null int64\n",
      "sequencial_candidato                     7330 non-null int64\n",
      "nome                                     7330 non-null object\n",
      "uf                                       7330 non-null object\n",
      "partido                                  7330 non-null object\n",
      "quantidade_doacoes                       7330 non-null float64\n",
      "quantidade_doadores                      7330 non-null float64\n",
      "total_receita                            7169 non-null float64\n",
      "media_receita                            7169 non-null float64\n",
      "recursos_de_outros_candidatos/comites    4940 non-null float64\n",
      "recursos_de_pessoas_fisicas              4647 non-null float64\n",
      "recursos_de_pessoas_juridicas            3354 non-null float64\n",
      "recursos_proprios                        4942 non-null float64\n",
      "quantidade_despesas                      7330 non-null float64\n",
      "quantidade_fornecedores                  7330 non-null float64\n",
      "total_despesa                            7330 non-null float64\n",
      "media_despesa                            7330 non-null float64\n",
      "cargo                                    7330 non-null object\n",
      "sexo                                     7330 non-null object\n",
      "grau                                     7330 non-null object\n",
      "estado_civil                             7330 non-null object\n",
      "ocupacao                                 7330 non-null object\n",
      "votos                                    7330 non-null int64\n",
      "dtypes: float64(12), int64(3), object(8)\n",
      "memory usage: 1.3+ MB\n"
     ]
    }
   ],
   "source": [
    "df_data.info()"
   ]
  },
  {
   "cell_type": "markdown",
   "metadata": {},
   "source": [
    "Das 6 variáveis com valores ausentes,  **recursos_de_outros_candidatos/comites**, **recursos_de_pessoas_fisicas**, **recursos_de_pessoas_juridicas** e **recursos_proprios** são as que mais possuem valores ausentes.\n",
    "\n",
    "O gráfico mais abaixo mostra a correlação entre todas as variáveis numéricas. Nele, quanto mais amarelo maior a correlação entre a variável do eixo horizontal e a variável do eixo vertical."
   ]
  },
  {
   "cell_type": "code",
   "execution_count": 9,
   "metadata": {},
   "outputs": [
    {
     "data": {
      "text/plain": [
       "<matplotlib.axes._subplots.AxesSubplot at 0xbe6f3ab128>"
      ]
     },
     "execution_count": 9,
     "metadata": {},
     "output_type": "execute_result"
    }
   ],
   "source": [
    "#analysis of correlation between variables\n",
    "\n",
    "corr = df_data.corr()\n",
    "\n",
    "# Generate a mask for the upper triangle\n",
    "mask = np.zeros_like(corr, dtype=np.bool)\n",
    "mask[np.triu_indices_from(mask)] = True\n",
    "\n",
    "# Set up the matplotlib figure\n",
    "f, ax = plt.subplots(figsize=(11, 9))\n",
    "\n",
    "# Generate a custom diverging colormap\n",
    "cmap = sns.diverging_palette(220, 10, as_cmap=True)\n",
    "cmap='viridis'\n",
    "\n",
    "# Draw the heatmap with the mask and correct aspect ratio\n",
    "sns.heatmap(corr, mask=mask, cmap=cmap, vmax=0.4, center=0,\n",
    "            square=True, linewidths=.5, cbar_kws={\"shrink\": .5})"
   ]
  },
  {
   "cell_type": "markdown",
   "metadata": {},
   "source": [
    "Vemos acima que a variável que mais tem correlação com as outras é **total_receita**.\n",
    "\n",
    "Apesar dela também ter valores ausentes, optou-se por remover dos dados apenas as outras 4 variáveis que tem mais valores ausentes, mas tem alta correlação com **total_receita**. Nesta última e em **media_receita**, os valores ausentes serão substituídos pela mediana de todos os valores de cada coluna."
   ]
  },
  {
   "cell_type": "code",
   "execution_count": 10,
   "metadata": {},
   "outputs": [
    {
     "name": "stdout",
     "output_type": "stream",
     "text": [
      "(7330, 23)\n",
      "(7330, 18)\n"
     ]
    },
    {
     "data": {
      "text/plain": [
       "ano                        False\n",
       "sequencial_candidato       False\n",
       "uf                         False\n",
       "partido                    False\n",
       "quantidade_doacoes         False\n",
       "quantidade_doadores        False\n",
       "total_receita              False\n",
       "media_receita              False\n",
       "quantidade_despesas        False\n",
       "quantidade_fornecedores    False\n",
       "total_despesa              False\n",
       "media_despesa              False\n",
       "cargo                      False\n",
       "sexo                       False\n",
       "grau                       False\n",
       "estado_civil               False\n",
       "ocupacao                   False\n",
       "votos                      False\n",
       "dtype: bool"
      ]
     },
     "execution_count": 10,
     "metadata": {},
     "output_type": "execute_result"
    }
   ],
   "source": [
    "print(df_data.shape)\n",
    "\n",
    "#removing collumns\n",
    "df_data = df_data.drop([\"nome\", \"recursos_de_outros_candidatos/comites\",\n",
    "           \"recursos_de_pessoas_fisicas\",\"recursos_de_pessoas_juridicas\",\n",
    "           \"recursos_proprios\"], 1)\n",
    "\n",
    "#filling NA's of total_receita and media_receita with the median of the column:\n",
    "df_data = df_data.fillna(df_data.median())\n",
    "\n",
    "print(df_data.shape)\n",
    "df_data.isnull().any()"
   ]
  },
  {
   "cell_type": "markdown",
   "metadata": {},
   "source": [
    "#### Tranformação das variáveis categóricas"
   ]
  },
  {
   "cell_type": "markdown",
   "metadata": {},
   "source": [
    "As variáveis categóricas presentes nos dados, como **ocupação** e **estado_civil**, serão transformadas em variáveis numéricas, a fim de permitir a sua utilização nos modelos de regressão logo a seguir."
   ]
  },
  {
   "cell_type": "code",
   "execution_count": 11,
   "metadata": {
    "scrolled": true
   },
   "outputs": [
    {
     "data": {
      "text/html": [
       "<div>\n",
       "<style>\n",
       "    .dataframe thead tr:only-child th {\n",
       "        text-align: right;\n",
       "    }\n",
       "\n",
       "    .dataframe thead th {\n",
       "        text-align: left;\n",
       "    }\n",
       "\n",
       "    .dataframe tbody tr th {\n",
       "        vertical-align: top;\n",
       "    }\n",
       "</style>\n",
       "<table border=\"1\" class=\"dataframe\">\n",
       "  <thead>\n",
       "    <tr style=\"text-align: right;\">\n",
       "      <th></th>\n",
       "      <th>ano</th>\n",
       "      <th>sequencial_candidato</th>\n",
       "      <th>quantidade_doacoes</th>\n",
       "      <th>quantidade_doadores</th>\n",
       "      <th>total_receita</th>\n",
       "      <th>media_receita</th>\n",
       "      <th>quantidade_despesas</th>\n",
       "      <th>quantidade_fornecedores</th>\n",
       "      <th>total_despesa</th>\n",
       "      <th>media_despesa</th>\n",
       "      <th>...</th>\n",
       "      <th>ocupacao_TÉCNICO DE OBRAS CIVIS, ESTRADAS, SANEAMENTO E ASSEMELHADOS</th>\n",
       "      <th>ocupacao_TÉCNICO EM AGRONOMIA E AGRIMENSURA</th>\n",
       "      <th>ocupacao_TÉCNICO EM EDIFICAÇÕES</th>\n",
       "      <th>ocupacao_TÉCNICO EM INFORMÁTICA</th>\n",
       "      <th>ocupacao_VENDEDOR DE COMÉRCIO VAREJISTA E ATACADISTA</th>\n",
       "      <th>ocupacao_VENDEDOR PRACISTA, REPRESENTANTE, CAIXEIRO-VIAJANTE E ASSEMELHADOS</th>\n",
       "      <th>ocupacao_VEREADOR</th>\n",
       "      <th>ocupacao_VETERINÁRIO</th>\n",
       "      <th>ocupacao_VIGILANTE</th>\n",
       "      <th>ocupacao_ZOOTECNISTA</th>\n",
       "    </tr>\n",
       "  </thead>\n",
       "  <tbody>\n",
       "    <tr>\n",
       "      <th>0</th>\n",
       "      <td>2006</td>\n",
       "      <td>10001</td>\n",
       "      <td>1.945910</td>\n",
       "      <td>1.945910</td>\n",
       "      <td>9.717218</td>\n",
       "      <td>7.925760</td>\n",
       "      <td>2.708050</td>\n",
       "      <td>2.708050</td>\n",
       "      <td>9.716230</td>\n",
       "      <td>7.077956</td>\n",
       "      <td>...</td>\n",
       "      <td>0</td>\n",
       "      <td>0</td>\n",
       "      <td>0</td>\n",
       "      <td>0</td>\n",
       "      <td>0</td>\n",
       "      <td>0</td>\n",
       "      <td>1</td>\n",
       "      <td>0</td>\n",
       "      <td>0</td>\n",
       "      <td>0</td>\n",
       "    </tr>\n",
       "    <tr>\n",
       "      <th>1</th>\n",
       "      <td>2006</td>\n",
       "      <td>10002</td>\n",
       "      <td>2.639057</td>\n",
       "      <td>2.639057</td>\n",
       "      <td>10.035699</td>\n",
       "      <td>7.471276</td>\n",
       "      <td>3.218876</td>\n",
       "      <td>3.178054</td>\n",
       "      <td>9.919705</td>\n",
       "      <td>6.785292</td>\n",
       "      <td>...</td>\n",
       "      <td>0</td>\n",
       "      <td>0</td>\n",
       "      <td>0</td>\n",
       "      <td>0</td>\n",
       "      <td>0</td>\n",
       "      <td>0</td>\n",
       "      <td>0</td>\n",
       "      <td>0</td>\n",
       "      <td>0</td>\n",
       "      <td>0</td>\n",
       "    </tr>\n",
       "    <tr>\n",
       "      <th>2</th>\n",
       "      <td>2006</td>\n",
       "      <td>10002</td>\n",
       "      <td>2.890372</td>\n",
       "      <td>2.833213</td>\n",
       "      <td>11.905790</td>\n",
       "      <td>9.133303</td>\n",
       "      <td>4.820282</td>\n",
       "      <td>4.691348</td>\n",
       "      <td>11.891449</td>\n",
       "      <td>7.210050</td>\n",
       "      <td>...</td>\n",
       "      <td>0</td>\n",
       "      <td>0</td>\n",
       "      <td>0</td>\n",
       "      <td>0</td>\n",
       "      <td>0</td>\n",
       "      <td>0</td>\n",
       "      <td>0</td>\n",
       "      <td>0</td>\n",
       "      <td>0</td>\n",
       "      <td>0</td>\n",
       "    </tr>\n",
       "    <tr>\n",
       "      <th>3</th>\n",
       "      <td>2006</td>\n",
       "      <td>10002</td>\n",
       "      <td>1.945910</td>\n",
       "      <td>1.945910</td>\n",
       "      <td>8.007074</td>\n",
       "      <td>6.216979</td>\n",
       "      <td>2.197225</td>\n",
       "      <td>2.197225</td>\n",
       "      <td>8.007074</td>\n",
       "      <td>5.929961</td>\n",
       "      <td>...</td>\n",
       "      <td>0</td>\n",
       "      <td>0</td>\n",
       "      <td>0</td>\n",
       "      <td>0</td>\n",
       "      <td>0</td>\n",
       "      <td>0</td>\n",
       "      <td>0</td>\n",
       "      <td>0</td>\n",
       "      <td>0</td>\n",
       "      <td>0</td>\n",
       "    </tr>\n",
       "    <tr>\n",
       "      <th>4</th>\n",
       "      <td>2006</td>\n",
       "      <td>10003</td>\n",
       "      <td>3.891820</td>\n",
       "      <td>3.891820</td>\n",
       "      <td>9.400695</td>\n",
       "      <td>7.340539</td>\n",
       "      <td>4.897840</td>\n",
       "      <td>4.795791</td>\n",
       "      <td>11.664939</td>\n",
       "      <td>6.878469</td>\n",
       "      <td>...</td>\n",
       "      <td>0</td>\n",
       "      <td>0</td>\n",
       "      <td>0</td>\n",
       "      <td>0</td>\n",
       "      <td>0</td>\n",
       "      <td>0</td>\n",
       "      <td>0</td>\n",
       "      <td>0</td>\n",
       "      <td>0</td>\n",
       "      <td>0</td>\n",
       "    </tr>\n",
       "    <tr>\n",
       "      <th>5</th>\n",
       "      <td>2006</td>\n",
       "      <td>10003</td>\n",
       "      <td>1.945910</td>\n",
       "      <td>1.945910</td>\n",
       "      <td>7.479983</td>\n",
       "      <td>5.691041</td>\n",
       "      <td>2.302585</td>\n",
       "      <td>2.302585</td>\n",
       "      <td>7.479983</td>\n",
       "      <td>5.287262</td>\n",
       "      <td>...</td>\n",
       "      <td>0</td>\n",
       "      <td>0</td>\n",
       "      <td>0</td>\n",
       "      <td>0</td>\n",
       "      <td>0</td>\n",
       "      <td>0</td>\n",
       "      <td>0</td>\n",
       "      <td>0</td>\n",
       "      <td>0</td>\n",
       "      <td>0</td>\n",
       "    </tr>\n",
       "    <tr>\n",
       "      <th>6</th>\n",
       "      <td>2006</td>\n",
       "      <td>10003</td>\n",
       "      <td>2.708050</td>\n",
       "      <td>2.079442</td>\n",
       "      <td>6.548219</td>\n",
       "      <td>4.610868</td>\n",
       "      <td>2.890372</td>\n",
       "      <td>2.397895</td>\n",
       "      <td>6.548090</td>\n",
       "      <td>4.258318</td>\n",
       "      <td>...</td>\n",
       "      <td>0</td>\n",
       "      <td>0</td>\n",
       "      <td>0</td>\n",
       "      <td>0</td>\n",
       "      <td>0</td>\n",
       "      <td>0</td>\n",
       "      <td>0</td>\n",
       "      <td>0</td>\n",
       "      <td>0</td>\n",
       "      <td>0</td>\n",
       "    </tr>\n",
       "    <tr>\n",
       "      <th>7</th>\n",
       "      <td>2006</td>\n",
       "      <td>10003</td>\n",
       "      <td>1.098612</td>\n",
       "      <td>1.098612</td>\n",
       "      <td>11.156265</td>\n",
       "      <td>10.463132</td>\n",
       "      <td>5.808142</td>\n",
       "      <td>5.631212</td>\n",
       "      <td>11.097682</td>\n",
       "      <td>5.474248</td>\n",
       "      <td>...</td>\n",
       "      <td>0</td>\n",
       "      <td>0</td>\n",
       "      <td>0</td>\n",
       "      <td>0</td>\n",
       "      <td>0</td>\n",
       "      <td>0</td>\n",
       "      <td>0</td>\n",
       "      <td>0</td>\n",
       "      <td>0</td>\n",
       "      <td>0</td>\n",
       "    </tr>\n",
       "    <tr>\n",
       "      <th>8</th>\n",
       "      <td>2006</td>\n",
       "      <td>10004</td>\n",
       "      <td>1.098612</td>\n",
       "      <td>1.098612</td>\n",
       "      <td>8.710455</td>\n",
       "      <td>8.017472</td>\n",
       "      <td>2.397895</td>\n",
       "      <td>2.397895</td>\n",
       "      <td>8.709699</td>\n",
       "      <td>6.408598</td>\n",
       "      <td>...</td>\n",
       "      <td>0</td>\n",
       "      <td>0</td>\n",
       "      <td>0</td>\n",
       "      <td>0</td>\n",
       "      <td>0</td>\n",
       "      <td>0</td>\n",
       "      <td>0</td>\n",
       "      <td>0</td>\n",
       "      <td>0</td>\n",
       "      <td>0</td>\n",
       "    </tr>\n",
       "    <tr>\n",
       "      <th>9</th>\n",
       "      <td>2006</td>\n",
       "      <td>10004</td>\n",
       "      <td>4.234107</td>\n",
       "      <td>4.189655</td>\n",
       "      <td>11.569440</td>\n",
       "      <td>7.395657</td>\n",
       "      <td>4.234107</td>\n",
       "      <td>4.219508</td>\n",
       "      <td>11.615655</td>\n",
       "      <td>7.411558</td>\n",
       "      <td>...</td>\n",
       "      <td>0</td>\n",
       "      <td>0</td>\n",
       "      <td>0</td>\n",
       "      <td>0</td>\n",
       "      <td>0</td>\n",
       "      <td>0</td>\n",
       "      <td>0</td>\n",
       "      <td>0</td>\n",
       "      <td>0</td>\n",
       "      <td>0</td>\n",
       "    </tr>\n",
       "  </tbody>\n",
       "</table>\n",
       "<p>10 rows × 259 columns</p>\n",
       "</div>"
      ],
      "text/plain": [
       "    ano  sequencial_candidato  quantidade_doacoes  quantidade_doadores  \\\n",
       "0  2006                 10001            1.945910             1.945910   \n",
       "1  2006                 10002            2.639057             2.639057   \n",
       "2  2006                 10002            2.890372             2.833213   \n",
       "3  2006                 10002            1.945910             1.945910   \n",
       "4  2006                 10003            3.891820             3.891820   \n",
       "5  2006                 10003            1.945910             1.945910   \n",
       "6  2006                 10003            2.708050             2.079442   \n",
       "7  2006                 10003            1.098612             1.098612   \n",
       "8  2006                 10004            1.098612             1.098612   \n",
       "9  2006                 10004            4.234107             4.189655   \n",
       "\n",
       "   total_receita  media_receita  quantidade_despesas  quantidade_fornecedores  \\\n",
       "0       9.717218       7.925760             2.708050                 2.708050   \n",
       "1      10.035699       7.471276             3.218876                 3.178054   \n",
       "2      11.905790       9.133303             4.820282                 4.691348   \n",
       "3       8.007074       6.216979             2.197225                 2.197225   \n",
       "4       9.400695       7.340539             4.897840                 4.795791   \n",
       "5       7.479983       5.691041             2.302585                 2.302585   \n",
       "6       6.548219       4.610868             2.890372                 2.397895   \n",
       "7      11.156265      10.463132             5.808142                 5.631212   \n",
       "8       8.710455       8.017472             2.397895                 2.397895   \n",
       "9      11.569440       7.395657             4.234107                 4.219508   \n",
       "\n",
       "   total_despesa  media_despesa          ...           \\\n",
       "0       9.716230       7.077956          ...            \n",
       "1       9.919705       6.785292          ...            \n",
       "2      11.891449       7.210050          ...            \n",
       "3       8.007074       5.929961          ...            \n",
       "4      11.664939       6.878469          ...            \n",
       "5       7.479983       5.287262          ...            \n",
       "6       6.548090       4.258318          ...            \n",
       "7      11.097682       5.474248          ...            \n",
       "8       8.709699       6.408598          ...            \n",
       "9      11.615655       7.411558          ...            \n",
       "\n",
       "   ocupacao_TÉCNICO DE OBRAS CIVIS, ESTRADAS, SANEAMENTO E ASSEMELHADOS  \\\n",
       "0                                                  0                      \n",
       "1                                                  0                      \n",
       "2                                                  0                      \n",
       "3                                                  0                      \n",
       "4                                                  0                      \n",
       "5                                                  0                      \n",
       "6                                                  0                      \n",
       "7                                                  0                      \n",
       "8                                                  0                      \n",
       "9                                                  0                      \n",
       "\n",
       "   ocupacao_TÉCNICO EM AGRONOMIA E AGRIMENSURA  \\\n",
       "0                                            0   \n",
       "1                                            0   \n",
       "2                                            0   \n",
       "3                                            0   \n",
       "4                                            0   \n",
       "5                                            0   \n",
       "6                                            0   \n",
       "7                                            0   \n",
       "8                                            0   \n",
       "9                                            0   \n",
       "\n",
       "   ocupacao_TÉCNICO EM EDIFICAÇÕES  ocupacao_TÉCNICO EM INFORMÁTICA  \\\n",
       "0                                0                                0   \n",
       "1                                0                                0   \n",
       "2                                0                                0   \n",
       "3                                0                                0   \n",
       "4                                0                                0   \n",
       "5                                0                                0   \n",
       "6                                0                                0   \n",
       "7                                0                                0   \n",
       "8                                0                                0   \n",
       "9                                0                                0   \n",
       "\n",
       "   ocupacao_VENDEDOR DE COMÉRCIO VAREJISTA E ATACADISTA  \\\n",
       "0                                                  0      \n",
       "1                                                  0      \n",
       "2                                                  0      \n",
       "3                                                  0      \n",
       "4                                                  0      \n",
       "5                                                  0      \n",
       "6                                                  0      \n",
       "7                                                  0      \n",
       "8                                                  0      \n",
       "9                                                  0      \n",
       "\n",
       "   ocupacao_VENDEDOR PRACISTA, REPRESENTANTE, CAIXEIRO-VIAJANTE E ASSEMELHADOS  \\\n",
       "0                                                  0                             \n",
       "1                                                  0                             \n",
       "2                                                  0                             \n",
       "3                                                  0                             \n",
       "4                                                  0                             \n",
       "5                                                  0                             \n",
       "6                                                  0                             \n",
       "7                                                  0                             \n",
       "8                                                  0                             \n",
       "9                                                  0                             \n",
       "\n",
       "   ocupacao_VEREADOR  ocupacao_VETERINÁRIO  ocupacao_VIGILANTE  \\\n",
       "0                  1                     0                   0   \n",
       "1                  0                     0                   0   \n",
       "2                  0                     0                   0   \n",
       "3                  0                     0                   0   \n",
       "4                  0                     0                   0   \n",
       "5                  0                     0                   0   \n",
       "6                  0                     0                   0   \n",
       "7                  0                     0                   0   \n",
       "8                  0                     0                   0   \n",
       "9                  0                     0                   0   \n",
       "\n",
       "   ocupacao_ZOOTECNISTA  \n",
       "0                     0  \n",
       "1                     0  \n",
       "2                     0  \n",
       "3                     0  \n",
       "4                     0  \n",
       "5                     0  \n",
       "6                     0  \n",
       "7                     0  \n",
       "8                     0  \n",
       "9                     0  \n",
       "\n",
       "[10 rows x 259 columns]"
      ]
     },
     "execution_count": 11,
     "metadata": {},
     "output_type": "execute_result"
    }
   ],
   "source": [
    "df_data = pd.get_dummies(df_data)\n",
    "\n",
    "df_data.head(10)"
   ]
  },
  {
   "cell_type": "markdown",
   "metadata": {
    "collapsed": true
   },
   "source": [
    "### Divisão dos dados em treinamento, validação e teste"
   ]
  },
  {
   "cell_type": "markdown",
   "metadata": {},
   "source": [
    "Abaixo, o conjunto de dados utilizado será particionado em treino, para servir para a criação dos modelos de regressão, em validação, que será usado para avaliar a qualidade do modelo e em teste, que servirá para avaliar as predições do modelo para dados ainda não vistos por ele."
   ]
  },
  {
   "cell_type": "code",
   "execution_count": 12,
   "metadata": {},
   "outputs": [
    {
     "name": "stdout",
     "output_type": "stream",
     "text": [
      "(3388, 258)\n",
      "(3388,)\n",
      "(3942, 258)\n",
      "(3942,)\n"
     ]
    }
   ],
   "source": [
    "data_train = df_data.loc[df_data[\"ano\"] == 2006]\n",
    "y_train = data_train.votos\n",
    "X_train = data_train.drop(\"votos\", 1)\n",
    "print(X_train.shape)\n",
    "print(y_train.shape)\n",
    "\n",
    "data_validation = df_data.loc[df_data[\"ano\"] == 2010]\n",
    "y_validation = data_validation.votos\n",
    "X_validation = data_validation.drop(\"votos\", 1)\n",
    "print(X_validation.shape)\n",
    "print(y_validation.shape)\n",
    "\n",
    "#TODO uncomment for test with new data\n",
    "#data_test = df_data.loc[df_data[\"ano\"] == 2014]\n",
    "#y_test = data_test.votos\n",
    "#X_test = data_test.drop(\"votos\", 1)\n",
    "#print(X_test.shape)\n",
    "#print(y_test.shape)"
   ]
  },
  {
   "cell_type": "markdown",
   "metadata": {
    "collapsed": true
   },
   "source": [
    "## Implementação dos Modelos de regressão"
   ]
  },
  {
   "cell_type": "markdown",
   "metadata": {},
   "source": [
    "### 1. Modelos de regressão sem regularização"
   ]
  },
  {
   "cell_type": "code",
   "execution_count": 13,
   "metadata": {
    "collapsed": true
   },
   "outputs": [],
   "source": [
    "# function to calculate the RMSE of the model with cross validation\n",
    "def rmse_cv(model):\n",
    "    rmse = np.sqrt(-cross_val_score(model, X_train, y_train, scoring = \"neg_mean_squared_error\", cv = 5))\n",
    "    return(rmse)"
   ]
  },
  {
   "cell_type": "code",
   "execution_count": 14,
   "metadata": {
    "collapsed": true
   },
   "outputs": [],
   "source": [
    "def print_coefficients(model):\n",
    "    w = list(model.coef_)\n",
    "    # Parameters must be in reverse order because the poly function \n",
    "    w.reverse()\n",
    "    print (np.poly1d(w) + model.intercept_) "
   ]
  },
  {
   "cell_type": "code",
   "execution_count": 15,
   "metadata": {
    "collapsed": true
   },
   "outputs": [],
   "source": [
    "def plot_rmse_param(series, param_name):\n",
    "    series.plot(title = \"Erro de validação vs \" + param_name)\n",
    "    plt.xlabel(param_name)\n",
    "    plt.ylabel(\"rmse\")"
   ]
  },
  {
   "cell_type": "code",
   "execution_count": 16,
   "metadata": {
    "collapsed": true
   },
   "outputs": [],
   "source": [
    "def best_rmse_param(series):\n",
    "    best_rmse = series.min()\n",
    "    best_param = series.idxmin() \n",
    "    \n",
    "    return(best_rmse, best_param)"
   ]
  },
  {
   "cell_type": "code",
   "execution_count": 17,
   "metadata": {
    "collapsed": true
   },
   "outputs": [],
   "source": [
    "def train_model(model, print_coef):\n",
    "    model.fit(X_train, y_train)\n",
    "    if (print_coef):\n",
    "        print_coefficients(model)\n",
    "        \n",
    "    print(\"Score: \", model.score(X_validation, y_validation)) #TODO change to X_test, y_test"
   ]
  },
  {
   "cell_type": "markdown",
   "metadata": {},
   "source": [
    "#### 1.1 Implementando o modelo de regressão Ridge"
   ]
  },
  {
   "cell_type": "code",
   "execution_count": 18,
   "metadata": {},
   "outputs": [
    {
     "name": "stdout",
     "output_type": "stream",
     "text": [
      "       257             256        255        254        253        252\n",
      "-7182 x   + 1.227e+04 x   + 1515 x   - 6077 x   - 4624 x   - 1420 x  \n",
      "         251             250        249        248             247\n",
      " - 3426 x   + 9.758e+04 x   - 2609 x   - 5151 x   - 1.561e+04 x  \n",
      "         245        244        243        242        241\n",
      " - 4161 x   - 4458 x   + 3918 x   + 1909 x   - 2080 x  \n",
      "              239         238             237             232\n",
      " + 2.616e+04 x   - 881.5 x   - 1.788e+04 x   - 1.037e+04 x  \n",
      "              231        229        228        227        226\n",
      " + 1.526e+04 x   - 8886 x   - 3634 x   + 3960 x   - 2816 x  \n",
      "              225        224        223        222        221\n",
      " - 1.775e+04 x   + 3050 x   - 6233 x   - 5659 x   - 1593 x  \n",
      "         220        219        217             215         213\n",
      " - 1349 x   - 8513 x   + 2853 x   + 1.331e+04 x   - 845.3 x  \n",
      "          212        211        209        208        207\n",
      " - 851.9 x   - 4252 x   - 9039 x   - 7267 x   - 5943 x  \n",
      "              206        205         204        203        202\n",
      " + 1.324e+04 x   - 1810 x   - 221.3 x   - 4406 x   - 2190 x  \n",
      "         201         200             199         197        196\n",
      " - 1620 x   + 801.4 x   - 1.049e+04 x   - 457.3 x   + 2651 x  \n",
      "         195         194        193        192        191        190\n",
      " + 1718 x   + 551.3 x   + 3811 x   - 1781 x   - 6801 x   - 5289 x  \n",
      "         189        188        187         186        185\n",
      " + 4843 x   - 2280 x   - 5646 x   - 777.9 x   + 4285 x  \n",
      "              184        183         182             181       180\n",
      " - 1.243e+04 x   - 5141 x   - 845.3 x   + 2.388e+04 x   + 613 x  \n",
      "         179        178        177        174        173        171\n",
      " - 1475 x   - 6006 x   + 2670 x   - 2139 x   + 2178 x   - 3801 x  \n",
      "         170        168         167        166        165         164\n",
      " + 3950 x   + 6432 x   + 485.2 x   - 4173 x   - 3867 x   - 398.9 x  \n",
      "         163            161        160        159        158        156\n",
      " + 6123 x   - 1.69e+04 x   + 5455 x   - 5262 x   + 7223 x   - 4852 x  \n",
      "         154        152             150        149             148\n",
      " + 5277 x   + 2383 x   - 1.413e+04 x   + 5345 x   + 1.017e+04 x  \n",
      "         147        145        144         140        139        138\n",
      " + 3362 x   - 2286 x   - 6284 x   - 278.5 x   + 6974 x   + 1250 x  \n",
      "        137        136        135        134        133        132\n",
      " + 144 x   - 2908 x   + 2014 x   - 3770 x   - 1245 x   - 3548 x  \n",
      "             131             130        129        128        127\n",
      " - 1.37e+04 x   - 1.978e+04 x   + 3444 x   - 3641 x   + 9215 x  \n",
      "         126             125             123        122        121\n",
      " - 5918 x   + 2.904e+04 x   + 1.201e+04 x   - 3057 x   - 3851 x  \n",
      "         119        118        116        115        114         113\n",
      " - 7106 x   - 2101 x   - 9769 x   + 9801 x   + 8184 x   + 345.1 x  \n",
      "         112         111        110        109        108        107\n",
      " + 1924 x   - 104.6 x   - 4063 x   + 1871 x   + 8887 x   - 4677 x  \n",
      "              106        105        104         103             101\n",
      " + 1.504e+04 x   + 6418 x   - 3010 x   + 14.37 x   - 1.209e+04 x  \n",
      "         100        99        98        97        95         94\n",
      " + 3065 x   + 6435 x  + 6712 x  - 1039 x  - 3448 x  - 488.3 x \n",
      "          93         92        91        90        89         88\n",
      " - 713.5 x  - 278.8 x  + 2067 x  - 4562 x  - 6598 x  - 377.1 x \n",
      "         87        86        85        84         83        82\n",
      " - 3464 x  - 5076 x  + 1796 x  - 1784 x  + 869.5 x  - 1317 x \n",
      "         81        80        79         78         77       76\n",
      " + 1441 x  + 1870 x  - 1336 x  - 657.8 x  - 119.6 x  - 637 x \n",
      "         75        74         73        72        71         70\n",
      " + 2384 x  - 1857 x  + 402.4 x  + 1106 x  - 1279 x  + 888.2 x \n",
      "          69        67         66        65        64         63\n",
      " - 888.2 x  - 6949 x  - 946.5 x  + 5548 x  - 5585 x  - 941.6 x \n",
      "         62         61        60        59        58        57\n",
      " - 5213 x  + 655.8 x  + 3588 x  - 5199 x  - 3623 x  + 3951 x \n",
      "         56        55         54        53        52         51\n",
      " - 4152 x  - 1654 x  + 622.6 x  - 3727 x  + 5020 x  + 425.1 x \n",
      "         49        48        47        46        45        44        43\n",
      " - 5836 x  + 6421 x  + 2851 x  + 4643 x  - 3429 x  + 2135 x  + 5896 x \n",
      "         42        41         40        39        38             36\n",
      " - 1451 x  + 7511 x  - 547.4 x  + 1069 x  - 1085 x  - 1.572e+04 x \n",
      "         35        34         33         32             31\n",
      " + 1297 x  + 8994 x  - 686.6 x  + 757.6 x  - 1.095e+04 x \n",
      "              30             29         28        27        26\n",
      " - 1.174e+04 x  + 2.089e+04 x  + 726.7 x  + 2431 x  + 3250 x \n",
      "              25        24            23        22             21\n",
      " + 1.079e+04 x  + 8497 x  + 1.14e+04 x  - 9040 x  - 1.024e+04 x \n",
      "          20        19        18        17             16\n",
      " + 527.2 x  + 7304 x  - 5748 x  - 3739 x  - 1.086e+04 x \n",
      "              15             14             13        12        11\n",
      " + 1.619e+04 x  + 1.292e+04 x  - 1.532e+04 x  + 4504 x  + 3300 x \n",
      "              10            9             8             7        6\n",
      " - 1.974e+04 x  + 6.08e+04 x - 5.307e+04 x + 6.554e+04 x + 1016 x\n",
      "         5        4             3        2\n",
      " + 6455 x - 5782 x + 1.468e+04 x - 3623 x + 0.7206 x - 1.045e+05\n",
      "Score:  -7.04239574243e+12\n"
     ]
    }
   ],
   "source": [
    "model_ridge = Ridge()\n",
    "train_model(model_ridge, True)"
   ]
  },
  {
   "cell_type": "markdown",
   "metadata": {},
   "source": [
    "O hiperparâmetro do Rigde é o alpha - um parâmetro de regularização que mede quão flexível é o modelo. Quanto maior a regularização, menos propenso será o nosso modelo de overfitting. No entanto, também perderá a flexibilidade e poderá não capturar todo o padrão dos dados.\n",
    "\n",
    "Testaremos alguns valores para alpha e usaremos o melhor para treinar o modelo."
   ]
  },
  {
   "cell_type": "code",
   "execution_count": 19,
   "metadata": {
    "collapsed": true
   },
   "outputs": [],
   "source": [
    "alphas = [0.001, 0.1, 0.5, 1, 5, 20, 25]\n",
    "cv_ridge_rmse = [rmse_cv(Ridge(alpha = alpha, max_iter = None, solver = \"sag\")).mean() \n",
    "            for alpha in alphas]\n",
    "\n",
    "series_ridge = pd.Series(cv_ridge_rmse, index = alphas)\n",
    "plot_rmse_param(series_ridge, \"alpha\")"
   ]
  },
  {
   "cell_type": "markdown",
   "metadata": {},
   "source": [
    "Observe a curva em forma de U acima. Quando o alpha é muito grande, a regularização é muito forte e o modelo não consegue capturar todas as complexidades dos dados - o erro volta a aumentar. Se, no entanto, deixarmos o modelo ser muito flexível (alpha pequeno), o modelo tende ao overfitting. Um valor de alpha = 30 parece o melhor, com base no gráfico acima."
   ]
  },
  {
   "cell_type": "code",
   "execution_count": 20,
   "metadata": {},
   "outputs": [
    {
     "name": "stdout",
     "output_type": "stream",
     "text": [
      "36127.5141782 0.001\n"
     ]
    }
   ],
   "source": [
    "best_rmse_ridge, best_param_ridge = best_rmse_param(series_ridge)\n",
    "print(best_rmse_ridge, best_param_ridge)"
   ]
  },
  {
   "cell_type": "code",
   "execution_count": 21,
   "metadata": {},
   "outputs": [
    {
     "name": "stdout",
     "output_type": "stream",
     "text": [
      "        257          256         255        254         253         252\n",
      "-1.039 x   - 0.1242 x   + 3.867 x   - 40.7 x   - 1.671 x   - 1.769 x  \n",
      "          251         250          249          248          247\n",
      " + 0.666 x   + 8.334 x   - 0.6453 x   - 0.4438 x   - 0.6333 x  \n",
      "           245         244          243          242         241\n",
      " - 0.8642 x   - 2.317 x   - 0.5728 x   - 0.3051 x   - 2.006 x  \n",
      "          239          238         237          232         231\n",
      " + 10.68 x   - 0.1568 x   - 1.101 x   - 0.6544 x   + 3.228 x  \n",
      "           229         228         227            226          225\n",
      " - 0.9206 x   - 0.538 x   - 0.969 x   - 0.007606 x   - 0.9547 x  \n",
      "           224         223         222        221         220\n",
      " - 0.3287 x   - 3.999 x   - 12.04 x   - 27.8 x   - 35.99 x  \n",
      "          219           217         215         213         212\n",
      " - 15.94 x   - 0.03676 x   + 1.363 x   - 1.099 x   - 5.015 x  \n",
      "          211        209         208         207           206\n",
      " - 7.375 x   - 1.56 x   - 5.541 x   - 2.321 x   + 0.04532 x  \n",
      "         205          204         203         202         201\n",
      " - 1.42 x   + 0.1887 x   - 14.78 x   - 21.13 x   - 8.635 x  \n",
      "           200        199           197         196        195\n",
      " - 0.2341 x   - 5.99 x   + 0.01669 x   - 18.56 x   - 2.03 x  \n",
      "           194          193          192        191         190\n",
      " - 0.2174 x   + 0.5376 x   - 0.2816 x   - 6.51 x   - 5.667 x  \n",
      "           189         188          187           186           185\n",
      " - 0.1751 x   - 66.51 x   - 0.7315 x   + 0.04493 x   - 0.01697 x  \n",
      "           184         183         182         181         180\n",
      " - 0.6765 x   - 10.86 x   - 2.086 x   + 3.998 x   + 8.455 x  \n",
      "          179         178         177         174           173\n",
      " - 2.304 x   - 1.897 x   - 1.365 x   - 10.94 x   - 0.09485 x  \n",
      "          171            170          168         167          166\n",
      " - 3.451 x   + 0.001172 x   + 0.1301 x   - 4.092 x   - 0.6999 x  \n",
      "          165         164        163         161          160\n",
      " - 3.543 x   - 1.131 x   + 2.57 x   - 2.958 x   + 0.7101 x  \n",
      "          159          158          156          154         152\n",
      " - 6.119 x   + 0.3633 x   - 0.7139 x   - 0.5907 x   - 1.057 x  \n",
      "          150        149          148         147          145\n",
      " - 7.131 x   + 0.47 x   + 0.8228 x   - 0.818 x   - 0.5398 x  \n",
      "          144         140         139          138          137\n",
      " - 8.267 x   - 2.021 x   + 38.81 x   + 0.1264 x   - 0.3199 x  \n",
      "          136          135         134         133         132\n",
      " - 28.13 x   - 0.2822 x   - 5.648 x   - 1.269 x   - 2.006 x  \n",
      "          131         130           129          128          127\n",
      " - 1.455 x   - 1.881 x   + 0.09574 x   - 0.7717 x   + 0.2338 x  \n",
      "           126         125           123         122         121\n",
      " - 0.3059 x   + 528.6 x   - 0.03387 x   - 9.704 x   - 7.227 x  \n",
      "          119         118          116          115          114\n",
      " - 3.555 x   - 44.91 x   - 0.9589 x   + 0.1586 x   - 0.3499 x  \n",
      "           113         112         111         110          109\n",
      " + 0.1438 x   - 2.139 x   - 3.014 x   - 2.717 x   - 0.7025 x  \n",
      "           108         107          106         105          104\n",
      " + 0.2135 x   - 10.39 x   + 0.9421 x   - 0.401 x   - 0.7394 x  \n",
      "            103         101          100          99          98\n",
      " - 0.04968 x   - 5.259 x   + 0.7188 x   + 0.4244 x  - 0.3622 x \n",
      "          97         95         94          93           92         91\n",
      " - 1.531 x  - 22.13 x  - 2.763 x  - 0.6687 x  + 0.04478 x  + 1.324 x \n",
      "          90         89         88         87         86          85\n",
      " - 5.582 x  - 0.526 x  - 1.906 x  - 0.177 x  - 1.172 x  - 0.2313 x \n",
      "          84         83         82         81            80         79\n",
      " - 44.55 x  + 1.115 x  - 13.12 x  - 61.91 x  - 0.006673 x  - 26.49 x \n",
      "          78         77         76          75         74         73\n",
      " + 101.5 x  - 22.79 x  + 186.5 x  + 0.4974 x  - 24.26 x  - 83.57 x \n",
      "          72         71         70         69         67        66\n",
      " - 15.28 x  - 41.14 x  + 83.56 x  - 83.56 x  - 93.84 x  - 9.26 x \n",
      "          65         64         63         62         61         60\n",
      " - 1.507 x  - 2.194 x  - 11.21 x  + 54.97 x  - 2.357 x  - 17.36 x \n",
      "          59         58         57         56        55         54\n",
      " - 4.743 x  - 18.04 x  + 87.95 x  - 28.35 x  - 30.2 x  - 15.33 x \n",
      "          53         52          51         49         48         47\n",
      " - 6.602 x  - 6.563 x  - 0.8781 x  - 68.88 x  + 70.94 x  - 10.31 x \n",
      "          46         45         44       43         42          41\n",
      " + 105.9 x  - 13.56 x  - 19.68 x  + 101 x  - 62.95 x  + 0.3949 x \n",
      "          40         39         38        36        35         34\n",
      " - 1.284 x  + 13.18 x  - 9.241 x  - 28.4 x  + 13.4 x  + 7.394 x \n",
      "          33        32         31         30         29         28\n",
      " - 9.599 x  - 16.9 x  - 37.26 x  - 35.21 x  + 20.46 x  - 38.66 x \n",
      "          27        26         25         24         23         22\n",
      " + 5.897 x  + 5.49 x  + 61.08 x  + 17.59 x  + 23.99 x  - 15.25 x \n",
      "          21         20         19         18        17         16\n",
      " - 24.07 x  + 14.05 x  + 4.922 x  - 2.945 x  - 14.8 x  - 32.18 x \n",
      "          15         14         13         12         11         10\n",
      " + 57.91 x  + 77.32 x  - 35.99 x  + 7.353 x  - 2.711 x  - 22.87 x \n",
      "         9        8        7        6        5        4        3\n",
      " + 1269 x + 3271 x + 1970 x + 2022 x + 1418 x + 2460 x + 1572 x\n",
      "         2\n",
      " + 1571 x + 0.1292 x - 7.123e+04\n",
      "Score:  -226509059402.0\n"
     ]
    }
   ],
   "source": [
    "model_ridge = Ridge(alpha = best_param_ridge, fit_intercept = True, max_iter = None, solver = \"sag\")\n",
    "train_model(model_ridge, True)"
   ]
  },
  {
   "cell_type": "markdown",
   "metadata": {},
   "source": [
    "#### 1.2 Implementando o modelo de regressão Lasso"
   ]
  },
  {
   "cell_type": "code",
   "execution_count": 22,
   "metadata": {},
   "outputs": [
    {
     "name": "stdout",
     "output_type": "stream",
     "text": [
      "       257             256        255        254        253        251\n",
      "-8653 x   + 1.516e+04 x   + 2801 x   - 4340 x   - 3439 x   - 2962 x  \n",
      "              250         249        248             247        245\n",
      " + 1.942e+05 x   - 15.25 x   - 4479 x   - 2.726e+04 x   - 3046 x  \n",
      "         244        243        242         241             239\n",
      " - 3252 x   + 5411 x   + 2385 x   - 239.2 x   + 3.173e+04 x  \n",
      "              237             232            231            229\n",
      " - 3.097e+04 x   - 1.289e+04 x   + 1.97e+04 x   - 1.21e+04 x  \n",
      "         228        227        226             225        224\n",
      " - 2480 x   + 6057 x   - 1117 x   - 3.167e+04 x   + 5211 x  \n",
      "         223        222         220        219        217\n",
      " - 5147 x   - 4327 x   + 174.6 x   - 7104 x   + 3606 x  \n",
      "              215         212        211             209        208\n",
      " + 2.431e+04 x   + 705.6 x   - 2676 x   - 1.037e+04 x   - 6248 x  \n",
      "         207             206         204        203         202\n",
      " - 5033 x   + 2.509e+04 x   + 731.4 x   - 2959 x   - 742.1 x  \n",
      "          201        199        196        195        193        191\n",
      " - 133.2 x   - 9176 x   + 4245 x   + 3235 x   + 5987 x   - 5778 x  \n",
      "         190        189         188        187        185\n",
      " - 3786 x   + 7330 x   - 735.4 x   - 5818 x   + 6792 x  \n",
      "             184        183         182             181        180\n",
      " - 1.99e+04 x   - 3677 x   + 249.1 x   + 2.976e+04 x   + 2075 x  \n",
      "         178        177         174        173        171        170\n",
      " - 4839 x   + 4275 x   - 490.8 x   + 2785 x   - 2331 x   + 5550 x  \n",
      "              168        167        166        165         164\n",
      " + 1.115e+04 x   + 2084 x   - 2841 x   - 2299 x   + 376.8 x  \n",
      "              163             161        160        159             158\n",
      " + 1.049e+04 x   - 2.017e+04 x   + 8354 x   - 3795 x   + 1.243e+04 x  \n",
      "         156             154        152             150        149\n",
      " - 4779 x   + 1.027e+04 x   + 3728 x   - 1.361e+04 x   + 7556 x  \n",
      "              148        147         145        144         140\n",
      " + 1.528e+04 x   + 5067 x   - 577.5 x   - 4833 x   + 645.3 x  \n",
      "         139        138        136        135        134        132\n",
      " + 8398 x   + 2047 x   - 1334 x   + 3180 x   - 2415 x   - 1909 x  \n",
      "             131             130        129        128             127\n",
      " - 1.39e+04 x   - 2.696e+04 x   + 4311 x   - 2849 x   + 1.203e+04 x  \n",
      "         126             125             123        122        121\n",
      " - 5539 x   + 3.056e+04 x   + 2.328e+04 x   - 1225 x   - 2271 x  \n",
      "         119         118             116             115            114\n",
      " - 5899 x   - 393.9 x   - 1.461e+04 x   + 1.487e+04 x   + 1.51e+04 x  \n",
      "         113        112        111        110        109\n",
      " + 1465 x   + 3498 x   + 1418 x   - 2623 x   + 2740 x  \n",
      "              108        107            106        105        104\n",
      " + 1.547e+04 x   - 3211 x   + 2.25e+04 x   + 8857 x   - 1717 x  \n",
      "          103             101        100        99        98       97\n",
      " + 379.1 x   - 1.161e+04 x   + 3002 x   + 9624 x  + 9103 x  + 174 x \n",
      "         95         94        91        90        89         88\n",
      " - 1709 x  + 638.5 x  + 3575 x  - 3154 x  - 7965 x  + 254.6 x \n",
      "         87        86        85       84        83         82        81\n",
      " - 2338 x  - 3982 x  + 2120 x  - 298 x  + 2315 x  - 889.9 x  + 2137 x \n",
      "         80         79         76        75        74         73\n",
      " + 2668 x  - 534.7 x  - 90.65 x  + 2414 x  - 1410 x  + 757.9 x \n",
      "         72        71             70        69        67         66\n",
      " + 1236 x  - 1100 x  + 4.682e-12 x  - 1735 x  - 6335 x  - 157.4 x \n",
      "         65        64        62         61        60        59\n",
      " + 6718 x  - 4994 x  - 4589 x  + 820.6 x  + 4247 x  - 5062 x \n",
      "         58        57        56         55        54        53\n",
      " - 3047 x  + 4560 x  - 3442 x  - 794.9 x  + 1354 x  - 3573 x \n",
      "         52        51        49        48        47        46        45\n",
      " + 5861 x  + 1153 x  - 5175 x  + 7001 x  + 3514 x  + 4910 x  - 2881 x \n",
      "         44        43         42        41        39         38\n",
      " + 3054 x  + 6352 x  - 694.8 x  + 9244 x  + 1619 x  - 729.9 x \n",
      "              36         35        34        33             31\n",
      " - 1.683e+04 x  + 646.2 x  + 8467 x  - 1333 x  - 1.191e+04 x \n",
      "              30             29       28        27        26        25\n",
      " - 1.259e+04 x  + 2.117e+04 x  - 182 x  + 1588 x  + 2557 x  + 9979 x \n",
      "         24             23        22           21         20        19\n",
      " + 7743 x  + 1.088e+04 x  - 9974 x  - 1.1e+04 x  - 366.4 x  + 6613 x \n",
      "         18        17             16             15            14\n",
      " - 6798 x  - 4459 x  - 1.165e+04 x  + 1.568e+04 x  + 1.24e+04 x \n",
      "            13        12        11             10             9\n",
      " - 1.6e+04 x  + 4042 x  + 2581 x  - 2.096e+04 x  + 6.521e+04 x\n",
      "              8             7        5        4             3        2\n",
      " - 5.733e+04 x + 7.132e+04 x + 5986 x - 5466 x + 1.423e+04 x - 3580 x + 0.6176 x - 1.067e+05\n",
      "Score:  -5.17363963795e+12\n"
     ]
    }
   ],
   "source": [
    "model_lasso = Lasso(max_iter = 10000)\n",
    "train_model(model_lasso, True)"
   ]
  },
  {
   "cell_type": "markdown",
   "metadata": {},
   "source": [
    "Vamos agora usar o Lasso CV para descobrir o melhor alpha para nós."
   ]
  },
  {
   "cell_type": "code",
   "execution_count": 23,
   "metadata": {},
   "outputs": [],
   "source": [
    "alphas = [0.1, 0.5, 1, 5, 10]\n",
    "cv_lasso_rmse = [rmse_cv(Lasso(alpha = alpha, max_iter = 10000, tol=0.01)).mean() \n",
    "            for alpha in alphas]\n",
    "\n",
    "series_lasso = pd.Series(cv_lasso_rmse, index = alphas)\n",
    "plot_rmse_param(series_lasso, \"alpha\")"
   ]
  },
  {
   "cell_type": "code",
   "execution_count": 24,
   "metadata": {},
   "outputs": [
    {
     "name": "stdout",
     "output_type": "stream",
     "text": [
      "33314.5058278 10.0\n"
     ]
    }
   ],
   "source": [
    "best_rmse_lasso, best_param_lasso = best_rmse_param(series_lasso)\n",
    "print(best_rmse_lasso, best_param_lasso)"
   ]
  },
  {
   "cell_type": "code",
   "execution_count": 25,
   "metadata": {},
   "outputs": [
    {
     "name": "stdout",
     "output_type": "stream",
     "text": [
      "           256        254         253             250             239\n",
      "1.035e+04 x   - 3614 x   - 343.9 x   + 1.647e+05 x   + 2.701e+04 x  \n",
      "              231         223        222         221         220\n",
      " + 1.337e+04 x   - 21.78 x   - 2885 x   + 272.4 x   + 476.2 x  \n",
      "         219         211        208        203        199        196\n",
      " - 5692 x   - 588.7 x   - 2704 x   - 1772 x   - 7053 x   + 3787 x  \n",
      "         195        191        190         188        183\n",
      " + 1851 x   - 1459 x   - 1427 x   - 157.7 x   - 1656 x  \n",
      "              181        180       177        167         165\n",
      " + 2.392e+04 x   + 2701 x   + 394 x   + 1329 x   - 363.9 x  \n",
      "         161        159         152        150         148        144\n",
      " - 8697 x   - 1817 x   + 264.2 x   - 9702 x   + 577.3 x   - 3067 x  \n",
      "         139         136         134        131             130\n",
      " + 9005 x   - 508.5 x   - 815.4 x   - 7951 x   - 1.037e+04 x  \n",
      "         127             125         121        119        107\n",
      " + 5480 x   + 3.159e+04 x   - 485.8 x   - 2545 x   - 1541 x  \n",
      "         106        105        101        98         95         91\n",
      " + 6632 x   + 3239 x   - 7078 x   + 2879 x  - 943.4 x  + 623.7 x \n",
      "         90         84        83        81        80         79\n",
      " - 1262 x  + 381.1 x  + 2791 x  + 2049 x  + 2349 x  - 729.1 x \n",
      "          76        74         73        72         71             70\n",
      " - 298.1 x  - 1052 x  + 742.7 x  + 1959 x  - 680.9 x  + 9.447e-13 x \n",
      "         69        67        65        64        62        60        59\n",
      " - 1759 x  - 6109 x  + 5175 x  - 4748 x  - 4265 x  + 3822 x  - 3713 x \n",
      "         58        57        56        55         54        53\n",
      " - 2459 x  + 4313 x  - 3550 x  - 1009 x  + 171.5 x  - 2102 x \n",
      "         52        49        48        47        46        45        44\n",
      " + 5266 x  - 4967 x  + 6811 x  + 3202 x  + 4873 x  - 2335 x  + 1799 x \n",
      "         43         42        39             36         35        34\n",
      " + 6640 x  - 837.9 x  + 1076 x  - 1.574e+04 x  + 353.3 x  + 7331 x \n",
      "         33             31             30             29        27\n",
      " - 1193 x  - 1.087e+04 x  - 1.204e+04 x  + 1.893e+04 x  + 1243 x \n",
      "         26        25        24            23        22             21\n",
      " + 1953 x  + 9814 x  + 7543 x  + 1.03e+04 x  - 9314 x  - 1.068e+04 x \n",
      "          20        19        18        17             16\n",
      " - 73.65 x  + 6063 x  - 5924 x  - 3992 x  - 1.118e+04 x \n",
      "              15             14             13        12        11\n",
      " + 1.526e+04 x  + 1.168e+04 x  - 1.594e+04 x  + 3106 x  + 2162 x \n",
      "              10             9             8             7        5\n",
      " - 2.001e+04 x  + 6.196e+04 x - 5.433e+04 x + 6.795e+04 x + 6239 x\n",
      "         4             3        2\n",
      " - 5709 x + 1.318e+04 x - 2231 x + 0.7316 x - 1.055e+05\n",
      "Score:  -7.25920775773e+12\n"
     ]
    }
   ],
   "source": [
    "model_lasso = Lasso(alpha = best_param_lasso, fit_intercept = True, max_iter = 10000, tol=0.01)\n",
    "train_model(model_lasso, True)"
   ]
  },
  {
   "cell_type": "markdown",
   "metadata": {},
   "source": [
    "### 2. Modelos de regressão não parámetrica"
   ]
  },
  {
   "cell_type": "markdown",
   "metadata": {},
   "source": [
    "#### 2.1 Implementando o modelo de regressão K-NN"
   ]
  },
  {
   "cell_type": "code",
   "execution_count": 26,
   "metadata": {},
   "outputs": [
    {
     "name": "stdout",
     "output_type": "stream",
     "text": [
      "Score:  0.00025367833587\n"
     ]
    }
   ],
   "source": [
    "model_knn = KNeighborsClassifier()\n",
    "train_model(model_knn, False)"
   ]
  },
  {
   "cell_type": "markdown",
   "metadata": {},
   "source": [
    "A quantidade de vizinhos (k) é o parâmetro mais importante do algoritmo K-NN e define a quantidade de valores vizinhos de cada valor de entrada que o algoritmo deve considerar para estimar a saída. Por isso, usaremos cross-validation para encontrar o melhor valor deste parâmetro."
   ]
  },
  {
   "cell_type": "code",
   "execution_count": 27,
   "metadata": {},
   "outputs": [
    {
     "name": "stderr",
     "output_type": "stream",
     "text": [
      "C:\\Anaconda3\\lib\\site-packages\\sklearn\\model_selection\\_split.py:581: Warning: The least populated class in y has only 1 members, which is too few. The minimum number of groups for any class cannot be less than n_splits=5.\n",
      "  % (min_groups, self.n_splits)), Warning)\n",
      "C:\\Anaconda3\\lib\\site-packages\\sklearn\\model_selection\\_split.py:581: Warning: The least populated class in y has only 1 members, which is too few. The minimum number of groups for any class cannot be less than n_splits=5.\n",
      "  % (min_groups, self.n_splits)), Warning)\n",
      "C:\\Anaconda3\\lib\\site-packages\\sklearn\\model_selection\\_split.py:581: Warning: The least populated class in y has only 1 members, which is too few. The minimum number of groups for any class cannot be less than n_splits=5.\n",
      "  % (min_groups, self.n_splits)), Warning)\n",
      "C:\\Anaconda3\\lib\\site-packages\\sklearn\\model_selection\\_split.py:581: Warning: The least populated class in y has only 1 members, which is too few. The minimum number of groups for any class cannot be less than n_splits=5.\n",
      "  % (min_groups, self.n_splits)), Warning)\n",
      "C:\\Anaconda3\\lib\\site-packages\\sklearn\\model_selection\\_split.py:581: Warning: The least populated class in y has only 1 members, which is too few. The minimum number of groups for any class cannot be less than n_splits=5.\n",
      "  % (min_groups, self.n_splits)), Warning)\n"
     ]
    }
   ],
   "source": [
    "n_neighbors = [3, 5, 10, 25, 50]\n",
    "cv_knn_rmse = [rmse_cv(KNeighborsClassifier(n_neighbors = n)).mean() \n",
    "            for n in n_neighbors]\n",
    "\n",
    "series_knn = pd.Series(cv_knn_rmse, index = n_neighbors)\n",
    "plot_rmse_param(series_knn, \"n_neighbors\")"
   ]
  },
  {
   "cell_type": "code",
   "execution_count": 28,
   "metadata": {},
   "outputs": [
    {
     "name": "stdout",
     "output_type": "stream",
     "text": [
      "12589.5150163 5\n"
     ]
    }
   ],
   "source": [
    "best_rmse_knn, best_param_knn = best_rmse_param(series_knn)\n",
    "print(best_rmse_knn, best_param_knn)"
   ]
  },
  {
   "cell_type": "code",
   "execution_count": 29,
   "metadata": {},
   "outputs": [
    {
     "name": "stdout",
     "output_type": "stream",
     "text": [
      "Score:  0.00025367833587\n"
     ]
    }
   ],
   "source": [
    "model_knn = KNeighborsClassifier(n_neighbors = best_param_knn)\n",
    "train_model(model_knn, False)"
   ]
  },
  {
   "cell_type": "markdown",
   "metadata": {},
   "source": [
    "### 3. Outros modelos de regressão"
   ]
  },
  {
   "cell_type": "markdown",
   "metadata": {},
   "source": [
    "#### 3.1 Implementando o modelo SVR (Suport Vector Regression)"
   ]
  },
  {
   "cell_type": "code",
   "execution_count": 30,
   "metadata": {},
   "outputs": [
    {
     "name": "stdout",
     "output_type": "stream",
     "text": [
      "Score:  -0.142025836426\n"
     ]
    }
   ],
   "source": [
    "model_svr = SVR()\n",
    "train_model(model_svr, False)"
   ]
  },
  {
   "cell_type": "markdown",
   "metadata": {},
   "source": [
    "O C é um parâmetro de penalidade importante no SVR, porque se for muito grande poderemos ter overffiting ou underffiting, caso contrário. Por isso, tentaremos encontrar o seu melhor valor."
   ]
  },
  {
   "cell_type": "code",
   "execution_count": 31,
   "metadata": {
    "collapsed": true
   },
   "outputs": [],
   "source": [
    "cs = [1, 5, 10, 25, 50]\n",
    "cv_svr_rmse = [rmse_cv(SVR(C = c)).mean() \n",
    "            for c in cs]\n",
    "\n",
    "series_svr = pd.Series(cv_svr_rmse, index = cs)\n",
    "plot_rmse_param(series_svr, \"C\")"
   ]
  },
  {
   "cell_type": "code",
   "execution_count": 32,
   "metadata": {},
   "outputs": [
    {
     "name": "stdout",
     "output_type": "stream",
     "text": [
      "48853.3668547 1\n"
     ]
    }
   ],
   "source": [
    "best_rmse_svr, best_param_svr = best_rmse_param(series_svr)\n",
    "print(best_rmse_svr, best_param_svr)"
   ]
  },
  {
   "cell_type": "code",
   "execution_count": 33,
   "metadata": {},
   "outputs": [
    {
     "name": "stdout",
     "output_type": "stream",
     "text": [
      "Score:  -0.142025836426\n"
     ]
    }
   ],
   "source": [
    "model_svr = SVR(C = best_param_svr)\n",
    "train_model(model_svr, False)"
   ]
  },
  {
   "cell_type": "markdown",
   "metadata": {},
   "source": [
    "#### 3.2 Implementando o modelo de regressão Random Forest"
   ]
  },
  {
   "cell_type": "code",
   "execution_count": 34,
   "metadata": {},
   "outputs": [
    {
     "name": "stdout",
     "output_type": "stream",
     "text": [
      "Score:  0.00025367833587\n"
     ]
    }
   ],
   "source": [
    "model_rf = RandomForestClassifier()\n",
    "train_model(model_rf, False)"
   ]
  },
  {
   "cell_type": "markdown",
   "metadata": {},
   "source": [
    "Um dos parâmetros mais importantes do Random Forest é a quantidade de estimadores, que representam a quantidade de árvores usadas no modelo. Em geral, quanto maior melhor o desempenho do modelo, porém mais memória é necessário.\n",
    "\n",
    "Abaixo, encontramos o melhor valor dado um intervalo de 1 à 20."
   ]
  },
  {
   "cell_type": "code",
   "execution_count": 35,
   "metadata": {},
   "outputs": [
    {
     "name": "stderr",
     "output_type": "stream",
     "text": [
      "C:\\Anaconda3\\lib\\site-packages\\sklearn\\model_selection\\_split.py:581: Warning: The least populated class in y has only 1 members, which is too few. The minimum number of groups for any class cannot be less than n_splits=5.\n",
      "  % (min_groups, self.n_splits)), Warning)\n",
      "C:\\Anaconda3\\lib\\site-packages\\sklearn\\model_selection\\_split.py:581: Warning: The least populated class in y has only 1 members, which is too few. The minimum number of groups for any class cannot be less than n_splits=5.\n",
      "  % (min_groups, self.n_splits)), Warning)\n",
      "C:\\Anaconda3\\lib\\site-packages\\sklearn\\model_selection\\_split.py:581: Warning: The least populated class in y has only 1 members, which is too few. The minimum number of groups for any class cannot be less than n_splits=5.\n",
      "  % (min_groups, self.n_splits)), Warning)\n",
      "C:\\Anaconda3\\lib\\site-packages\\sklearn\\model_selection\\_split.py:581: Warning: The least populated class in y has only 1 members, which is too few. The minimum number of groups for any class cannot be less than n_splits=5.\n",
      "  % (min_groups, self.n_splits)), Warning)\n",
      "C:\\Anaconda3\\lib\\site-packages\\sklearn\\model_selection\\_split.py:581: Warning: The least populated class in y has only 1 members, which is too few. The minimum number of groups for any class cannot be less than n_splits=5.\n",
      "  % (min_groups, self.n_splits)), Warning)\n"
     ]
    }
   ],
   "source": [
    "n_estimators = [1, 5, 10, 15, 20]\n",
    "cv_rf_rmse = [rmse_cv(RandomForestClassifier(n_estimators = n)).mean() \n",
    "            for n in n_estimators]\n",
    "\n",
    "series = pd.Series(cv_rf_rmse, index = n_estimators)\n",
    "plot_rmse_param(series, \"n_estimators\")"
   ]
  },
  {
   "cell_type": "code",
   "execution_count": 36,
   "metadata": {},
   "outputs": [
    {
     "name": "stdout",
     "output_type": "stream",
     "text": [
      "12081.5076358 10\n"
     ]
    }
   ],
   "source": [
    "best_rmse_rf, best_param_rf = best_rmse_param(series)\n",
    "print(best_rmse_rf, best_param_rf)"
   ]
  },
  {
   "cell_type": "code",
   "execution_count": 37,
   "metadata": {},
   "outputs": [
    {
     "name": "stdout",
     "output_type": "stream",
     "text": [
      "Score:  0.0\n"
     ]
    }
   ],
   "source": [
    "model_rf = RandomForestClassifier(n_estimators = best_param_rf)\n",
    "train_model(model_rf, False)"
   ]
  },
  {
   "cell_type": "markdown",
   "metadata": {},
   "source": [
    "## Análise da predição dos modelos"
   ]
  },
  {
   "cell_type": "code",
   "execution_count": 38,
   "metadata": {},
   "outputs": [],
   "source": [
    "# function to plot the residual vs predictions values of the model\n",
    "def plot_res_vs_pred(model):\n",
    "    y_pred = model.predict(X_validation)\n",
    "    res = y_validation - y_pred\n",
    "    #y_pred = model.predict(X_test)\n",
    "    #res = Y_test - y_pred\n",
    "    plt.plot(y_pred, res, 'k.', color='blue')\n",
    "    plt.axhline(y=0., color='r', linestyle='-')\n",
    "    plt.xlabel(\"predictions\")\n",
    "    plt.ylabel(\"residuals\")"
   ]
  },
  {
   "cell_type": "markdown",
   "metadata": {},
   "source": [
    "### Ridge"
   ]
  },
  {
   "cell_type": "code",
   "execution_count": 39,
   "metadata": {},
   "outputs": [],
   "source": [
    "plot_res_vs_pred(model_ridge)"
   ]
  },
  {
   "cell_type": "code",
   "execution_count": null,
   "metadata": {
    "collapsed": true
   },
   "outputs": [],
   "source": []
  },
  {
   "cell_type": "markdown",
   "metadata": {},
   "source": [
    "### Lasso"
   ]
  },
  {
   "cell_type": "code",
   "execution_count": 40,
   "metadata": {},
   "outputs": [],
   "source": [
    "plot_res_vs_pred(model_lasso)"
   ]
  },
  {
   "cell_type": "code",
   "execution_count": null,
   "metadata": {
    "collapsed": true
   },
   "outputs": [],
   "source": []
  },
  {
   "cell_type": "markdown",
   "metadata": {},
   "source": [
    "### K-NN"
   ]
  },
  {
   "cell_type": "code",
   "execution_count": 41,
   "metadata": {
    "collapsed": true
   },
   "outputs": [],
   "source": [
    "plot_res_vs_pred(model_knn)"
   ]
  },
  {
   "cell_type": "code",
   "execution_count": null,
   "metadata": {
    "collapsed": true
   },
   "outputs": [],
   "source": []
  },
  {
   "cell_type": "markdown",
   "metadata": {},
   "source": [
    "### SVR"
   ]
  },
  {
   "cell_type": "code",
   "execution_count": 42,
   "metadata": {
    "collapsed": true
   },
   "outputs": [],
   "source": [
    "plot_res_vs_pred(model_svr)"
   ]
  },
  {
   "cell_type": "code",
   "execution_count": null,
   "metadata": {
    "collapsed": true
   },
   "outputs": [],
   "source": []
  },
  {
   "cell_type": "markdown",
   "metadata": {},
   "source": [
    "### Random Forest"
   ]
  },
  {
   "cell_type": "code",
   "execution_count": 43,
   "metadata": {
    "collapsed": true
   },
   "outputs": [],
   "source": [
    "plot_res_vs_pred(model_rf)"
   ]
  },
  {
   "cell_type": "code",
   "execution_count": null,
   "metadata": {
    "collapsed": true
   },
   "outputs": [],
   "source": []
  },
  {
   "cell_type": "markdown",
   "metadata": {},
   "source": [
    "## Conclusões"
   ]
  },
  {
   "cell_type": "markdown",
   "metadata": {},
   "source": []
  }
 ],
 "metadata": {
  "kernelspec": {
   "display_name": "Python [conda root]",
   "language": "python",
   "name": "conda-root-py"
  },
  "language_info": {
   "codemirror_mode": {
    "name": "ipython",
    "version": 3
   },
   "file_extension": ".py",
   "mimetype": "text/x-python",
   "name": "python",
   "nbconvert_exporter": "python",
   "pygments_lexer": "ipython3",
   "version": "3.5.3"
  }
 },
 "nbformat": 4,
 "nbformat_minor": 2
}
