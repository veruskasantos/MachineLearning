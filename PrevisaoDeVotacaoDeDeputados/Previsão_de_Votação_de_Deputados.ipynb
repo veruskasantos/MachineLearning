{
 "cells": [
  {
   "cell_type": "markdown",
   "metadata": {},
   "source": [
    "Nesta atividade construiremos modelos preditivos de regressão em scikit learn para a predição dos votos de deputados federais considerando as últimas eleições. As atividades esperadas para essa etapa são descritas a seguir:\n",
    "\n",
    "1. Baixe os dados aqui (veja descrição dos dados mais abaixo).\n",
    "\n",
    "Vamos explorar dados sobre as votações que candidatos à Câmara Federal de Deputados receberam nos anos de 2006 e 2010. Esses dados foram extraídos do TSE (Links para um site externo)Links para um site externo, pré-processados e contemplam informações sobre aproximadamente 7.300 candidatos. A descrição de cada atributo é dada mais abaixo.\n",
    "\n",
    "\"sequencial_candidato\" :(character) id do candidato\n",
    "\n",
    "\"nome\": (character)\n",
    "\n",
    "\"uf\": (character)\n",
    "\n",
    "\"partido\": (character)\n",
    "\n",
    "\"quantidade_doacoes\": (integer)\n",
    "\n",
    "\"quantidade_doadores\": (integer) número de doadores diferentes\n",
    "\n",
    "\"total_receita\": (double) soma em R$ das doações\n",
    "\n",
    "\"media_receita\": (double) média das doações\n",
    "\n",
    "\"recursos_de_outros_candidatos/comites\": (double) quantia em R$ das doações provenientes de outros candidatos ou comite partidário\n",
    "\n",
    "\"recursos_de_pessoas_fisicas\": (double) quantia em R$ das doações provenientes de outros CPFs\n",
    "\n",
    "\"recursos_de_pessoas_juridicas\": (double) quantia em R$ das doações provenientes de outros CNPJ\n",
    "\n",
    "\"recursos_proprios\": (double) quantia em R$ das doações provenientes do próprio candidato\n",
    "\n",
    "\"recursos_de_partido_politico\": (double) quantia em R$ das doações provenientes do partido político do candidato\n",
    "\n",
    "\"votos\": (integer) variável alvo. Se refere ao número de votos na campanha de 2006 e 2010\n",
    "\n",
    "\"quantidade_despesas\": (integer)\n",
    "\n",
    "\"quantidade_fornecedores\": (integer) número de fornecedores/despesas diferentes\n",
    "\n",
    "\"total_despesa\": (double) soma em R$ das despesas de campanha\n",
    "\n",
    "\"media_despesa\": (double) média das despesas de campanha\n",
    "\n",
    "\"cargo\": (character)\n",
    "\n",
    "\"Sexo\": (character)\n",
    "\n",
    "\"grau\": (character) grau de instrução do candidato\n",
    "\n",
    "\"estado_civil\": (character)\n",
    "\n",
    "\"ocupacao\": (character) ocupação do candidato\n",
    "\n",
    "\n",
    "2. Considere o pipeline mostrado nesse [link](https://www.kaggle.com/apapiu/regularized-linear-models) para um site externo para construir seus modelos de regressão. Isso implica, dentre outras coisas:\n",
    "\n",
    "    1. Analisar as distribuições das variáveis para ver se estão enviesadas e precisam de correção; tratamento de valores ausentes, variáveis categóricas e normalização, quando for o caso.\n",
    "    2. Construir modelos de regressão com (ridge e lasso) e sem regularização.\n",
    "    3. Considerar também modelos de regressão não paramétrica como K-NN.\n",
    "    4. Considerar outros modelos ainda não vistos em sala de sua escolha (e.g. SVR, Regression Trees e Random Florests).\n",
    "    5. Tunar os hiperâmetros para cada caso e retornar os rmses de validação cruzada para todos os modelos avaliados.\n",
    "    6. Plotar os resíduos versus predições e analisar se esses plots representam bons indícios da adequabilidade dos modelos a esse problema.\n",
    "    \n",
    "3. Alguns dias antes da entrega final serão liberados os dados de teste referentes à 2014 para validação final dos seus melhores modelos.\n",
    "    1. Dica: Uma coisa que você pode fazer é usar os dados de 2006 como treino e os de 2010 como validação. Uma vez encontrados os melhores modelos para 2010 junte 2006+2010, retreine, e aplique o modelo aos dados de 2014 que serão liberados.\n",
    "    \n",
    "4. Responder:\n",
    "    1. Dentre os modelos avaliados, qual foi o que deu o melhor resultado nos dados de 2014 em termos de RMSE? Justifique bem sua resposta.\n",
    "\n",
    "A entrega deve ser um notebook Jupyter com código python e texto explicativo quando necessário. Crie um repositório na sua conta do github e envie o link do html do notebook.\n"
   ]
  },
  {
   "cell_type": "code",
   "execution_count": 58,
   "metadata": {},
   "outputs": [],
   "source": [
    "import pandas as pd\n",
    "import numpy as np\n",
    "import seaborn as sns\n",
    "import matplotlib\n",
    "\n",
    "import matplotlib.pyplot as plt\n",
    "from scipy.stats import skew\n",
    "from scipy.stats.stats import pearsonr\n",
    "\n",
    "from sklearn.model_selection import train_test_split\n",
    "from sklearn.linear_model import Ridge, RidgeCV, ElasticNet, Lasso, LassoLarsCV\n",
    "from sklearn.model_selection import cross_val_score"
   ]
  },
  {
   "cell_type": "markdown",
   "metadata": {},
   "source": [
    "## A. Análise dos dados "
   ]
  },
  {
   "cell_type": "markdown",
   "metadata": {},
   "source": [
    "### Leitura dos dados"
   ]
  },
  {
   "cell_type": "code",
   "execution_count": 47,
   "metadata": {},
   "outputs": [],
   "source": [
    "data = pd.read_csv(\"dados/eleicoes_2006_a_2010.csv\")\n",
    "df_data = pd.DataFrame(data) # load the dataset as a pandas data frame"
   ]
  },
  {
   "cell_type": "code",
   "execution_count": 48,
   "metadata": {},
   "outputs": [
    {
     "data": {
      "text/html": [
       "<div>\n",
       "<style scoped>\n",
       "    .dataframe tbody tr th:only-of-type {\n",
       "        vertical-align: middle;\n",
       "    }\n",
       "\n",
       "    .dataframe tbody tr th {\n",
       "        vertical-align: top;\n",
       "    }\n",
       "\n",
       "    .dataframe thead th {\n",
       "        text-align: right;\n",
       "    }\n",
       "</style>\n",
       "<table border=\"1\" class=\"dataframe\">\n",
       "  <thead>\n",
       "    <tr style=\"text-align: right;\">\n",
       "      <th></th>\n",
       "      <th>ano</th>\n",
       "      <th>sequencial_candidato</th>\n",
       "      <th>nome</th>\n",
       "      <th>uf</th>\n",
       "      <th>partido</th>\n",
       "      <th>quantidade_doacoes</th>\n",
       "      <th>quantidade_doadores</th>\n",
       "      <th>total_receita</th>\n",
       "      <th>media_receita</th>\n",
       "      <th>recursos_de_outros_candidatos/comites</th>\n",
       "      <th>...</th>\n",
       "      <th>quantidade_despesas</th>\n",
       "      <th>quantidade_fornecedores</th>\n",
       "      <th>total_despesa</th>\n",
       "      <th>media_despesa</th>\n",
       "      <th>cargo</th>\n",
       "      <th>sexo</th>\n",
       "      <th>grau</th>\n",
       "      <th>estado_civil</th>\n",
       "      <th>ocupacao</th>\n",
       "      <th>votos</th>\n",
       "    </tr>\n",
       "  </thead>\n",
       "  <tbody>\n",
       "    <tr>\n",
       "      <th>0</th>\n",
       "      <td>2006</td>\n",
       "      <td>10001</td>\n",
       "      <td>JOSÉ LUIZ NOGUEIRA DE SOUSA</td>\n",
       "      <td>AP</td>\n",
       "      <td>PT</td>\n",
       "      <td>6</td>\n",
       "      <td>6</td>\n",
       "      <td>16600.00</td>\n",
       "      <td>2766.666667</td>\n",
       "      <td>NaN</td>\n",
       "      <td>...</td>\n",
       "      <td>14</td>\n",
       "      <td>14</td>\n",
       "      <td>16583.60</td>\n",
       "      <td>1184.542857</td>\n",
       "      <td>DEPUTADO FEDERAL</td>\n",
       "      <td>MASCULINO</td>\n",
       "      <td>ENSINO MÉDIO COMPLETO</td>\n",
       "      <td>CASADO(A)</td>\n",
       "      <td>VEREADOR</td>\n",
       "      <td>8579</td>\n",
       "    </tr>\n",
       "    <tr>\n",
       "      <th>1</th>\n",
       "      <td>2006</td>\n",
       "      <td>10002</td>\n",
       "      <td>LOIVA DE OLIVEIRA</td>\n",
       "      <td>RO</td>\n",
       "      <td>PT</td>\n",
       "      <td>13</td>\n",
       "      <td>13</td>\n",
       "      <td>22826.00</td>\n",
       "      <td>1755.846154</td>\n",
       "      <td>6625.0</td>\n",
       "      <td>...</td>\n",
       "      <td>24</td>\n",
       "      <td>23</td>\n",
       "      <td>20325.99</td>\n",
       "      <td>883.738696</td>\n",
       "      <td>DEPUTADO FEDERAL</td>\n",
       "      <td>FEMININO</td>\n",
       "      <td>SUPERIOR COMPLETO</td>\n",
       "      <td>SOLTEIRO(A)</td>\n",
       "      <td>SERVIDOR PÚBLICO ESTADUAL</td>\n",
       "      <td>2757</td>\n",
       "    </tr>\n",
       "    <tr>\n",
       "      <th>2</th>\n",
       "      <td>2006</td>\n",
       "      <td>10002</td>\n",
       "      <td>MARIA DALVA DE SOUZA FIGUEIREDO</td>\n",
       "      <td>AP</td>\n",
       "      <td>PT</td>\n",
       "      <td>17</td>\n",
       "      <td>16</td>\n",
       "      <td>148120.80</td>\n",
       "      <td>9257.550000</td>\n",
       "      <td>2250.0</td>\n",
       "      <td>...</td>\n",
       "      <td>123</td>\n",
       "      <td>108</td>\n",
       "      <td>146011.70</td>\n",
       "      <td>1351.960185</td>\n",
       "      <td>DEPUTADO FEDERAL</td>\n",
       "      <td>FEMININO</td>\n",
       "      <td>SUPERIOR COMPLETO</td>\n",
       "      <td>VIÚVO(A)</td>\n",
       "      <td>PEDAGOGO</td>\n",
       "      <td>17428</td>\n",
       "    </tr>\n",
       "    <tr>\n",
       "      <th>3</th>\n",
       "      <td>2006</td>\n",
       "      <td>10002</td>\n",
       "      <td>ROMALDO MILANI</td>\n",
       "      <td>MS</td>\n",
       "      <td>PRONA</td>\n",
       "      <td>6</td>\n",
       "      <td>6</td>\n",
       "      <td>3001.12</td>\n",
       "      <td>500.186667</td>\n",
       "      <td>NaN</td>\n",
       "      <td>...</td>\n",
       "      <td>8</td>\n",
       "      <td>8</td>\n",
       "      <td>3001.12</td>\n",
       "      <td>375.140000</td>\n",
       "      <td>DEPUTADO FEDERAL</td>\n",
       "      <td>MASCULINO</td>\n",
       "      <td>ENSINO MÉDIO INCOMPLETO</td>\n",
       "      <td>CASADO(A)</td>\n",
       "      <td>MILITAR REFORMADO</td>\n",
       "      <td>1193</td>\n",
       "    </tr>\n",
       "    <tr>\n",
       "      <th>4</th>\n",
       "      <td>2006</td>\n",
       "      <td>10003</td>\n",
       "      <td>ANSELMO DE JESUS ABREU</td>\n",
       "      <td>RO</td>\n",
       "      <td>PT</td>\n",
       "      <td>48</td>\n",
       "      <td>48</td>\n",
       "      <td>NaN</td>\n",
       "      <td>NaN</td>\n",
       "      <td>NaN</td>\n",
       "      <td>...</td>\n",
       "      <td>133</td>\n",
       "      <td>120</td>\n",
       "      <td>116416.64</td>\n",
       "      <td>970.138667</td>\n",
       "      <td>DEPUTADO FEDERAL</td>\n",
       "      <td>MASCULINO</td>\n",
       "      <td>ENSINO FUNDAMENTAL COMPLETO</td>\n",
       "      <td>CASADO(A)</td>\n",
       "      <td>DEPUTADO</td>\n",
       "      <td>29401</td>\n",
       "    </tr>\n",
       "    <tr>\n",
       "      <th>5</th>\n",
       "      <td>2006</td>\n",
       "      <td>10003</td>\n",
       "      <td>JOSÉ RODRIGUES DOS SANTOS NETO</td>\n",
       "      <td>PI</td>\n",
       "      <td>PCO</td>\n",
       "      <td>6</td>\n",
       "      <td>6</td>\n",
       "      <td>1771.21</td>\n",
       "      <td>295.201667</td>\n",
       "      <td>NaN</td>\n",
       "      <td>...</td>\n",
       "      <td>9</td>\n",
       "      <td>9</td>\n",
       "      <td>1771.21</td>\n",
       "      <td>196.801111</td>\n",
       "      <td>DEPUTADO FEDERAL</td>\n",
       "      <td>MASCULINO</td>\n",
       "      <td>SUPERIOR COMPLETO</td>\n",
       "      <td>CASADO(A)</td>\n",
       "      <td>SERVIDOR PÚBLICO FEDERAL</td>\n",
       "      <td>1822</td>\n",
       "    </tr>\n",
       "    <tr>\n",
       "      <th>6</th>\n",
       "      <td>2006</td>\n",
       "      <td>10003</td>\n",
       "      <td>JOSÉ TOMAZ DA SILVA</td>\n",
       "      <td>MS</td>\n",
       "      <td>PRONA</td>\n",
       "      <td>14</td>\n",
       "      <td>7</td>\n",
       "      <td>697.00</td>\n",
       "      <td>99.571429</td>\n",
       "      <td>NaN</td>\n",
       "      <td>...</td>\n",
       "      <td>17</td>\n",
       "      <td>10</td>\n",
       "      <td>696.91</td>\n",
       "      <td>69.691000</td>\n",
       "      <td>DEPUTADO FEDERAL</td>\n",
       "      <td>MASCULINO</td>\n",
       "      <td>SUPERIOR COMPLETO</td>\n",
       "      <td>CASADO(A)</td>\n",
       "      <td>MÉDICO</td>\n",
       "      <td>317</td>\n",
       "    </tr>\n",
       "    <tr>\n",
       "      <th>7</th>\n",
       "      <td>2006</td>\n",
       "      <td>10003</td>\n",
       "      <td>LUIZ CARLOS MUNHOZ MEIRA</td>\n",
       "      <td>MG</td>\n",
       "      <td>PPS</td>\n",
       "      <td>2</td>\n",
       "      <td>2</td>\n",
       "      <td>70000.00</td>\n",
       "      <td>35000.000000</td>\n",
       "      <td>NaN</td>\n",
       "      <td>...</td>\n",
       "      <td>332</td>\n",
       "      <td>278</td>\n",
       "      <td>66016.95</td>\n",
       "      <td>237.471043</td>\n",
       "      <td>DEPUTADO FEDERAL</td>\n",
       "      <td>MASCULINO</td>\n",
       "      <td>SUPERIOR COMPLETO</td>\n",
       "      <td>CASADO(A)</td>\n",
       "      <td>SERVIDOR PÚBLICO FEDERAL</td>\n",
       "      <td>2591</td>\n",
       "    </tr>\n",
       "    <tr>\n",
       "      <th>8</th>\n",
       "      <td>2006</td>\n",
       "      <td>10004</td>\n",
       "      <td>EDILSON VEIRA ROCHA</td>\n",
       "      <td>AP</td>\n",
       "      <td>PT</td>\n",
       "      <td>2</td>\n",
       "      <td>2</td>\n",
       "      <td>6065.00</td>\n",
       "      <td>3032.500000</td>\n",
       "      <td>6065.0</td>\n",
       "      <td>...</td>\n",
       "      <td>10</td>\n",
       "      <td>10</td>\n",
       "      <td>6060.42</td>\n",
       "      <td>606.042000</td>\n",
       "      <td>DEPUTADO FEDERAL</td>\n",
       "      <td>MASCULINO</td>\n",
       "      <td>ENSINO MÉDIO COMPLETO</td>\n",
       "      <td>CASADO(A)</td>\n",
       "      <td>FEIRANTE, AMBULANTE E MASCATE</td>\n",
       "      <td>2551</td>\n",
       "    </tr>\n",
       "    <tr>\n",
       "      <th>9</th>\n",
       "      <td>2006</td>\n",
       "      <td>10004</td>\n",
       "      <td>EDUARDO VALVERDE ARAÚJO ALVES</td>\n",
       "      <td>RO</td>\n",
       "      <td>PT</td>\n",
       "      <td>68</td>\n",
       "      <td>65</td>\n",
       "      <td>105813.20</td>\n",
       "      <td>1627.895385</td>\n",
       "      <td>9575.0</td>\n",
       "      <td>...</td>\n",
       "      <td>68</td>\n",
       "      <td>67</td>\n",
       "      <td>110818.20</td>\n",
       "      <td>1654.002985</td>\n",
       "      <td>DEPUTADO FEDERAL</td>\n",
       "      <td>MASCULINO</td>\n",
       "      <td>SUPERIOR COMPLETO</td>\n",
       "      <td>CASADO(A)</td>\n",
       "      <td>DEPUTADO</td>\n",
       "      <td>34631</td>\n",
       "    </tr>\n",
       "  </tbody>\n",
       "</table>\n",
       "<p>10 rows × 23 columns</p>\n",
       "</div>"
      ],
      "text/plain": [
       "    ano  sequencial_candidato                             nome  uf partido  \\\n",
       "0  2006                 10001      JOSÉ LUIZ NOGUEIRA DE SOUSA  AP      PT   \n",
       "1  2006                 10002                LOIVA DE OLIVEIRA  RO      PT   \n",
       "2  2006                 10002  MARIA DALVA DE SOUZA FIGUEIREDO  AP      PT   \n",
       "3  2006                 10002                   ROMALDO MILANI  MS   PRONA   \n",
       "4  2006                 10003           ANSELMO DE JESUS ABREU  RO      PT   \n",
       "5  2006                 10003   JOSÉ RODRIGUES DOS SANTOS NETO  PI     PCO   \n",
       "6  2006                 10003              JOSÉ TOMAZ DA SILVA  MS   PRONA   \n",
       "7  2006                 10003         LUIZ CARLOS MUNHOZ MEIRA  MG     PPS   \n",
       "8  2006                 10004              EDILSON VEIRA ROCHA  AP      PT   \n",
       "9  2006                 10004    EDUARDO VALVERDE ARAÚJO ALVES  RO      PT   \n",
       "\n",
       "   quantidade_doacoes  quantidade_doadores  total_receita  media_receita  \\\n",
       "0                   6                    6       16600.00    2766.666667   \n",
       "1                  13                   13       22826.00    1755.846154   \n",
       "2                  17                   16      148120.80    9257.550000   \n",
       "3                   6                    6        3001.12     500.186667   \n",
       "4                  48                   48            NaN            NaN   \n",
       "5                   6                    6        1771.21     295.201667   \n",
       "6                  14                    7         697.00      99.571429   \n",
       "7                   2                    2       70000.00   35000.000000   \n",
       "8                   2                    2        6065.00    3032.500000   \n",
       "9                  68                   65      105813.20    1627.895385   \n",
       "\n",
       "   recursos_de_outros_candidatos/comites  ...    quantidade_despesas  \\\n",
       "0                                    NaN  ...                     14   \n",
       "1                                 6625.0  ...                     24   \n",
       "2                                 2250.0  ...                    123   \n",
       "3                                    NaN  ...                      8   \n",
       "4                                    NaN  ...                    133   \n",
       "5                                    NaN  ...                      9   \n",
       "6                                    NaN  ...                     17   \n",
       "7                                    NaN  ...                    332   \n",
       "8                                 6065.0  ...                     10   \n",
       "9                                 9575.0  ...                     68   \n",
       "\n",
       "   quantidade_fornecedores  total_despesa  media_despesa             cargo  \\\n",
       "0                       14       16583.60    1184.542857  DEPUTADO FEDERAL   \n",
       "1                       23       20325.99     883.738696  DEPUTADO FEDERAL   \n",
       "2                      108      146011.70    1351.960185  DEPUTADO FEDERAL   \n",
       "3                        8        3001.12     375.140000  DEPUTADO FEDERAL   \n",
       "4                      120      116416.64     970.138667  DEPUTADO FEDERAL   \n",
       "5                        9        1771.21     196.801111  DEPUTADO FEDERAL   \n",
       "6                       10         696.91      69.691000  DEPUTADO FEDERAL   \n",
       "7                      278       66016.95     237.471043  DEPUTADO FEDERAL   \n",
       "8                       10        6060.42     606.042000  DEPUTADO FEDERAL   \n",
       "9                       67      110818.20    1654.002985  DEPUTADO FEDERAL   \n",
       "\n",
       "        sexo                         grau estado_civil  \\\n",
       "0  MASCULINO        ENSINO MÉDIO COMPLETO    CASADO(A)   \n",
       "1   FEMININO            SUPERIOR COMPLETO  SOLTEIRO(A)   \n",
       "2   FEMININO            SUPERIOR COMPLETO     VIÚVO(A)   \n",
       "3  MASCULINO      ENSINO MÉDIO INCOMPLETO    CASADO(A)   \n",
       "4  MASCULINO  ENSINO FUNDAMENTAL COMPLETO    CASADO(A)   \n",
       "5  MASCULINO            SUPERIOR COMPLETO    CASADO(A)   \n",
       "6  MASCULINO            SUPERIOR COMPLETO    CASADO(A)   \n",
       "7  MASCULINO            SUPERIOR COMPLETO    CASADO(A)   \n",
       "8  MASCULINO        ENSINO MÉDIO COMPLETO    CASADO(A)   \n",
       "9  MASCULINO            SUPERIOR COMPLETO    CASADO(A)   \n",
       "\n",
       "                        ocupacao  votos  \n",
       "0                       VEREADOR   8579  \n",
       "1      SERVIDOR PÚBLICO ESTADUAL   2757  \n",
       "2                       PEDAGOGO  17428  \n",
       "3              MILITAR REFORMADO   1193  \n",
       "4                       DEPUTADO  29401  \n",
       "5       SERVIDOR PÚBLICO FEDERAL   1822  \n",
       "6                         MÉDICO    317  \n",
       "7       SERVIDOR PÚBLICO FEDERAL   2591  \n",
       "8  FEIRANTE, AMBULANTE E MASCATE   2551  \n",
       "9                       DEPUTADO  34631  \n",
       "\n",
       "[10 rows x 23 columns]"
      ]
     },
     "execution_count": 48,
     "metadata": {},
     "output_type": "execute_result"
    }
   ],
   "source": [
    "df_data.head(10)"
   ]
  },
  {
   "cell_type": "markdown",
   "metadata": {},
   "source": [
    "### Pré-processamento dos dados"
   ]
  },
  {
   "cell_type": "markdown",
   "metadata": {},
   "source": [
    "- Transformação das features numéricas enviesadas usando log(feature + 1) - isto tornará as features normais;\n",
    "- Substituição dos valores numéricos ausentes (NaN's) pela média de suas respectivas colunas;\n",
    "- Transformação das variáveis categóricas."
   ]
  },
  {
   "cell_type": "markdown",
   "metadata": {},
   "source": [
    "#### Enviesamento de features numéricas"
   ]
  },
  {
   "cell_type": "markdown",
   "metadata": {},
   "source": [
    "Através dos histogramas abaixo vemos que as variáveis analisadas precisam de normalização, porque a distribuição dos seus valores não está igual."
   ]
  },
  {
   "cell_type": "code",
   "execution_count": 49,
   "metadata": {},
   "outputs": [],
   "source": [
    "# function to plot a histogram of each variable\n",
    "def plot_histogram(feature):\n",
    "    # log (feature + 1) because feature with values 0\n",
    "    feature = pd.DataFrame({\"1. \" + feature: df_data[feature], \"2. log(\" + feature + \")\": np.log1p(df_data[feature])})\n",
    "    feature.hist() # TODO check how to increase the number of bins\n",
    "\n",
    "# function to transform skewed variables using log(feature + 1)\n",
    "def transform_skewed_var(feature):\n",
    "    df_data[feature] = np.log1p(df_data[feature])"
   ]
  },
  {
   "cell_type": "code",
   "execution_count": 50,
   "metadata": {},
   "outputs": [
    {
     "data": {
      "image/png": "[encoded data removed]",
      "text/plain": [
       "<Figure size 432x288 with 2 Axes>"
      ]
     },
     "metadata": {},
     "output_type": "display_data"
    },
    {
     "data": {
      "image/png": "[encoded data removed]",
      "text/plain": [
       "<Figure size 432x288 with 2 Axes>"
      ]
     },
     "metadata": {},
     "output_type": "display_data"
    },
    {
     "data": {
      "image/png": "[encoded data removed]",
      "text/plain": [
       "<Figure size 432x288 with 2 Axes>"
      ]
     },
     "metadata": {},
     "output_type": "display_data"
    },
    {
     "data": {
      "image/png": "[encoded data removed]",
      "text/plain": [
       "<Figure size 432x288 with 2 Axes>"
      ]
     },
     "metadata": {},
     "output_type": "display_data"
    },
    {
     "data": {
      "image/png": "[encoded data removed]",
      "text/plain": [
       "<Figure size 432x288 with 2 Axes>"
      ]
     },
     "metadata": {},
     "output_type": "display_data"
    },
    {
     "data": {
      "image/png": "[encoded data removed]",
      "text/plain": [
       "<Figure size 432x288 with 2 Axes>"
      ]
     },
     "metadata": {},
     "output_type": "display_data"
    },
    {
     "data": {
      "image/png": "[encoded data removed]",
      "text/plain": [
       "<Figure size 432x288 with 2 Axes>"
      ]
     },
     "metadata": {},
     "output_type": "display_data"
    },
    {
     "data": {
      "image/png": "[encoded data removed]",
      "text/plain": [
       "<Figure size 432x288 with 2 Axes>"
      ]
     },
     "metadata": {},
     "output_type": "display_data"
    },
    {
     "data": {
      "image/png": "[encoded data removed]",
      "text/plain": [
       "<Figure size 432x288 with 2 Axes>"
      ]
     },
     "metadata": {},
     "output_type": "display_data"
    },
    {
     "data": {
      "image/png": "[encoded data removed]",
      "text/plain": [
       "<Figure size 432x288 with 2 Axes>"
      ]
     },
     "metadata": {},
     "output_type": "display_data"
    },
    {
     "data": {
      "image/png": "[encoded data removed]",
      "text/plain": [
       "<Figure size 432x288 with 2 Axes>"
      ]
     },
     "metadata": {},
     "output_type": "display_data"
    },
    {
     "data": {
      "image/png": "[encoded data removed]",
      "text/plain": [
       "<Figure size 432x288 with 2 Axes>"
      ]
     },
     "metadata": {},
     "output_type": "display_data"
    }
   ],
   "source": [
    "columns = \"quantidade_doacoes quantidade_doadores total_receita media_receita recursos_de_outros_candidatos/comites recursos_de_pessoas_fisicas recursos_de_pessoas_juridicas recursos_proprios quantidade_despesas quantidade_fornecedores total_despesa media_despesa\".split()\n",
    "\n",
    "for feature in columns:\n",
    "    plot_histogram(feature)\n",
    "    transform_skewed_var(feature)    "
   ]
  },
  {
   "cell_type": "markdown",
   "metadata": {},
   "source": [
    "#### Features com valores numéricos ausentes (NaN) "
   ]
  },
  {
   "cell_type": "markdown",
   "metadata": {},
   "source": [
    "Abaixo veremos quais as variáveis com valores ausentes (NaN)."
   ]
  },
  {
   "cell_type": "code",
   "execution_count": 51,
   "metadata": {},
   "outputs": [
    {
     "data": {
      "text/plain": [
       "ano                                      False\n",
       "sequencial_candidato                     False\n",
       "nome                                     False\n",
       "uf                                       False\n",
       "partido                                  False\n",
       "quantidade_doacoes                       False\n",
       "quantidade_doadores                      False\n",
       "total_receita                             True\n",
       "media_receita                             True\n",
       "recursos_de_outros_candidatos/comites     True\n",
       "recursos_de_pessoas_fisicas               True\n",
       "recursos_de_pessoas_juridicas             True\n",
       "recursos_proprios                         True\n",
       "quantidade_despesas                      False\n",
       "quantidade_fornecedores                  False\n",
       "total_despesa                            False\n",
       "media_despesa                            False\n",
       "cargo                                    False\n",
       "sexo                                     False\n",
       "grau                                     False\n",
       "estado_civil                             False\n",
       "ocupacao                                 False\n",
       "votos                                    False\n",
       "dtype: bool"
      ]
     },
     "execution_count": 51,
     "metadata": {},
     "output_type": "execute_result"
    }
   ],
   "source": [
    "df_data.isnull().any()"
   ]
  },
  {
   "cell_type": "markdown",
   "metadata": {},
   "source": [
    "As variáveis **recursos_de_outros_candidatos/comites**, **recursos_de_pessoas_fisicas**, **recursos_de_pessoas_juridicas** e **recursos_proprios** são as que possuem valores ausentes e, portanto, serão substituídos pela média dos valores da respectiva variável. "
   ]
  },
  {
   "cell_type": "code",
   "execution_count": 52,
   "metadata": {},
   "outputs": [
    {
     "data": {
      "text/plain": [
       "ano                                      False\n",
       "sequencial_candidato                     False\n",
       "nome                                     False\n",
       "uf                                       False\n",
       "partido                                  False\n",
       "quantidade_doacoes                       False\n",
       "quantidade_doadores                      False\n",
       "total_receita                            False\n",
       "media_receita                            False\n",
       "recursos_de_outros_candidatos/comites    False\n",
       "recursos_de_pessoas_fisicas              False\n",
       "recursos_de_pessoas_juridicas            False\n",
       "recursos_proprios                        False\n",
       "quantidade_despesas                      False\n",
       "quantidade_fornecedores                  False\n",
       "total_despesa                            False\n",
       "media_despesa                            False\n",
       "cargo                                    False\n",
       "sexo                                     False\n",
       "grau                                     False\n",
       "estado_civil                             False\n",
       "ocupacao                                 False\n",
       "votos                                    False\n",
       "dtype: bool"
      ]
     },
     "execution_count": 52,
     "metadata": {},
     "output_type": "execute_result"
    }
   ],
   "source": [
    "#filling NA's with the mean of the column:\n",
    "df_data = df_data.fillna(df_data.mean())\n",
    "\n",
    "df_data.isnull().any()"
   ]
  },
  {
   "cell_type": "markdown",
   "metadata": {},
   "source": [
    "#### Tranformação das variáveis categóricas"
   ]
  },
  {
   "cell_type": "markdown",
   "metadata": {},
   "source": [
    "As variáveis categóricas presentes nos dados, como **ocupação** e **estado_civil**, serão transformadas em variáveis numéricas, a fim de permitir a sua utilização nos modelos de regressão logo a seguir."
   ]
  },
  {
   "cell_type": "code",
   "execution_count": 53,
   "metadata": {
    "scrolled": true
   },
   "outputs": [
    {
     "data": {
      "text/html": [
       "<div>\n",
       "<style scoped>\n",
       "    .dataframe tbody tr th:only-of-type {\n",
       "        vertical-align: middle;\n",
       "    }\n",
       "\n",
       "    .dataframe tbody tr th {\n",
       "        vertical-align: top;\n",
       "    }\n",
       "\n",
       "    .dataframe thead th {\n",
       "        text-align: right;\n",
       "    }\n",
       "</style>\n",
       "<table border=\"1\" class=\"dataframe\">\n",
       "  <thead>\n",
       "    <tr style=\"text-align: right;\">\n",
       "      <th></th>\n",
       "      <th>ano</th>\n",
       "      <th>sequencial_candidato</th>\n",
       "      <th>quantidade_doacoes</th>\n",
       "      <th>quantidade_doadores</th>\n",
       "      <th>total_receita</th>\n",
       "      <th>media_receita</th>\n",
       "      <th>recursos_de_outros_candidatos/comites</th>\n",
       "      <th>recursos_de_pessoas_fisicas</th>\n",
       "      <th>recursos_de_pessoas_juridicas</th>\n",
       "      <th>recursos_proprios</th>\n",
       "      <th>...</th>\n",
       "      <th>ocupacao_TÉCNICO DE OBRAS CIVIS, ESTRADAS, SANEAMENTO E ASSEMELHADOS</th>\n",
       "      <th>ocupacao_TÉCNICO EM AGRONOMIA E AGRIMENSURA</th>\n",
       "      <th>ocupacao_TÉCNICO EM EDIFICAÇÕES</th>\n",
       "      <th>ocupacao_TÉCNICO EM INFORMÁTICA</th>\n",
       "      <th>ocupacao_VENDEDOR DE COMÉRCIO VAREJISTA E ATACADISTA</th>\n",
       "      <th>ocupacao_VENDEDOR PRACISTA, REPRESENTANTE, CAIXEIRO-VIAJANTE E ASSEMELHADOS</th>\n",
       "      <th>ocupacao_VEREADOR</th>\n",
       "      <th>ocupacao_VETERINÁRIO</th>\n",
       "      <th>ocupacao_VIGILANTE</th>\n",
       "      <th>ocupacao_ZOOTECNISTA</th>\n",
       "    </tr>\n",
       "  </thead>\n",
       "  <tbody>\n",
       "    <tr>\n",
       "      <th>0</th>\n",
       "      <td>2006</td>\n",
       "      <td>10001</td>\n",
       "      <td>1.945910</td>\n",
       "      <td>1.945910</td>\n",
       "      <td>9.717218</td>\n",
       "      <td>7.925760</td>\n",
       "      <td>8.324939</td>\n",
       "      <td>9.105091</td>\n",
       "      <td>8.748464</td>\n",
       "      <td>7.170888</td>\n",
       "      <td>...</td>\n",
       "      <td>0</td>\n",
       "      <td>0</td>\n",
       "      <td>0</td>\n",
       "      <td>0</td>\n",
       "      <td>0</td>\n",
       "      <td>0</td>\n",
       "      <td>1</td>\n",
       "      <td>0</td>\n",
       "      <td>0</td>\n",
       "      <td>0</td>\n",
       "    </tr>\n",
       "    <tr>\n",
       "      <th>1</th>\n",
       "      <td>2006</td>\n",
       "      <td>10002</td>\n",
       "      <td>2.639057</td>\n",
       "      <td>2.639057</td>\n",
       "      <td>10.035699</td>\n",
       "      <td>7.471276</td>\n",
       "      <td>8.798757</td>\n",
       "      <td>9.615872</td>\n",
       "      <td>6.908755</td>\n",
       "      <td>5.308268</td>\n",
       "      <td>...</td>\n",
       "      <td>0</td>\n",
       "      <td>0</td>\n",
       "      <td>0</td>\n",
       "      <td>0</td>\n",
       "      <td>0</td>\n",
       "      <td>0</td>\n",
       "      <td>0</td>\n",
       "      <td>0</td>\n",
       "      <td>0</td>\n",
       "      <td>0</td>\n",
       "    </tr>\n",
       "    <tr>\n",
       "      <th>2</th>\n",
       "      <td>2006</td>\n",
       "      <td>10002</td>\n",
       "      <td>2.890372</td>\n",
       "      <td>2.833213</td>\n",
       "      <td>11.905790</td>\n",
       "      <td>9.133303</td>\n",
       "      <td>7.719130</td>\n",
       "      <td>10.438547</td>\n",
       "      <td>11.038461</td>\n",
       "      <td>10.993748</td>\n",
       "      <td>...</td>\n",
       "      <td>0</td>\n",
       "      <td>0</td>\n",
       "      <td>0</td>\n",
       "      <td>0</td>\n",
       "      <td>0</td>\n",
       "      <td>0</td>\n",
       "      <td>0</td>\n",
       "      <td>0</td>\n",
       "      <td>0</td>\n",
       "      <td>0</td>\n",
       "    </tr>\n",
       "    <tr>\n",
       "      <th>3</th>\n",
       "      <td>2006</td>\n",
       "      <td>10002</td>\n",
       "      <td>1.945910</td>\n",
       "      <td>1.945910</td>\n",
       "      <td>8.007074</td>\n",
       "      <td>6.216979</td>\n",
       "      <td>8.324939</td>\n",
       "      <td>7.048386</td>\n",
       "      <td>7.004991</td>\n",
       "      <td>6.621406</td>\n",
       "      <td>...</td>\n",
       "      <td>0</td>\n",
       "      <td>0</td>\n",
       "      <td>0</td>\n",
       "      <td>0</td>\n",
       "      <td>0</td>\n",
       "      <td>0</td>\n",
       "      <td>0</td>\n",
       "      <td>0</td>\n",
       "      <td>0</td>\n",
       "      <td>0</td>\n",
       "    </tr>\n",
       "    <tr>\n",
       "      <th>4</th>\n",
       "      <td>2006</td>\n",
       "      <td>10003</td>\n",
       "      <td>3.891820</td>\n",
       "      <td>3.891820</td>\n",
       "      <td>9.634619</td>\n",
       "      <td>7.466020</td>\n",
       "      <td>8.324939</td>\n",
       "      <td>10.837206</td>\n",
       "      <td>10.011960</td>\n",
       "      <td>11.141035</td>\n",
       "      <td>...</td>\n",
       "      <td>0</td>\n",
       "      <td>0</td>\n",
       "      <td>0</td>\n",
       "      <td>0</td>\n",
       "      <td>0</td>\n",
       "      <td>0</td>\n",
       "      <td>0</td>\n",
       "      <td>0</td>\n",
       "      <td>0</td>\n",
       "      <td>0</td>\n",
       "    </tr>\n",
       "    <tr>\n",
       "      <th>5</th>\n",
       "      <td>2006</td>\n",
       "      <td>10003</td>\n",
       "      <td>1.945910</td>\n",
       "      <td>1.945910</td>\n",
       "      <td>7.479983</td>\n",
       "      <td>5.691041</td>\n",
       "      <td>8.324939</td>\n",
       "      <td>8.984406</td>\n",
       "      <td>10.011960</td>\n",
       "      <td>7.479983</td>\n",
       "      <td>...</td>\n",
       "      <td>0</td>\n",
       "      <td>0</td>\n",
       "      <td>0</td>\n",
       "      <td>0</td>\n",
       "      <td>0</td>\n",
       "      <td>0</td>\n",
       "      <td>0</td>\n",
       "      <td>0</td>\n",
       "      <td>0</td>\n",
       "      <td>0</td>\n",
       "    </tr>\n",
       "    <tr>\n",
       "      <th>6</th>\n",
       "      <td>2006</td>\n",
       "      <td>10003</td>\n",
       "      <td>2.708050</td>\n",
       "      <td>2.079442</td>\n",
       "      <td>6.548219</td>\n",
       "      <td>4.610868</td>\n",
       "      <td>8.324939</td>\n",
       "      <td>7.116394</td>\n",
       "      <td>10.011960</td>\n",
       "      <td>8.431020</td>\n",
       "      <td>...</td>\n",
       "      <td>0</td>\n",
       "      <td>0</td>\n",
       "      <td>0</td>\n",
       "      <td>0</td>\n",
       "      <td>0</td>\n",
       "      <td>0</td>\n",
       "      <td>0</td>\n",
       "      <td>0</td>\n",
       "      <td>0</td>\n",
       "      <td>0</td>\n",
       "    </tr>\n",
       "    <tr>\n",
       "      <th>7</th>\n",
       "      <td>2006</td>\n",
       "      <td>10003</td>\n",
       "      <td>1.098612</td>\n",
       "      <td>1.098612</td>\n",
       "      <td>11.156265</td>\n",
       "      <td>10.463132</td>\n",
       "      <td>8.324939</td>\n",
       "      <td>8.984406</td>\n",
       "      <td>10.011960</td>\n",
       "      <td>11.156265</td>\n",
       "      <td>...</td>\n",
       "      <td>0</td>\n",
       "      <td>0</td>\n",
       "      <td>0</td>\n",
       "      <td>0</td>\n",
       "      <td>0</td>\n",
       "      <td>0</td>\n",
       "      <td>0</td>\n",
       "      <td>0</td>\n",
       "      <td>0</td>\n",
       "      <td>0</td>\n",
       "    </tr>\n",
       "    <tr>\n",
       "      <th>8</th>\n",
       "      <td>2006</td>\n",
       "      <td>10004</td>\n",
       "      <td>1.098612</td>\n",
       "      <td>1.098612</td>\n",
       "      <td>8.710455</td>\n",
       "      <td>8.017472</td>\n",
       "      <td>8.710455</td>\n",
       "      <td>8.984406</td>\n",
       "      <td>10.011960</td>\n",
       "      <td>8.431020</td>\n",
       "      <td>...</td>\n",
       "      <td>0</td>\n",
       "      <td>0</td>\n",
       "      <td>0</td>\n",
       "      <td>0</td>\n",
       "      <td>0</td>\n",
       "      <td>0</td>\n",
       "      <td>0</td>\n",
       "      <td>0</td>\n",
       "      <td>0</td>\n",
       "      <td>0</td>\n",
       "    </tr>\n",
       "    <tr>\n",
       "      <th>9</th>\n",
       "      <td>2006</td>\n",
       "      <td>10004</td>\n",
       "      <td>4.234107</td>\n",
       "      <td>4.189655</td>\n",
       "      <td>11.569440</td>\n",
       "      <td>7.395657</td>\n",
       "      <td>9.167015</td>\n",
       "      <td>10.987734</td>\n",
       "      <td>10.165890</td>\n",
       "      <td>9.711176</td>\n",
       "      <td>...</td>\n",
       "      <td>0</td>\n",
       "      <td>0</td>\n",
       "      <td>0</td>\n",
       "      <td>0</td>\n",
       "      <td>0</td>\n",
       "      <td>0</td>\n",
       "      <td>0</td>\n",
       "      <td>0</td>\n",
       "      <td>0</td>\n",
       "      <td>0</td>\n",
       "    </tr>\n",
       "  </tbody>\n",
       "</table>\n",
       "<p>10 rows × 7038 columns</p>\n",
       "</div>"
      ],
      "text/plain": [
       "    ano  sequencial_candidato  quantidade_doacoes  quantidade_doadores  \\\n",
       "0  2006                 10001            1.945910             1.945910   \n",
       "1  2006                 10002            2.639057             2.639057   \n",
       "2  2006                 10002            2.890372             2.833213   \n",
       "3  2006                 10002            1.945910             1.945910   \n",
       "4  2006                 10003            3.891820             3.891820   \n",
       "5  2006                 10003            1.945910             1.945910   \n",
       "6  2006                 10003            2.708050             2.079442   \n",
       "7  2006                 10003            1.098612             1.098612   \n",
       "8  2006                 10004            1.098612             1.098612   \n",
       "9  2006                 10004            4.234107             4.189655   \n",
       "\n",
       "   total_receita  media_receita  recursos_de_outros_candidatos/comites  \\\n",
       "0       9.717218       7.925760                               8.324939   \n",
       "1      10.035699       7.471276                               8.798757   \n",
       "2      11.905790       9.133303                               7.719130   \n",
       "3       8.007074       6.216979                               8.324939   \n",
       "4       9.634619       7.466020                               8.324939   \n",
       "5       7.479983       5.691041                               8.324939   \n",
       "6       6.548219       4.610868                               8.324939   \n",
       "7      11.156265      10.463132                               8.324939   \n",
       "8       8.710455       8.017472                               8.710455   \n",
       "9      11.569440       7.395657                               9.167015   \n",
       "\n",
       "   recursos_de_pessoas_fisicas  recursos_de_pessoas_juridicas  \\\n",
       "0                     9.105091                       8.748464   \n",
       "1                     9.615872                       6.908755   \n",
       "2                    10.438547                      11.038461   \n",
       "3                     7.048386                       7.004991   \n",
       "4                    10.837206                      10.011960   \n",
       "5                     8.984406                      10.011960   \n",
       "6                     7.116394                      10.011960   \n",
       "7                     8.984406                      10.011960   \n",
       "8                     8.984406                      10.011960   \n",
       "9                    10.987734                      10.165890   \n",
       "\n",
       "   recursos_proprios          ...           \\\n",
       "0           7.170888          ...            \n",
       "1           5.308268          ...            \n",
       "2          10.993748          ...            \n",
       "3           6.621406          ...            \n",
       "4          11.141035          ...            \n",
       "5           7.479983          ...            \n",
       "6           8.431020          ...            \n",
       "7          11.156265          ...            \n",
       "8           8.431020          ...            \n",
       "9           9.711176          ...            \n",
       "\n",
       "   ocupacao_TÉCNICO DE OBRAS CIVIS, ESTRADAS, SANEAMENTO E ASSEMELHADOS  \\\n",
       "0                                                  0                      \n",
       "1                                                  0                      \n",
       "2                                                  0                      \n",
       "3                                                  0                      \n",
       "4                                                  0                      \n",
       "5                                                  0                      \n",
       "6                                                  0                      \n",
       "7                                                  0                      \n",
       "8                                                  0                      \n",
       "9                                                  0                      \n",
       "\n",
       "   ocupacao_TÉCNICO EM AGRONOMIA E AGRIMENSURA  \\\n",
       "0                                            0   \n",
       "1                                            0   \n",
       "2                                            0   \n",
       "3                                            0   \n",
       "4                                            0   \n",
       "5                                            0   \n",
       "6                                            0   \n",
       "7                                            0   \n",
       "8                                            0   \n",
       "9                                            0   \n",
       "\n",
       "   ocupacao_TÉCNICO EM EDIFICAÇÕES  ocupacao_TÉCNICO EM INFORMÁTICA  \\\n",
       "0                                0                                0   \n",
       "1                                0                                0   \n",
       "2                                0                                0   \n",
       "3                                0                                0   \n",
       "4                                0                                0   \n",
       "5                                0                                0   \n",
       "6                                0                                0   \n",
       "7                                0                                0   \n",
       "8                                0                                0   \n",
       "9                                0                                0   \n",
       "\n",
       "   ocupacao_VENDEDOR DE COMÉRCIO VAREJISTA E ATACADISTA  \\\n",
       "0                                                  0      \n",
       "1                                                  0      \n",
       "2                                                  0      \n",
       "3                                                  0      \n",
       "4                                                  0      \n",
       "5                                                  0      \n",
       "6                                                  0      \n",
       "7                                                  0      \n",
       "8                                                  0      \n",
       "9                                                  0      \n",
       "\n",
       "   ocupacao_VENDEDOR PRACISTA, REPRESENTANTE, CAIXEIRO-VIAJANTE E ASSEMELHADOS  \\\n",
       "0                                                  0                             \n",
       "1                                                  0                             \n",
       "2                                                  0                             \n",
       "3                                                  0                             \n",
       "4                                                  0                             \n",
       "5                                                  0                             \n",
       "6                                                  0                             \n",
       "7                                                  0                             \n",
       "8                                                  0                             \n",
       "9                                                  0                             \n",
       "\n",
       "   ocupacao_VEREADOR  ocupacao_VETERINÁRIO  ocupacao_VIGILANTE  \\\n",
       "0                  1                     0                   0   \n",
       "1                  0                     0                   0   \n",
       "2                  0                     0                   0   \n",
       "3                  0                     0                   0   \n",
       "4                  0                     0                   0   \n",
       "5                  0                     0                   0   \n",
       "6                  0                     0                   0   \n",
       "7                  0                     0                   0   \n",
       "8                  0                     0                   0   \n",
       "9                  0                     0                   0   \n",
       "\n",
       "   ocupacao_ZOOTECNISTA  \n",
       "0                     0  \n",
       "1                     0  \n",
       "2                     0  \n",
       "3                     0  \n",
       "4                     0  \n",
       "5                     0  \n",
       "6                     0  \n",
       "7                     0  \n",
       "8                     0  \n",
       "9                     0  \n",
       "\n",
       "[10 rows x 7038 columns]"
      ]
     },
     "execution_count": 53,
     "metadata": {},
     "output_type": "execute_result"
    }
   ],
   "source": [
    "df_data = pd.get_dummies(df_data)\n",
    "\n",
    "df_data.head(10)"
   ]
  },
  {
   "cell_type": "markdown",
   "metadata": {
    "collapsed": true
   },
   "source": [
    "### Divisão dos dados em treinamento e validação"
   ]
  },
  {
   "cell_type": "markdown",
   "metadata": {},
   "source": [
    "Abaixo, o conjunto de dados utilizado será particionado em treino, para servir para a criação dos modelos de regressão e em validação, que será usado para avaliar a qualidade do modelo."
   ]
  },
  {
   "cell_type": "code",
   "execution_count": 54,
   "metadata": {},
   "outputs": [
    {
     "name": "stdout",
     "output_type": "stream",
     "text": [
      "((5864, 7038), (5864,))\n",
      "((1466, 7038), (1466,))\n"
     ]
    }
   ],
   "source": [
    "# create training and validation vars\n",
    "y = df_data.votos\n",
    "X_train, X_validation, y_train, y_validation = train_test_split(df_data, y, test_size = 0.2)\n",
    "print(X_train.shape, y_train.shape)\n",
    "print(X_validation.shape, y_validation.shape)"
   ]
  },
  {
   "cell_type": "markdown",
   "metadata": {
    "collapsed": true
   },
   "source": [
    "## B. Modelos de regressão sem regularização"
   ]
  },
  {
   "cell_type": "markdown",
   "metadata": {},
   "source": [
    "### Implementando o modelo de regressão Ridge"
   ]
  },
  {
   "cell_type": "code",
   "execution_count": 55,
   "metadata": {},
   "outputs": [
    {
     "name": "stderr",
     "output_type": "stream",
     "text": [
      "/home/veruska/anaconda2/lib/python2.7/site-packages/sklearn/linear_model/ridge.py:154: UserWarning: Singular matrix in solving dual problem. Using least-squares solution instead.\n",
      "  warnings.warn(\"Singular matrix in solving dual problem. Using \"\n"
     ]
    },
    {
     "data": {
      "text/plain": [
       "Ridge(alpha=1.0, copy_X=True, fit_intercept=True, max_iter=None,\n",
       "   normalize=False, random_state=None, solver='auto', tol=0.001)"
      ]
     },
     "execution_count": 55,
     "metadata": {},
     "output_type": "execute_result"
    }
   ],
   "source": [
    "model_ridge = Ridge()\n",
    "model_ridge.fit(X_train, y_train)"
   ]
  },
  {
   "cell_type": "code",
   "execution_count": 56,
   "metadata": {},
   "outputs": [
    {
     "name": "stdout",
     "output_type": "stream",
     "text": [
      "[ 7.60758800e-07  2.54658516e-11  1.32854803e-05 ... -4.93128862e-10\n",
      " -2.38022600e-08 -1.34065755e-09]\n",
      "0.9999999969214555\n"
     ]
    }
   ],
   "source": [
    "print(model_ridge.coef_)\n",
    "print(model_ridge.score(X_validation, y_validation))"
   ]
  },
  {
   "cell_type": "markdown",
   "metadata": {},
   "source": [
    "### Implementando o modelo de regressão Lasso"
   ]
  },
  {
   "cell_type": "code",
   "execution_count": 59,
   "metadata": {},
   "outputs": [
    {
     "data": {
      "text/plain": [
       "Lasso(alpha=1.0, copy_X=True, fit_intercept=True, max_iter=1000,\n",
       "   normalize=False, positive=False, precompute=False, random_state=None,\n",
       "   selection='cyclic', tol=0.0001, warm_start=False)"
      ]
     },
     "execution_count": 59,
     "metadata": {},
     "output_type": "execute_result"
    }
   ],
   "source": [
    "model_lasso = Lasso()\n",
    "model_lasso.fit(X_train, y_train)"
   ]
  },
  {
   "cell_type": "code",
   "execution_count": 60,
   "metadata": {},
   "outputs": [
    {
     "name": "stdout",
     "output_type": "stream",
     "text": [
      "[-0.00000000e+00  7.35950971e-18 -0.00000000e+00 ... -0.00000000e+00\n",
      " -0.00000000e+00 -0.00000000e+00]\n",
      "1.0\n"
     ]
    }
   ],
   "source": [
    "print(model_lasso.coef_)\n",
    "print(model_lasso.score(X_validation, y_validation))"
   ]
  },
  {
   "cell_type": "markdown",
   "metadata": {},
   "source": [
    "## B. Modelos de regressão não parámetrica"
   ]
  },
  {
   "cell_type": "markdown",
   "metadata": {},
   "source": [
    "Implementando o modelo de regressão kNN"
   ]
  }
 ],
 "metadata": {
  "kernelspec": {
   "display_name": "Python 2",
   "language": "python",
   "name": "python2"
  }
 },
 "nbformat": 4,
 "nbformat_minor": 2
}
