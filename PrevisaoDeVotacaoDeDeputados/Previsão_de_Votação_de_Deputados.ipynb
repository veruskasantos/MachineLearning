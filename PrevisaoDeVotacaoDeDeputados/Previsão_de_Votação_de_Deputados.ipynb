{
 "cells": [
  {
   "cell_type": "markdown",
   "metadata": {},
   "source": [
    "Nesta atividade construiremos modelos preditivos de regressão em scikit learn para a predição dos votos de deputados federais considerando as últimas eleições. As atividades esperadas para essa etapa são descritas a seguir:\n",
    "\n",
    "1. Baixe os dados aqui.\n",
    "\n",
    "Vamos explorar dados sobre as votações que candidatos à Câmara Federal de Deputados receberam nos anos de 2006 e 2010. Esses dados foram extraídos do TSE (Links para um site externo)Links para um site externo, pré-processados e contemplam informações sobre aproximadamente 7.300 candidatos.\n",
    "\n",
    "2. Considere o pipeline mostrado nesse [link](https://www.kaggle.com/apapiu/regularized-linear-models) para um site externo para construir seus modelos de regressão. Isso implica, dentre outras coisas:\n",
    "\n",
    "    1. Analisar as distribuições das variáveis para ver se estão enviesadas e precisam de correção; tratamento de valores ausentes, variáveis categóricas e normalização, quando for o caso.\n",
    "    2. Construir modelos de regressão com (ridge e lasso) e sem regularização.\n",
    "    3. Considerar também modelos de regressão não paramétrica como K-NN.\n",
    "    4. Considerar outros modelos ainda não vistos em sala de sua escolha (e.g. SVR, Regression Trees e Random Florests).\n",
    "    5. Tunar os hiperâmetros para cada caso e retornar os rmses de validação cruzada para todos os modelos avaliados.\n",
    "    6. Plotar os resíduos versus predições e analisar se esses plots representam bons indícios da adequabilidade dos modelos a esse problema.\n",
    "    \n",
    "3. Alguns dias antes da entrega final serão liberados os dados de teste referentes à 2014 para validação final dos seus melhores modelos.\n",
    "    1. Dica: Uma coisa que você pode fazer é usar os dados de 2006 como treino e os de 2010 como validação. Uma vez encontrados os melhores modelos para 2010 junte 2006+2010, retreine, e aplique o modelo aos dados de 2014 que serão liberados.\n",
    "    \n",
    "4. Responder:\n",
    "    1. Dentre os modelos avaliados, qual foi o que deu o melhor resultado nos dados de 2014 em termos de RMSE? Justifique bem sua resposta.\n",
    "\n",
    "A entrega deve ser um notebook Jupyter com código python e texto explicativo quando necessário. Crie um repositório na sua conta do github e envie o link do html do notebook.\n"
   ]
  },
  {
   "cell_type": "code",
   "execution_count": 1,
   "metadata": {},
   "outputs": [],
   "source": [
    "import pandas as pd\n",
    "import numpy as np\n",
    "import seaborn as sns\n",
    "import matplotlib\n",
    "\n",
    "import matplotlib.pyplot as plt\n",
    "from scipy.stats import skew\n",
    "\n",
    "from sklearn.linear_model import Ridge, Lasso\n",
    "from sklearn.model_selection import cross_val_score, train_test_split\n",
    "from sklearn.neighbors import KNeighborsClassifier\n",
    "from sklearn.svm import SVR\n",
    "from sklearn.ensemble import RandomForestClassifier"
   ]
  },
  {
   "cell_type": "markdown",
   "metadata": {},
   "source": [
    "## Análise dos dados "
   ]
  },
  {
   "cell_type": "markdown",
   "metadata": {},
   "source": [
    "### Leitura dos dados"
   ]
  },
  {
   "cell_type": "code",
   "execution_count": 2,
   "metadata": {
    "collapsed": true
   },
   "outputs": [],
   "source": [
    "train_data = pd.read_csv(\"dados/eleicoes_2006_a_2010.csv\")\n",
    "test_data = pd.read_csv(\"dados/eleicoes_2014.csv\")\n",
    "\n",
    "# load the dataset as a pandas data frame\n",
    "df_train_data = pd.DataFrame(train_data)\n",
    "df_test_data = pd.DataFrame(test_data)\n",
    "\n",
    "frames = [df_train_data, df_test_data]\n",
    "df_data = pd.concat(frames)"
   ]
  },
  {
   "cell_type": "code",
   "execution_count": 3,
   "metadata": {},
   "outputs": [
    {
     "data": {
      "text/html": [
       "<div>\n",
       "<style>\n",
       "    .dataframe thead tr:only-child th {\n",
       "        text-align: right;\n",
       "    }\n",
       "\n",
       "    .dataframe thead th {\n",
       "        text-align: left;\n",
       "    }\n",
       "\n",
       "    .dataframe tbody tr th {\n",
       "        vertical-align: top;\n",
       "    }\n",
       "</style>\n",
       "<table border=\"1\" class=\"dataframe\">\n",
       "  <thead>\n",
       "    <tr style=\"text-align: right;\">\n",
       "      <th></th>\n",
       "      <th>ano</th>\n",
       "      <th>sequencial_candidato</th>\n",
       "      <th>nome</th>\n",
       "      <th>uf</th>\n",
       "      <th>partido</th>\n",
       "      <th>quantidade_doacoes</th>\n",
       "      <th>quantidade_doadores</th>\n",
       "      <th>total_receita</th>\n",
       "      <th>media_receita</th>\n",
       "      <th>recursos_de_outros_candidatos/comites</th>\n",
       "      <th>...</th>\n",
       "      <th>quantidade_despesas</th>\n",
       "      <th>quantidade_fornecedores</th>\n",
       "      <th>total_despesa</th>\n",
       "      <th>media_despesa</th>\n",
       "      <th>cargo</th>\n",
       "      <th>sexo</th>\n",
       "      <th>grau</th>\n",
       "      <th>estado_civil</th>\n",
       "      <th>ocupacao</th>\n",
       "      <th>votos</th>\n",
       "    </tr>\n",
       "  </thead>\n",
       "  <tbody>\n",
       "    <tr>\n",
       "      <th>0</th>\n",
       "      <td>2006</td>\n",
       "      <td>10001</td>\n",
       "      <td>JOSÉ LUIZ NOGUEIRA DE SOUSA</td>\n",
       "      <td>AP</td>\n",
       "      <td>PT</td>\n",
       "      <td>6</td>\n",
       "      <td>6</td>\n",
       "      <td>16600.00</td>\n",
       "      <td>2766.666667</td>\n",
       "      <td>NaN</td>\n",
       "      <td>...</td>\n",
       "      <td>14</td>\n",
       "      <td>14</td>\n",
       "      <td>16583.60</td>\n",
       "      <td>1184.542857</td>\n",
       "      <td>DEPUTADO FEDERAL</td>\n",
       "      <td>MASCULINO</td>\n",
       "      <td>ENSINO MÉDIO COMPLETO</td>\n",
       "      <td>CASADO(A)</td>\n",
       "      <td>VEREADOR</td>\n",
       "      <td>8579</td>\n",
       "    </tr>\n",
       "    <tr>\n",
       "      <th>1</th>\n",
       "      <td>2006</td>\n",
       "      <td>10002</td>\n",
       "      <td>LOIVA DE OLIVEIRA</td>\n",
       "      <td>RO</td>\n",
       "      <td>PT</td>\n",
       "      <td>13</td>\n",
       "      <td>13</td>\n",
       "      <td>22826.00</td>\n",
       "      <td>1755.846154</td>\n",
       "      <td>6625.0</td>\n",
       "      <td>...</td>\n",
       "      <td>24</td>\n",
       "      <td>23</td>\n",
       "      <td>20325.99</td>\n",
       "      <td>883.738696</td>\n",
       "      <td>DEPUTADO FEDERAL</td>\n",
       "      <td>FEMININO</td>\n",
       "      <td>SUPERIOR COMPLETO</td>\n",
       "      <td>SOLTEIRO(A)</td>\n",
       "      <td>SERVIDOR PÚBLICO ESTADUAL</td>\n",
       "      <td>2757</td>\n",
       "    </tr>\n",
       "    <tr>\n",
       "      <th>2</th>\n",
       "      <td>2006</td>\n",
       "      <td>10002</td>\n",
       "      <td>MARIA DALVA DE SOUZA FIGUEIREDO</td>\n",
       "      <td>AP</td>\n",
       "      <td>PT</td>\n",
       "      <td>17</td>\n",
       "      <td>16</td>\n",
       "      <td>148120.80</td>\n",
       "      <td>9257.550000</td>\n",
       "      <td>2250.0</td>\n",
       "      <td>...</td>\n",
       "      <td>123</td>\n",
       "      <td>108</td>\n",
       "      <td>146011.70</td>\n",
       "      <td>1351.960185</td>\n",
       "      <td>DEPUTADO FEDERAL</td>\n",
       "      <td>FEMININO</td>\n",
       "      <td>SUPERIOR COMPLETO</td>\n",
       "      <td>VIÚVO(A)</td>\n",
       "      <td>PEDAGOGO</td>\n",
       "      <td>17428</td>\n",
       "    </tr>\n",
       "    <tr>\n",
       "      <th>3</th>\n",
       "      <td>2006</td>\n",
       "      <td>10002</td>\n",
       "      <td>ROMALDO MILANI</td>\n",
       "      <td>MS</td>\n",
       "      <td>PRONA</td>\n",
       "      <td>6</td>\n",
       "      <td>6</td>\n",
       "      <td>3001.12</td>\n",
       "      <td>500.186667</td>\n",
       "      <td>NaN</td>\n",
       "      <td>...</td>\n",
       "      <td>8</td>\n",
       "      <td>8</td>\n",
       "      <td>3001.12</td>\n",
       "      <td>375.140000</td>\n",
       "      <td>DEPUTADO FEDERAL</td>\n",
       "      <td>MASCULINO</td>\n",
       "      <td>ENSINO MÉDIO INCOMPLETO</td>\n",
       "      <td>CASADO(A)</td>\n",
       "      <td>MILITAR REFORMADO</td>\n",
       "      <td>1193</td>\n",
       "    </tr>\n",
       "    <tr>\n",
       "      <th>4</th>\n",
       "      <td>2006</td>\n",
       "      <td>10003</td>\n",
       "      <td>ANSELMO DE JESUS ABREU</td>\n",
       "      <td>RO</td>\n",
       "      <td>PT</td>\n",
       "      <td>48</td>\n",
       "      <td>48</td>\n",
       "      <td>NaN</td>\n",
       "      <td>NaN</td>\n",
       "      <td>NaN</td>\n",
       "      <td>...</td>\n",
       "      <td>133</td>\n",
       "      <td>120</td>\n",
       "      <td>116416.64</td>\n",
       "      <td>970.138667</td>\n",
       "      <td>DEPUTADO FEDERAL</td>\n",
       "      <td>MASCULINO</td>\n",
       "      <td>ENSINO FUNDAMENTAL COMPLETO</td>\n",
       "      <td>CASADO(A)</td>\n",
       "      <td>DEPUTADO</td>\n",
       "      <td>29401</td>\n",
       "    </tr>\n",
       "  </tbody>\n",
       "</table>\n",
       "<p>5 rows × 23 columns</p>\n",
       "</div>"
      ],
      "text/plain": [
       "    ano  sequencial_candidato                             nome  uf partido  \\\n",
       "0  2006                 10001      JOSÉ LUIZ NOGUEIRA DE SOUSA  AP      PT   \n",
       "1  2006                 10002                LOIVA DE OLIVEIRA  RO      PT   \n",
       "2  2006                 10002  MARIA DALVA DE SOUZA FIGUEIREDO  AP      PT   \n",
       "3  2006                 10002                   ROMALDO MILANI  MS   PRONA   \n",
       "4  2006                 10003           ANSELMO DE JESUS ABREU  RO      PT   \n",
       "\n",
       "   quantidade_doacoes  quantidade_doadores  total_receita  media_receita  \\\n",
       "0                   6                    6       16600.00    2766.666667   \n",
       "1                  13                   13       22826.00    1755.846154   \n",
       "2                  17                   16      148120.80    9257.550000   \n",
       "3                   6                    6        3001.12     500.186667   \n",
       "4                  48                   48            NaN            NaN   \n",
       "\n",
       "   recursos_de_outros_candidatos/comites  ...    quantidade_despesas  \\\n",
       "0                                    NaN  ...                     14   \n",
       "1                                 6625.0  ...                     24   \n",
       "2                                 2250.0  ...                    123   \n",
       "3                                    NaN  ...                      8   \n",
       "4                                    NaN  ...                    133   \n",
       "\n",
       "   quantidade_fornecedores  total_despesa  media_despesa             cargo  \\\n",
       "0                       14       16583.60    1184.542857  DEPUTADO FEDERAL   \n",
       "1                       23       20325.99     883.738696  DEPUTADO FEDERAL   \n",
       "2                      108      146011.70    1351.960185  DEPUTADO FEDERAL   \n",
       "3                        8        3001.12     375.140000  DEPUTADO FEDERAL   \n",
       "4                      120      116416.64     970.138667  DEPUTADO FEDERAL   \n",
       "\n",
       "        sexo                         grau estado_civil  \\\n",
       "0  MASCULINO        ENSINO MÉDIO COMPLETO    CASADO(A)   \n",
       "1   FEMININO            SUPERIOR COMPLETO  SOLTEIRO(A)   \n",
       "2   FEMININO            SUPERIOR COMPLETO     VIÚVO(A)   \n",
       "3  MASCULINO      ENSINO MÉDIO INCOMPLETO    CASADO(A)   \n",
       "4  MASCULINO  ENSINO FUNDAMENTAL COMPLETO    CASADO(A)   \n",
       "\n",
       "                    ocupacao  votos  \n",
       "0                   VEREADOR   8579  \n",
       "1  SERVIDOR PÚBLICO ESTADUAL   2757  \n",
       "2                   PEDAGOGO  17428  \n",
       "3          MILITAR REFORMADO   1193  \n",
       "4                   DEPUTADO  29401  \n",
       "\n",
       "[5 rows x 23 columns]"
      ]
     },
     "execution_count": 3,
     "metadata": {},
     "output_type": "execute_result"
    }
   ],
   "source": [
    "df_data.head()"
   ]
  },
  {
   "cell_type": "markdown",
   "metadata": {},
   "source": [
    "### Pré-processamento dos dados"
   ]
  },
  {
   "cell_type": "markdown",
   "metadata": {},
   "source": [
    "- Transformação das features numéricas enviesadas usando log(feature + 1), a fim de normalizar a distribuição dos valores;\n",
    "- Tratamento das features numéricas com valores ausentes (NaN's);\n",
    "- Transformação das variáveis categóricas."
   ]
  },
  {
   "cell_type": "markdown",
   "metadata": {},
   "source": [
    "#### Enviesamento de features numéricas"
   ]
  },
  {
   "cell_type": "markdown",
   "metadata": {},
   "source": [
    "Através dos histogramas abaixo vemos que as variáveis analisadas precisam de normalização, porque a distribuição dos seus valores não está igual."
   ]
  },
  {
   "cell_type": "code",
   "execution_count": 4,
   "metadata": {
    "collapsed": true
   },
   "outputs": [],
   "source": [
    "# function to plot a histogram of each variable\n",
    "def plot_histogram(feature):\n",
    "    # log (feature + 1) because of features with values 0\n",
    "    feature = pd.DataFrame({\"1. \" + feature: df_data[feature], \"2. log(\" + feature + \")\": np.log1p(df_data[feature])})\n",
    "    feature.hist() # TODO check how to increase the number of bins\n",
    "\n",
    "# function to transform skewed variables using log(feature + 1)\n",
    "def transform_skewed_var(feature):\n",
    "    df_data[feature] = np.log1p(df_data[feature])"
   ]
  },
  {
   "cell_type": "code",
   "execution_count": 5,
   "metadata": {},
   "outputs": [],
   "source": [
    "columns = \"quantidade_doacoes quantidade_doadores total_receita media_receita recursos_de_outros_candidatos/comites recursos_de_pessoas_fisicas recursos_de_pessoas_juridicas recursos_proprios quantidade_despesas quantidade_fornecedores total_despesa media_despesa\".split()\n",
    "\n",
    "for feature in columns:\n",
    "    plot_histogram(feature)\n",
    "    transform_skewed_var(feature)    "
   ]
  },
  {
   "cell_type": "markdown",
   "metadata": {},
   "source": [
    "#### Features com valores numéricos ausentes (NaN) "
   ]
  },
  {
   "cell_type": "markdown",
   "metadata": {},
   "source": [
    "Abaixo veremos quais as variáveis com valores ausentes (NaN)."
   ]
  },
  {
   "cell_type": "code",
   "execution_count": 6,
   "metadata": {},
   "outputs": [
    {
     "data": {
      "text/plain": [
       "ano                                      False\n",
       "sequencial_candidato                     False\n",
       "nome                                     False\n",
       "uf                                       False\n",
       "partido                                  False\n",
       "quantidade_doacoes                       False\n",
       "quantidade_doadores                      False\n",
       "total_receita                             True\n",
       "media_receita                             True\n",
       "recursos_de_outros_candidatos/comites     True\n",
       "recursos_de_pessoas_fisicas               True\n",
       "recursos_de_pessoas_juridicas             True\n",
       "recursos_proprios                         True\n",
       "quantidade_despesas                      False\n",
       "quantidade_fornecedores                  False\n",
       "total_despesa                            False\n",
       "media_despesa                            False\n",
       "cargo                                    False\n",
       "sexo                                     False\n",
       "grau                                     False\n",
       "estado_civil                             False\n",
       "ocupacao                                 False\n",
       "votos                                    False\n",
       "dtype: bool"
      ]
     },
     "execution_count": 6,
     "metadata": {},
     "output_type": "execute_result"
    }
   ],
   "source": [
    "df_data.isnull().any()"
   ]
  },
  {
   "cell_type": "code",
   "execution_count": 7,
   "metadata": {},
   "outputs": [
    {
     "name": "stdout",
     "output_type": "stream",
     "text": [
      "<class 'pandas.core.frame.DataFrame'>\n",
      "Int64Index: 12266 entries, 0 to 4935\n",
      "Data columns (total 23 columns):\n",
      "ano                                      12266 non-null int64\n",
      "sequencial_candidato                     12266 non-null int64\n",
      "nome                                     12266 non-null object\n",
      "uf                                       12266 non-null object\n",
      "partido                                  12266 non-null object\n",
      "quantidade_doacoes                       12266 non-null float64\n",
      "quantidade_doadores                      12266 non-null float64\n",
      "total_receita                            12105 non-null float64\n",
      "media_receita                            12105 non-null float64\n",
      "recursos_de_outros_candidatos/comites    8131 non-null float64\n",
      "recursos_de_pessoas_fisicas              8374 non-null float64\n",
      "recursos_de_pessoas_juridicas            5068 non-null float64\n",
      "recursos_proprios                        7802 non-null float64\n",
      "quantidade_despesas                      12266 non-null float64\n",
      "quantidade_fornecedores                  12266 non-null float64\n",
      "total_despesa                            12266 non-null float64\n",
      "media_despesa                            12266 non-null float64\n",
      "cargo                                    12266 non-null object\n",
      "sexo                                     12266 non-null object\n",
      "grau                                     12266 non-null object\n",
      "estado_civil                             12266 non-null object\n",
      "ocupacao                                 12266 non-null object\n",
      "votos                                    12266 non-null int64\n",
      "dtypes: float64(12), int64(3), object(8)\n",
      "memory usage: 2.2+ MB\n"
     ]
    }
   ],
   "source": [
    "df_data.info()"
   ]
  },
  {
   "cell_type": "markdown",
   "metadata": {},
   "source": [
    "Das 6 variáveis com valores ausentes,  **recursos_de_outros_candidatos/comites**, **recursos_de_pessoas_fisicas**, **recursos_de_pessoas_juridicas** e **recursos_proprios** são as que mais possuem valores ausentes.\n",
    "\n",
    "O gráfico mais abaixo mostra a correlação entre todas as variáveis numéricas. Nele, quanto mais amarelo maior a correlação entre a variável do eixo horizontal e a variável do eixo vertical."
   ]
  },
  {
   "cell_type": "code",
   "execution_count": 8,
   "metadata": {},
   "outputs": [
    {
     "data": {
      "text/plain": [
       "<matplotlib.axes._subplots.AxesSubplot at 0x8a2f67df28>"
      ]
     },
     "execution_count": 8,
     "metadata": {},
     "output_type": "execute_result"
    }
   ],
   "source": [
    "#analysis of correlation between variables\n",
    "\n",
    "corr = df_data.corr()\n",
    "\n",
    "# Generate a mask for the upper triangle\n",
    "mask = np.zeros_like(corr, dtype=np.bool)\n",
    "mask[np.triu_indices_from(mask)] = True\n",
    "\n",
    "# Set up the matplotlib figure\n",
    "f, ax = plt.subplots(figsize=(11, 9))\n",
    "\n",
    "# Generate a custom diverging colormap\n",
    "cmap = sns.diverging_palette(220, 10, as_cmap=True)\n",
    "cmap='viridis'\n",
    "\n",
    "# Draw the heatmap with the mask and correct aspect ratio\n",
    "sns.heatmap(corr, mask=mask, cmap=cmap, vmax=0.4, center=0,\n",
    "            square=True, linewidths=.5, cbar_kws={\"shrink\": .5})"
   ]
  },
  {
   "cell_type": "markdown",
   "metadata": {},
   "source": [
    "Vemos acima que a variável que mais tem correlação com as outras é **total_receita**.\n",
    "\n",
    "Apesar dela também ter valores ausentes, optou-se por remover dos dados apenas as outras 4 variáveis que tem mais valores ausentes, mas tem alta correlação com **total_receita**. Nesta última e em **media_receita**, os valores ausentes serão substituídos pela mediana de todos os valores de cada coluna."
   ]
  },
  {
   "cell_type": "code",
   "execution_count": 9,
   "metadata": {},
   "outputs": [
    {
     "name": "stdout",
     "output_type": "stream",
     "text": [
      "(12266, 23)\n",
      "(12266, 21)\n"
     ]
    },
    {
     "data": {
      "text/plain": [
       "ano                                      False\n",
       "uf                                       False\n",
       "partido                                  False\n",
       "quantidade_doacoes                       False\n",
       "quantidade_doadores                      False\n",
       "total_receita                            False\n",
       "media_receita                            False\n",
       "recursos_de_outros_candidatos/comites    False\n",
       "recursos_de_pessoas_fisicas              False\n",
       "recursos_de_pessoas_juridicas            False\n",
       "recursos_proprios                        False\n",
       "quantidade_despesas                      False\n",
       "quantidade_fornecedores                  False\n",
       "total_despesa                            False\n",
       "media_despesa                            False\n",
       "cargo                                    False\n",
       "sexo                                     False\n",
       "grau                                     False\n",
       "estado_civil                             False\n",
       "ocupacao                                 False\n",
       "votos                                    False\n",
       "dtype: bool"
      ]
     },
     "execution_count": 9,
     "metadata": {},
     "output_type": "execute_result"
    }
   ],
   "source": [
    "print(df_data.shape)\n",
    "\n",
    "#removing collumns\n",
    "df_data = df_data.drop([\"nome\", \"sequencial_candidato\"], 1)\n",
    "\n",
    "#filling NA's of total_receita and media_receita with the median of the column:\n",
    "df_data = df_data.fillna(df_data.median())\n",
    "\n",
    "print(df_data.shape)\n",
    "df_data.isnull().any()"
   ]
  },
  {
   "cell_type": "markdown",
   "metadata": {},
   "source": [
    "#### Tranformação das variáveis categóricas"
   ]
  },
  {
   "cell_type": "markdown",
   "metadata": {},
   "source": [
    "As variáveis categóricas presentes nos dados, como **ocupação** e **estado_civil**, serão transformadas em variáveis numéricas, a fim de permitir a sua utilização nos modelos de regressão logo a seguir."
   ]
  },
  {
   "cell_type": "code",
   "execution_count": 10,
   "metadata": {
    "scrolled": true
   },
   "outputs": [
    {
     "data": {
      "text/html": [
       "<div>\n",
       "<style>\n",
       "    .dataframe thead tr:only-child th {\n",
       "        text-align: right;\n",
       "    }\n",
       "\n",
       "    .dataframe thead th {\n",
       "        text-align: left;\n",
       "    }\n",
       "\n",
       "    .dataframe tbody tr th {\n",
       "        vertical-align: top;\n",
       "    }\n",
       "</style>\n",
       "<table border=\"1\" class=\"dataframe\">\n",
       "  <thead>\n",
       "    <tr style=\"text-align: right;\">\n",
       "      <th></th>\n",
       "      <th>ano</th>\n",
       "      <th>quantidade_doacoes</th>\n",
       "      <th>quantidade_doadores</th>\n",
       "      <th>total_receita</th>\n",
       "      <th>media_receita</th>\n",
       "      <th>recursos_de_outros_candidatos/comites</th>\n",
       "      <th>recursos_de_pessoas_fisicas</th>\n",
       "      <th>recursos_de_pessoas_juridicas</th>\n",
       "      <th>recursos_proprios</th>\n",
       "      <th>quantidade_despesas</th>\n",
       "      <th>...</th>\n",
       "      <th>ocupacao_TÉCNICO DE QUÍMICA</th>\n",
       "      <th>ocupacao_TÉCNICO EM AGRONOMIA E AGRIMENSURA</th>\n",
       "      <th>ocupacao_TÉCNICO EM EDIFICAÇÕES</th>\n",
       "      <th>ocupacao_TÉCNICO EM INFORMÁTICA</th>\n",
       "      <th>ocupacao_VENDEDOR DE COMÉRCIO VAREJISTA E ATACADISTA</th>\n",
       "      <th>ocupacao_VENDEDOR PRACISTA, REPRESENTANTE, CAIXEIRO-VIAJANTE E ASSEMELHADOS</th>\n",
       "      <th>ocupacao_VEREADOR</th>\n",
       "      <th>ocupacao_VETERINÁRIO</th>\n",
       "      <th>ocupacao_VIGILANTE</th>\n",
       "      <th>ocupacao_ZOOTECNISTA</th>\n",
       "    </tr>\n",
       "  </thead>\n",
       "  <tbody>\n",
       "    <tr>\n",
       "      <th>0</th>\n",
       "      <td>2006</td>\n",
       "      <td>1.945910</td>\n",
       "      <td>1.945910</td>\n",
       "      <td>9.717218</td>\n",
       "      <td>7.925760</td>\n",
       "      <td>8.225474</td>\n",
       "      <td>9.105091</td>\n",
       "      <td>8.748464</td>\n",
       "      <td>7.170888</td>\n",
       "      <td>2.708050</td>\n",
       "      <td>...</td>\n",
       "      <td>0</td>\n",
       "      <td>0</td>\n",
       "      <td>0</td>\n",
       "      <td>0</td>\n",
       "      <td>0</td>\n",
       "      <td>0</td>\n",
       "      <td>1</td>\n",
       "      <td>0</td>\n",
       "      <td>0</td>\n",
       "      <td>0</td>\n",
       "    </tr>\n",
       "    <tr>\n",
       "      <th>1</th>\n",
       "      <td>2006</td>\n",
       "      <td>2.639057</td>\n",
       "      <td>2.639057</td>\n",
       "      <td>10.035699</td>\n",
       "      <td>7.471276</td>\n",
       "      <td>8.798757</td>\n",
       "      <td>9.615872</td>\n",
       "      <td>6.908755</td>\n",
       "      <td>5.308268</td>\n",
       "      <td>3.218876</td>\n",
       "      <td>...</td>\n",
       "      <td>0</td>\n",
       "      <td>0</td>\n",
       "      <td>0</td>\n",
       "      <td>0</td>\n",
       "      <td>0</td>\n",
       "      <td>0</td>\n",
       "      <td>0</td>\n",
       "      <td>0</td>\n",
       "      <td>0</td>\n",
       "      <td>0</td>\n",
       "    </tr>\n",
       "    <tr>\n",
       "      <th>2</th>\n",
       "      <td>2006</td>\n",
       "      <td>2.890372</td>\n",
       "      <td>2.833213</td>\n",
       "      <td>11.905790</td>\n",
       "      <td>9.133303</td>\n",
       "      <td>7.719130</td>\n",
       "      <td>10.438547</td>\n",
       "      <td>11.038461</td>\n",
       "      <td>10.993748</td>\n",
       "      <td>4.820282</td>\n",
       "      <td>...</td>\n",
       "      <td>0</td>\n",
       "      <td>0</td>\n",
       "      <td>0</td>\n",
       "      <td>0</td>\n",
       "      <td>0</td>\n",
       "      <td>0</td>\n",
       "      <td>0</td>\n",
       "      <td>0</td>\n",
       "      <td>0</td>\n",
       "      <td>0</td>\n",
       "    </tr>\n",
       "    <tr>\n",
       "      <th>3</th>\n",
       "      <td>2006</td>\n",
       "      <td>1.945910</td>\n",
       "      <td>1.945910</td>\n",
       "      <td>8.007074</td>\n",
       "      <td>6.216979</td>\n",
       "      <td>8.225474</td>\n",
       "      <td>7.048386</td>\n",
       "      <td>7.004991</td>\n",
       "      <td>6.621406</td>\n",
       "      <td>2.197225</td>\n",
       "      <td>...</td>\n",
       "      <td>0</td>\n",
       "      <td>0</td>\n",
       "      <td>0</td>\n",
       "      <td>0</td>\n",
       "      <td>0</td>\n",
       "      <td>0</td>\n",
       "      <td>0</td>\n",
       "      <td>0</td>\n",
       "      <td>0</td>\n",
       "      <td>0</td>\n",
       "    </tr>\n",
       "    <tr>\n",
       "      <th>4</th>\n",
       "      <td>2006</td>\n",
       "      <td>3.891820</td>\n",
       "      <td>3.891820</td>\n",
       "      <td>9.375951</td>\n",
       "      <td>7.307409</td>\n",
       "      <td>8.225474</td>\n",
       "      <td>10.837206</td>\n",
       "      <td>10.181817</td>\n",
       "      <td>11.141035</td>\n",
       "      <td>4.897840</td>\n",
       "      <td>...</td>\n",
       "      <td>0</td>\n",
       "      <td>0</td>\n",
       "      <td>0</td>\n",
       "      <td>0</td>\n",
       "      <td>0</td>\n",
       "      <td>0</td>\n",
       "      <td>0</td>\n",
       "      <td>0</td>\n",
       "      <td>0</td>\n",
       "      <td>0</td>\n",
       "    </tr>\n",
       "    <tr>\n",
       "      <th>5</th>\n",
       "      <td>2006</td>\n",
       "      <td>1.945910</td>\n",
       "      <td>1.945910</td>\n",
       "      <td>7.479983</td>\n",
       "      <td>5.691041</td>\n",
       "      <td>8.225474</td>\n",
       "      <td>8.794976</td>\n",
       "      <td>10.181817</td>\n",
       "      <td>7.479983</td>\n",
       "      <td>2.302585</td>\n",
       "      <td>...</td>\n",
       "      <td>0</td>\n",
       "      <td>0</td>\n",
       "      <td>0</td>\n",
       "      <td>0</td>\n",
       "      <td>0</td>\n",
       "      <td>0</td>\n",
       "      <td>0</td>\n",
       "      <td>0</td>\n",
       "      <td>0</td>\n",
       "      <td>0</td>\n",
       "    </tr>\n",
       "    <tr>\n",
       "      <th>6</th>\n",
       "      <td>2006</td>\n",
       "      <td>2.708050</td>\n",
       "      <td>2.079442</td>\n",
       "      <td>6.548219</td>\n",
       "      <td>4.610868</td>\n",
       "      <td>8.225474</td>\n",
       "      <td>7.116394</td>\n",
       "      <td>10.181817</td>\n",
       "      <td>8.517393</td>\n",
       "      <td>2.890372</td>\n",
       "      <td>...</td>\n",
       "      <td>0</td>\n",
       "      <td>0</td>\n",
       "      <td>0</td>\n",
       "      <td>0</td>\n",
       "      <td>0</td>\n",
       "      <td>0</td>\n",
       "      <td>0</td>\n",
       "      <td>0</td>\n",
       "      <td>0</td>\n",
       "      <td>0</td>\n",
       "    </tr>\n",
       "    <tr>\n",
       "      <th>7</th>\n",
       "      <td>2006</td>\n",
       "      <td>1.098612</td>\n",
       "      <td>1.098612</td>\n",
       "      <td>11.156265</td>\n",
       "      <td>10.463132</td>\n",
       "      <td>8.225474</td>\n",
       "      <td>8.794976</td>\n",
       "      <td>10.181817</td>\n",
       "      <td>11.156265</td>\n",
       "      <td>5.808142</td>\n",
       "      <td>...</td>\n",
       "      <td>0</td>\n",
       "      <td>0</td>\n",
       "      <td>0</td>\n",
       "      <td>0</td>\n",
       "      <td>0</td>\n",
       "      <td>0</td>\n",
       "      <td>0</td>\n",
       "      <td>0</td>\n",
       "      <td>0</td>\n",
       "      <td>0</td>\n",
       "    </tr>\n",
       "    <tr>\n",
       "      <th>8</th>\n",
       "      <td>2006</td>\n",
       "      <td>1.098612</td>\n",
       "      <td>1.098612</td>\n",
       "      <td>8.710455</td>\n",
       "      <td>8.017472</td>\n",
       "      <td>8.710455</td>\n",
       "      <td>8.794976</td>\n",
       "      <td>10.181817</td>\n",
       "      <td>8.517393</td>\n",
       "      <td>2.397895</td>\n",
       "      <td>...</td>\n",
       "      <td>0</td>\n",
       "      <td>0</td>\n",
       "      <td>0</td>\n",
       "      <td>0</td>\n",
       "      <td>0</td>\n",
       "      <td>0</td>\n",
       "      <td>0</td>\n",
       "      <td>0</td>\n",
       "      <td>0</td>\n",
       "      <td>0</td>\n",
       "    </tr>\n",
       "    <tr>\n",
       "      <th>9</th>\n",
       "      <td>2006</td>\n",
       "      <td>4.234107</td>\n",
       "      <td>4.189655</td>\n",
       "      <td>11.569440</td>\n",
       "      <td>7.395657</td>\n",
       "      <td>9.167015</td>\n",
       "      <td>10.987734</td>\n",
       "      <td>10.165890</td>\n",
       "      <td>9.711176</td>\n",
       "      <td>4.234107</td>\n",
       "      <td>...</td>\n",
       "      <td>0</td>\n",
       "      <td>0</td>\n",
       "      <td>0</td>\n",
       "      <td>0</td>\n",
       "      <td>0</td>\n",
       "      <td>0</td>\n",
       "      <td>0</td>\n",
       "      <td>0</td>\n",
       "      <td>0</td>\n",
       "      <td>0</td>\n",
       "    </tr>\n",
       "  </tbody>\n",
       "</table>\n",
       "<p>10 rows × 284 columns</p>\n",
       "</div>"
      ],
      "text/plain": [
       "    ano  quantidade_doacoes  quantidade_doadores  total_receita  \\\n",
       "0  2006            1.945910             1.945910       9.717218   \n",
       "1  2006            2.639057             2.639057      10.035699   \n",
       "2  2006            2.890372             2.833213      11.905790   \n",
       "3  2006            1.945910             1.945910       8.007074   \n",
       "4  2006            3.891820             3.891820       9.375951   \n",
       "5  2006            1.945910             1.945910       7.479983   \n",
       "6  2006            2.708050             2.079442       6.548219   \n",
       "7  2006            1.098612             1.098612      11.156265   \n",
       "8  2006            1.098612             1.098612       8.710455   \n",
       "9  2006            4.234107             4.189655      11.569440   \n",
       "\n",
       "   media_receita  recursos_de_outros_candidatos/comites  \\\n",
       "0       7.925760                               8.225474   \n",
       "1       7.471276                               8.798757   \n",
       "2       9.133303                               7.719130   \n",
       "3       6.216979                               8.225474   \n",
       "4       7.307409                               8.225474   \n",
       "5       5.691041                               8.225474   \n",
       "6       4.610868                               8.225474   \n",
       "7      10.463132                               8.225474   \n",
       "8       8.017472                               8.710455   \n",
       "9       7.395657                               9.167015   \n",
       "\n",
       "   recursos_de_pessoas_fisicas  recursos_de_pessoas_juridicas  \\\n",
       "0                     9.105091                       8.748464   \n",
       "1                     9.615872                       6.908755   \n",
       "2                    10.438547                      11.038461   \n",
       "3                     7.048386                       7.004991   \n",
       "4                    10.837206                      10.181817   \n",
       "5                     8.794976                      10.181817   \n",
       "6                     7.116394                      10.181817   \n",
       "7                     8.794976                      10.181817   \n",
       "8                     8.794976                      10.181817   \n",
       "9                    10.987734                      10.165890   \n",
       "\n",
       "   recursos_proprios  quantidade_despesas          ...           \\\n",
       "0           7.170888             2.708050          ...            \n",
       "1           5.308268             3.218876          ...            \n",
       "2          10.993748             4.820282          ...            \n",
       "3           6.621406             2.197225          ...            \n",
       "4          11.141035             4.897840          ...            \n",
       "5           7.479983             2.302585          ...            \n",
       "6           8.517393             2.890372          ...            \n",
       "7          11.156265             5.808142          ...            \n",
       "8           8.517393             2.397895          ...            \n",
       "9           9.711176             4.234107          ...            \n",
       "\n",
       "   ocupacao_TÉCNICO DE QUÍMICA  ocupacao_TÉCNICO EM AGRONOMIA E AGRIMENSURA  \\\n",
       "0                            0                                            0   \n",
       "1                            0                                            0   \n",
       "2                            0                                            0   \n",
       "3                            0                                            0   \n",
       "4                            0                                            0   \n",
       "5                            0                                            0   \n",
       "6                            0                                            0   \n",
       "7                            0                                            0   \n",
       "8                            0                                            0   \n",
       "9                            0                                            0   \n",
       "\n",
       "   ocupacao_TÉCNICO EM EDIFICAÇÕES  ocupacao_TÉCNICO EM INFORMÁTICA  \\\n",
       "0                                0                                0   \n",
       "1                                0                                0   \n",
       "2                                0                                0   \n",
       "3                                0                                0   \n",
       "4                                0                                0   \n",
       "5                                0                                0   \n",
       "6                                0                                0   \n",
       "7                                0                                0   \n",
       "8                                0                                0   \n",
       "9                                0                                0   \n",
       "\n",
       "   ocupacao_VENDEDOR DE COMÉRCIO VAREJISTA E ATACADISTA  \\\n",
       "0                                                  0      \n",
       "1                                                  0      \n",
       "2                                                  0      \n",
       "3                                                  0      \n",
       "4                                                  0      \n",
       "5                                                  0      \n",
       "6                                                  0      \n",
       "7                                                  0      \n",
       "8                                                  0      \n",
       "9                                                  0      \n",
       "\n",
       "   ocupacao_VENDEDOR PRACISTA, REPRESENTANTE, CAIXEIRO-VIAJANTE E ASSEMELHADOS  \\\n",
       "0                                                  0                             \n",
       "1                                                  0                             \n",
       "2                                                  0                             \n",
       "3                                                  0                             \n",
       "4                                                  0                             \n",
       "5                                                  0                             \n",
       "6                                                  0                             \n",
       "7                                                  0                             \n",
       "8                                                  0                             \n",
       "9                                                  0                             \n",
       "\n",
       "   ocupacao_VEREADOR  ocupacao_VETERINÁRIO  ocupacao_VIGILANTE  \\\n",
       "0                  1                     0                   0   \n",
       "1                  0                     0                   0   \n",
       "2                  0                     0                   0   \n",
       "3                  0                     0                   0   \n",
       "4                  0                     0                   0   \n",
       "5                  0                     0                   0   \n",
       "6                  0                     0                   0   \n",
       "7                  0                     0                   0   \n",
       "8                  0                     0                   0   \n",
       "9                  0                     0                   0   \n",
       "\n",
       "   ocupacao_ZOOTECNISTA  \n",
       "0                     0  \n",
       "1                     0  \n",
       "2                     0  \n",
       "3                     0  \n",
       "4                     0  \n",
       "5                     0  \n",
       "6                     0  \n",
       "7                     0  \n",
       "8                     0  \n",
       "9                     0  \n",
       "\n",
       "[10 rows x 284 columns]"
      ]
     },
     "execution_count": 10,
     "metadata": {},
     "output_type": "execute_result"
    }
   ],
   "source": [
    "df_data = pd.get_dummies(df_data)\n",
    "\n",
    "df_data.head(10)"
   ]
  },
  {
   "cell_type": "markdown",
   "metadata": {
    "collapsed": true
   },
   "source": [
    "### Divisão dos dados em treinamento, validação e teste"
   ]
  },
  {
   "cell_type": "markdown",
   "metadata": {},
   "source": [
    "Abaixo, o conjunto de dados utilizado será particionado em treino, para servir para a criação dos modelos de regressão, em validação, que será usado para avaliar a qualidade do modelo e em teste, que servirá para avaliar as predições do modelo para dados ainda não vistos por ele."
   ]
  },
  {
   "cell_type": "code",
   "execution_count": 11,
   "metadata": {},
   "outputs": [
    {
     "name": "stdout",
     "output_type": "stream",
     "text": [
      "(3388, 283)\n",
      "(3388,)\n",
      "(3942, 283)\n",
      "(3942,)\n",
      "(4936, 283)\n",
      "(4936,)\n"
     ]
    }
   ],
   "source": [
    "data_train = df_data.loc[df_data[\"ano\"] == 2006]\n",
    "y_train = data_train.votos\n",
    "X_train = data_train.drop(\"votos\", 1)\n",
    "print(X_train.shape)\n",
    "print(y_train.shape)\n",
    "\n",
    "data_validation = df_data.loc[df_data[\"ano\"] == 2010]\n",
    "y_validation = data_validation.votos\n",
    "X_validation = data_validation.drop(\"votos\", 1)\n",
    "print(X_validation.shape)\n",
    "print(y_validation.shape)\n",
    "\n",
    "data_test = df_data.loc[df_data[\"ano\"] == 2014]\n",
    "y_test = data_test.votos\n",
    "X_test = data_test.drop(\"votos\", 1)\n",
    "print(X_test.shape)\n",
    "print(y_test.shape)"
   ]
  },
  {
   "cell_type": "markdown",
   "metadata": {
    "collapsed": true
   },
   "source": [
    "## Implementação dos Modelos de regressão"
   ]
  },
  {
   "cell_type": "markdown",
   "metadata": {},
   "source": [
    "### 1. Modelos de regressão sem regularização"
   ]
  },
  {
   "cell_type": "code",
   "execution_count": 12,
   "metadata": {
    "collapsed": true
   },
   "outputs": [],
   "source": [
    "# function to calculate the RMSE of the model with cross validation\n",
    "def rmse_cv(model):\n",
    "    rmse = np.sqrt(-cross_val_score(model, X_train, y_train, scoring = \"neg_mean_squared_error\", cv = 10))\n",
    "    return(rmse)"
   ]
  },
  {
   "cell_type": "code",
   "execution_count": 13,
   "metadata": {
    "collapsed": true
   },
   "outputs": [],
   "source": [
    "def print_coefficients(model):\n",
    "    w = list(model.coef_)\n",
    "    # Parameters must be in reverse order because the poly function \n",
    "    w.reverse()\n",
    "    print (np.poly1d(w) + model.intercept_) "
   ]
  },
  {
   "cell_type": "code",
   "execution_count": 14,
   "metadata": {
    "collapsed": true
   },
   "outputs": [],
   "source": [
    "def plot_rmse_param(series, param_name):\n",
    "    series.plot(title = \"Erro de validação vs \" + param_name)\n",
    "    plt.xlabel(param_name)\n",
    "    plt.ylabel(\"rmse\")"
   ]
  },
  {
   "cell_type": "code",
   "execution_count": 15,
   "metadata": {
    "collapsed": true
   },
   "outputs": [],
   "source": [
    "def best_rmse_param(series):\n",
    "    best_rmse = series.min()\n",
    "    best_param = series.idxmin() \n",
    "    \n",
    "    return(best_rmse, best_param)"
   ]
  },
  {
   "cell_type": "code",
   "execution_count": 16,
   "metadata": {
    "collapsed": true
   },
   "outputs": [],
   "source": [
    "def train_model(model, print_coef):\n",
    "    model.fit(X_train, y_train)\n",
    "    if (print_coef):\n",
    "        print_coefficients(model)\n",
    "        \n",
    "    print(\"Score: \", model.score(X_validation, y_validation)) #TODO change to X_test, y_test"
   ]
  },
  {
   "cell_type": "markdown",
   "metadata": {},
   "source": [
    "#### 1.1 Implementando o modelo de regressão Ridge"
   ]
  },
  {
   "cell_type": "code",
   "execution_count": 17,
   "metadata": {},
   "outputs": [
    {
     "name": "stdout",
     "output_type": "stream",
     "text": [
      "            282             281        280        279        278\n",
      "-1.066e+04 x   + 1.189e+04 x   + 2355 x   - 3747 x   - 3981 x  \n",
      "         277        276             275        274        272\n",
      " - 4067 x   - 2613 x   + 9.081e+04 x   - 3554 x   - 5719 x  \n",
      "              271         269         268        267        266\n",
      " - 1.477e+04 x   - 974.8 x   - 549.4 x   + 2765 x   - 1147 x  \n",
      "         265             263        262             261             256\n",
      " - 3675 x   + 2.237e+04 x   - 2646 x   - 1.787e+04 x   - 1.103e+04 x  \n",
      "              255            253        252        251        250\n",
      " + 2.314e+04 x   - 1.05e+04 x   - 4921 x   + 9007 x   + 5954 x  \n",
      "            249        248        247        246        245        244\n",
      " - 1.5e+04 x   + 2504 x   - 4840 x   - 5049 x   - 1668 x   - 1687 x  \n",
      "         243        241             239        237         236\n",
      " - 8002 x   + 1292 x   + 1.136e+04 x   - 2489 x   - 526.9 x  \n",
      "         235        232        231        230        229        228\n",
      " - 5016 x   - 7890 x   - 7485 x   - 2220 x   + 9513 x   - 5051 x  \n",
      "         227        226        225        224        223        222\n",
      " - 1577 x   - 2611 x   - 2823 x   - 1620 x   + 9001 x   - 8624 x  \n",
      "          220        219        218        217        216        215\n",
      " - 602.7 x   + 2940 x   + 4292 x   - 2504 x   + 1683 x   - 3247 x  \n",
      "         214        213        212        211        210         209\n",
      " - 5664 x   - 3988 x   + 1211 x   - 1115 x   - 7214 x   - 899.8 x  \n",
      "         208        207        206         205             202\n",
      " + 2147 x   - 8155 x   - 6144 x   - 194.6 x   + 2.066e+04 x  \n",
      "         201        200        199         198         194         192\n",
      " + 1503 x   - 1937 x   - 8176 x   - 552.1 x   + 194.9 x   - 785.5 x  \n",
      "         190        189        186         185        184        183\n",
      " - 3503 x   + 2944 x   + 5248 x   + 125.9 x   - 4232 x   - 2127 x  \n",
      "          181        180             178        177        176\n",
      " - 169.8 x   + 1543 x   - 1.771e+04 x   + 7116 x   - 3668 x  \n",
      "         174        172        170        168             166\n",
      " + 7793 x   - 3140 x   + 3511 x   + 3973 x   - 1.304e+04 x  \n",
      "         165        164        163         161        160         155\n",
      " + 7709 x   + 7081 x   + 1375 x   - 737.4 x   - 4906 x   + 885.7 x  \n",
      "         154         153        152        151         149        147\n",
      " + 6815 x   + 135.9 x   - 3356 x   - 1643 x   - 945.2 x   - 4196 x  \n",
      "          146        145            144             143        142\n",
      " + 447.9 x   - 5263 x   - 1.29e+04 x   - 1.773e+04 x   + 4771 x  \n",
      "         141             140         139             138        136\n",
      " - 5327 x   + 1.356e+04 x   - 124.8 x   + 2.694e+04 x   + 9844 x  \n",
      "         135        134        132        131        129        127\n",
      " - 3243 x   - 2675 x   - 4705 x   - 1119 x   - 7721 x   + 3926 x  \n",
      "              126        125        124        123        121\n",
      " + 1.714e+04 x   + 2917 x   - 1435 x   - 1811 x   - 6821 x  \n",
      "         120        119        118             116        115\n",
      " + 5182 x   + 4435 x   - 6174 x   + 1.081e+04 x   + 7385 x  \n",
      "         114        113        110        109        108        107\n",
      " - 3229 x   + 2429 x   - 9853 x   + 2710 x   + 1910 x   + 1570 x  \n",
      "          106        104         103        102       101         100\n",
      " + 643.8 x   - 3206 x   + 686.1 x   - 3587 x   - 411 x   + 382.9 x  \n",
      "         99        98         97        95        94        93\n",
      " - 2534 x  - 7033 x  + 732.2 x  - 4399 x  - 5556 x  + 5503 x \n",
      "         92        91        90         89        88        87      86\n",
      " - 1441 x  + 2677 x  - 1853 x  + 933.5 x  + 2248 x  - 1313 x  - 16 x \n",
      "          85         84        83        82         81        80\n",
      " - 147.2 x  - 670.9 x  + 1765 x  - 1838 x  + 279.9 x  + 1850 x \n",
      "         79         78         77        74        73        72\n",
      " - 1238 x  + 817.7 x  - 817.7 x  - 6402 x  - 1220 x  + 6039 x \n",
      "         71         70        69         68        67        66\n",
      " - 5585 x  + 49.94 x  - 4837 x  - 7.831 x  + 3113 x  - 3413 x \n",
      "         65        64        62         61        60        59\n",
      " - 3818 x  + 3008 x  - 2800 x  - 720.3 x  + 2949 x  - 3321 x \n",
      "         57        56        54        52        51        50        49\n",
      " + 4339 x  - 1287 x  - 5686 x  + 6878 x  + 2496 x  + 4941 x  - 3368 x \n",
      "         48        47         45         44        43        42\n",
      " + 1413 x  + 4232 x  - 528.6 x  + 362.2 x  + 1536 x  + 1046 x \n",
      "          41             39        38        37       36        35\n",
      " + 594.5 x  - 1.555e+04 x  + 2937 x  + 6732 x  - 529 x  + 1286 x \n",
      "              34        33             32       31        30        29\n",
      " - 1.025e+04 x  - 9319 x  + 1.938e+04 x  + 600 x  + 4226 x  + 4833 x \n",
      "         28        27             26             25             24\n",
      " + 8587 x  + 9657 x  + 1.126e+04 x  - 1.019e+04 x  - 1.028e+04 x \n",
      "        23        22        21        20             19             18\n",
      " + 456 x  + 6509 x  - 6612 x  - 4846 x  - 1.151e+04 x  + 1.523e+04 x \n",
      "              17            16        15        14             13\n",
      " + 1.259e+04 x  - 1.35e+04 x  + 4976 x  + 1836 x  - 1.851e+04 x \n",
      "              12             11             10         9         8\n",
      " + 4.725e+04 x  - 4.021e+04 x  + 5.062e+04 x  + 424.6 x - 976.8 x\n",
      "         7        6        5        4        3             2\n",
      " + 4114 x + 1513 x + 1077 x + 4616 x - 4649 x + 1.259e+04 x - 2842 x - 1.324e+05\n",
      "Score:  0.468268490452\n"
     ]
    }
   ],
   "source": [
    "model_ridge = Ridge()\n",
    "train_model(model_ridge, True)"
   ]
  },
  {
   "cell_type": "markdown",
   "metadata": {},
   "source": [
    "O hiperparâmetro do Rigde é o alpha - um parâmetro de regularização que mede quão flexível é o modelo. Quanto maior a regularização, menos propenso será o nosso modelo de overfitting. No entanto, também perderá a flexibilidade e poderá não capturar todo o padrão dos dados.\n",
    "\n",
    "Testaremos alguns valores para alpha e usaremos o melhor para treinar o modelo."
   ]
  },
  {
   "cell_type": "code",
   "execution_count": 18,
   "metadata": {
    "collapsed": true
   },
   "outputs": [],
   "source": [
    "alphas = [0.001, 0.1, 0.5, 1, 5, 10, 15, 20, 25]\n",
    "cv_ridge_rmse = [rmse_cv(Ridge(alpha = alpha)).mean() \n",
    "            for alpha in alphas]\n",
    "\n",
    "series_ridge = pd.Series(cv_ridge_rmse, index = alphas)\n",
    "plot_rmse_param(series_ridge, \"alpha\")"
   ]
  },
  {
   "cell_type": "markdown",
   "metadata": {},
   "source": [
    "Observe a curva em forma de U acima. Quando o alpha é muito grande, a regularização é muito forte e o modelo não consegue capturar todas as complexidades dos dados - o erro volta a aumentar. Se, no entanto, deixarmos o modelo ser muito flexível (alpha pequeno), o modelo tende ao overfitting. Um valor de alpha = 30 parece o melhor, com base no gráfico acima."
   ]
  },
  {
   "cell_type": "code",
   "execution_count": 19,
   "metadata": {},
   "outputs": [
    {
     "name": "stdout",
     "output_type": "stream",
     "text": [
      "31436.9030139 10.0\n"
     ]
    }
   ],
   "source": [
    "best_rmse_ridge, best_param_ridge = best_rmse_param(series_ridge)\n",
    "print(best_rmse_ridge, best_param_ridge)"
   ]
  },
  {
   "cell_type": "code",
   "execution_count": 20,
   "metadata": {},
   "outputs": [
    {
     "name": "stdout",
     "output_type": "stream",
     "text": [
      "       282        281        280        279        278        277\n",
      "-2033 x   + 5423 x   + 1460 x   - 3448 x   - 1485 x   - 1925 x  \n",
      "          276             275         274        272        271\n",
      " + 413.1 x   + 1.659e+04 x   - 721.4 x   - 1167 x   - 2196 x  \n",
      "          269         268        267         266        265        263\n",
      " - 91.41 x   + 277.5 x   + 1250 x   - 257.8 x   - 2204 x   + 9750 x  \n",
      "          262        261        256        255        253         252\n",
      " - 695.6 x   - 3186 x   - 2198 x   + 9014 x   - 2254 x   - 876.8 x  \n",
      "         251        250        249         248        247        246\n",
      " + 3515 x   + 1340 x   - 2493 x   + 252.7 x   - 2267 x   - 2982 x  \n",
      "         245        244        243         241        239         237\n",
      " - 1336 x   - 1253 x   - 6143 x   + 369.7 x   + 2335 x   - 562.8 x  \n",
      "          236        235        232        231         230        229\n",
      " - 323.6 x   - 3217 x   - 2027 x   - 3650 x   - 184.6 x   + 1553 x  \n",
      "         228         227        226        225         224        223\n",
      " - 2032 x   - 419.9 x   - 1755 x   - 1901 x   - 777.5 x   + 1683 x  \n",
      "         222         220        219        218         217         216\n",
      " - 6000 x   - 129.4 x   + 2769 x   + 3203 x   - 510.6 x   + 292.2 x  \n",
      "          215        214        213         212         211        210\n",
      " - 767.8 x   - 2616 x   - 2564 x   + 298.8 x   - 336.6 x   - 1419 x  \n",
      "          209         208        207        206         205        202\n",
      " - 136.5 x   + 269.4 x   - 1363 x   - 4408 x   + 50.87 x   + 7923 x  \n",
      "         201         200        199         198         194         192\n",
      " + 2014 x   - 787.7 x   - 3428 x   - 561.2 x   + 437.2 x   - 116.2 x  \n",
      "         190         189         186         185         184        183\n",
      " - 1698 x   + 765.1 x   + 867.1 x   + 56.68 x   - 794.5 x   - 1093 x  \n",
      "        181         180        178        177        176        174\n",
      " + 180 x   + 424.8 x   - 5206 x   + 1665 x   - 2010 x   + 1546 x  \n",
      "        172         170        168        166        165        164\n",
      " - 526 x   + 170.5 x   + 2330 x   - 6964 x   + 1944 x   + 1669 x  \n",
      "          163         161        160         155        154         153\n",
      " + 429.7 x   + 159.9 x   - 2903 x   + 687.6 x   + 7350 x   + 155.3 x  \n",
      "          152         151         149        147        146        145\n",
      " - 711.4 x   - 899.4 x   - 294.9 x   - 2599 x   + 1160 x   - 1861 x  \n",
      "         144        143        142         141        140         139\n",
      " - 5404 x   - 3931 x   + 1109 x   - 974.9 x   + 5571 x   + 764.7 x  \n",
      "              138        136        135        134        132\n",
      " + 2.715e+04 x   + 1567 x   - 2579 x   - 1588 x   - 1890 x  \n",
      "          131        129         127        126        125         124\n",
      " - 939.7 x   - 1261 x   + 874.4 x   + 3034 x   + 1742 x   - 989.2 x  \n",
      "         123        121        120         119        118        116\n",
      " - 1199 x   - 2615 x   + 1331 x   + 852.3 x   - 4344 x   + 2970 x  \n",
      "         115         114        113        110        109         108\n",
      " + 2919 x   - 763.2 x   + 1377 x   - 4688 x   + 1696 x   + 443.3 x  \n",
      "          107         106        104         103         102\n",
      " + 618.2 x   + 610.3 x   - 2906 x   + 88.08 x   - 810.6 x  \n",
      "          101         100        99        98        97         95\n",
      " - 20.52 x   + 263.8 x   - 1003 x  - 1345 x  + 36.2 x  - 690.3 x \n",
      "         94        93         92        91        90         89\n",
      " - 1796 x  + 1019 x  - 819.5 x  + 3241 x  - 1343 x  + 950.1 x \n",
      "         88        87       86         85         84         83\n",
      " + 1634 x  - 1371 x  + 130 x  - 17.62 x  - 961.8 x  + 671.6 x \n",
      "         82         81        80         79         78         77\n",
      " - 1547 x  + 368.5 x  + 2120 x  - 634.3 x  + 967.1 x  - 967.1 x \n",
      "         74       73        72        71         70        69\n",
      " - 6290 x  - 628 x  + 4315 x  - 5161 x  - 376.1 x  - 4739 x \n",
      "          68        67        66        65        64        62\n",
      " + 569.7 x  + 2661 x  - 1323 x  - 2955 x  + 2825 x  - 2650 x \n",
      "         61        60        59        57        56        54        52\n",
      " - 1278 x  + 1905 x  - 1064 x  + 3565 x  - 1125 x  - 5730 x  + 6669 x \n",
      "         51        50        49         48        47        45\n",
      " + 2050 x  + 4903 x  - 3326 x  + 673.7 x  + 4462 x  - 1049 x \n",
      "          44         43         42        41             39        38\n",
      " + 304.8 x  + 515.8 x  + 987.2 x  + 1289 x  - 1.275e+04 x  + 3034 x \n",
      "         37         36        35        34        33             32\n",
      " + 4786 x  - 590.3 x  + 1433 x  - 8997 x  - 8096 x  + 1.406e+04 x \n",
      "          31        30        29        28        27             26\n",
      " + 598.7 x  + 4229 x  + 3879 x  + 8094 x  + 8436 x  + 1.008e+04 x \n",
      "         25        24         23        22        21        20\n",
      " - 8451 x  - 9126 x  + 882.7 x  + 5505 x  - 5158 x  - 4535 x \n",
      "              19             18             17             16        15\n",
      " - 1.049e+04 x  + 1.338e+04 x  + 1.112e+04 x  - 1.209e+04 x  + 4453 x \n",
      "         14            13             12             11            10\n",
      " + 1090 x  - 1.48e+04 x  + 2.784e+04 x  - 2.135e+04 x  + 2.75e+04 x \n",
      "         9         8        7        6        5        4        3\n",
      " + 2461 x - 711.1 x + 4529 x + 1890 x + 1050 x + 5661 x - 5522 x\n",
      "              2\n",
      " + 1.167e+04 x - 1146 x - 1.311e+05\n",
      "Score:  0.466717041736\n"
     ]
    }
   ],
   "source": [
    "model_ridge = Ridge(alpha = best_param_ridge)\n",
    "train_model(model_ridge, True)"
   ]
  },
  {
   "cell_type": "markdown",
   "metadata": {},
   "source": [
    "#### 1.2 Implementando o modelo de regressão Lasso"
   ]
  },
  {
   "cell_type": "code",
   "execution_count": 21,
   "metadata": {},
   "outputs": [
    {
     "name": "stdout",
     "output_type": "stream",
     "text": [
      "            282             281        280        279        278\n",
      "-1.584e+04 x   + 1.495e+04 x   + 3830 x   - 1993 x   - 2554 x  \n",
      "         277        276             275        274        272\n",
      " - 2415 x   - 1497 x   + 1.809e+05 x   - 1807 x   - 5236 x  \n",
      "              271         268        267        265             263\n",
      " - 2.556e+04 x   + 159.3 x   + 4237 x   - 1834 x   + 2.748e+04 x  \n",
      "          262             261            256             255\n",
      " - 283.1 x   - 3.108e+04 x   - 1.37e+04 x   + 2.898e+04 x  \n",
      "              253        252           251        250            249\n",
      " - 1.522e+04 x   - 4867 x   + 1.2e+04 x   + 9563 x   - 2.58e+04 x  \n",
      "         248        247        246         244        243         241\n",
      " + 3621 x   - 3465 x   - 3599 x   - 30.66 x   - 6506 x   + 706.4 x  \n",
      "              239         237        236        235        232\n",
      " + 2.044e+04 x   - 613.1 x   + 1078 x   - 3410 x   - 8488 x  \n",
      "         231         230             229        228        226\n",
      " - 6362 x   - 727.8 x   + 1.776e+04 x   - 3271 x   - 1085 x  \n",
      "         225         224             223        222        219\n",
      " - 1276 x   - 49.51 x   + 1.622e+04 x   - 7120 x   + 4625 x  \n",
      "         218        216        215        214        213        212\n",
      " + 5964 x   + 3015 x   - 1258 x   - 4541 x   - 2366 x   + 1927 x  \n",
      "        211        210        208            207        206        205\n",
      " + 486 x   - 8795 x   + 2776 x   - 1.14e+04 x   - 4609 x   + 1087 x  \n",
      "              202        201        199         198        194\n",
      " + 2.612e+04 x   + 3077 x   - 7330 x   + 860.9 x   + 1744 x  \n",
      "         190        189        186        185        184         183\n",
      " - 1875 x   + 4205 x   + 9015 x   + 1810 x   - 3035 x   - 435.8 x  \n",
      "          181        180            178             177        176\n",
      " + 654.9 x   + 1248 x   - 2.11e+04 x   + 1.202e+04 x   - 2061 x  \n",
      "              174        172        170        168             166\n",
      " + 1.373e+04 x   - 1296 x   + 6437 x   + 5551 x   - 1.234e+04 x  \n",
      "             165             164        163        160        155\n",
      " + 1.27e+04 x   + 1.097e+04 x   + 2735 x   - 3340 x   + 1852 x  \n",
      "         154         153        152        147        146        145\n",
      " + 8354 x   + 661.1 x   - 1174 x   - 2738 x   + 1475 x   - 4019 x  \n",
      "             144             143        142        141             140\n",
      " - 1.29e+04 x   - 2.388e+04 x   + 7234 x   - 5021 x   + 1.724e+04 x  \n",
      "              138             136        135         134        132\n",
      " + 2.865e+04 x   + 1.877e+04 x   - 1337 x   - 988.8 x   - 3271 x  \n",
      "          131             129        127             126        125\n",
      " + 605.7 x   - 1.059e+04 x   + 6198 x   + 3.296e+04 x   + 4378 x  \n",
      "         121        120        119        118             116\n",
      " - 5983 x   + 7561 x   + 6892 x   - 4633 x   + 1.635e+04 x  \n",
      "         115        114        113        110        109        108\n",
      " + 9877 x   - 1738 x   + 3503 x   - 9146 x   + 2915 x   + 3011 x  \n",
      "         107        106        104        103        102        100\n",
      " + 3049 x   + 2046 x   - 1406 x   + 2059 x   - 1694 x   + 1711 x  \n",
      "          99        98        97        95        94        93\n",
      " - 983.2 x  - 8508 x  + 1655 x  - 3828 x  - 4410 x  + 9529 x \n",
      "          92        91        90         89        88        87\n",
      " + 119.5 x  + 4182 x  - 1911 x  + 992.6 x  + 2441 x  - 1125 x \n",
      "          84        83        82         81        80        79\n",
      " - 122.6 x  + 1949 x  - 1422 x  + 654.5 x  + 2128 x  - 1042 x \n",
      "              78        77        74        73        72        71\n",
      " + 4.107e-13 x  - 1571 x  - 6650 x  - 1494 x  + 6290 x  - 5807 x \n",
      "         69         68        67        66        65        64\n",
      " - 5069 x  - 179.3 x  + 2975 x  - 3898 x  - 4135 x  + 2820 x \n",
      "         62         61        60        59        57        56\n",
      " - 2980 x  - 773.1 x  + 2773 x  - 3965 x  + 4235 x  - 1062 x \n",
      "         54        52        51        50        49        48        47\n",
      " - 5834 x  + 6593 x  + 2314 x  + 4411 x  - 3569 x  + 1462 x  + 3892 x \n",
      "          45         43         42         41             39        38\n",
      " - 689.2 x  + 487.4 x  + 745.2 x  + 125.1 x  - 1.707e+04 x  + 1645 x \n",
      "         37        36             34             33             32\n",
      " + 5745 x  - 1692 x  - 1.186e+04 x  - 1.065e+04 x  + 1.919e+04 x \n",
      "          31        30        29        28        27             26\n",
      " - 875.4 x  + 2886 x  + 3703 x  + 7284 x  + 8456 x  + 1.014e+04 x \n",
      "              25             24         23        22        21\n",
      " - 1.155e+04 x  - 1.147e+04 x  - 918.1 x  + 5320 x  - 8065 x \n",
      "         20             19             18             17            16\n",
      " - 5982 x  - 1.284e+04 x  + 1.414e+04 x  + 1.155e+04 x  - 1.47e+04 x \n",
      "         15         14             13             12             11\n",
      " + 3909 x  + 648.3 x  - 2.023e+04 x  + 5.122e+04 x  - 4.403e+04 x \n",
      "              10         9        8        7        6        5        4\n",
      " + 5.559e+04 x  - 245.4 x - 1025 x + 4016 x + 1431 x + 1023 x + 4371 x\n",
      "         3            2\n",
      " - 4457 x + 1.23e+04 x - 2776 x - 1.32e+05\n",
      "Score:  0.467596194992\n"
     ]
    }
   ],
   "source": [
    "model_lasso = Lasso(max_iter = 10000)\n",
    "train_model(model_lasso, True)"
   ]
  },
  {
   "cell_type": "markdown",
   "metadata": {},
   "source": [
    "Vamos agora usar o Lasso CV para descobrir o melhor alpha para nós."
   ]
  },
  {
   "cell_type": "code",
   "execution_count": 22,
   "metadata": {
    "collapsed": true
   },
   "outputs": [],
   "source": [
    "alphas = [30, 35, 40, 45, 50]\n",
    "cv_lasso_rmse = [rmse_cv(Lasso(alpha = alpha, max_iter = 10000)).mean() \n",
    "            for alpha in alphas]\n",
    "\n",
    "series_lasso = pd.Series(cv_lasso_rmse, index = alphas)\n",
    "plot_rmse_param(series_lasso, \"alpha\")"
   ]
  },
  {
   "cell_type": "code",
   "execution_count": 23,
   "metadata": {},
   "outputs": [
    {
     "name": "stdout",
     "output_type": "stream",
     "text": [
      "31398.1552074 35\n"
     ]
    }
   ],
   "source": [
    "best_rmse_lasso, best_param_lasso = best_rmse_param(series_lasso)\n",
    "print(best_rmse_lasso, best_param_lasso)"
   ]
  },
  {
   "cell_type": "code",
   "execution_count": 24,
   "metadata": {},
   "outputs": [
    {
     "name": "stdout",
     "output_type": "stream",
     "text": [
      "       279            275        263        255         246        243\n",
      "-1576 x   + 6.61e+04 x   + 7563 x   + 4839 x   - 51.38 x   - 3334 x  \n",
      "         222        219         211        202        201        154\n",
      " - 1254 x   + 1964 x   + 265.6 x   + 1328 x   + 2645 x   + 7825 x  \n",
      "              138         118         92        91         89        88\n",
      " + 2.906e+04 x   - 791.6 x   + 72.61 x  + 3183 x  + 579.8 x  + 1052 x \n",
      "         87         84         81        80        77        74\n",
      " - 1246 x  - 464.9 x  + 520.7 x  + 1485 x  - 1789 x  - 5479 x \n",
      "         72        71        69        67        65        64        62\n",
      " + 3247 x  - 4553 x  - 4097 x  + 1839 x  - 1026 x  + 2621 x  - 1546 x \n",
      "          61        57        54        52        51        50\n",
      " - 284.9 x  + 2571 x  - 4856 x  + 6128 x  + 1352 x  + 4565 x \n",
      "         49        47         45             39        38        37\n",
      " - 2419 x  + 4583 x  - 183.3 x  - 1.404e+04 x  + 1587 x  + 1392 x \n",
      "          36        34        33             32        30        29\n",
      " - 679.1 x  - 8855 x  - 8373 x  + 1.355e+04 x  + 2099 x  + 1049 x \n",
      "         28        27        26        25        24         23\n",
      " + 6897 x  + 6788 x  + 9049 x  - 8829 x  - 9647 x  - 62.97 x \n",
      "         22        21        20             19             18\n",
      " + 3672 x  - 5197 x  - 4535 x  - 1.108e+04 x  + 1.273e+04 x \n",
      "              17             16        15             13             12\n",
      " + 1.009e+04 x  - 1.263e+04 x  + 2042 x  - 1.632e+04 x  + 4.089e+04 x \n",
      "              11            10         8        7        6         5\n",
      " - 3.407e+04 x  + 4.42e+04 x  - 913.8 x + 4237 x + 1643 x + 971.7 x\n",
      "         4        3        2\n",
      " + 4593 x - 4766 x + 9835 x - 1.294e+05\n",
      "Score:  0.472687511599\n"
     ]
    }
   ],
   "source": [
    "model_lasso = Lasso(alpha = best_param_lasso, max_iter = 10000)\n",
    "train_model(model_lasso, True)"
   ]
  },
  {
   "cell_type": "code",
   "execution_count": 25,
   "metadata": {},
   "outputs": [
    {
     "name": "stdout",
     "output_type": "stream",
     "text": [
      "Lasso escolheu 74 variáveis and eliminou as outras 209 variáveis.\n"
     ]
    }
   ],
   "source": [
    "coef = pd.Series(model_lasso.coef_, index = X_train.columns)\n",
    "print(\"Lasso escolheu \" + str(sum(coef != 0)) + \" variáveis and eliminou as outras \" +  str(sum(coef == 0)) + \" variáveis.\")"
   ]
  },
  {
   "cell_type": "markdown",
   "metadata": {},
   "source": [
    "### 2. Modelos de regressão não parámetrica"
   ]
  },
  {
   "cell_type": "markdown",
   "metadata": {},
   "source": [
    "#### 2.1 Implementando o modelo de regressão K-NN"
   ]
  },
  {
   "cell_type": "code",
   "execution_count": 26,
   "metadata": {},
   "outputs": [
    {
     "name": "stdout",
     "output_type": "stream",
     "text": [
      "Score:  0.00101471334348\n"
     ]
    }
   ],
   "source": [
    "model_knn = KNeighborsClassifier()\n",
    "train_model(model_knn, False)"
   ]
  },
  {
   "cell_type": "markdown",
   "metadata": {},
   "source": [
    "A quantidade de vizinhos (k) é o parâmetro mais importante do algoritmo K-NN e define a quantidade de valores vizinhos de cada valor de entrada que o algoritmo deve considerar para estimar a saída. Por isso, usaremos cross-validation para encontrar o melhor valor deste parâmetro."
   ]
  },
  {
   "cell_type": "code",
   "execution_count": 36,
   "metadata": {},
   "outputs": [],
   "source": [
    "n_neighbors = [3, 5, 10, 25, 50]\n",
    "cv_knn_rmse = [rmse_cv(KNeighborsClassifier(n_neighbors = n)).mean() \n",
    "            for n in n_neighbors]\n",
    "\n",
    "series_knn = pd.Series(cv_knn_rmse, index = n_neighbors)\n",
    "plot_rmse_param(series_knn, \"n_neighbors\")"
   ]
  },
  {
   "cell_type": "code",
   "execution_count": null,
   "metadata": {},
   "outputs": [],
   "source": [
    "best_rmse_knn, best_param_knn = best_rmse_param(series_knn)\n",
    "print(best_rmse_knn, best_param_knn)"
   ]
  },
  {
   "cell_type": "code",
   "execution_count": null,
   "metadata": {},
   "outputs": [],
   "source": [
    "model_knn = KNeighborsClassifier(n_neighbors = best_param_knn)\n",
    "train_model(model_knn, False)"
   ]
  },
  {
   "cell_type": "markdown",
   "metadata": {},
   "source": [
    "### 3. Outros modelos de regressão"
   ]
  },
  {
   "cell_type": "markdown",
   "metadata": {},
   "source": [
    "#### 3.1 Implementando o modelo SVR (Suport Vector Regression)"
   ]
  },
  {
   "cell_type": "code",
   "execution_count": 37,
   "metadata": {},
   "outputs": [
    {
     "name": "stdout",
     "output_type": "stream",
     "text": [
      "Score:  -0.134050656861\n"
     ]
    }
   ],
   "source": [
    "model_svr = SVR()\n",
    "train_model(model_svr, False)"
   ]
  },
  {
   "cell_type": "markdown",
   "metadata": {},
   "source": [
    "O C é um parâmetro de penalidade importante no SVR, porque se for muito grande poderemos ter overffiting ou underffiting, caso contrário. Por isso, tentaremos encontrar o seu melhor valor."
   ]
  },
  {
   "cell_type": "code",
   "execution_count": 38,
   "metadata": {
    "collapsed": true
   },
   "outputs": [],
   "source": [
    "cs = [1, 5, 10, 25, 50]\n",
    "cv_svr_rmse = [rmse_cv(SVR(C = c)).mean() \n",
    "            for c in cs]\n",
    "\n",
    "series_svr = pd.Series(cv_svr_rmse, index = cs)\n",
    "plot_rmse_param(series_svr, \"C\")"
   ]
  },
  {
   "cell_type": "code",
   "execution_count": 39,
   "metadata": {},
   "outputs": [
    {
     "name": "stdout",
     "output_type": "stream",
     "text": [
      "43181.3598384 50\n"
     ]
    }
   ],
   "source": [
    "best_rmse_svr, best_param_svr = best_rmse_param(series_svr)\n",
    "print(best_rmse_svr, best_param_svr)"
   ]
  },
  {
   "cell_type": "code",
   "execution_count": 40,
   "metadata": {},
   "outputs": [
    {
     "name": "stdout",
     "output_type": "stream",
     "text": [
      "Score:  0.0734340899824\n"
     ]
    }
   ],
   "source": [
    "model_svr = SVR(C = best_param_svr)\n",
    "train_model(model_svr, False)"
   ]
  },
  {
   "cell_type": "markdown",
   "metadata": {},
   "source": [
    "#### 3.2 Implementando o modelo de regressão Random Forest"
   ]
  },
  {
   "cell_type": "code",
   "execution_count": 41,
   "metadata": {},
   "outputs": [
    {
     "name": "stdout",
     "output_type": "stream",
     "text": [
      "Score:  0.00025367833587\n"
     ]
    }
   ],
   "source": [
    "model_rf = RandomForestClassifier()\n",
    "train_model(model_rf, False)"
   ]
  },
  {
   "cell_type": "markdown",
   "metadata": {},
   "source": [
    "Um dos parâmetros mais importantes do Random Forest é a quantidade de estimadores, que representam a quantidade de árvores usadas no modelo. Em geral, quanto maior melhor o desempenho do modelo, porém mais memória é necessário.\n",
    "\n",
    "Abaixo, encontramos o melhor valor dado um intervalo de 1 à 20."
   ]
  },
  {
   "cell_type": "code",
   "execution_count": 43,
   "metadata": {},
   "outputs": [],
   "source": [
    "n_estimators = [1, 5, 10, 15, 20]\n",
    "cv_rf_rmse = [rmse_cv(RandomForestClassifier(n_estimators = n)).mean() \n",
    "            for n in n_estimators]\n",
    "\n",
    "series = pd.Series(cv_rf_rmse, index = n_estimators)\n",
    "plot_rmse_param(series, \"n_estimators\")"
   ]
  },
  {
   "cell_type": "code",
   "execution_count": null,
   "metadata": {},
   "outputs": [],
   "source": [
    "best_rmse_rf, best_param_rf = best_rmse_param(series)\n",
    "print(best_rmse_rf, best_param_rf)"
   ]
  },
  {
   "cell_type": "code",
   "execution_count": null,
   "metadata": {},
   "outputs": [],
   "source": [
    "model_rf = RandomForestClassifier(n_estimators = best_param_rf)\n",
    "train_model(model_rf, False)"
   ]
  },
  {
   "cell_type": "markdown",
   "metadata": {},
   "source": [
    "## Análise da predição dos modelos"
   ]
  },
  {
   "cell_type": "code",
   "execution_count": 44,
   "metadata": {
    "collapsed": true
   },
   "outputs": [],
   "source": [
    "# function to plot the residual vs predictions values of the model\n",
    "def plot_res_vs_pred(model):\n",
    "    y_pred = model.predict(X_validation)\n",
    "    res = y_validation - y_pred\n",
    "    #y_pred = model.predict(X_test)\n",
    "    #res = Y_test - y_pred\n",
    "    plt.plot(y_pred, res, 'k.', color='blue')\n",
    "    plt.axhline(y=0., color='r', linestyle='-')\n",
    "    plt.xlabel(\"predictions\")\n",
    "    plt.ylabel(\"residuals\")"
   ]
  },
  {
   "cell_type": "markdown",
   "metadata": {},
   "source": [
    "### Ridge"
   ]
  },
  {
   "cell_type": "code",
   "execution_count": 45,
   "metadata": {
    "collapsed": true
   },
   "outputs": [],
   "source": [
    "plot_res_vs_pred(model_ridge)"
   ]
  },
  {
   "cell_type": "code",
   "execution_count": null,
   "metadata": {
    "collapsed": true
   },
   "outputs": [],
   "source": []
  },
  {
   "cell_type": "markdown",
   "metadata": {},
   "source": [
    "### Lasso"
   ]
  },
  {
   "cell_type": "code",
   "execution_count": 46,
   "metadata": {
    "collapsed": true
   },
   "outputs": [],
   "source": [
    "plot_res_vs_pred(model_lasso)"
   ]
  },
  {
   "cell_type": "code",
   "execution_count": null,
   "metadata": {
    "collapsed": true
   },
   "outputs": [],
   "source": []
  },
  {
   "cell_type": "markdown",
   "metadata": {},
   "source": [
    "### K-NN"
   ]
  },
  {
   "cell_type": "code",
   "execution_count": null,
   "metadata": {
    "collapsed": true
   },
   "outputs": [],
   "source": [
    "plot_res_vs_pred(model_knn)"
   ]
  },
  {
   "cell_type": "code",
   "execution_count": null,
   "metadata": {
    "collapsed": true
   },
   "outputs": [],
   "source": []
  },
  {
   "cell_type": "markdown",
   "metadata": {},
   "source": [
    "### SVR"
   ]
  },
  {
   "cell_type": "code",
   "execution_count": 47,
   "metadata": {
    "collapsed": true
   },
   "outputs": [],
   "source": [
    "plot_res_vs_pred(model_svr)"
   ]
  },
  {
   "cell_type": "code",
   "execution_count": null,
   "metadata": {
    "collapsed": true
   },
   "outputs": [],
   "source": []
  },
  {
   "cell_type": "markdown",
   "metadata": {},
   "source": [
    "### Random Forest"
   ]
  },
  {
   "cell_type": "code",
   "execution_count": null,
   "metadata": {
    "collapsed": true
   },
   "outputs": [],
   "source": [
    "plot_res_vs_pred(model_rf)"
   ]
  },
  {
   "cell_type": "code",
   "execution_count": null,
   "metadata": {
    "collapsed": true
   },
   "outputs": [],
   "source": []
  },
  {
   "cell_type": "markdown",
   "metadata": {},
   "source": [
    "## Conclusões"
   ]
  },
  {
   "cell_type": "markdown",
   "metadata": {},
   "source": []
  }
 ],
 "metadata": {
  "kernelspec": {
   "display_name": "Python [default]",
   "language": "python",
   "name": "python3"
  }
 },
 "nbformat": 4,
 "nbformat_minor": 2
}
