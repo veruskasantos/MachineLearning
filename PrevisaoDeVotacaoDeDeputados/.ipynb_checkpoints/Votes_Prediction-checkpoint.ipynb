{
 "cells": [
  {
   "cell_type": "markdown",
   "metadata": {},
   "source": [
    "Nesta atividade construiremos modelos preditivos de regressão em scikit learn para a predição dos votos de deputados federais considerando as últimas eleições. As atividades esperadas para essa etapa são descritas a seguir:\n",
    "\n",
    "1. Baixe os dados aqui.\n",
    "\n",
    "Vamos explorar dados sobre as votações que candidatos à Câmara Federal de Deputados receberam nos anos de 2006 e 2010. Esses dados foram extraídos do TSE (Links para um site externo)Links para um site externo, pré-processados e contemplam informações sobre aproximadamente 7.300 candidatos.\n",
    "\n",
    "2. Considere o pipeline mostrado nesse [link](https://www.kaggle.com/apapiu/regularized-linear-models) para um site externo para construir seus modelos de regressão. Isso implica, dentre outras coisas:\n",
    "\n",
    "    1. Analisar as distribuições das variáveis para ver se estão enviesadas e precisam de correção; tratamento de valores ausentes, variáveis categóricas e normalização, quando for o caso.\n",
    "    2. Construir modelos de regressão com (ridge e lasso) e sem regularização.\n",
    "    3. Considerar também modelos de regressão não paramétrica como K-NN.\n",
    "    4. Considerar outros modelos ainda não vistos em sala de sua escolha (e.g. SVR, Regression Trees e Random Florests).\n",
    "    5. Tunar os hiperâmetros para cada caso e retornar os rmses de validação cruzada para todos os modelos avaliados.\n",
    "    6. Plotar os resíduos versus predições e analisar se esses plots representam bons indícios da adequabilidade dos modelos a esse problema.\n",
    "    \n",
    "3. Alguns dias antes da entrega final serão liberados os dados de teste referentes à 2014 para validação final dos seus melhores modelos.\n",
    "    1. Dica: Uma coisa que você pode fazer é usar os dados de 2006 como treino e os de 2010 como validação. Uma vez encontrados os melhores modelos para 2010 junte 2006+2010, retreine, e aplique o modelo aos dados de 2014 que serão liberados.\n",
    "    \n",
    "4. Responder:\n",
    "    1. Dentre os modelos avaliados, qual foi o que deu o melhor resultado nos dados de 2014 em termos de RMSE? Justifique bem sua resposta.\n",
    "\n",
    "A entrega deve ser um notebook Jupyter com código python e texto explicativo quando necessário. Crie um repositório na sua conta do github e envie o link do html do notebook.\n"
   ]
  },
  {
   "cell_type": "code",
   "execution_count": 110,
   "metadata": {},
   "outputs": [],
   "source": [
    "import pandas as pd\n",
    "import numpy as np\n",
    "import seaborn as sns\n",
    "import matplotlib\n",
    "\n",
    "import matplotlib.pyplot as plt\n",
    "from scipy.stats import skew\n",
    "\n",
    "from sklearn.linear_model import Ridge, Lasso, LinearRegression\n",
    "from sklearn.model_selection import cross_val_score, train_test_split\n",
    "from sklearn.neighbors import KNeighborsRegressor\n",
    "from sklearn.svm import SVR\n",
    "from sklearn.ensemble import RandomForestRegressor\n",
    "from sklearn.metrics import mean_squared_error"
   ]
  },
  {
   "cell_type": "markdown",
   "metadata": {},
   "source": [
    "## Análise dos dados "
   ]
  },
  {
   "cell_type": "markdown",
   "metadata": {},
   "source": [
    "### Leitura dos dados"
   ]
  },
  {
   "cell_type": "code",
   "execution_count": 111,
   "metadata": {},
   "outputs": [],
   "source": [
    "train_data = pd.read_csv(\"dados/eleicoes_2006_a_2010.csv\")\n",
    "test_data = pd.read_csv(\"dados/eleicoes_2014.csv\")\n",
    "\n",
    "# load the dataset as a pandas data frame\n",
    "df_train_data = pd.DataFrame(train_data)\n",
    "df_test_data = pd.DataFrame(test_data)\n",
    "\n",
    "frames = [df_train_data, df_test_data]\n",
    "df_data = pd.concat(frames)"
   ]
  },
  {
   "cell_type": "code",
   "execution_count": 112,
   "metadata": {},
   "outputs": [
    {
     "data": {
      "text/html": [
       "<div>\n",
       "<style scoped>\n",
       "    .dataframe tbody tr th:only-of-type {\n",
       "        vertical-align: middle;\n",
       "    }\n",
       "\n",
       "    .dataframe tbody tr th {\n",
       "        vertical-align: top;\n",
       "    }\n",
       "\n",
       "    .dataframe thead th {\n",
       "        text-align: right;\n",
       "    }\n",
       "</style>\n",
       "<table border=\"1\" class=\"dataframe\">\n",
       "  <thead>\n",
       "    <tr style=\"text-align: right;\">\n",
       "      <th></th>\n",
       "      <th>ano</th>\n",
       "      <th>sequencial_candidato</th>\n",
       "      <th>nome</th>\n",
       "      <th>uf</th>\n",
       "      <th>partido</th>\n",
       "      <th>quantidade_doacoes</th>\n",
       "      <th>quantidade_doadores</th>\n",
       "      <th>total_receita</th>\n",
       "      <th>media_receita</th>\n",
       "      <th>recursos_de_outros_candidatos/comites</th>\n",
       "      <th>...</th>\n",
       "      <th>quantidade_despesas</th>\n",
       "      <th>quantidade_fornecedores</th>\n",
       "      <th>total_despesa</th>\n",
       "      <th>media_despesa</th>\n",
       "      <th>cargo</th>\n",
       "      <th>sexo</th>\n",
       "      <th>grau</th>\n",
       "      <th>estado_civil</th>\n",
       "      <th>ocupacao</th>\n",
       "      <th>votos</th>\n",
       "    </tr>\n",
       "  </thead>\n",
       "  <tbody>\n",
       "    <tr>\n",
       "      <th>0</th>\n",
       "      <td>2006</td>\n",
       "      <td>10001</td>\n",
       "      <td>JOSÉ LUIZ NOGUEIRA DE SOUSA</td>\n",
       "      <td>AP</td>\n",
       "      <td>PT</td>\n",
       "      <td>6</td>\n",
       "      <td>6</td>\n",
       "      <td>16600.00</td>\n",
       "      <td>2766.666667</td>\n",
       "      <td>NaN</td>\n",
       "      <td>...</td>\n",
       "      <td>14</td>\n",
       "      <td>14</td>\n",
       "      <td>16583.60</td>\n",
       "      <td>1184.542857</td>\n",
       "      <td>DEPUTADO FEDERAL</td>\n",
       "      <td>MASCULINO</td>\n",
       "      <td>ENSINO MÉDIO COMPLETO</td>\n",
       "      <td>CASADO(A)</td>\n",
       "      <td>VEREADOR</td>\n",
       "      <td>8579</td>\n",
       "    </tr>\n",
       "    <tr>\n",
       "      <th>1</th>\n",
       "      <td>2006</td>\n",
       "      <td>10002</td>\n",
       "      <td>LOIVA DE OLIVEIRA</td>\n",
       "      <td>RO</td>\n",
       "      <td>PT</td>\n",
       "      <td>13</td>\n",
       "      <td>13</td>\n",
       "      <td>22826.00</td>\n",
       "      <td>1755.846154</td>\n",
       "      <td>6625.0</td>\n",
       "      <td>...</td>\n",
       "      <td>24</td>\n",
       "      <td>23</td>\n",
       "      <td>20325.99</td>\n",
       "      <td>883.738696</td>\n",
       "      <td>DEPUTADO FEDERAL</td>\n",
       "      <td>FEMININO</td>\n",
       "      <td>SUPERIOR COMPLETO</td>\n",
       "      <td>SOLTEIRO(A)</td>\n",
       "      <td>SERVIDOR PÚBLICO ESTADUAL</td>\n",
       "      <td>2757</td>\n",
       "    </tr>\n",
       "    <tr>\n",
       "      <th>2</th>\n",
       "      <td>2006</td>\n",
       "      <td>10002</td>\n",
       "      <td>MARIA DALVA DE SOUZA FIGUEIREDO</td>\n",
       "      <td>AP</td>\n",
       "      <td>PT</td>\n",
       "      <td>17</td>\n",
       "      <td>16</td>\n",
       "      <td>148120.80</td>\n",
       "      <td>9257.550000</td>\n",
       "      <td>2250.0</td>\n",
       "      <td>...</td>\n",
       "      <td>123</td>\n",
       "      <td>108</td>\n",
       "      <td>146011.70</td>\n",
       "      <td>1351.960185</td>\n",
       "      <td>DEPUTADO FEDERAL</td>\n",
       "      <td>FEMININO</td>\n",
       "      <td>SUPERIOR COMPLETO</td>\n",
       "      <td>VIÚVO(A)</td>\n",
       "      <td>PEDAGOGO</td>\n",
       "      <td>17428</td>\n",
       "    </tr>\n",
       "    <tr>\n",
       "      <th>3</th>\n",
       "      <td>2006</td>\n",
       "      <td>10002</td>\n",
       "      <td>ROMALDO MILANI</td>\n",
       "      <td>MS</td>\n",
       "      <td>PRONA</td>\n",
       "      <td>6</td>\n",
       "      <td>6</td>\n",
       "      <td>3001.12</td>\n",
       "      <td>500.186667</td>\n",
       "      <td>NaN</td>\n",
       "      <td>...</td>\n",
       "      <td>8</td>\n",
       "      <td>8</td>\n",
       "      <td>3001.12</td>\n",
       "      <td>375.140000</td>\n",
       "      <td>DEPUTADO FEDERAL</td>\n",
       "      <td>MASCULINO</td>\n",
       "      <td>ENSINO MÉDIO INCOMPLETO</td>\n",
       "      <td>CASADO(A)</td>\n",
       "      <td>MILITAR REFORMADO</td>\n",
       "      <td>1193</td>\n",
       "    </tr>\n",
       "    <tr>\n",
       "      <th>4</th>\n",
       "      <td>2006</td>\n",
       "      <td>10003</td>\n",
       "      <td>ANSELMO DE JESUS ABREU</td>\n",
       "      <td>RO</td>\n",
       "      <td>PT</td>\n",
       "      <td>48</td>\n",
       "      <td>48</td>\n",
       "      <td>NaN</td>\n",
       "      <td>NaN</td>\n",
       "      <td>NaN</td>\n",
       "      <td>...</td>\n",
       "      <td>133</td>\n",
       "      <td>120</td>\n",
       "      <td>116416.64</td>\n",
       "      <td>970.138667</td>\n",
       "      <td>DEPUTADO FEDERAL</td>\n",
       "      <td>MASCULINO</td>\n",
       "      <td>ENSINO FUNDAMENTAL COMPLETO</td>\n",
       "      <td>CASADO(A)</td>\n",
       "      <td>DEPUTADO</td>\n",
       "      <td>29401</td>\n",
       "    </tr>\n",
       "  </tbody>\n",
       "</table>\n",
       "<p>5 rows × 23 columns</p>\n",
       "</div>"
      ],
      "text/plain": [
       "    ano  sequencial_candidato                             nome  uf partido  \\\n",
       "0  2006                 10001      JOSÉ LUIZ NOGUEIRA DE SOUSA  AP      PT   \n",
       "1  2006                 10002                LOIVA DE OLIVEIRA  RO      PT   \n",
       "2  2006                 10002  MARIA DALVA DE SOUZA FIGUEIREDO  AP      PT   \n",
       "3  2006                 10002                   ROMALDO MILANI  MS   PRONA   \n",
       "4  2006                 10003           ANSELMO DE JESUS ABREU  RO      PT   \n",
       "\n",
       "   quantidade_doacoes  quantidade_doadores  total_receita  media_receita  \\\n",
       "0                   6                    6       16600.00    2766.666667   \n",
       "1                  13                   13       22826.00    1755.846154   \n",
       "2                  17                   16      148120.80    9257.550000   \n",
       "3                   6                    6        3001.12     500.186667   \n",
       "4                  48                   48            NaN            NaN   \n",
       "\n",
       "   recursos_de_outros_candidatos/comites  ...    quantidade_despesas  \\\n",
       "0                                    NaN  ...                     14   \n",
       "1                                 6625.0  ...                     24   \n",
       "2                                 2250.0  ...                    123   \n",
       "3                                    NaN  ...                      8   \n",
       "4                                    NaN  ...                    133   \n",
       "\n",
       "   quantidade_fornecedores  total_despesa  media_despesa             cargo  \\\n",
       "0                       14       16583.60    1184.542857  DEPUTADO FEDERAL   \n",
       "1                       23       20325.99     883.738696  DEPUTADO FEDERAL   \n",
       "2                      108      146011.70    1351.960185  DEPUTADO FEDERAL   \n",
       "3                        8        3001.12     375.140000  DEPUTADO FEDERAL   \n",
       "4                      120      116416.64     970.138667  DEPUTADO FEDERAL   \n",
       "\n",
       "        sexo                         grau estado_civil  \\\n",
       "0  MASCULINO        ENSINO MÉDIO COMPLETO    CASADO(A)   \n",
       "1   FEMININO            SUPERIOR COMPLETO  SOLTEIRO(A)   \n",
       "2   FEMININO            SUPERIOR COMPLETO     VIÚVO(A)   \n",
       "3  MASCULINO      ENSINO MÉDIO INCOMPLETO    CASADO(A)   \n",
       "4  MASCULINO  ENSINO FUNDAMENTAL COMPLETO    CASADO(A)   \n",
       "\n",
       "                    ocupacao  votos  \n",
       "0                   VEREADOR   8579  \n",
       "1  SERVIDOR PÚBLICO ESTADUAL   2757  \n",
       "2                   PEDAGOGO  17428  \n",
       "3          MILITAR REFORMADO   1193  \n",
       "4                   DEPUTADO  29401  \n",
       "\n",
       "[5 rows x 23 columns]"
      ]
     },
     "execution_count": 112,
     "metadata": {},
     "output_type": "execute_result"
    }
   ],
   "source": [
    "df_data.head()"
   ]
  },
  {
   "cell_type": "markdown",
   "metadata": {},
   "source": [
    "### Pré-processamento dos dados"
   ]
  },
  {
   "cell_type": "markdown",
   "metadata": {},
   "source": [
    "- Transformação das features numéricas enviesadas usando log(feature + 1), a fim de normalizar a distribuição dos valores;\n",
    "- Tratamento das features numéricas com valores ausentes (NaN's);\n",
    "- Transformação das variáveis categóricas."
   ]
  },
  {
   "cell_type": "markdown",
   "metadata": {},
   "source": [
    "#### Enviesamento de features numéricas"
   ]
  },
  {
   "cell_type": "markdown",
   "metadata": {},
   "source": [
    "Através dos histogramas abaixo vemos que as variáveis analisadas precisam de normalização, porque a distribuição dos seus valores não está igual."
   ]
  },
  {
   "cell_type": "code",
   "execution_count": 113,
   "metadata": {},
   "outputs": [],
   "source": [
    "# function to plot a histogram of each variable\n",
    "def plot_histogram(feature):\n",
    "    # log (feature + 1) because of features with values 0\n",
    "    feature = pd.DataFrame({\"1. \" + feature: df_data[feature], \"2. log(\" + feature + \")\": np.log1p(df_data[feature])})\n",
    "    feature.hist() # TODO check how to increase the number of bins\n",
    "\n",
    "# function to transform skewed variables using log(feature + 1)\n",
    "def transform_skewed_var(feature):\n",
    "    df_data[feature] = np.log1p(df_data[feature])"
   ]
  },
  {
   "cell_type": "code",
   "execution_count": 114,
   "metadata": {},
   "outputs": [
    {
     "name": "stderr",
     "output_type": "stream",
     "text": [
      "/home/veruska/anaconda2/lib/python2.7/site-packages/ipykernel_launcher.py:4: RuntimeWarning: invalid value encountered in log1p\n",
      "  after removing the cwd from sys.path.\n",
      "/home/veruska/anaconda2/lib/python2.7/site-packages/ipykernel_launcher.py:9: RuntimeWarning: invalid value encountered in log1p\n",
      "  if __name__ == '__main__':\n"
     ]
    },
    {
     "data": {
      "image/png": "[encoded data removed]",
      "text/plain": [
       "<Figure size 432x288 with 2 Axes>"
      ]
     },
     "metadata": {},
     "output_type": "display_data"
    },
    {
     "data": {
      "image/png": "[encoded data removed]",
      "text/plain": [
       "<Figure size 432x288 with 2 Axes>"
      ]
     },
     "metadata": {},
     "output_type": "display_data"
    },
    {
     "data": {
      "image/png": "[encoded data removed]",
      "text/plain": [
       "<Figure size 432x288 with 2 Axes>"
      ]
     },
     "metadata": {},
     "output_type": "display_data"
    },
    {
     "data": {
      "image/png": "[encoded data removed]",
      "text/plain": [
       "<Figure size 432x288 with 2 Axes>"
      ]
     },
     "metadata": {},
     "output_type": "display_data"
    },
    {
     "data": {
      "image/png": "[encoded data removed]",
      "text/plain": [
       "<Figure size 432x288 with 2 Axes>"
      ]
     },
     "metadata": {},
     "output_type": "display_data"
    },
    {
     "data": {
      "image/png": "[encoded data removed]",
      "text/plain": [
       "<Figure size 432x288 with 2 Axes>"
      ]
     },
     "metadata": {},
     "output_type": "display_data"
    },
    {
     "data": {
      "image/png": "[encoded data removed]",
      "text/plain": [
       "<Figure size 432x288 with 2 Axes>"
      ]
     },
     "metadata": {},
     "output_type": "display_data"
    },
    {
     "data": {
      "image/png": "[encoded data removed]",
      "text/plain": [
       "<Figure size 432x288 with 2 Axes>"
      ]
     },
     "metadata": {},
     "output_type": "display_data"
    },
    {
     "data": {
      "image/png": "[encoded data removed]",
      "text/plain": [
       "<Figure size 432x288 with 2 Axes>"
      ]
     },
     "metadata": {},
     "output_type": "display_data"
    },
    {
     "data": {
      "image/png": "[encoded data removed]",
      "text/plain": [
       "<Figure size 432x288 with 2 Axes>"
      ]
     },
     "metadata": {},
     "output_type": "display_data"
    },
    {
     "data": {
      "image/png": "[encoded data removed]",
      "text/plain": [
       "<Figure size 432x288 with 2 Axes>"
      ]
     },
     "metadata": {},
     "output_type": "display_data"
    },
    {
     "data": {
      "image/png": "[encoded data removed]",
      "text/plain": [
       "<Figure size 432x288 with 2 Axes>"
      ]
     },
     "metadata": {},
     "output_type": "display_data"
    },
    {
     "data": {
      "image/png": "[encoded data removed]",
      "text/plain": [
       "<Figure size 432x288 with 2 Axes>"
      ]
     },
     "metadata": {},
     "output_type": "display_data"
    }
   ],
   "source": [
    "columns = \"quantidade_doacoes quantidade_doadores total_receita media_receita recursos_de_outros_candidatos/comites recursos_de_pessoas_fisicas recursos_de_pessoas_juridicas recursos_proprios quantidade_despesas quantidade_fornecedores total_despesa media_despesa votos\".split()\n",
    "\n",
    "for feature in columns:\n",
    "    plot_histogram(feature)\n",
    "    transform_skewed_var(feature)    "
   ]
  },
  {
   "cell_type": "markdown",
   "metadata": {},
   "source": [
    "#### Features com valores numéricos ausentes (NaN) "
   ]
  },
  {
   "cell_type": "markdown",
   "metadata": {},
   "source": [
    "Abaixo veremos quais as variáveis com valores ausentes (NaN)."
   ]
  },
  {
   "cell_type": "code",
   "execution_count": 115,
   "metadata": {},
   "outputs": [
    {
     "data": {
      "text/plain": [
       "ano                                      False\n",
       "sequencial_candidato                     False\n",
       "nome                                     False\n",
       "uf                                       False\n",
       "partido                                  False\n",
       "quantidade_doacoes                       False\n",
       "quantidade_doadores                      False\n",
       "total_receita                             True\n",
       "media_receita                             True\n",
       "recursos_de_outros_candidatos/comites     True\n",
       "recursos_de_pessoas_fisicas               True\n",
       "recursos_de_pessoas_juridicas             True\n",
       "recursos_proprios                         True\n",
       "quantidade_despesas                      False\n",
       "quantidade_fornecedores                  False\n",
       "total_despesa                            False\n",
       "media_despesa                            False\n",
       "cargo                                    False\n",
       "sexo                                     False\n",
       "grau                                     False\n",
       "estado_civil                             False\n",
       "ocupacao                                 False\n",
       "votos                                    False\n",
       "dtype: bool"
      ]
     },
     "execution_count": 115,
     "metadata": {},
     "output_type": "execute_result"
    }
   ],
   "source": [
    "df_data.isnull().any()"
   ]
  },
  {
   "cell_type": "code",
   "execution_count": 116,
   "metadata": {},
   "outputs": [
    {
     "name": "stdout",
     "output_type": "stream",
     "text": [
      "<class 'pandas.core.frame.DataFrame'>\n",
      "Int64Index: 12266 entries, 0 to 4935\n",
      "Data columns (total 23 columns):\n",
      "ano                                      12266 non-null int64\n",
      "sequencial_candidato                     12266 non-null int64\n",
      "nome                                     12266 non-null object\n",
      "uf                                       12266 non-null object\n",
      "partido                                  12266 non-null object\n",
      "quantidade_doacoes                       12266 non-null float64\n",
      "quantidade_doadores                      12266 non-null float64\n",
      "total_receita                            12105 non-null float64\n",
      "media_receita                            12105 non-null float64\n",
      "recursos_de_outros_candidatos/comites    8131 non-null float64\n",
      "recursos_de_pessoas_fisicas              8374 non-null float64\n",
      "recursos_de_pessoas_juridicas            5068 non-null float64\n",
      "recursos_proprios                        7802 non-null float64\n",
      "quantidade_despesas                      12266 non-null float64\n",
      "quantidade_fornecedores                  12266 non-null float64\n",
      "total_despesa                            12266 non-null float64\n",
      "media_despesa                            12266 non-null float64\n",
      "cargo                                    12266 non-null object\n",
      "sexo                                     12266 non-null object\n",
      "grau                                     12266 non-null object\n",
      "estado_civil                             12266 non-null object\n",
      "ocupacao                                 12266 non-null object\n",
      "votos                                    12266 non-null float64\n",
      "dtypes: float64(13), int64(2), object(8)\n",
      "memory usage: 2.2+ MB\n"
     ]
    }
   ],
   "source": [
    "df_data.info()"
   ]
  },
  {
   "cell_type": "markdown",
   "metadata": {},
   "source": [
    "Há 6 variáveis com valores ausentes. Os dados serão agrupados por anos e os valores ausentes dessas variáveis serão substituídos pela mediana dos valores da respectiva variável.\n",
    "\n",
    "Optou por excluir as variáveis **nome** e **sequencial_candidato**, porque elas não influenciam na quantidade de votos e possui muitos valores categóricos, o que prejudicaria os modelos de previsão."
   ]
  },
  {
   "cell_type": "code",
   "execution_count": 117,
   "metadata": {},
   "outputs": [
    {
     "name": "stdout",
     "output_type": "stream",
     "text": [
      "(12266, 23)\n",
      "(12266, 21)\n"
     ]
    },
    {
     "data": {
      "text/plain": [
       "ano                                      False\n",
       "uf                                       False\n",
       "partido                                  False\n",
       "quantidade_doacoes                       False\n",
       "quantidade_doadores                      False\n",
       "total_receita                            False\n",
       "media_receita                            False\n",
       "recursos_de_outros_candidatos/comites    False\n",
       "recursos_de_pessoas_fisicas              False\n",
       "recursos_de_pessoas_juridicas            False\n",
       "recursos_proprios                        False\n",
       "quantidade_despesas                      False\n",
       "quantidade_fornecedores                  False\n",
       "total_despesa                            False\n",
       "media_despesa                            False\n",
       "cargo                                    False\n",
       "sexo                                     False\n",
       "grau                                     False\n",
       "estado_civil                             False\n",
       "ocupacao                                 False\n",
       "votos                                    False\n",
       "dtype: bool"
      ]
     },
     "execution_count": 117,
     "metadata": {},
     "output_type": "execute_result"
    }
   ],
   "source": [
    "print(df_data.shape)\n",
    "\n",
    "#removing collumns\n",
    "df_data = df_data.drop([\"nome\", \"sequencial_candidato\"], 1)\n",
    "\n",
    "numeric_feats = df_data.dtypes[df_data.dtypes != \"object\"].index\n",
    "df_data[numeric_feats] = df_data.groupby(['ano'])[numeric_feats].transform(lambda x: x.fillna(x.median()))\n",
    "\n",
    "#filling NA's of total_receita and media_receita with the median of the column:\n",
    "#df_data = df_data.fillna(df_data.median())\n",
    "\n",
    "print(df_data.shape)\n",
    "df_data.isnull().any()"
   ]
  },
  {
   "cell_type": "markdown",
   "metadata": {},
   "source": [
    "#### Tranformação das variáveis categóricas"
   ]
  },
  {
   "cell_type": "markdown",
   "metadata": {},
   "source": [
    "As variáveis categóricas presentes nos dados, como **ocupação** e **estado_civil**, serão transformadas em variáveis numéricas, a fim de permitir a sua utilização nos modelos de regressão logo a seguir."
   ]
  },
  {
   "cell_type": "code",
   "execution_count": 118,
   "metadata": {
    "scrolled": true
   },
   "outputs": [
    {
     "data": {
      "text/html": [
       "<div>\n",
       "<style scoped>\n",
       "    .dataframe tbody tr th:only-of-type {\n",
       "        vertical-align: middle;\n",
       "    }\n",
       "\n",
       "    .dataframe tbody tr th {\n",
       "        vertical-align: top;\n",
       "    }\n",
       "\n",
       "    .dataframe thead th {\n",
       "        text-align: right;\n",
       "    }\n",
       "</style>\n",
       "<table border=\"1\" class=\"dataframe\">\n",
       "  <thead>\n",
       "    <tr style=\"text-align: right;\">\n",
       "      <th></th>\n",
       "      <th>ano</th>\n",
       "      <th>quantidade_doacoes</th>\n",
       "      <th>quantidade_doadores</th>\n",
       "      <th>total_receita</th>\n",
       "      <th>media_receita</th>\n",
       "      <th>recursos_de_outros_candidatos/comites</th>\n",
       "      <th>recursos_de_pessoas_fisicas</th>\n",
       "      <th>recursos_de_pessoas_juridicas</th>\n",
       "      <th>recursos_proprios</th>\n",
       "      <th>quantidade_despesas</th>\n",
       "      <th>...</th>\n",
       "      <th>ocupacao_TÉCNICO DE QUÍMICA</th>\n",
       "      <th>ocupacao_TÉCNICO EM AGRONOMIA E AGRIMENSURA</th>\n",
       "      <th>ocupacao_TÉCNICO EM EDIFICAÇÕES</th>\n",
       "      <th>ocupacao_TÉCNICO EM INFORMÁTICA</th>\n",
       "      <th>ocupacao_VENDEDOR DE COMÉRCIO VAREJISTA E ATACADISTA</th>\n",
       "      <th>ocupacao_VENDEDOR PRACISTA, REPRESENTANTE, CAIXEIRO-VIAJANTE E ASSEMELHADOS</th>\n",
       "      <th>ocupacao_VEREADOR</th>\n",
       "      <th>ocupacao_VETERINÁRIO</th>\n",
       "      <th>ocupacao_VIGILANTE</th>\n",
       "      <th>ocupacao_ZOOTECNISTA</th>\n",
       "    </tr>\n",
       "  </thead>\n",
       "  <tbody>\n",
       "    <tr>\n",
       "      <th>0</th>\n",
       "      <td>2006</td>\n",
       "      <td>1.945910</td>\n",
       "      <td>1.945910</td>\n",
       "      <td>9.717218</td>\n",
       "      <td>7.925760</td>\n",
       "      <td>7.937732</td>\n",
       "      <td>9.105091</td>\n",
       "      <td>8.748464</td>\n",
       "      <td>7.170888</td>\n",
       "      <td>2.708050</td>\n",
       "      <td>...</td>\n",
       "      <td>0</td>\n",
       "      <td>0</td>\n",
       "      <td>0</td>\n",
       "      <td>0</td>\n",
       "      <td>0</td>\n",
       "      <td>0</td>\n",
       "      <td>1</td>\n",
       "      <td>0</td>\n",
       "      <td>0</td>\n",
       "      <td>0</td>\n",
       "    </tr>\n",
       "    <tr>\n",
       "      <th>1</th>\n",
       "      <td>2006</td>\n",
       "      <td>2.639057</td>\n",
       "      <td>2.639057</td>\n",
       "      <td>10.035699</td>\n",
       "      <td>7.471276</td>\n",
       "      <td>8.798757</td>\n",
       "      <td>9.615872</td>\n",
       "      <td>6.908755</td>\n",
       "      <td>5.308268</td>\n",
       "      <td>3.218876</td>\n",
       "      <td>...</td>\n",
       "      <td>0</td>\n",
       "      <td>0</td>\n",
       "      <td>0</td>\n",
       "      <td>0</td>\n",
       "      <td>0</td>\n",
       "      <td>0</td>\n",
       "      <td>0</td>\n",
       "      <td>0</td>\n",
       "      <td>0</td>\n",
       "      <td>0</td>\n",
       "    </tr>\n",
       "    <tr>\n",
       "      <th>2</th>\n",
       "      <td>2006</td>\n",
       "      <td>2.890372</td>\n",
       "      <td>2.833213</td>\n",
       "      <td>11.905790</td>\n",
       "      <td>9.133303</td>\n",
       "      <td>7.719130</td>\n",
       "      <td>10.438547</td>\n",
       "      <td>11.038461</td>\n",
       "      <td>10.993748</td>\n",
       "      <td>4.820282</td>\n",
       "      <td>...</td>\n",
       "      <td>0</td>\n",
       "      <td>0</td>\n",
       "      <td>0</td>\n",
       "      <td>0</td>\n",
       "      <td>0</td>\n",
       "      <td>0</td>\n",
       "      <td>0</td>\n",
       "      <td>0</td>\n",
       "      <td>0</td>\n",
       "      <td>0</td>\n",
       "    </tr>\n",
       "    <tr>\n",
       "      <th>3</th>\n",
       "      <td>2006</td>\n",
       "      <td>1.945910</td>\n",
       "      <td>1.945910</td>\n",
       "      <td>8.007074</td>\n",
       "      <td>6.216979</td>\n",
       "      <td>7.937732</td>\n",
       "      <td>7.048386</td>\n",
       "      <td>7.004991</td>\n",
       "      <td>6.621406</td>\n",
       "      <td>2.197225</td>\n",
       "      <td>...</td>\n",
       "      <td>0</td>\n",
       "      <td>0</td>\n",
       "      <td>0</td>\n",
       "      <td>0</td>\n",
       "      <td>0</td>\n",
       "      <td>0</td>\n",
       "      <td>0</td>\n",
       "      <td>0</td>\n",
       "      <td>0</td>\n",
       "      <td>0</td>\n",
       "    </tr>\n",
       "    <tr>\n",
       "      <th>4</th>\n",
       "      <td>2006</td>\n",
       "      <td>3.891820</td>\n",
       "      <td>3.891820</td>\n",
       "      <td>9.233666</td>\n",
       "      <td>7.274180</td>\n",
       "      <td>7.937732</td>\n",
       "      <td>10.837206</td>\n",
       "      <td>9.913480</td>\n",
       "      <td>11.141035</td>\n",
       "      <td>4.897840</td>\n",
       "      <td>...</td>\n",
       "      <td>0</td>\n",
       "      <td>0</td>\n",
       "      <td>0</td>\n",
       "      <td>0</td>\n",
       "      <td>0</td>\n",
       "      <td>0</td>\n",
       "      <td>0</td>\n",
       "      <td>0</td>\n",
       "      <td>0</td>\n",
       "      <td>0</td>\n",
       "    </tr>\n",
       "    <tr>\n",
       "      <th>5</th>\n",
       "      <td>2006</td>\n",
       "      <td>1.945910</td>\n",
       "      <td>1.945910</td>\n",
       "      <td>7.479983</td>\n",
       "      <td>5.691041</td>\n",
       "      <td>7.937732</td>\n",
       "      <td>8.987322</td>\n",
       "      <td>9.913480</td>\n",
       "      <td>7.479983</td>\n",
       "      <td>2.302585</td>\n",
       "      <td>...</td>\n",
       "      <td>0</td>\n",
       "      <td>0</td>\n",
       "      <td>0</td>\n",
       "      <td>0</td>\n",
       "      <td>0</td>\n",
       "      <td>0</td>\n",
       "      <td>0</td>\n",
       "      <td>0</td>\n",
       "      <td>0</td>\n",
       "      <td>0</td>\n",
       "    </tr>\n",
       "    <tr>\n",
       "      <th>6</th>\n",
       "      <td>2006</td>\n",
       "      <td>2.708050</td>\n",
       "      <td>2.079442</td>\n",
       "      <td>6.548219</td>\n",
       "      <td>4.610868</td>\n",
       "      <td>7.937732</td>\n",
       "      <td>7.116394</td>\n",
       "      <td>9.913480</td>\n",
       "      <td>8.395138</td>\n",
       "      <td>2.890372</td>\n",
       "      <td>...</td>\n",
       "      <td>0</td>\n",
       "      <td>0</td>\n",
       "      <td>0</td>\n",
       "      <td>0</td>\n",
       "      <td>0</td>\n",
       "      <td>0</td>\n",
       "      <td>0</td>\n",
       "      <td>0</td>\n",
       "      <td>0</td>\n",
       "      <td>0</td>\n",
       "    </tr>\n",
       "    <tr>\n",
       "      <th>7</th>\n",
       "      <td>2006</td>\n",
       "      <td>1.098612</td>\n",
       "      <td>1.098612</td>\n",
       "      <td>11.156265</td>\n",
       "      <td>10.463132</td>\n",
       "      <td>7.937732</td>\n",
       "      <td>8.987322</td>\n",
       "      <td>9.913480</td>\n",
       "      <td>11.156265</td>\n",
       "      <td>5.808142</td>\n",
       "      <td>...</td>\n",
       "      <td>0</td>\n",
       "      <td>0</td>\n",
       "      <td>0</td>\n",
       "      <td>0</td>\n",
       "      <td>0</td>\n",
       "      <td>0</td>\n",
       "      <td>0</td>\n",
       "      <td>0</td>\n",
       "      <td>0</td>\n",
       "      <td>0</td>\n",
       "    </tr>\n",
       "    <tr>\n",
       "      <th>8</th>\n",
       "      <td>2006</td>\n",
       "      <td>1.098612</td>\n",
       "      <td>1.098612</td>\n",
       "      <td>8.710455</td>\n",
       "      <td>8.017472</td>\n",
       "      <td>8.710455</td>\n",
       "      <td>8.987322</td>\n",
       "      <td>9.913480</td>\n",
       "      <td>8.395138</td>\n",
       "      <td>2.397895</td>\n",
       "      <td>...</td>\n",
       "      <td>0</td>\n",
       "      <td>0</td>\n",
       "      <td>0</td>\n",
       "      <td>0</td>\n",
       "      <td>0</td>\n",
       "      <td>0</td>\n",
       "      <td>0</td>\n",
       "      <td>0</td>\n",
       "      <td>0</td>\n",
       "      <td>0</td>\n",
       "    </tr>\n",
       "    <tr>\n",
       "      <th>9</th>\n",
       "      <td>2006</td>\n",
       "      <td>4.234107</td>\n",
       "      <td>4.189655</td>\n",
       "      <td>11.569440</td>\n",
       "      <td>7.395657</td>\n",
       "      <td>9.167015</td>\n",
       "      <td>10.987734</td>\n",
       "      <td>10.165890</td>\n",
       "      <td>9.711176</td>\n",
       "      <td>4.234107</td>\n",
       "      <td>...</td>\n",
       "      <td>0</td>\n",
       "      <td>0</td>\n",
       "      <td>0</td>\n",
       "      <td>0</td>\n",
       "      <td>0</td>\n",
       "      <td>0</td>\n",
       "      <td>0</td>\n",
       "      <td>0</td>\n",
       "      <td>0</td>\n",
       "      <td>0</td>\n",
       "    </tr>\n",
       "  </tbody>\n",
       "</table>\n",
       "<p>10 rows × 284 columns</p>\n",
       "</div>"
      ],
      "text/plain": [
       "    ano  quantidade_doacoes  quantidade_doadores  total_receita  \\\n",
       "0  2006            1.945910             1.945910       9.717218   \n",
       "1  2006            2.639057             2.639057      10.035699   \n",
       "2  2006            2.890372             2.833213      11.905790   \n",
       "3  2006            1.945910             1.945910       8.007074   \n",
       "4  2006            3.891820             3.891820       9.233666   \n",
       "5  2006            1.945910             1.945910       7.479983   \n",
       "6  2006            2.708050             2.079442       6.548219   \n",
       "7  2006            1.098612             1.098612      11.156265   \n",
       "8  2006            1.098612             1.098612       8.710455   \n",
       "9  2006            4.234107             4.189655      11.569440   \n",
       "\n",
       "   media_receita  recursos_de_outros_candidatos/comites  \\\n",
       "0       7.925760                               7.937732   \n",
       "1       7.471276                               8.798757   \n",
       "2       9.133303                               7.719130   \n",
       "3       6.216979                               7.937732   \n",
       "4       7.274180                               7.937732   \n",
       "5       5.691041                               7.937732   \n",
       "6       4.610868                               7.937732   \n",
       "7      10.463132                               7.937732   \n",
       "8       8.017472                               8.710455   \n",
       "9       7.395657                               9.167015   \n",
       "\n",
       "   recursos_de_pessoas_fisicas  recursos_de_pessoas_juridicas  \\\n",
       "0                     9.105091                       8.748464   \n",
       "1                     9.615872                       6.908755   \n",
       "2                    10.438547                      11.038461   \n",
       "3                     7.048386                       7.004991   \n",
       "4                    10.837206                       9.913480   \n",
       "5                     8.987322                       9.913480   \n",
       "6                     7.116394                       9.913480   \n",
       "7                     8.987322                       9.913480   \n",
       "8                     8.987322                       9.913480   \n",
       "9                    10.987734                      10.165890   \n",
       "\n",
       "   recursos_proprios  quantidade_despesas          ...           \\\n",
       "0           7.170888             2.708050          ...            \n",
       "1           5.308268             3.218876          ...            \n",
       "2          10.993748             4.820282          ...            \n",
       "3           6.621406             2.197225          ...            \n",
       "4          11.141035             4.897840          ...            \n",
       "5           7.479983             2.302585          ...            \n",
       "6           8.395138             2.890372          ...            \n",
       "7          11.156265             5.808142          ...            \n",
       "8           8.395138             2.397895          ...            \n",
       "9           9.711176             4.234107          ...            \n",
       "\n",
       "   ocupacao_TÉCNICO DE QUÍMICA  ocupacao_TÉCNICO EM AGRONOMIA E AGRIMENSURA  \\\n",
       "0                            0                                            0   \n",
       "1                            0                                            0   \n",
       "2                            0                                            0   \n",
       "3                            0                                            0   \n",
       "4                            0                                            0   \n",
       "5                            0                                            0   \n",
       "6                            0                                            0   \n",
       "7                            0                                            0   \n",
       "8                            0                                            0   \n",
       "9                            0                                            0   \n",
       "\n",
       "   ocupacao_TÉCNICO EM EDIFICAÇÕES  ocupacao_TÉCNICO EM INFORMÁTICA  \\\n",
       "0                                0                                0   \n",
       "1                                0                                0   \n",
       "2                                0                                0   \n",
       "3                                0                                0   \n",
       "4                                0                                0   \n",
       "5                                0                                0   \n",
       "6                                0                                0   \n",
       "7                                0                                0   \n",
       "8                                0                                0   \n",
       "9                                0                                0   \n",
       "\n",
       "   ocupacao_VENDEDOR DE COMÉRCIO VAREJISTA E ATACADISTA  \\\n",
       "0                                                  0      \n",
       "1                                                  0      \n",
       "2                                                  0      \n",
       "3                                                  0      \n",
       "4                                                  0      \n",
       "5                                                  0      \n",
       "6                                                  0      \n",
       "7                                                  0      \n",
       "8                                                  0      \n",
       "9                                                  0      \n",
       "\n",
       "   ocupacao_VENDEDOR PRACISTA, REPRESENTANTE, CAIXEIRO-VIAJANTE E ASSEMELHADOS  \\\n",
       "0                                                  0                             \n",
       "1                                                  0                             \n",
       "2                                                  0                             \n",
       "3                                                  0                             \n",
       "4                                                  0                             \n",
       "5                                                  0                             \n",
       "6                                                  0                             \n",
       "7                                                  0                             \n",
       "8                                                  0                             \n",
       "9                                                  0                             \n",
       "\n",
       "   ocupacao_VEREADOR  ocupacao_VETERINÁRIO  ocupacao_VIGILANTE  \\\n",
       "0                  1                     0                   0   \n",
       "1                  0                     0                   0   \n",
       "2                  0                     0                   0   \n",
       "3                  0                     0                   0   \n",
       "4                  0                     0                   0   \n",
       "5                  0                     0                   0   \n",
       "6                  0                     0                   0   \n",
       "7                  0                     0                   0   \n",
       "8                  0                     0                   0   \n",
       "9                  0                     0                   0   \n",
       "\n",
       "   ocupacao_ZOOTECNISTA  \n",
       "0                     0  \n",
       "1                     0  \n",
       "2                     0  \n",
       "3                     0  \n",
       "4                     0  \n",
       "5                     0  \n",
       "6                     0  \n",
       "7                     0  \n",
       "8                     0  \n",
       "9                     0  \n",
       "\n",
       "[10 rows x 284 columns]"
      ]
     },
     "execution_count": 118,
     "metadata": {},
     "output_type": "execute_result"
    }
   ],
   "source": [
    "df_data = pd.get_dummies(df_data)\n",
    "\n",
    "df_data.head(10)"
   ]
  },
  {
   "cell_type": "markdown",
   "metadata": {
    "collapsed": true
   },
   "source": [
    "### Divisão dos dados em treinamento, validação e teste"
   ]
  },
  {
   "cell_type": "markdown",
   "metadata": {},
   "source": [
    "Abaixo, o conjunto de dados utilizado será particionado em treino, para servir para a criação dos modelos de regressão, em validação, que será usado para avaliar a qualidade do modelo e em teste, que servirá para avaliar as predições do modelo para dados ainda não vistos por ele."
   ]
  },
  {
   "cell_type": "code",
   "execution_count": 119,
   "metadata": {},
   "outputs": [
    {
     "name": "stdout",
     "output_type": "stream",
     "text": [
      "(3388, 283)\n",
      "(3388,)\n",
      "(3942, 283)\n",
      "(3942,)\n",
      "(4936, 283)\n",
      "(4936,)\n"
     ]
    }
   ],
   "source": [
    "data_train = df_data.loc[df_data[\"ano\"] == 2006]\n",
    "y_train = data_train.votos\n",
    "X_train = data_train.drop(\"votos\", 1)\n",
    "print(X_train.shape)\n",
    "print(y_train.shape)\n",
    "\n",
    "data_validation = df_data.loc[df_data[\"ano\"] == 2010]\n",
    "y_validation = data_validation.votos\n",
    "X_validation = data_validation.drop(\"votos\", 1)\n",
    "print(X_validation.shape)\n",
    "print(y_validation.shape)\n",
    "\n",
    "data_test = df_data.loc[df_data[\"ano\"] == 2014]\n",
    "y_test = data_test.votos\n",
    "X_test = data_test.drop(\"votos\", 1)\n",
    "print(X_test.shape)\n",
    "print(y_test.shape)"
   ]
  },
  {
   "cell_type": "markdown",
   "metadata": {
    "collapsed": true
   },
   "source": [
    "## Implementação dos Modelos de Regressão"
   ]
  },
  {
   "cell_type": "markdown",
   "metadata": {},
   "source": [
    "Nesta seção, implementaremos os modelos de regressão que irão prever a quantidade de votos de um candidato. Dividiremos este processo nas seguintes etapas, para cada modelo:\n",
    "- Implementação do modelo.\n",
    "- Ajuste dos parâmetros com cross-validation.\n",
    "- Avaliação dos modelos com RMSE, R² e resíduos.\n",
    "- Treinamento com mais dados do modelo com melhores parâmetros."
   ]
  },
  {
   "cell_type": "markdown",
   "metadata": {},
   "source": [
    "#### Funções auxiliares"
   ]
  },
  {
   "cell_type": "code",
   "execution_count": 120,
   "metadata": {},
   "outputs": [],
   "source": [
    "# function to train the model and to calculate the RMSE with cross validation\n",
    "def rmse_cv(model):\n",
    "    rmse = np.sqrt(-cross_val_score(model, X_train, y_train, scoring = \"neg_mean_squared_error\", cv = 5))\n",
    "    return(rmse)"
   ]
  },
  {
   "cell_type": "code",
   "execution_count": 121,
   "metadata": {},
   "outputs": [],
   "source": [
    "# function to plot the RMSE vs parameter value\n",
    "def plot_rmse_param(series, param_name):\n",
    "    series.plot(title = \"Validation Error vs \" + param_name)\n",
    "    plt.xlabel(param_name)\n",
    "    plt.ylabel(\"RMSE\")"
   ]
  },
  {
   "cell_type": "code",
   "execution_count": 122,
   "metadata": {},
   "outputs": [],
   "source": [
    "# function to get the best RMSE and the best parameter value of the model\n",
    "def best_rmse_param(series):\n",
    "    best_rmse = series.min()\n",
    "    best_param = series.idxmin() \n",
    "    \n",
    "    return(best_rmse, best_param)"
   ]
  },
  {
   "cell_type": "code",
   "execution_count": 123,
   "metadata": {},
   "outputs": [],
   "source": [
    "# function to print the coefficients of the model\n",
    "def print_coefficients(model):\n",
    "    w = list(model.coef_)\n",
    "    # Parameters must be in reverse order because the poly function \n",
    "    w.reverse()\n",
    "    print (np.poly1d(w) + model.intercept_) "
   ]
  },
  {
   "cell_type": "code",
   "execution_count": 124,
   "metadata": {},
   "outputs": [],
   "source": [
    "# function to train the model and to return the score\n",
    "def train_model(model, print_coef):\n",
    "    model.fit(X_train, y_train)\n",
    "    if (print_coef):\n",
    "        print_coefficients(model)\n",
    "    \n",
    "    score = model.score(X_validation, y_validation)\n",
    "    return score"
   ]
  },
  {
   "cell_type": "code",
   "execution_count": 125,
   "metadata": {},
   "outputs": [],
   "source": [
    "# function to plot the residual vs predictions values of the model\n",
    "def plot_res_vs_pred(model):\n",
    "    y_pred = model.predict(X_test)\n",
    "    res = y_test - y_pred\n",
    "    plt.plot(y_pred, res, 'k.', color='blue')\n",
    "    plt.axhline(y = 0., color = 'r', linestyle = '-')\n",
    "    plt.xlabel(\"Predictions\")\n",
    "    plt.ylabel(\"Residuals\")"
   ]
  },
  {
   "cell_type": "markdown",
   "metadata": {},
   "source": [
    "### 1.1 Modelo Sem Regularização"
   ]
  },
  {
   "cell_type": "markdown",
   "metadata": {},
   "source": [
    "#### Implementando o modelo de regressão linear múltipla"
   ]
  },
  {
   "cell_type": "code",
   "execution_count": 126,
   "metadata": {},
   "outputs": [
    {
     "name": "stdout",
     "output_type": "stream",
     "text": [
      "Score = -3.36529690299e+18\n",
      "RMSE = 3724035476.87\n"
     ]
    }
   ],
   "source": [
    "model_reglinear = LinearRegression().fit(X_train, y_train)\n",
    "print(\"Score = {0}\".format(model_reglinear.score(X_validation, y_validation)))\n",
    "\n",
    "predictions = model_reglinear.predict(X_validation)\n",
    "print(\"RMSE = {0}\".format(np.sqrt(mean_squared_error(y_validation, predictions))))"
   ]
  },
  {
   "cell_type": "markdown",
   "metadata": {},
   "source": [
    "### 1.2 Modelo Ridge"
   ]
  },
  {
   "cell_type": "markdown",
   "metadata": {},
   "source": [
    "#### Implementando o modelo de regressão Ridge"
   ]
  },
  {
   "cell_type": "code",
   "execution_count": 127,
   "metadata": {},
   "outputs": [
    {
     "name": "stdout",
     "output_type": "stream",
     "text": [
      "         282          281          280          279          278\n",
      "-0.1422 x   + 0.1243 x   + 0.4128 x   + 0.4746 x   - 0.1082 x  \n",
      "           277          276          275          274          272\n",
      " + 0.2606 x   + 0.1561 x   + 0.2955 x   - 0.2628 x   - 0.2523 x  \n",
      "           271          269          268          267          266\n",
      " - 0.3604 x   + 0.3064 x   - 0.5057 x   + 0.1218 x   + 0.3548 x  \n",
      "           265          263          262          261          256\n",
      " + 0.2142 x   + 0.2592 x   - 0.1233 x   - 0.6119 x   - 0.9372 x  \n",
      "           255          253          252          251          250\n",
      " + 0.5971 x   - 0.2479 x   - 0.6492 x   + 0.2166 x   + 0.4912 x  \n",
      "            249         248           247          246          245\n",
      " + 0.04699 x   - 0.436 x   + 0.02064 x   - 0.1549 x   - 0.2356 x  \n",
      "            244          243          241          239          237\n",
      " - 0.04378 x   - 0.2388 x   - 0.4208 x   + 0.3935 x   - 0.1104 x  \n",
      "           236          235           232          231           230\n",
      " + 0.4925 x   - 0.2338 x   + 0.07507 x   - 0.5766 x   - 0.02556 x  \n",
      "          229           228           227           226           225\n",
      " + 0.262 x   - 0.04893 x   + 0.05342 x   - 0.06687 x   + 0.04827 x  \n",
      "           224          223           222          220         219\n",
      " - 0.2044 x   + 0.3388 x   - 0.05737 x   - 0.3699 x   + 0.202 x  \n",
      "           218          217          216          215           214\n",
      " + 0.4035 x   - 0.5367 x   + 0.4021 x   + 0.5453 x   - 0.01774 x  \n",
      "            213          212           211         210          209\n",
      " - 0.02038 x   - 0.3426 x   + 0.02701 x   - 0.551 x   + 0.2389 x  \n",
      "           208          207           206           205          202\n",
      " - 0.7876 x   - 0.3852 x   + 0.01017 x   + 0.03225 x   + 0.9574 x  \n",
      "          201          200          199           198          194\n",
      " + 0.487 x   - 0.2054 x   + 0.1232 x   + 0.03703 x   - 0.1542 x  \n",
      "           192           190         189         186          185\n",
      " + 0.1737 x   - 0.06366 x   + 0.103 x   - 0.483 x   + 0.3953 x  \n",
      "           184           183          181           180          178\n",
      " - 0.9343 x   - 0.00311 x   - 0.1516 x   - 0.02422 x   - 0.2014 x  \n",
      "           177          176          174          172          170\n",
      " + 0.6791 x   - 0.1643 x   + 0.2844 x   - 0.3748 x   - 0.8477 x  \n",
      "           168          166          165          164          163\n",
      " + 0.4464 x   - 0.7915 x   + 0.3389 x   + 0.6029 x   + 0.4537 x  \n",
      "           161           160          155          154          153\n",
      " + 0.1789 x   + 0.09474 x   - 0.6853 x   + 0.1378 x   + 0.5025 x  \n",
      "           152            151           149           147          146\n",
      " - 0.1152 x   - 0.003977 x   - 0.01902 x   - 0.07469 x   - 0.4077 x  \n",
      "           145          144          143          142          141\n",
      " + 0.3575 x   - 0.2913 x   - 0.6328 x   - 0.6291 x   - 0.4199 x  \n",
      "           140          139          138          136          135\n",
      " + 0.3594 x   - 0.3692 x   + 0.6044 x   + 0.3378 x   - 0.4562 x  \n",
      "            134          132          131          129          127\n",
      " + 0.05345 x   - 0.2906 x   + 0.1222 x   - 0.2229 x   + 0.3845 x  \n",
      "           126          125          124          123          121\n",
      " - 0.8097 x   + 0.8991 x   + 0.4272 x   + 0.1259 x   - 0.3924 x  \n",
      "            120          119         118         116          115\n",
      " + 0.08213 x   + 0.5405 x   - 0.229 x   + 1.135 x   + 0.2493 x  \n",
      "            114          113          110          109          108\n",
      " - 0.09247 x   + 0.3135 x   - 0.1111 x   + 0.6129 x   + 0.9087 x  \n",
      "           107          106          104          103          102\n",
      " - 0.2061 x   + 0.1607 x   - 0.1874 x   - 0.2042 x   - 0.7407 x  \n",
      "            101          100          99          98           97\n",
      " - 0.02127 x   + 0.4418 x   + 0.1748 x  + 0.2442 x  - 0.03412 x \n",
      "           95         94           93           92          91\n",
      " - 0.1007 x  - 0.336 x  - 0.01827 x  - 0.06296 x  + 0.2217 x \n",
      "           90           89           88           87          86\n",
      " + 0.0557 x  - 0.05252 x  - 0.08398 x  - 0.03068 x  + 0.1115 x \n",
      "              85           84         83          82           81\n",
      " + 0.0005491 x  - 0.03729 x  + 0.393 x  - 0.1071 x  - 0.02221 x \n",
      "           80           79          78          77           74\n",
      " - 0.1345 x  - 0.09249 x  + 0.1024 x  - 0.1024 x  - 0.07303 x \n",
      "           73           72          71            70          69\n",
      " - 0.3452 x  + 0.03663 x  + 0.1407 x  - 0.004561 x  + 0.2808 x \n",
      "           68          67          66          65         64\n",
      " + 0.2313 x  + 0.1006 x  - 0.1871 x  - 0.2588 x  + 0.154 x \n",
      "           62          61          60          59           57\n",
      " + 0.2032 x  - 0.1262 x  - 0.3975 x  - 0.2258 x  + 0.08993 x \n",
      "            56          54         52           51          50\n",
      " + 0.03374 x  - 0.0842 x  + 0.113 x  + 0.09088 x  + 0.3016 x \n",
      "          49          48          47          45          44\n",
      " - 0.159 x  - 0.1243 x  + 0.2851 x  + 0.2502 x  - 0.3198 x \n",
      "            43           42          41          39          38\n",
      " + 0.01086 x  + 0.01331 x  - 0.0302 x  - 0.8406 x  - 0.1212 x \n",
      "           37           36          35         34          33\n",
      " + 0.7396 x  - 0.05871 x  + 0.0661 x  - 0.972 x  - 0.1031 x \n",
      "           32          31          30          29          28\n",
      " + 0.4883 x  + 0.1627 x  + 0.1079 x  + 0.1261 x  + 0.3642 x \n",
      "           27          26        25          24          23          22\n",
      " + 0.3781 x  + 0.5179 x  - 0.42 x  - 0.4277 x  + 0.1167 x  + 0.4885 x \n",
      "            21          20          19          18          17\n",
      " - 0.08693 x  + 0.1965 x  - 0.8101 x  + 0.6494 x  + 0.5066 x \n",
      "           16             15         14          13          12\n",
      " - 0.8056 x  + 0.0003391 x  + 0.258 x  - 0.5211 x  + 0.9285 x \n",
      "           11         10           9            8           7\n",
      " - 0.6464 x  + 1.023 x  + 0.07164 x - 0.006681 x + 0.03374 x\n",
      "            6           5          4           3         2\n",
      " + 0.03065 x + 0.03852 x + 0.1524 x + 0.02822 x + 0.657 x - 0.2695 x + 1.715\n"
     ]
    },
    {
     "data": {
      "text/plain": [
       "0.7044086442919653"
      ]
     },
     "execution_count": 127,
     "metadata": {},
     "output_type": "execute_result"
    }
   ],
   "source": [
    "model_ridge = Ridge()\n",
    "train_model(model_ridge, True)"
   ]
  },
  {
   "cell_type": "markdown",
   "metadata": {},
   "source": [
    "#### Ajuste dos parâmetros do modelo de regressão Ridge"
   ]
  },
  {
   "cell_type": "markdown",
   "metadata": {},
   "source": [
    "O hiperparâmetro do Rigde é o alpha - um parâmetro de regularização que mede quão flexível é o modelo. Quanto maior a regularização, menos propenso será o nosso modelo de overfitting. No entanto, também perderá a flexibilidade e poderá não capturar todo o padrão dos dados.\n",
    "\n",
    "Testaremos alguns valores para alpha e usaremos o melhor para treinar o modelo."
   ]
  },
  {
   "cell_type": "code",
   "execution_count": 128,
   "metadata": {},
   "outputs": [
    {
     "data": {
      "image/png": "[encoded data removed]",
      "text/plain": [
       "<Figure size 432x288 with 1 Axes>"
      ]
     },
     "metadata": {},
     "output_type": "display_data"
    }
   ],
   "source": [
    "alphas = [0.001, 0.1, 0.5, 1, 5, 10, 15, 20, 25]\n",
    "cv_ridge_rmse = [rmse_cv(Ridge(alpha = alpha)).mean() \n",
    "            for alpha in alphas]\n",
    "\n",
    "series_ridge = pd.Series(cv_ridge_rmse, index = alphas)\n",
    "plot_rmse_param(series_ridge, \"alpha\")"
   ]
  },
  {
   "cell_type": "markdown",
   "metadata": {},
   "source": [
    "Observe a curva em forma de U acima. Quando o alpha é muito grande, a regularização é muito forte e o modelo não consegue capturar todas as complexidades dos dados - o erro volta a aumentar. Se, no entanto, deixarmos o modelo ser muito flexível (alpha pequeno), o modelo tende ao overfitting. Um valor de alpha = 30 parece o melhor, com base no gráfico acima."
   ]
  },
  {
   "cell_type": "code",
   "execution_count": 129,
   "metadata": {},
   "outputs": [
    {
     "name": "stdout",
     "output_type": "stream",
     "text": [
      "          282           281          280          279           278\n",
      "-0.03342 x   + 0.03221 x   + 0.1623 x   + 0.4176 x   - 0.06072 x  \n",
      "          277           276           275           274           272\n",
      " + 0.123 x   + 0.05883 x   + 0.05326 x   - 0.05237 x   - 0.06134 x  \n",
      "            271           269          268           267           266\n",
      " - 0.05753 x   + 0.07463 x   - 0.2163 x   + 0.03609 x   + 0.05175 x  \n",
      "           265          263           262          261          256\n",
      " + 0.1251 x   + 0.0938 x   - 0.03709 x   - 0.1137 x   - 0.2296 x  \n",
      "           255           253          252           251           250\n",
      " + 0.2181 x   - 0.06499 x   - 0.1196 x   + 0.06491 x   + 0.08762 x  \n",
      "             249         248           247          246          245\n",
      " + 0.002794 x   - 0.091 x   - 0.01544 x   - 0.1223 x   - 0.2494 x  \n",
      "            244          243           241           239           237\n",
      " - 0.07407 x   - 0.2213 x   - 0.07527 x   + 0.07076 x   - 0.05725 x  \n",
      "           236          235            232          231           230\n",
      " + 0.3268 x   - 0.1903 x   + 0.001745 x   - 0.3323 x   - 0.00543 x  \n",
      "            229           228           227           226          225\n",
      " + 0.04089 x   - 0.03391 x   + 0.01919 x   - 0.08913 x   + 0.0166 x  \n",
      "           224           223           222           220          219\n",
      " - 0.1787 x   + 0.05158 x   - 0.07538 x   - 0.07065 x   + 0.1374 x  \n",
      "           218           217          216          215           214\n",
      " + 0.2508 x   - 0.09837 x   + 0.0931 x   + 0.1307 x   - 0.02706 x  \n",
      "            213           212            211          210           209\n",
      " - 0.04136 x   - 0.09172 x   + 0.004177 x   - 0.1042 x   + 0.04089 x  \n",
      "           208           207           206            205          202\n",
      " - 0.1488 x   - 0.06931 x   - 0.02867 x   + 0.004664 x   + 0.3578 x  \n",
      "           201          200         199            198         194\n",
      " + 0.4296 x   - 0.1023 x   + 0.035 x   - 0.007585 x   - 0.149 x  \n",
      "            192          190           189           186          185\n",
      " + 0.02707 x   - 0.0567 x   + 0.01153 x   - 0.09182 x   + 0.2699 x  \n",
      "           184           183           181            180          178\n",
      " - 0.1734 x   - 0.02745 x   - 0.08028 x   - 0.006017 x   - 0.0746 x  \n",
      "           177          176          174           172          170\n",
      " + 0.1305 x   - 0.1251 x   + 0.0521 x   - 0.06975 x   - 0.1599 x  \n",
      "           168          166           165          164         163\n",
      " + 0.2186 x   - 0.4385 x   + 0.06978 x   + 0.1482 x   + 0.142 x  \n",
      "            161           160        155          154          153\n",
      " + 0.07086 x   + 0.07374 x   - 0.28 x   + 0.1125 x   + 0.1481 x  \n",
      "            152           151            149          147          146\n",
      " - 0.02844 x   - 0.03493 x   - 0.007797 x   - 0.0857 x   - 0.1731 x  \n",
      "            145          144          143         142          141\n",
      " + 0.08751 x   - 0.1275 x   - 0.1515 x   - 0.117 x   - 0.1023 x  \n",
      "           140           139          138           136          135\n",
      " + 0.1304 x   - 0.09396 x   + 0.5623 x   + 0.05746 x   - 0.3561 x  \n",
      "            134          132           131          129           127\n",
      " + 0.02044 x   - 0.1713 x   + 0.08229 x   - 0.0366 x   + 0.08532 x  \n",
      "           126          125          124           123         121\n",
      " - 0.1594 x   + 0.4143 x   + 0.1445 x   + 0.04111 x   - 0.159 x  \n",
      "           120           119          118         116          115\n",
      " + 0.0133 x   + 0.09843 x   - 0.2006 x   + 0.276 x   + 0.1027 x  \n",
      "            114          113           110          109          108\n",
      " - 0.03978 x   + 0.1091 x   - 0.06436 x   + 0.1691 x   + 0.2175 x  \n",
      "            107           106          104          103          102\n",
      " - 0.09364 x   + 0.07027 x   - 0.1948 x   - 0.1077 x   - 0.1399 x  \n",
      "             101          100          99           98           97\n",
      " - 0.004875 x   + 0.1984 x   + 0.1134 x  + 0.03965 x  - 0.02134 x \n",
      "            95          94            93           92          91\n",
      " - 0.01541 x  - 0.1347 x  - 0.006683 x  - 0.08984 x  + 0.1768 x \n",
      "            90           89           88           87          86\n",
      " + 0.03694 x  - 0.04587 x  - 0.08422 x  - 0.02794 x  + 0.1211 x \n",
      "            85            84          83          82           81\n",
      " + 0.02995 x  - 0.005057 x  + 0.1465 x  - 0.0586 x  + 0.01245 x \n",
      "            80           79          78          77           74\n",
      " - 0.07673 x  - 0.04854 x  + 0.1108 x  - 0.1108 x  - 0.08556 x \n",
      "           73            72          71           70          69\n",
      " - 0.2555 x  - 0.003672 x  + 0.1307 x  - 0.02483 x  + 0.2607 x \n",
      "           68           67          66          65          64\n",
      " + 0.1494 x  + 0.07212 x  - 0.1303 x  - 0.2247 x  + 0.1306 x \n",
      "           62          61          60          59           57\n",
      " + 0.1873 x  - 0.1519 x  - 0.3422 x  - 0.1546 x  + 0.07219 x \n",
      "            56          54           52          51          50\n",
      " + 0.01417 x  - 0.1118 x  + 0.09704 x  + 0.0681 x  + 0.2731 x \n",
      "           49          48          47          45           44\n",
      " - 0.1651 x  - 0.1471 x  + 0.2708 x  + 0.2128 x  - 0.09812 x \n",
      "             43            42           41          39          38\n",
      " - 0.003576 x  - 0.001816 x  - 0.03821 x  - 0.7215 x  - 0.1257 x \n",
      "           37           36           35          34          33\n",
      " + 0.5526 x  - 0.07188 x  + 0.06485 x  - 0.8428 x  - 0.1137 x \n",
      "           32          31           30           29          28\n",
      " + 0.3601 x  + 0.1537 x  + 0.09345 x  + 0.09264 x  + 0.3393 x \n",
      "           27          26          25          24          23\n",
      " + 0.3327 x  + 0.4866 x  - 0.3372 x  - 0.3693 x  + 0.1188 x \n",
      "           22           21          20          19          18\n",
      " + 0.4234 x  - 0.05125 x  + 0.1656 x  - 0.7396 x  + 0.5773 x \n",
      "           17          16           15          14          13\n",
      " + 0.4644 x  - 0.6732 x  + 0.02589 x  + 0.2157 x  - 0.4209 x \n",
      "           12          11          10           9            8\n",
      " + 0.5473 x  - 0.2742 x  + 0.6078 x  + 0.07552 x - 0.002373 x\n",
      "            7           6           5          4           3          2\n",
      " + 0.04411 x + 0.03757 x + 0.03595 x + 0.1655 x + 0.01457 x + 0.5474 x - 0.1455 x + 1.759\n"
     ]
    }
   ],
   "source": [
    "best_rmse_ridge, best_param_ridge = best_rmse_param(series_ridge)\n",
    "\n",
    "model_ridge = Ridge(alpha = best_param_ridge)\n",
    "score_ridge = train_model(model_ridge, True)"
   ]
  },
  {
   "cell_type": "code",
   "execution_count": 130,
   "metadata": {},
   "outputs": [
    {
     "name": "stdout",
     "output_type": "stream",
     "text": [
      "Ridge escolheu 227 variáveis and eliminou as outras 56 variáveis.\n"
     ]
    }
   ],
   "source": [
    "coef = pd.Series(model_ridge.coef_, index = X_train.columns)\n",
    "print(\"Ridge escolheu \" + str(sum(coef != 0)) + \" variáveis and eliminou as outras \" +  str(sum(coef == 0)) + \" variáveis.\")"
   ]
  },
  {
   "cell_type": "markdown",
   "metadata": {},
   "source": [
    "#### Avaliando o modelo de regressão Ridge"
   ]
  },
  {
   "cell_type": "code",
   "execution_count": 131,
   "metadata": {},
   "outputs": [
    {
     "name": "stdout",
     "output_type": "stream",
     "text": [
      "O RMSE do modelo Ridge e o Score, são, respectivamente: 0.948498584638, 0.706476423746\n"
     ]
    }
   ],
   "source": [
    "print u\"O RMSE do modelo Ridge e o Score, são, respectivamente: {0}, {1}\".format(best_rmse_ridge, score_ridge)"
   ]
  },
  {
   "cell_type": "markdown",
   "metadata": {},
   "source": [
    "Os resíduos do modelo, isto é, a diferença entre o valor real e o valor previsto pelo modelo pode ser visto no gráfico abaixo."
   ]
  },
  {
   "cell_type": "code",
   "execution_count": 132,
   "metadata": {},
   "outputs": [
    {
     "data": {
      "image/png": "[encoded data removed]",
      "text/plain": [
       "<Figure size 432x288 with 1 Axes>"
      ]
     },
     "metadata": {},
     "output_type": "display_data"
    }
   ],
   "source": [
    "plot_res_vs_pred(model_ridge)"
   ]
  },
  {
   "cell_type": "markdown",
   "metadata": {},
   "source": [
    "### 1.3 Modelo Lasso"
   ]
  },
  {
   "cell_type": "markdown",
   "metadata": {},
   "source": [
    "#### Implementando o modelo de regressão Lasso"
   ]
  },
  {
   "cell_type": "code",
   "execution_count": 133,
   "metadata": {},
   "outputs": [
    {
     "name": "stdout",
     "output_type": "stream",
     "text": [
      "        11\n",
      "0.4889 x  + 3.859\n"
     ]
    },
    {
     "data": {
      "text/plain": [
       "0.5774209161101116"
      ]
     },
     "execution_count": 133,
     "metadata": {},
     "output_type": "execute_result"
    }
   ],
   "source": [
    "model_lasso = Lasso(max_iter = 10000)\n",
    "train_model(model_lasso, True)"
   ]
  },
  {
   "cell_type": "markdown",
   "metadata": {},
   "source": [
    "#### Implementando o modelo de regressão Lasso com regularização"
   ]
  },
  {
   "cell_type": "markdown",
   "metadata": {},
   "source": [
    "Vamos agora usar o Lasso CV para descobrir o melhor alpha para nós."
   ]
  },
  {
   "cell_type": "code",
   "execution_count": 134,
   "metadata": {},
   "outputs": [
    {
     "data": {
      "image/png": "[encoded data removed]",
      "text/plain": [
       "<Figure size 432x288 with 1 Axes>"
      ]
     },
     "metadata": {},
     "output_type": "display_data"
    }
   ],
   "source": [
    "alphas = [0.0001, 0.001, 0.01, 0.1, 0.5, 1, 5, 10]\n",
    "cv_lasso_rmse = [rmse_cv(Lasso(alpha = alpha, max_iter = 10000)).mean() \n",
    "            for alpha in alphas]\n",
    "\n",
    "series_lasso = pd.Series(cv_lasso_rmse, index = alphas)\n",
    "plot_rmse_param(series_lasso, \"alpha\")"
   ]
  },
  {
   "cell_type": "code",
   "execution_count": 135,
   "metadata": {},
   "outputs": [
    {
     "name": "stdout",
     "output_type": "stream",
     "text": [
      "        279           265           246          245           244\n",
      "0.4491 x   + 0.02559 x   - 0.06113 x   - 0.2067 x   - 0.01616 x  \n",
      "           243          236           235          231          226\n",
      " - 0.1514 x   + 0.3593 x   - 0.09751 x   - 0.3176 x   - 0.0233 x  \n",
      "             225           224          219          218           211\n",
      " + 0.005331 x   - 0.08989 x   + 0.1276 x   + 0.2306 x   + 0.01244 x  \n",
      "           202          201           194          185           168\n",
      " + 0.4077 x   + 0.4655 x   - 0.06094 x   + 0.2686 x   + 0.06156 x  \n",
      "           166            160          155          154          138\n",
      " - 0.5152 x   + 0.008932 x   - 0.1872 x   + 0.1164 x   + 0.6039 x  \n",
      "           135           132           131          125        118\n",
      " - 0.3309 x   - 0.01917 x   + 0.07766 x   + 0.5229 x   - 0.12 x  \n",
      "           116          104           100           99           92\n",
      " + 0.0286 x   - 0.1462 x   + 0.05943 x   + 0.01609 x  - 0.05115 x \n",
      "           91            89           88          86           85\n",
      " + 0.1756 x  - 0.002673 x  - 0.03769 x  + 0.1514 x  + 0.03625 x \n",
      "             82           81           80          79             78\n",
      " - 0.003907 x  + 0.02483 x  - 0.02487 x  - 0.0215 x  + 3.838e-15 x \n",
      "           77           74          73         71          69\n",
      " - 0.2105 x  - 0.07522 x  - 0.2159 x  + 0.106 x  + 0.2526 x \n",
      "            68           67           66          65          64\n",
      " + 0.01272 x  + 0.04363 x  - 0.09387 x  - 0.2029 x  + 0.1135 x \n",
      "           62          61          60           59           57\n",
      " + 0.1643 x  - 0.1547 x  - 0.3468 x  - 0.09564 x  + 0.04403 x \n",
      "           54           52           51          50          49\n",
      " - 0.1111 x  + 0.07161 x  + 0.04289 x  + 0.2663 x  - 0.1618 x \n",
      "           48          47          45          39          38\n",
      " - 0.1296 x  + 0.2697 x  + 0.2106 x  - 0.8886 x  - 0.2128 x \n",
      "          37          36         34          33          32\n",
      " + 0.534 x  - 0.1282 x  - 1.022 x  - 0.1713 x  + 0.2738 x \n",
      "            31          28          27          26          25\n",
      " + 0.06691 x  + 0.2519 x  + 0.2475 x  + 0.4394 x  - 0.4168 x \n",
      "           24           23          22           21           20\n",
      " - 0.4602 x  + 0.02398 x  + 0.3397 x  - 0.09297 x  + 0.05059 x \n",
      "           19          18          17          16          14\n",
      " - 0.8804 x  + 0.5221 x  + 0.3867 x  - 0.8226 x  + 0.1193 x \n",
      "           13          12          11          10            8\n",
      " - 0.5212 x  + 0.6572 x  - 0.3819 x  + 0.7991 x  - 0.004612 x\n",
      "            7           6           5          4           3          2\n",
      " + 0.04118 x + 0.03445 x + 0.03802 x + 0.1609 x + 0.01927 x + 0.5098 x - 0.1016 x + 1.877\n"
     ]
    }
   ],
   "source": [
    "best_rmse_lasso, best_param_lasso = best_rmse_param(series_lasso)\n",
    "\n",
    "model_lasso = Lasso(alpha = best_param_lasso, max_iter = 10000)\n",
    "score_lasso = train_model(model_lasso, True)"
   ]
  },
  {
   "cell_type": "code",
   "execution_count": 136,
   "metadata": {},
   "outputs": [
    {
     "name": "stdout",
     "output_type": "stream",
     "text": [
      "Lasso escolheu 102 variáveis and eliminou as outras 181 variáveis.\n"
     ]
    }
   ],
   "source": [
    "coef = pd.Series(model_lasso.coef_, index = X_train.columns)\n",
    "print(\"Lasso escolheu \" + str(sum(coef != 0)) + \" variáveis and eliminou as outras \" +  str(sum(coef == 0)) + \" variáveis.\")"
   ]
  },
  {
   "cell_type": "markdown",
   "metadata": {},
   "source": [
    "#### Avaliando o modelo de regressão Lasso"
   ]
  },
  {
   "cell_type": "code",
   "execution_count": 137,
   "metadata": {},
   "outputs": [
    {
     "name": "stdout",
     "output_type": "stream",
     "text": [
      "O RMSE do modelo Lasso e o Score, são, respectivamente: 0.95081049194, 0.706009386726\n"
     ]
    }
   ],
   "source": [
    "print u\"O RMSE do modelo Lasso e o Score, são, respectivamente: {0}, {1}\".format(best_rmse_lasso, score_lasso)"
   ]
  },
  {
   "cell_type": "markdown",
   "metadata": {},
   "source": [
    "Os resíduos do modelo, isto é, a diferença entre o valor real e o valor previsto pelo modelo pode ser visto no gráfico abaixo."
   ]
  },
  {
   "cell_type": "code",
   "execution_count": 138,
   "metadata": {},
   "outputs": [
    {
     "data": {
      "image/png": "[encoded data removed]",
      "text/plain": [
       "<Figure size 432x288 with 1 Axes>"
      ]
     },
     "metadata": {},
     "output_type": "display_data"
    }
   ],
   "source": [
    "plot_res_vs_pred(model_lasso)"
   ]
  },
  {
   "cell_type": "code",
   "execution_count": null,
   "metadata": {},
   "outputs": [],
   "source": []
  },
  {
   "cell_type": "markdown",
   "metadata": {},
   "source": [
    "### 1.4 Modelo K-NN"
   ]
  },
  {
   "cell_type": "markdown",
   "metadata": {},
   "source": [
    "#### Implementando o modelo de regressão K-NN"
   ]
  },
  {
   "cell_type": "code",
   "execution_count": 139,
   "metadata": {},
   "outputs": [
    {
     "data": {
      "text/plain": [
       "0.6892855834266522"
      ]
     },
     "execution_count": 139,
     "metadata": {},
     "output_type": "execute_result"
    }
   ],
   "source": [
    "model_knn = KNeighborsRegressor()\n",
    "train_model(model_knn, False)"
   ]
  },
  {
   "cell_type": "markdown",
   "metadata": {},
   "source": [
    "#### Ajuste dos parâmetros do modelo de regressão K-NN"
   ]
  },
  {
   "cell_type": "markdown",
   "metadata": {},
   "source": [
    "A quantidade de vizinhos (k) é o parâmetro mais importante do algoritmo K-NN e define a quantidade de valores vizinhos de cada valor de entrada que o algoritmo deve considerar para estimar a saída. Por isso, usaremos cross-validation para encontrar o melhor valor deste parâmetro."
   ]
  },
  {
   "cell_type": "code",
   "execution_count": 140,
   "metadata": {},
   "outputs": [
    {
     "data": {
      "image/png": "[encoded data removed]",
      "text/plain": [
       "<Figure size 432x288 with 1 Axes>"
      ]
     },
     "metadata": {},
     "output_type": "display_data"
    }
   ],
   "source": [
    "n_neighbors = [1, 10, 25, 50, 100]\n",
    "cv_knn_rmse = [rmse_cv(KNeighborsRegressor(n_neighbors = n)).mean() \n",
    "            for n in n_neighbors]\n",
    "\n",
    "series_knn = pd.Series(cv_knn_rmse, index = n_neighbors)\n",
    "plot_rmse_param(series_knn, \"n_neighbors\")"
   ]
  },
  {
   "cell_type": "code",
   "execution_count": 141,
   "metadata": {},
   "outputs": [],
   "source": [
    "best_rmse_knn, best_param_knn = best_rmse_param(series_knn)\n",
    "\n",
    "model_knn = KNeighborsRegressor(n_neighbors = best_param_knn)\n",
    "score_knn = train_model(model_knn, False)"
   ]
  },
  {
   "cell_type": "markdown",
   "metadata": {},
   "source": [
    "#### Avaliando o modelo de regressão K-NN"
   ]
  },
  {
   "cell_type": "code",
   "execution_count": 142,
   "metadata": {},
   "outputs": [
    {
     "name": "stdout",
     "output_type": "stream",
     "text": [
      "O RMSE do modelo K-NN e o Score, são, respectivamente: 0.966658000264, 0.70819441125\n"
     ]
    }
   ],
   "source": [
    "print u\"O RMSE do modelo K-NN e o Score, são, respectivamente: {0}, {1}\".format(best_rmse_knn, score_knn)"
   ]
  },
  {
   "cell_type": "markdown",
   "metadata": {},
   "source": [
    "Os resíduos do modelo, isto é, a diferença entre o valor real e o valor previsto pelo modelo pode ser visto no gráfico abaixo."
   ]
  },
  {
   "cell_type": "code",
   "execution_count": 143,
   "metadata": {},
   "outputs": [
    {
     "data": {
      "image/png": "[encoded data removed]",
      "text/plain": [
       "<Figure size 432x288 with 1 Axes>"
      ]
     },
     "metadata": {},
     "output_type": "display_data"
    }
   ],
   "source": [
    "plot_res_vs_pred(model_knn)"
   ]
  },
  {
   "cell_type": "code",
   "execution_count": null,
   "metadata": {},
   "outputs": [],
   "source": []
  },
  {
   "cell_type": "markdown",
   "metadata": {},
   "source": [
    "### 1.5 Modelo SVR (Suport Vector Regression)"
   ]
  },
  {
   "cell_type": "markdown",
   "metadata": {},
   "source": [
    "#### Implementando o modelo SVR"
   ]
  },
  {
   "cell_type": "code",
   "execution_count": 144,
   "metadata": {},
   "outputs": [
    {
     "data": {
      "text/plain": [
       "0.7089499381621422"
      ]
     },
     "execution_count": 144,
     "metadata": {},
     "output_type": "execute_result"
    }
   ],
   "source": [
    "model_svr = SVR()\n",
    "train_model(model_svr, False)"
   ]
  },
  {
   "cell_type": "markdown",
   "metadata": {},
   "source": [
    "#### Ajuste dos parâmetros do modelo SVR"
   ]
  },
  {
   "cell_type": "markdown",
   "metadata": {},
   "source": [
    "O C é um parâmetro de penalidade importante no SVR, porque se for muito grande poderemos ter overffiting ou underffiting, caso contrário. Por isso, tentaremos encontrar o seu melhor valor."
   ]
  },
  {
   "cell_type": "code",
   "execution_count": 145,
   "metadata": {},
   "outputs": [
    {
     "data": {
      "image/png": "[encoded data removed]",
      "text/plain": [
       "<Figure size 432x288 with 1 Axes>"
      ]
     },
     "metadata": {},
     "output_type": "display_data"
    }
   ],
   "source": [
    "cs = [0.01, 1, 5, 10, 25, 50]\n",
    "cv_svr_rmse = [rmse_cv(SVR(C = c)).mean() \n",
    "            for c in cs]\n",
    "\n",
    "series_svr = pd.Series(cv_svr_rmse, index = cs)\n",
    "plot_rmse_param(series_svr, \"C\")"
   ]
  },
  {
   "cell_type": "code",
   "execution_count": 146,
   "metadata": {},
   "outputs": [],
   "source": [
    "best_rmse_svr, best_param_svr = best_rmse_param(series_svr)\n",
    "\n",
    "model_svr = SVR(C = best_param_svr)\n",
    "score_svr = train_model(model_svr, False)"
   ]
  },
  {
   "cell_type": "markdown",
   "metadata": {},
   "source": [
    "#### Avaliando o modelo de regressão SVR"
   ]
  },
  {
   "cell_type": "code",
   "execution_count": 147,
   "metadata": {},
   "outputs": [
    {
     "name": "stdout",
     "output_type": "stream",
     "text": [
      "O RMSE do modelo SVR e o Score, são, respectivamente: 0.907917984996, 0.749810274926\n"
     ]
    }
   ],
   "source": [
    "print u\"O RMSE do modelo SVR e o Score, são, respectivamente: {0}, {1}\".format(best_rmse_svr, score_svr)"
   ]
  },
  {
   "cell_type": "markdown",
   "metadata": {},
   "source": [
    "Os resíduos do modelo, isto é, a diferença entre o valor real e o valor previsto pelo modelo pode ser visto no gráfico abaixo."
   ]
  },
  {
   "cell_type": "code",
   "execution_count": 148,
   "metadata": {},
   "outputs": [
    {
     "data": {
      "image/png": "[encoded data removed]",
      "text/plain": [
       "<Figure size 432x288 with 1 Axes>"
      ]
     },
     "metadata": {},
     "output_type": "display_data"
    }
   ],
   "source": [
    "plot_res_vs_pred(model_svr)"
   ]
  },
  {
   "cell_type": "code",
   "execution_count": null,
   "metadata": {},
   "outputs": [],
   "source": []
  },
  {
   "cell_type": "markdown",
   "metadata": {},
   "source": [
    "### 1.6 Modelo RF (Random Forest)"
   ]
  },
  {
   "cell_type": "markdown",
   "metadata": {},
   "source": [
    "#### Implementando o modelo de regressão RF"
   ]
  },
  {
   "cell_type": "code",
   "execution_count": 149,
   "metadata": {},
   "outputs": [
    {
     "data": {
      "text/plain": [
       "0.6883077421154757"
      ]
     },
     "execution_count": 149,
     "metadata": {},
     "output_type": "execute_result"
    }
   ],
   "source": [
    "model_rf = RandomForestRegressor()\n",
    "train_model(model_rf, False)"
   ]
  },
  {
   "cell_type": "markdown",
   "metadata": {},
   "source": [
    "#### Ajuste dos parâmetros do modelo de regressão RF"
   ]
  },
  {
   "cell_type": "markdown",
   "metadata": {},
   "source": [
    "Um dos parâmetros mais importantes do Random Forest é a quantidade de estimadores, que representam a quantidade de árvores usadas no modelo. Em geral, quanto maior melhor o desempenho do modelo, porém mais memória é necessário.\n",
    "\n",
    "Abaixo, encontramos o melhor valor dado um intervalo de 1 à 20."
   ]
  },
  {
   "cell_type": "code",
   "execution_count": 150,
   "metadata": {},
   "outputs": [
    {
     "data": {
      "image/png": "[encoded data removed]",
      "text/plain": [
       "<Figure size 432x288 with 1 Axes>"
      ]
     },
     "metadata": {},
     "output_type": "display_data"
    }
   ],
   "source": [
    "n_estimators = [1, 10, 50, 100, 1000]\n",
    "cv_rf_rmse = [rmse_cv(RandomForestRegressor(n_estimators = n)).mean() \n",
    "            for n in n_estimators]\n",
    "\n",
    "series = pd.Series(cv_rf_rmse, index = n_estimators)\n",
    "plot_rmse_param(series, \"n_estimators\")"
   ]
  },
  {
   "cell_type": "code",
   "execution_count": 151,
   "metadata": {},
   "outputs": [],
   "source": [
    "best_rmse_rf, best_param_rf = best_rmse_param(series)\n",
    "\n",
    "model_rf = RandomForestRegressor(n_estimators = best_param_rf)\n",
    "score_rf = train_model(model_rf, False)"
   ]
  },
  {
   "cell_type": "markdown",
   "metadata": {},
   "source": [
    "#### Avaliando o modelo de regressão RF"
   ]
  },
  {
   "cell_type": "code",
   "execution_count": 152,
   "metadata": {},
   "outputs": [
    {
     "name": "stdout",
     "output_type": "stream",
     "text": [
      "O RMSE do modelo RF e o Score, são, respectivamente: 0.941134791095, 0.699582507761\n"
     ]
    }
   ],
   "source": [
    "print u\"O RMSE do modelo RF e o Score, são, respectivamente: {0}, {1}\".format(best_rmse_rf, score_rf)"
   ]
  },
  {
   "cell_type": "markdown",
   "metadata": {},
   "source": [
    "Os resíduos do modelo, isto é, a diferença entre o valor real e o valor previsto pelo modelo pode ser visto no gráfico abaixo."
   ]
  },
  {
   "cell_type": "code",
   "execution_count": 153,
   "metadata": {},
   "outputs": [
    {
     "data": {
      "image/png": "[encoded data removed]",
      "text/plain": [
       "<Figure size 432x288 with 1 Axes>"
      ]
     },
     "metadata": {},
     "output_type": "display_data"
    }
   ],
   "source": [
    "plot_res_vs_pred(model_rf)"
   ]
  },
  {
   "cell_type": "markdown",
   "metadata": {},
   "source": [
    "## Conclusões"
   ]
  },
  {
   "cell_type": "markdown",
   "metadata": {},
   "source": []
  },
  {
   "cell_type": "code",
   "execution_count": 154,
   "metadata": {},
   "outputs": [
    {
     "name": "stdout",
     "output_type": "stream",
     "text": [
      "           model      rmse\n",
      "0            knn  0.966658\n",
      "1            svr  0.907918\n",
      "2  ranfom_forest  0.941135\n",
      "3          lasso  0.950810\n",
      "4          ridge  0.948499\n"
     ]
    },
    {
     "data": {
      "text/plain": [
       "<matplotlib.axes._subplots.AxesSubplot at 0x7f62e49e4f10>"
      ]
     },
     "execution_count": 154,
     "metadata": {},
     "output_type": "execute_result"
    },
    {
     "data": {
      "image/png": "[encoded data removed]",
      "text/plain": [
       "<Figure size 432x288 with 1 Axes>"
      ]
     },
     "metadata": {},
     "output_type": "display_data"
    }
   ],
   "source": [
    "model_rmse = {'model': ['knn', 'svr', 'ranfom_forest', 'lasso', 'ridge'], \n",
    "     'rmse': [best_rmse_knn, best_rmse_svr, best_rmse_rf, best_rmse_lasso, best_rmse_ridge]}\n",
    "df_model_rmse = pd.DataFrame(data = model_rmse)\n",
    "\n",
    "print(df_model_rmse)\n",
    "df_model_rmse.plot.bar(x = 'model', y = 'rmse', sort_columns = True)"
   ]
  },
  {
   "cell_type": "code",
   "execution_count": null,
   "metadata": {},
   "outputs": [],
   "source": []
  }
 ],
 "metadata": {
  "kernelspec": {
   "display_name": "Python 2",
   "language": "python",
   "name": "python2"
  },
  "language_info": {
   "codemirror_mode": {
    "name": "ipython",
    "version": 2
   },
   "file_extension": ".py",
   "mimetype": "text/x-python",
   "name": "python",
   "nbconvert_exporter": "python",
   "pygments_lexer": "ipython2",
   "version": "2.7.15"
  }
 },
 "nbformat": 4,
 "nbformat_minor": 2
}
