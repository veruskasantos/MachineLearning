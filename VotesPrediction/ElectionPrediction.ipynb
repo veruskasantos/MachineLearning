{
 "cells": [
  {
   "cell_type": "markdown",
   "metadata": {},
   "source": [
    "# Predição da situação final de deputados federais nas eleições de 2014"
   ]
  },
  {
   "cell_type": "markdown",
   "metadata": {},
   "source": [
    "Nessa atividade você irá usar seus conhecimentos sobre classificação para prever quais candidatos à Câmara de Deputados foram eleitos nas eleições de 2014. De forma específica:\n",
    "\n",
    "1. Há desbalanceamento das classes (isto é, uma classe tem muito mais instâncias que outra)? Em que proporção? Quais efeitos colaterais o desbalanceamento de classes pode causar no classificador? Como você poderia tratar isso? (1 pt.)\n",
    "2. Treine: um modelo de regressão logística, KNN, uma árvore de decisão e um modelo de adaboost. Tune esses modelos usando validação cruzada e controle overfitting se necessário, considerando as particularidades de cada modelo.  (2 pts.)\n",
    "3. Reporte Precision, Recall e AUC-Precision&Recall no treino e validação. Há uma grande diferença de desempenho no treino/validação? Como você avalia os resultados? Justifique sua resposta. (2 pt.)\n",
    "4. Interprete as saídas dos modelos. Quais atributos parecem ser mais importantes de acordo com cada modelo?  (2 pts.)\n",
    "5. Envie seus melhores modelos (a saída deles) à competição do Kaggle. Faça pelo menos uma submissão. Sugestões para melhorar o modelo: (2 pts.)\n",
    "    - Experimente outros modelos (e.g. SVM, RandomForests e GradientBoosting).\n",
    "\n",
    "    - Experimente outras estratégias de ensembles (e.g. Stacking).\n",
    "\n",
    "    - Experimente balancear as classes,  caso estejam desbalanceadas.\n",
    "\n",
    "Os dados estão neste link: https://www.kaggle.com/c/ufcg-cdp-20182-lab3/data "
   ]
  },
  {
   "cell_type": "code",
   "execution_count": 36,
   "metadata": {},
   "outputs": [],
   "source": [
    "import pandas as pd\n",
    "import numpy as np\n",
    "import matplotlib\n",
    "import imblearn\n",
    "import csv\n",
    "import seaborn as sns\n",
    "\n",
    "import matplotlib.pyplot as plt\n",
    "\n",
    "from sklearn.model_selection import train_test_split, cross_val_score\n",
    "from sklearn.linear_model import LogisticRegression\n",
    "from sklearn.neighbors import KNeighborsClassifier\n",
    "from sklearn.tree import DecisionTreeClassifier\n",
    "from sklearn.ensemble import AdaBoostClassifier, RandomForestClassifier\n",
    "from sklearn.metrics import roc_curve, auc, accuracy_score,precision_recall_fscore_support\n",
    "\n",
    "from imblearn.combine import SMOTETomek"
   ]
  },
  {
   "cell_type": "markdown",
   "metadata": {},
   "source": [
    "## 1. Análise dos dados "
   ]
  },
  {
   "cell_type": "code",
   "execution_count": 37,
   "metadata": {},
   "outputs": [
    {
     "name": "stdout",
     "output_type": "stream",
     "text": [
      "(12214, 24)\n"
     ]
    },
    {
     "name": "stderr",
     "output_type": "stream",
     "text": [
      "c:\\python27\\lib\\site-packages\\ipykernel_launcher.py:9: FutureWarning: Sorting because non-concatenation axis is not aligned. A future version\n",
      "of pandas will change to not sort by default.\n",
      "\n",
      "To accept the future behavior, pass 'sort=False'.\n",
      "\n",
      "To retain the current behavior and silence the warning, pass 'sort=True'.\n",
      "\n",
      "  if __name__ == '__main__':\n"
     ]
    },
    {
     "data": {
      "text/html": [
       "<div>\n",
       "<style scoped>\n",
       "    .dataframe tbody tr th:only-of-type {\n",
       "        vertical-align: middle;\n",
       "    }\n",
       "\n",
       "    .dataframe tbody tr th {\n",
       "        vertical-align: top;\n",
       "    }\n",
       "\n",
       "    .dataframe thead th {\n",
       "        text-align: right;\n",
       "    }\n",
       "</style>\n",
       "<table border=\"1\" class=\"dataframe\">\n",
       "  <thead>\n",
       "    <tr style=\"text-align: right;\">\n",
       "      <th></th>\n",
       "      <th>ano</th>\n",
       "      <th>cargo</th>\n",
       "      <th>estado_civil</th>\n",
       "      <th>grau</th>\n",
       "      <th>media_despesa</th>\n",
       "      <th>media_receita</th>\n",
       "      <th>nome</th>\n",
       "      <th>ocupacao</th>\n",
       "      <th>partido</th>\n",
       "      <th>quantidade_despesas</th>\n",
       "      <th>...</th>\n",
       "      <th>recursos_de_partido_politico</th>\n",
       "      <th>recursos_de_pessoas_fisicas</th>\n",
       "      <th>recursos_de_pessoas_juridicas</th>\n",
       "      <th>recursos_proprios</th>\n",
       "      <th>sequencial_candidato</th>\n",
       "      <th>sexo</th>\n",
       "      <th>situacao</th>\n",
       "      <th>total_despesa</th>\n",
       "      <th>total_receita</th>\n",
       "      <th>uf</th>\n",
       "    </tr>\n",
       "  </thead>\n",
       "  <tbody>\n",
       "    <tr>\n",
       "      <th>0</th>\n",
       "      <td>2006</td>\n",
       "      <td>DEPUTADO FEDERAL</td>\n",
       "      <td>CASADO(A)</td>\n",
       "      <td>ENSINO MÉDIO COMPLETO</td>\n",
       "      <td>1184.54</td>\n",
       "      <td>2766.67</td>\n",
       "      <td>JOSÉ LUIZ NOGUEIRA DE SOUSA</td>\n",
       "      <td>VEREADOR</td>\n",
       "      <td>PT</td>\n",
       "      <td>14</td>\n",
       "      <td>...</td>\n",
       "      <td>0.0</td>\n",
       "      <td>9000.0</td>\n",
       "      <td>6300.00</td>\n",
       "      <td>1300.0</td>\n",
       "      <td>10001</td>\n",
       "      <td>MASCULINO</td>\n",
       "      <td>nao_eleito</td>\n",
       "      <td>16583.60</td>\n",
       "      <td>16600.00</td>\n",
       "      <td>AP</td>\n",
       "    </tr>\n",
       "    <tr>\n",
       "      <th>1</th>\n",
       "      <td>2006</td>\n",
       "      <td>DEPUTADO FEDERAL</td>\n",
       "      <td>SOLTEIRO(A)</td>\n",
       "      <td>SUPERIOR COMPLETO</td>\n",
       "      <td>846.92</td>\n",
       "      <td>1755.85</td>\n",
       "      <td>LOIVA DE OLIVEIRA</td>\n",
       "      <td>SERVIDOR PÚBLICO ESTADUAL</td>\n",
       "      <td>PT</td>\n",
       "      <td>24</td>\n",
       "      <td>...</td>\n",
       "      <td>0.0</td>\n",
       "      <td>15000.0</td>\n",
       "      <td>1000.00</td>\n",
       "      <td>201.0</td>\n",
       "      <td>10002</td>\n",
       "      <td>FEMININO</td>\n",
       "      <td>nao_eleito</td>\n",
       "      <td>20325.99</td>\n",
       "      <td>22826.00</td>\n",
       "      <td>RO</td>\n",
       "    </tr>\n",
       "    <tr>\n",
       "      <th>2</th>\n",
       "      <td>2006</td>\n",
       "      <td>DEPUTADO FEDERAL</td>\n",
       "      <td>VIÚVO(A)</td>\n",
       "      <td>SUPERIOR COMPLETO</td>\n",
       "      <td>1187.09</td>\n",
       "      <td>9301.22</td>\n",
       "      <td>MARIA DALVA DE SOUZA FIGUEIREDO</td>\n",
       "      <td>PEDAGOGO</td>\n",
       "      <td>PT</td>\n",
       "      <td>123</td>\n",
       "      <td>...</td>\n",
       "      <td>0.0</td>\n",
       "      <td>34150.0</td>\n",
       "      <td>62220.80</td>\n",
       "      <td>59500.0</td>\n",
       "      <td>10002</td>\n",
       "      <td>FEMININO</td>\n",
       "      <td>eleito</td>\n",
       "      <td>146011.70</td>\n",
       "      <td>158120.80</td>\n",
       "      <td>AP</td>\n",
       "    </tr>\n",
       "    <tr>\n",
       "      <th>3</th>\n",
       "      <td>2006</td>\n",
       "      <td>DEPUTADO FEDERAL</td>\n",
       "      <td>CASADO(A)</td>\n",
       "      <td>ENSINO MÉDIO INCOMPLETO</td>\n",
       "      <td>375.14</td>\n",
       "      <td>500.19</td>\n",
       "      <td>ROMALDO MILANI</td>\n",
       "      <td>MILITAR REFORMADO</td>\n",
       "      <td>PRONA</td>\n",
       "      <td>8</td>\n",
       "      <td>...</td>\n",
       "      <td>0.0</td>\n",
       "      <td>1150.0</td>\n",
       "      <td>1101.12</td>\n",
       "      <td>750.0</td>\n",
       "      <td>10002</td>\n",
       "      <td>MASCULINO</td>\n",
       "      <td>nao_eleito</td>\n",
       "      <td>3001.12</td>\n",
       "      <td>3001.12</td>\n",
       "      <td>MS</td>\n",
       "    </tr>\n",
       "    <tr>\n",
       "      <th>4</th>\n",
       "      <td>2006</td>\n",
       "      <td>DEPUTADO FEDERAL</td>\n",
       "      <td>CASADO(A)</td>\n",
       "      <td>ENSINO FUNDAMENTAL COMPLETO</td>\n",
       "      <td>875.31</td>\n",
       "      <td>2496.25</td>\n",
       "      <td>ANSELMO DE JESUS ABREU</td>\n",
       "      <td>DEPUTADO</td>\n",
       "      <td>PT</td>\n",
       "      <td>133</td>\n",
       "      <td>...</td>\n",
       "      <td>0.0</td>\n",
       "      <td>50878.0</td>\n",
       "      <td>0.00</td>\n",
       "      <td>68942.0</td>\n",
       "      <td>10003</td>\n",
       "      <td>MASCULINO</td>\n",
       "      <td>eleito</td>\n",
       "      <td>116416.64</td>\n",
       "      <td>119820.00</td>\n",
       "      <td>RO</td>\n",
       "    </tr>\n",
       "  </tbody>\n",
       "</table>\n",
       "<p>5 rows × 24 columns</p>\n",
       "</div>"
      ],
      "text/plain": [
       "    ano             cargo estado_civil                         grau  \\\n",
       "0  2006  DEPUTADO FEDERAL    CASADO(A)        ENSINO MÉDIO COMPLETO   \n",
       "1  2006  DEPUTADO FEDERAL  SOLTEIRO(A)            SUPERIOR COMPLETO   \n",
       "2  2006  DEPUTADO FEDERAL     VIÚVO(A)            SUPERIOR COMPLETO   \n",
       "3  2006  DEPUTADO FEDERAL    CASADO(A)      ENSINO MÉDIO INCOMPLETO   \n",
       "4  2006  DEPUTADO FEDERAL    CASADO(A)  ENSINO FUNDAMENTAL COMPLETO   \n",
       "\n",
       "   media_despesa  media_receita                             nome  \\\n",
       "0        1184.54        2766.67      JOSÉ LUIZ NOGUEIRA DE SOUSA   \n",
       "1         846.92        1755.85                LOIVA DE OLIVEIRA   \n",
       "2        1187.09        9301.22  MARIA DALVA DE SOUZA FIGUEIREDO   \n",
       "3         375.14         500.19                   ROMALDO MILANI   \n",
       "4         875.31        2496.25           ANSELMO DE JESUS ABREU   \n",
       "\n",
       "                    ocupacao partido  quantidade_despesas ...  \\\n",
       "0                   VEREADOR      PT                   14 ...   \n",
       "1  SERVIDOR PÚBLICO ESTADUAL      PT                   24 ...   \n",
       "2                   PEDAGOGO      PT                  123 ...   \n",
       "3          MILITAR REFORMADO   PRONA                    8 ...   \n",
       "4                   DEPUTADO      PT                  133 ...   \n",
       "\n",
       "   recursos_de_partido_politico  recursos_de_pessoas_fisicas  \\\n",
       "0                           0.0                       9000.0   \n",
       "1                           0.0                      15000.0   \n",
       "2                           0.0                      34150.0   \n",
       "3                           0.0                       1150.0   \n",
       "4                           0.0                      50878.0   \n",
       "\n",
       "   recursos_de_pessoas_juridicas  recursos_proprios  sequencial_candidato  \\\n",
       "0                        6300.00             1300.0                 10001   \n",
       "1                        1000.00              201.0                 10002   \n",
       "2                       62220.80            59500.0                 10002   \n",
       "3                        1101.12              750.0                 10002   \n",
       "4                           0.00            68942.0                 10003   \n",
       "\n",
       "        sexo    situacao  total_despesa  total_receita  uf  \n",
       "0  MASCULINO  nao_eleito       16583.60       16600.00  AP  \n",
       "1   FEMININO  nao_eleito       20325.99       22826.00  RO  \n",
       "2   FEMININO      eleito      146011.70      158120.80  AP  \n",
       "3  MASCULINO  nao_eleito        3001.12        3001.12  MS  \n",
       "4  MASCULINO      eleito      116416.64      119820.00  RO  \n",
       "\n",
       "[5 rows x 24 columns]"
      ]
     },
     "execution_count": 37,
     "metadata": {},
     "output_type": "execute_result"
    }
   ],
   "source": [
    "train_data = pd.read_csv(\"data/train2006a2010.csv\")\n",
    "test_data = pd.read_csv(\"data/test2014part.csv\")\n",
    "\n",
    "# load the dataset as a pandas data frame\n",
    "df_train_data = pd.DataFrame(train_data)\n",
    "df_test_data = pd.DataFrame(test_data)\n",
    "\n",
    "frames = [df_train_data, df_test_data]\n",
    "df_data = pd.concat(frames)\n",
    "\n",
    "# Fixing index by number of rows\n",
    "print(df_data.shape)\n",
    "df_data = df_data.reset_index(drop = True)\n",
    "df_data.head()"
   ]
  },
  {
   "cell_type": "code",
   "execution_count": 38,
   "metadata": {},
   "outputs": [
    {
     "name": "stdout",
     "output_type": "stream",
     "text": [
      "(7622, 24)\n"
     ]
    },
    {
     "data": {
      "text/html": [
       "<div>\n",
       "<style scoped>\n",
       "    .dataframe tbody tr th:only-of-type {\n",
       "        vertical-align: middle;\n",
       "    }\n",
       "\n",
       "    .dataframe tbody tr th {\n",
       "        vertical-align: top;\n",
       "    }\n",
       "\n",
       "    .dataframe thead th {\n",
       "        text-align: right;\n",
       "    }\n",
       "</style>\n",
       "<table border=\"1\" class=\"dataframe\">\n",
       "  <thead>\n",
       "    <tr style=\"text-align: right;\">\n",
       "      <th></th>\n",
       "      <th>ano</th>\n",
       "      <th>sequencial_candidato</th>\n",
       "      <th>nome</th>\n",
       "      <th>uf</th>\n",
       "      <th>partido</th>\n",
       "      <th>quantidade_doacoes</th>\n",
       "      <th>quantidade_doadores</th>\n",
       "      <th>total_receita</th>\n",
       "      <th>media_receita</th>\n",
       "      <th>recursos_de_outros_candidatos.comites</th>\n",
       "      <th>...</th>\n",
       "      <th>quantidade_despesas</th>\n",
       "      <th>quantidade_fornecedores</th>\n",
       "      <th>total_despesa</th>\n",
       "      <th>media_despesa</th>\n",
       "      <th>cargo</th>\n",
       "      <th>sexo</th>\n",
       "      <th>grau</th>\n",
       "      <th>estado_civil</th>\n",
       "      <th>ocupacao</th>\n",
       "      <th>situacao</th>\n",
       "    </tr>\n",
       "  </thead>\n",
       "  <tbody>\n",
       "    <tr>\n",
       "      <th>0</th>\n",
       "      <td>2006</td>\n",
       "      <td>10001</td>\n",
       "      <td>JOSÉ LUIZ NOGUEIRA DE SOUSA</td>\n",
       "      <td>AP</td>\n",
       "      <td>PT</td>\n",
       "      <td>6</td>\n",
       "      <td>6</td>\n",
       "      <td>16600.00</td>\n",
       "      <td>2766.67</td>\n",
       "      <td>0.0</td>\n",
       "      <td>...</td>\n",
       "      <td>14</td>\n",
       "      <td>14</td>\n",
       "      <td>16583.60</td>\n",
       "      <td>1184.54</td>\n",
       "      <td>DEPUTADO FEDERAL</td>\n",
       "      <td>MASCULINO</td>\n",
       "      <td>ENSINO MÉDIO COMPLETO</td>\n",
       "      <td>CASADO(A)</td>\n",
       "      <td>VEREADOR</td>\n",
       "      <td>nao_eleito</td>\n",
       "    </tr>\n",
       "    <tr>\n",
       "      <th>1</th>\n",
       "      <td>2006</td>\n",
       "      <td>10002</td>\n",
       "      <td>LOIVA DE OLIVEIRA</td>\n",
       "      <td>RO</td>\n",
       "      <td>PT</td>\n",
       "      <td>13</td>\n",
       "      <td>13</td>\n",
       "      <td>22826.00</td>\n",
       "      <td>1755.85</td>\n",
       "      <td>6625.0</td>\n",
       "      <td>...</td>\n",
       "      <td>24</td>\n",
       "      <td>23</td>\n",
       "      <td>20325.99</td>\n",
       "      <td>846.92</td>\n",
       "      <td>DEPUTADO FEDERAL</td>\n",
       "      <td>FEMININO</td>\n",
       "      <td>SUPERIOR COMPLETO</td>\n",
       "      <td>SOLTEIRO(A)</td>\n",
       "      <td>SERVIDOR PÚBLICO ESTADUAL</td>\n",
       "      <td>nao_eleito</td>\n",
       "    </tr>\n",
       "    <tr>\n",
       "      <th>2</th>\n",
       "      <td>2006</td>\n",
       "      <td>10002</td>\n",
       "      <td>MARIA DALVA DE SOUZA FIGUEIREDO</td>\n",
       "      <td>AP</td>\n",
       "      <td>PT</td>\n",
       "      <td>17</td>\n",
       "      <td>16</td>\n",
       "      <td>158120.80</td>\n",
       "      <td>9301.22</td>\n",
       "      <td>2250.0</td>\n",
       "      <td>...</td>\n",
       "      <td>123</td>\n",
       "      <td>108</td>\n",
       "      <td>146011.70</td>\n",
       "      <td>1187.09</td>\n",
       "      <td>DEPUTADO FEDERAL</td>\n",
       "      <td>FEMININO</td>\n",
       "      <td>SUPERIOR COMPLETO</td>\n",
       "      <td>VIÚVO(A)</td>\n",
       "      <td>PEDAGOGO</td>\n",
       "      <td>eleito</td>\n",
       "    </tr>\n",
       "    <tr>\n",
       "      <th>3</th>\n",
       "      <td>2006</td>\n",
       "      <td>10002</td>\n",
       "      <td>ROMALDO MILANI</td>\n",
       "      <td>MS</td>\n",
       "      <td>PRONA</td>\n",
       "      <td>6</td>\n",
       "      <td>6</td>\n",
       "      <td>3001.12</td>\n",
       "      <td>500.19</td>\n",
       "      <td>0.0</td>\n",
       "      <td>...</td>\n",
       "      <td>8</td>\n",
       "      <td>8</td>\n",
       "      <td>3001.12</td>\n",
       "      <td>375.14</td>\n",
       "      <td>DEPUTADO FEDERAL</td>\n",
       "      <td>MASCULINO</td>\n",
       "      <td>ENSINO MÉDIO INCOMPLETO</td>\n",
       "      <td>CASADO(A)</td>\n",
       "      <td>MILITAR REFORMADO</td>\n",
       "      <td>nao_eleito</td>\n",
       "    </tr>\n",
       "    <tr>\n",
       "      <th>4</th>\n",
       "      <td>2006</td>\n",
       "      <td>10003</td>\n",
       "      <td>ANSELMO DE JESUS ABREU</td>\n",
       "      <td>RO</td>\n",
       "      <td>PT</td>\n",
       "      <td>48</td>\n",
       "      <td>48</td>\n",
       "      <td>119820.00</td>\n",
       "      <td>2496.25</td>\n",
       "      <td>0.0</td>\n",
       "      <td>...</td>\n",
       "      <td>133</td>\n",
       "      <td>120</td>\n",
       "      <td>116416.64</td>\n",
       "      <td>875.31</td>\n",
       "      <td>DEPUTADO FEDERAL</td>\n",
       "      <td>MASCULINO</td>\n",
       "      <td>ENSINO FUNDAMENTAL COMPLETO</td>\n",
       "      <td>CASADO(A)</td>\n",
       "      <td>DEPUTADO</td>\n",
       "      <td>eleito</td>\n",
       "    </tr>\n",
       "  </tbody>\n",
       "</table>\n",
       "<p>5 rows × 24 columns</p>\n",
       "</div>"
      ],
      "text/plain": [
       "    ano  sequencial_candidato                             nome  uf partido  \\\n",
       "0  2006                 10001      JOSÉ LUIZ NOGUEIRA DE SOUSA  AP      PT   \n",
       "1  2006                 10002                LOIVA DE OLIVEIRA  RO      PT   \n",
       "2  2006                 10002  MARIA DALVA DE SOUZA FIGUEIREDO  AP      PT   \n",
       "3  2006                 10002                   ROMALDO MILANI  MS   PRONA   \n",
       "4  2006                 10003           ANSELMO DE JESUS ABREU  RO      PT   \n",
       "\n",
       "   quantidade_doacoes  quantidade_doadores  total_receita  media_receita  \\\n",
       "0                   6                    6       16600.00        2766.67   \n",
       "1                  13                   13       22826.00        1755.85   \n",
       "2                  17                   16      158120.80        9301.22   \n",
       "3                   6                    6        3001.12         500.19   \n",
       "4                  48                   48      119820.00        2496.25   \n",
       "\n",
       "   recursos_de_outros_candidatos.comites     ...      quantidade_despesas  \\\n",
       "0                                    0.0     ...                       14   \n",
       "1                                 6625.0     ...                       24   \n",
       "2                                 2250.0     ...                      123   \n",
       "3                                    0.0     ...                        8   \n",
       "4                                    0.0     ...                      133   \n",
       "\n",
       "   quantidade_fornecedores  total_despesa  media_despesa             cargo  \\\n",
       "0                       14       16583.60        1184.54  DEPUTADO FEDERAL   \n",
       "1                       23       20325.99         846.92  DEPUTADO FEDERAL   \n",
       "2                      108      146011.70        1187.09  DEPUTADO FEDERAL   \n",
       "3                        8        3001.12         375.14  DEPUTADO FEDERAL   \n",
       "4                      120      116416.64         875.31  DEPUTADO FEDERAL   \n",
       "\n",
       "        sexo                         grau  estado_civil  \\\n",
       "0  MASCULINO        ENSINO MÉDIO COMPLETO     CASADO(A)   \n",
       "1   FEMININO            SUPERIOR COMPLETO   SOLTEIRO(A)   \n",
       "2   FEMININO            SUPERIOR COMPLETO      VIÚVO(A)   \n",
       "3  MASCULINO      ENSINO MÉDIO INCOMPLETO     CASADO(A)   \n",
       "4  MASCULINO  ENSINO FUNDAMENTAL COMPLETO     CASADO(A)   \n",
       "\n",
       "                    ocupacao    situacao  \n",
       "0                   VEREADOR  nao_eleito  \n",
       "1  SERVIDOR PÚBLICO ESTADUAL  nao_eleito  \n",
       "2                   PEDAGOGO      eleito  \n",
       "3          MILITAR REFORMADO  nao_eleito  \n",
       "4                   DEPUTADO      eleito  \n",
       "\n",
       "[5 rows x 24 columns]"
      ]
     },
     "execution_count": 38,
     "metadata": {},
     "output_type": "execute_result"
    }
   ],
   "source": [
    "print(df_train_data.shape)\n",
    "df_train_data.head()"
   ]
  },
  {
   "cell_type": "code",
   "execution_count": 39,
   "metadata": {},
   "outputs": [
    {
     "name": "stdout",
     "output_type": "stream",
     "text": [
      "(4592, 23)\n"
     ]
    },
    {
     "data": {
      "text/html": [
       "<div>\n",
       "<style scoped>\n",
       "    .dataframe tbody tr th:only-of-type {\n",
       "        vertical-align: middle;\n",
       "    }\n",
       "\n",
       "    .dataframe tbody tr th {\n",
       "        vertical-align: top;\n",
       "    }\n",
       "\n",
       "    .dataframe thead th {\n",
       "        text-align: right;\n",
       "    }\n",
       "</style>\n",
       "<table border=\"1\" class=\"dataframe\">\n",
       "  <thead>\n",
       "    <tr style=\"text-align: right;\">\n",
       "      <th></th>\n",
       "      <th>ano</th>\n",
       "      <th>sequencial_candidato</th>\n",
       "      <th>nome</th>\n",
       "      <th>uf</th>\n",
       "      <th>partido</th>\n",
       "      <th>quantidade_doacoes</th>\n",
       "      <th>quantidade_doadores</th>\n",
       "      <th>total_receita</th>\n",
       "      <th>media_receita</th>\n",
       "      <th>recursos_de_outros_candidatos.comites</th>\n",
       "      <th>...</th>\n",
       "      <th>recursos_de_partido_politico</th>\n",
       "      <th>quantidade_despesas</th>\n",
       "      <th>quantidade_fornecedores</th>\n",
       "      <th>total_despesa</th>\n",
       "      <th>media_despesa</th>\n",
       "      <th>cargo</th>\n",
       "      <th>sexo</th>\n",
       "      <th>grau</th>\n",
       "      <th>estado_civil</th>\n",
       "      <th>ocupacao</th>\n",
       "    </tr>\n",
       "  </thead>\n",
       "  <tbody>\n",
       "    <tr>\n",
       "      <th>0</th>\n",
       "      <td>2014</td>\n",
       "      <td>10000000135</td>\n",
       "      <td>EMERSON DA SILVA SANTOS</td>\n",
       "      <td>AC</td>\n",
       "      <td>PSOL</td>\n",
       "      <td>3</td>\n",
       "      <td>3</td>\n",
       "      <td>1580.00</td>\n",
       "      <td>526.67</td>\n",
       "      <td>0.00</td>\n",
       "      <td>...</td>\n",
       "      <td>80.0</td>\n",
       "      <td>3</td>\n",
       "      <td>3</td>\n",
       "      <td>1580.00</td>\n",
       "      <td>526.67</td>\n",
       "      <td>DEPUTADO FEDERAL</td>\n",
       "      <td>MASCULINO</td>\n",
       "      <td>ENSINO MÉDIO COMPLETO</td>\n",
       "      <td>SOLTEIRO(A)</td>\n",
       "      <td>CORRETOR DE IMÓVEIS, SEGUROS, TÍTULOS E VALORES</td>\n",
       "    </tr>\n",
       "    <tr>\n",
       "      <th>1</th>\n",
       "      <td>2014</td>\n",
       "      <td>10000000142</td>\n",
       "      <td>GERALDO SILVA DOS SANTOS</td>\n",
       "      <td>AC</td>\n",
       "      <td>PSOL</td>\n",
       "      <td>5</td>\n",
       "      <td>5</td>\n",
       "      <td>3180.00</td>\n",
       "      <td>636.00</td>\n",
       "      <td>0.00</td>\n",
       "      <td>...</td>\n",
       "      <td>80.0</td>\n",
       "      <td>6</td>\n",
       "      <td>5</td>\n",
       "      <td>3130.02</td>\n",
       "      <td>521.67</td>\n",
       "      <td>DEPUTADO FEDERAL</td>\n",
       "      <td>MASCULINO</td>\n",
       "      <td>SUPERIOR COMPLETO</td>\n",
       "      <td>SOLTEIRO(A)</td>\n",
       "      <td>VIGILANTE</td>\n",
       "    </tr>\n",
       "    <tr>\n",
       "      <th>2</th>\n",
       "      <td>2014</td>\n",
       "      <td>10000000158</td>\n",
       "      <td>CARLOS CESAR CORREIA DE MESSIAS</td>\n",
       "      <td>AC</td>\n",
       "      <td>PSB</td>\n",
       "      <td>40</td>\n",
       "      <td>38</td>\n",
       "      <td>336793.13</td>\n",
       "      <td>8419.83</td>\n",
       "      <td>1923.07</td>\n",
       "      <td>...</td>\n",
       "      <td>0.0</td>\n",
       "      <td>145</td>\n",
       "      <td>139</td>\n",
       "      <td>326869.78</td>\n",
       "      <td>2254.27</td>\n",
       "      <td>DEPUTADO FEDERAL</td>\n",
       "      <td>MASCULINO</td>\n",
       "      <td>ENSINO FUNDAMENTAL INCOMPLETO</td>\n",
       "      <td>CASADO(A)</td>\n",
       "      <td>OUTROS</td>\n",
       "    </tr>\n",
       "    <tr>\n",
       "      <th>3</th>\n",
       "      <td>2014</td>\n",
       "      <td>10000000161</td>\n",
       "      <td>IDESIO LUIS FRANKE</td>\n",
       "      <td>AC</td>\n",
       "      <td>PT</td>\n",
       "      <td>29</td>\n",
       "      <td>29</td>\n",
       "      <td>156719.32</td>\n",
       "      <td>5404.11</td>\n",
       "      <td>39122.32</td>\n",
       "      <td>...</td>\n",
       "      <td>25000.0</td>\n",
       "      <td>136</td>\n",
       "      <td>121</td>\n",
       "      <td>241016.07</td>\n",
       "      <td>1772.18</td>\n",
       "      <td>DEPUTADO FEDERAL</td>\n",
       "      <td>MASCULINO</td>\n",
       "      <td>SUPERIOR COMPLETO</td>\n",
       "      <td>CASADO(A)</td>\n",
       "      <td>AGRÔNOMO</td>\n",
       "    </tr>\n",
       "    <tr>\n",
       "      <th>4</th>\n",
       "      <td>2014</td>\n",
       "      <td>10000000163</td>\n",
       "      <td>LEONARDO CUNHA DE BRITO</td>\n",
       "      <td>AC</td>\n",
       "      <td>PT</td>\n",
       "      <td>160</td>\n",
       "      <td>146</td>\n",
       "      <td>737073.00</td>\n",
       "      <td>4606.71</td>\n",
       "      <td>10000.00</td>\n",
       "      <td>...</td>\n",
       "      <td>25000.0</td>\n",
       "      <td>518</td>\n",
       "      <td>354</td>\n",
       "      <td>567401.15</td>\n",
       "      <td>1095.37</td>\n",
       "      <td>DEPUTADO FEDERAL</td>\n",
       "      <td>MASCULINO</td>\n",
       "      <td>SUPERIOR COMPLETO</td>\n",
       "      <td>CASADO(A)</td>\n",
       "      <td>ADVOGADO</td>\n",
       "    </tr>\n",
       "  </tbody>\n",
       "</table>\n",
       "<p>5 rows × 23 columns</p>\n",
       "</div>"
      ],
      "text/plain": [
       "    ano  sequencial_candidato                             nome  uf partido  \\\n",
       "0  2014           10000000135          EMERSON DA SILVA SANTOS  AC    PSOL   \n",
       "1  2014           10000000142         GERALDO SILVA DOS SANTOS  AC    PSOL   \n",
       "2  2014           10000000158  CARLOS CESAR CORREIA DE MESSIAS  AC     PSB   \n",
       "3  2014           10000000161               IDESIO LUIS FRANKE  AC      PT   \n",
       "4  2014           10000000163          LEONARDO CUNHA DE BRITO  AC      PT   \n",
       "\n",
       "   quantidade_doacoes  quantidade_doadores  total_receita  media_receita  \\\n",
       "0                   3                    3        1580.00         526.67   \n",
       "1                   5                    5        3180.00         636.00   \n",
       "2                  40                   38      336793.13        8419.83   \n",
       "3                  29                   29      156719.32        5404.11   \n",
       "4                 160                  146      737073.00        4606.71   \n",
       "\n",
       "   recursos_de_outros_candidatos.comites  \\\n",
       "0                                   0.00   \n",
       "1                                   0.00   \n",
       "2                                1923.07   \n",
       "3                               39122.32   \n",
       "4                               10000.00   \n",
       "\n",
       "                        ...                         \\\n",
       "0                       ...                          \n",
       "1                       ...                          \n",
       "2                       ...                          \n",
       "3                       ...                          \n",
       "4                       ...                          \n",
       "\n",
       "   recursos_de_partido_politico  quantidade_despesas  quantidade_fornecedores  \\\n",
       "0                          80.0                    3                        3   \n",
       "1                          80.0                    6                        5   \n",
       "2                           0.0                  145                      139   \n",
       "3                       25000.0                  136                      121   \n",
       "4                       25000.0                  518                      354   \n",
       "\n",
       "   total_despesa  media_despesa             cargo       sexo  \\\n",
       "0        1580.00         526.67  DEPUTADO FEDERAL  MASCULINO   \n",
       "1        3130.02         521.67  DEPUTADO FEDERAL  MASCULINO   \n",
       "2      326869.78        2254.27  DEPUTADO FEDERAL  MASCULINO   \n",
       "3      241016.07        1772.18  DEPUTADO FEDERAL  MASCULINO   \n",
       "4      567401.15        1095.37  DEPUTADO FEDERAL  MASCULINO   \n",
       "\n",
       "                            grau estado_civil  \\\n",
       "0          ENSINO MÉDIO COMPLETO  SOLTEIRO(A)   \n",
       "1              SUPERIOR COMPLETO  SOLTEIRO(A)   \n",
       "2  ENSINO FUNDAMENTAL INCOMPLETO    CASADO(A)   \n",
       "3              SUPERIOR COMPLETO    CASADO(A)   \n",
       "4              SUPERIOR COMPLETO    CASADO(A)   \n",
       "\n",
       "                                          ocupacao  \n",
       "0  CORRETOR DE IMÓVEIS, SEGUROS, TÍTULOS E VALORES  \n",
       "1                                        VIGILANTE  \n",
       "2                                           OUTROS  \n",
       "3                                         AGRÔNOMO  \n",
       "4                                         ADVOGADO  \n",
       "\n",
       "[5 rows x 23 columns]"
      ]
     },
     "execution_count": 39,
     "metadata": {},
     "output_type": "execute_result"
    }
   ],
   "source": [
    "print(df_test_data.shape)\n",
    "df_test_data.head()"
   ]
  },
  {
   "cell_type": "markdown",
   "metadata": {},
   "source": [
    "Todos os dados de treinamento estão rotulados, mas os de teste não."
   ]
  },
  {
   "cell_type": "code",
   "execution_count": 40,
   "metadata": {},
   "outputs": [
    {
     "data": {
      "text/plain": [
       "(4592, 24)"
      ]
     },
     "execution_count": 40,
     "metadata": {},
     "output_type": "execute_result"
    }
   ],
   "source": [
    "df_data[df_data.situacao.isnull()].shape"
   ]
  },
  {
   "cell_type": "markdown",
   "metadata": {},
   "source": [
    "### Processamento dos dados"
   ]
  },
  {
   "cell_type": "markdown",
   "metadata": {},
   "source": [
    "- Remoção de variáveis não relevantes.\n",
    "- Tratamento das features numéricas com valores ausentes (NaN's);\n",
    "- Transformação das variáveis categóricas."
   ]
  },
  {
   "cell_type": "markdown",
   "metadata": {},
   "source": [
    "#### Remoção de variáveis"
   ]
  },
  {
   "cell_type": "markdown",
   "metadata": {},
   "source": [
    "Optou-se por excluir a variável **nome**, porque ela não influencia na quantidade de votos e possui muitos valores categóricos, e **cargo**, porque só apresenta um valor. Foram também excluídas **media_receita** e **media_despesa**, porque estas variáveis são derivações de outras 2 colunas."
   ]
  },
  {
   "cell_type": "code",
   "execution_count": 41,
   "metadata": {},
   "outputs": [
    {
     "name": "stdout",
     "output_type": "stream",
     "text": [
      "(12214, 24)\n",
      "(12214, 20)\n"
     ]
    }
   ],
   "source": [
    "print(df_data.shape)\n",
    "\n",
    "#removing collumns\n",
    "df_data = df_data.drop(['nome', 'cargo', 'media_receita', 'media_despesa'], 1)\n",
    "\n",
    "print(df_data.shape)"
   ]
  },
  {
   "cell_type": "markdown",
   "metadata": {},
   "source": [
    "#### Checando variáveis com valores NaN"
   ]
  },
  {
   "cell_type": "code",
   "execution_count": 42,
   "metadata": {},
   "outputs": [
    {
     "data": {
      "text/plain": [
       "ano                                      False\n",
       "estado_civil                             False\n",
       "grau                                     False\n",
       "ocupacao                                 False\n",
       "partido                                  False\n",
       "quantidade_despesas                      False\n",
       "quantidade_doacoes                       False\n",
       "quantidade_doadores                      False\n",
       "quantidade_fornecedores                  False\n",
       "recursos_de_outros_candidatos.comites    False\n",
       "recursos_de_partido_politico             False\n",
       "recursos_de_pessoas_fisicas              False\n",
       "recursos_de_pessoas_juridicas            False\n",
       "recursos_proprios                        False\n",
       "sequencial_candidato                     False\n",
       "sexo                                     False\n",
       "situacao                                  True\n",
       "total_despesa                            False\n",
       "total_receita                            False\n",
       "uf                                       False\n",
       "dtype: bool"
      ]
     },
     "execution_count": 42,
     "metadata": {},
     "output_type": "execute_result"
    }
   ],
   "source": [
    "df_data.isnull().any()"
   ]
  },
  {
   "cell_type": "markdown",
   "metadata": {},
   "source": [
    "A única variável com valores nulos é **situação**, que, neste caso, são os valores referentes aos dados de teste. Portanto, não os preencheremos, porque mais adiante separaremos o conjunto em dados de traino/validação e teste."
   ]
  },
  {
   "cell_type": "markdown",
   "metadata": {},
   "source": [
    "#### Transformação das variáveis categóricas"
   ]
  },
  {
   "cell_type": "markdown",
   "metadata": {},
   "source": [
    "As variáveis categóricas presentes nos dados, como **ocupação** e **estado_civil**, serão transformadas em variáveis numéricas, a fim de permitir a sua utilização nos modelos de regressão logo a seguir."
   ]
  },
  {
   "cell_type": "code",
   "execution_count": 43,
   "metadata": {},
   "outputs": [
    {
     "name": "stdout",
     "output_type": "stream",
     "text": [
      "(12214, 262)\n"
     ]
    },
    {
     "data": {
      "text/html": [
       "<div>\n",
       "<style scoped>\n",
       "    .dataframe tbody tr th:only-of-type {\n",
       "        vertical-align: middle;\n",
       "    }\n",
       "\n",
       "    .dataframe tbody tr th {\n",
       "        vertical-align: top;\n",
       "    }\n",
       "\n",
       "    .dataframe thead th {\n",
       "        text-align: right;\n",
       "    }\n",
       "</style>\n",
       "<table border=\"1\" class=\"dataframe\">\n",
       "  <thead>\n",
       "    <tr style=\"text-align: right;\">\n",
       "      <th></th>\n",
       "      <th>ano</th>\n",
       "      <th>quantidade_despesas</th>\n",
       "      <th>quantidade_doacoes</th>\n",
       "      <th>quantidade_doadores</th>\n",
       "      <th>quantidade_fornecedores</th>\n",
       "      <th>recursos_de_outros_candidatos.comites</th>\n",
       "      <th>recursos_de_partido_politico</th>\n",
       "      <th>recursos_de_pessoas_fisicas</th>\n",
       "      <th>recursos_de_pessoas_juridicas</th>\n",
       "      <th>recursos_proprios</th>\n",
       "      <th>...</th>\n",
       "      <th>uf_PR</th>\n",
       "      <th>uf_RJ</th>\n",
       "      <th>uf_RN</th>\n",
       "      <th>uf_RO</th>\n",
       "      <th>uf_RR</th>\n",
       "      <th>uf_RS</th>\n",
       "      <th>uf_SC</th>\n",
       "      <th>uf_SE</th>\n",
       "      <th>uf_SP</th>\n",
       "      <th>uf_TO</th>\n",
       "    </tr>\n",
       "  </thead>\n",
       "  <tbody>\n",
       "    <tr>\n",
       "      <th>0</th>\n",
       "      <td>2006</td>\n",
       "      <td>14</td>\n",
       "      <td>6</td>\n",
       "      <td>6</td>\n",
       "      <td>14</td>\n",
       "      <td>0.0</td>\n",
       "      <td>0.0</td>\n",
       "      <td>9000.0</td>\n",
       "      <td>6300.00</td>\n",
       "      <td>1300.0</td>\n",
       "      <td>...</td>\n",
       "      <td>0</td>\n",
       "      <td>0</td>\n",
       "      <td>0</td>\n",
       "      <td>0</td>\n",
       "      <td>0</td>\n",
       "      <td>0</td>\n",
       "      <td>0</td>\n",
       "      <td>0</td>\n",
       "      <td>0</td>\n",
       "      <td>0</td>\n",
       "    </tr>\n",
       "    <tr>\n",
       "      <th>1</th>\n",
       "      <td>2006</td>\n",
       "      <td>24</td>\n",
       "      <td>13</td>\n",
       "      <td>13</td>\n",
       "      <td>23</td>\n",
       "      <td>6625.0</td>\n",
       "      <td>0.0</td>\n",
       "      <td>15000.0</td>\n",
       "      <td>1000.00</td>\n",
       "      <td>201.0</td>\n",
       "      <td>...</td>\n",
       "      <td>0</td>\n",
       "      <td>0</td>\n",
       "      <td>0</td>\n",
       "      <td>1</td>\n",
       "      <td>0</td>\n",
       "      <td>0</td>\n",
       "      <td>0</td>\n",
       "      <td>0</td>\n",
       "      <td>0</td>\n",
       "      <td>0</td>\n",
       "    </tr>\n",
       "    <tr>\n",
       "      <th>2</th>\n",
       "      <td>2006</td>\n",
       "      <td>123</td>\n",
       "      <td>17</td>\n",
       "      <td>16</td>\n",
       "      <td>108</td>\n",
       "      <td>2250.0</td>\n",
       "      <td>0.0</td>\n",
       "      <td>34150.0</td>\n",
       "      <td>62220.80</td>\n",
       "      <td>59500.0</td>\n",
       "      <td>...</td>\n",
       "      <td>0</td>\n",
       "      <td>0</td>\n",
       "      <td>0</td>\n",
       "      <td>0</td>\n",
       "      <td>0</td>\n",
       "      <td>0</td>\n",
       "      <td>0</td>\n",
       "      <td>0</td>\n",
       "      <td>0</td>\n",
       "      <td>0</td>\n",
       "    </tr>\n",
       "    <tr>\n",
       "      <th>3</th>\n",
       "      <td>2006</td>\n",
       "      <td>8</td>\n",
       "      <td>6</td>\n",
       "      <td>6</td>\n",
       "      <td>8</td>\n",
       "      <td>0.0</td>\n",
       "      <td>0.0</td>\n",
       "      <td>1150.0</td>\n",
       "      <td>1101.12</td>\n",
       "      <td>750.0</td>\n",
       "      <td>...</td>\n",
       "      <td>0</td>\n",
       "      <td>0</td>\n",
       "      <td>0</td>\n",
       "      <td>0</td>\n",
       "      <td>0</td>\n",
       "      <td>0</td>\n",
       "      <td>0</td>\n",
       "      <td>0</td>\n",
       "      <td>0</td>\n",
       "      <td>0</td>\n",
       "    </tr>\n",
       "    <tr>\n",
       "      <th>4</th>\n",
       "      <td>2006</td>\n",
       "      <td>133</td>\n",
       "      <td>48</td>\n",
       "      <td>48</td>\n",
       "      <td>120</td>\n",
       "      <td>0.0</td>\n",
       "      <td>0.0</td>\n",
       "      <td>50878.0</td>\n",
       "      <td>0.00</td>\n",
       "      <td>68942.0</td>\n",
       "      <td>...</td>\n",
       "      <td>0</td>\n",
       "      <td>0</td>\n",
       "      <td>0</td>\n",
       "      <td>1</td>\n",
       "      <td>0</td>\n",
       "      <td>0</td>\n",
       "      <td>0</td>\n",
       "      <td>0</td>\n",
       "      <td>0</td>\n",
       "      <td>0</td>\n",
       "    </tr>\n",
       "  </tbody>\n",
       "</table>\n",
       "<p>5 rows × 262 columns</p>\n",
       "</div>"
      ],
      "text/plain": [
       "    ano  quantidade_despesas  quantidade_doacoes  quantidade_doadores  \\\n",
       "0  2006                   14                   6                    6   \n",
       "1  2006                   24                  13                   13   \n",
       "2  2006                  123                  17                   16   \n",
       "3  2006                    8                   6                    6   \n",
       "4  2006                  133                  48                   48   \n",
       "\n",
       "   quantidade_fornecedores  recursos_de_outros_candidatos.comites  \\\n",
       "0                       14                                    0.0   \n",
       "1                       23                                 6625.0   \n",
       "2                      108                                 2250.0   \n",
       "3                        8                                    0.0   \n",
       "4                      120                                    0.0   \n",
       "\n",
       "   recursos_de_partido_politico  recursos_de_pessoas_fisicas  \\\n",
       "0                           0.0                       9000.0   \n",
       "1                           0.0                      15000.0   \n",
       "2                           0.0                      34150.0   \n",
       "3                           0.0                       1150.0   \n",
       "4                           0.0                      50878.0   \n",
       "\n",
       "   recursos_de_pessoas_juridicas  recursos_proprios  ...    uf_PR  uf_RJ  \\\n",
       "0                        6300.00             1300.0  ...        0      0   \n",
       "1                        1000.00              201.0  ...        0      0   \n",
       "2                       62220.80            59500.0  ...        0      0   \n",
       "3                        1101.12              750.0  ...        0      0   \n",
       "4                           0.00            68942.0  ...        0      0   \n",
       "\n",
       "   uf_RN  uf_RO  uf_RR  uf_RS  uf_SC  uf_SE  uf_SP  uf_TO  \n",
       "0      0      0      0      0      0      0      0      0  \n",
       "1      0      1      0      0      0      0      0      0  \n",
       "2      0      0      0      0      0      0      0      0  \n",
       "3      0      0      0      0      0      0      0      0  \n",
       "4      0      1      0      0      0      0      0      0  \n",
       "\n",
       "[5 rows x 262 columns]"
      ]
     },
     "execution_count": 43,
     "metadata": {},
     "output_type": "execute_result"
    }
   ],
   "source": [
    "df_data['situacao'] = df_data['situacao'].map({'eleito': 1, 'nao_eleito': 0})\n",
    "\n",
    "df_data = pd.get_dummies(df_data)\n",
    "\n",
    "print(df_data.shape)\n",
    "df_data.head()"
   ]
  },
  {
   "cell_type": "markdown",
   "metadata": {},
   "source": [
    "Separando os dados de treino, validação e teste."
   ]
  },
  {
   "cell_type": "code",
   "execution_count": 44,
   "metadata": {},
   "outputs": [],
   "source": [
    "test = df_data.loc[7622:,]\n",
    "X_test = test.drop('situacao', axis = 1)\n",
    "\n",
    "data = df_data.loc[:7621, ]\n",
    "y = data['situacao']\n",
    "X = data.drop(\"situacao\", axis = 1)\n",
    "\n",
    "X_train, X_validation, y_train, y_validation = train_test_split(X, y, test_size = 0.2)"
   ]
  },
  {
   "cell_type": "code",
   "execution_count": 45,
   "metadata": {},
   "outputs": [
    {
     "name": "stdout",
     "output_type": "stream",
     "text": [
      "(6097, 261)\n",
      "(1525, 261)\n"
     ]
    }
   ],
   "source": [
    "print(X_train.shape)\n",
    "print(X_validation.shape)"
   ]
  },
  {
   "cell_type": "markdown",
   "metadata": {},
   "source": [
    "### Balanceamento dos dados"
   ]
  },
  {
   "cell_type": "markdown",
   "metadata": {},
   "source": [
    "Abaixo, vemos a distribuição dos dados por situação: vereadores eleitos e vereadores não-eleitos."
   ]
  },
  {
   "cell_type": "code",
   "execution_count": 84,
   "metadata": {},
   "outputs": [
    {
     "name": "stdout",
     "output_type": "stream",
     "text": [
      "('Class n\\xc3\\xa3o-eleito:', 5292)\n",
      "('Class eleito:', 805)\n",
      "('Propor\\xc3\\xa7\\xc3\\xa3o:', 6.0, ': 1')\n"
     ]
    }
   ],
   "source": [
    "target_count = y_train.value_counts()\n",
    "print('Class não-eleito:', target_count[0])\n",
    "print('Class eleito:', target_count[1])\n",
    "print('Proporção:', round(target_count[0] / target_count[1], 2), ': 1')"
   ]
  },
  {
   "cell_type": "code",
   "execution_count": 47,
   "metadata": {},
   "outputs": [
    {
     "data": {
      "text/plain": [
       "<matplotlib.axes._subplots.AxesSubplot at 0x2ee92908>"
      ]
     },
     "execution_count": 47,
     "metadata": {},
     "output_type": "execute_result"
    },
    {
     "data": {
      "image/png": "[encoded data removed]",
      "text/plain": [
       "<Figure size 432x288 with 1 Axes>"
      ]
     },
     "metadata": {
      "needs_background": "light"
     },
     "output_type": "display_data"
    }
   ],
   "source": [
    "target_count.plot(kind = 'bar', title = 'Count (target)')"
   ]
  },
  {
   "cell_type": "markdown",
   "metadata": {},
   "source": [
    "No conjunto de dados, 86,5% dos vereadores analisados não foram eleitos e apenas 13,5% foram eleitos, apresentando um alto desbalanceamento. Para cada vereador eleito, há aproximadamente 6 vereadores não-eleitos. O ideal seria um conjunto de dados com metade dos vereadores eleitos e a outra metado não-eleitos.\n",
    "\n",
    "Com este desbalanceamento, o classificador irá especializar-se nos dados cuja classe é majoritária (vereadores não-eleitos) e, portanto, a cada novo dado, ele terá mais probabilidade de classificar como não-eleito. Outro problema surge ao usar a acurácia para avaliar a qualidade do modelo, porque ela vai ser elevada, porém não significará qualidade no contexto de dados desbalanceados.\n",
    "\n",
    "Uma alternativa para contornar esse desbalanceamento é usar reamostragem, por exemplo, que consiste em remover amostras da classe majoritária (subamostragem) e/ou adicionar mais exemplos da classe minoritária (sobre-amostragem)."
   ]
  },
  {
   "cell_type": "markdown",
   "metadata": {},
   "source": [
    "### Amostragem"
   ]
  },
  {
   "cell_type": "markdown",
   "metadata": {},
   "source": [
    "Usaremos subamostragem com as técnicas SMOTE + Tomek para balancear os dados, que é uma combinação de sobre-amostragem e subamostragem, respectivamente.\n",
    "\n",
    "SMOTE (Synthetic Minority Oversampling TEchnique) consiste em sintetizar elementos para a classe minoritária, com base naqueles que já existem. Ele trabalha aleatoriamente escolhendo um ponto da classe minoritária e calculando os k vizinhos mais próximos para este ponto. Os pontos sintéticos são adicionados entre o ponto escolhido e seus vizinhos, como ilustrado na imagem abaixo.\n",
    "\n",
    "![image.png](smote.png)"
   ]
  },
  {
   "cell_type": "markdown",
   "metadata": {},
   "source": [
    "Tomek links são pares de instâncias muito próximas, mas de classes opostas. Remover as instâncias da classe majoritária de cada par aumenta o espaço entre as duas classes, facilitando o processo de classificação.\n",
    "\n",
    "![image.png](tomeklinks.png)"
   ]
  },
  {
   "cell_type": "markdown",
   "metadata": {},
   "source": [
    "Portanto, a combinação dessas duas técnicas cria dados sintéticos na classe minoritária e separa mellhor as classes, ao remover o dado da classe majoritária na fronteira de separação, ou seja, nos Tomek links."
   ]
  },
  {
   "cell_type": "code",
   "execution_count": 48,
   "metadata": {},
   "outputs": [],
   "source": [
    "smt = SMOTETomek(ratio='auto')\n",
    "X_train_sampled, y_train_sampled = smt.fit_sample(X_train, y_train)"
   ]
  },
  {
   "cell_type": "markdown",
   "metadata": {},
   "source": [
    "Abaixo, vemos que agora as classes possuem a mesma quantidade de dados, ou seja, estão balanceadas e não prejudicarão os modelos a serem treinados."
   ]
  },
  {
   "cell_type": "code",
   "execution_count": 49,
   "metadata": {},
   "outputs": [
    {
     "data": {
      "text/plain": [
       "<matplotlib.axes._subplots.AxesSubplot at 0x2f6deef0>"
      ]
     },
     "execution_count": 49,
     "metadata": {},
     "output_type": "execute_result"
    },
    {
     "data": {
      "image/png": "[encoded data removed]",
      "text/plain": [
       "<Figure size 432x288 with 1 Axes>"
      ]
     },
     "metadata": {
      "needs_background": "light"
     },
     "output_type": "display_data"
    }
   ],
   "source": [
    "y_train_sampled_counted = y_train_sampled[:,np.newaxis]\n",
    "sns.countplot(y_train_sampled_counted[:,0])"
   ]
  },
  {
   "cell_type": "markdown",
   "metadata": {},
   "source": [
    "## 2. Implementação dos modelos"
   ]
  },
  {
   "cell_type": "code",
   "execution_count": 50,
   "metadata": {},
   "outputs": [],
   "source": [
    "CROSS_VALIDATION_GENERATOR = 20"
   ]
  },
  {
   "cell_type": "markdown",
   "metadata": {},
   "source": [
    "Funções auxiliares:"
   ]
  },
  {
   "cell_type": "code",
   "execution_count": 51,
   "metadata": {},
   "outputs": [],
   "source": [
    "# function to train the model and to calculate the f1 with cross validation\n",
    "def f1_cv(model):\n",
    "    f1 = cross_val_score(model, X_train_sampled, y_train_sampled, scoring = \"f1\", cv = CROSS_VALIDATION_GENERATOR)\n",
    "    return(f1)"
   ]
  },
  {
   "cell_type": "code",
   "execution_count": 81,
   "metadata": {},
   "outputs": [],
   "source": [
    "# function to get metrics in train process\n",
    "def get_metrics_train(model):\n",
    "    acc = cross_val_score(model, X_train_sampled, y_train_sampled.round(), cv = CROSS_VALIDATION_GENERATOR)\n",
    "    prec = cross_val_score(model, X_train_sampled, y_train_sampled, scoring = 'precision', cv = CROSS_VALIDATION_GENERATOR)\n",
    "    rec = cross_val_score(model, X_train_sampled, y_train_sampled, scoring = 'recall', cv = CROSS_VALIDATION_GENERATOR)\n",
    "    f1 = cross_val_score(model, X_train_sampled, y_train_sampled, scoring = 'f1', cv = CROSS_VALIDATION_GENERATOR)\n",
    "    roc_auc = cross_val_score(model, X_train_sampled, y_train_sampled, scoring = 'roc_auc', cv = CROSS_VALIDATION_GENERATOR)\n",
    "    \n",
    "    print('Training:')\n",
    "    print(\"Accuracy: %.2f%%\" % (np.ma.median(acc) * 100))\n",
    "    print(\"Precision: %.2f%%\" % (np.ma.median(prec) * 100))\n",
    "    print(\"Recall: %.2f%% \" % (np.ma.median(rec) * 100))\n",
    "    print(\"F-measure: %.2f%%\" % (np.ma.median(f1) * 100))\n",
    "    print(\"ROC AUC: %.2f%%\" % (np.ma.median(roc_auc) * 100))\n",
    "    print('-------------------')"
   ]
  },
  {
   "cell_type": "code",
   "execution_count": 82,
   "metadata": {},
   "outputs": [],
   "source": [
    "# function to get metrics in validation process\n",
    "def get_metrics_validation(model):\n",
    "    y_pred = model.predict(X_validation)\n",
    "    \n",
    "    acc = accuracy_score(y_validation, y_pred)\n",
    "    prec, rec, f1, t  = precision_recall_fscore_support(y_validation, y_pred, average = 'binary')\n",
    "    false_positive_rate, true_positive_rate, thresholds = roc_curve(y_validation, y_pred)\n",
    "    roc_auc = auc(false_positive_rate, true_positive_rate)\n",
    "    score = model.score(X_validation, y_validation)\n",
    "    \n",
    "    print('Validation:')\n",
    "    print(\"Accuracy: %.2f%%\" % (acc * 100))\n",
    "    print(\"Precision: %.2f%%\" % (prec * 100))\n",
    "    print(\"Recall: %.2f%% \" % (rec * 100))\n",
    "    print(\"F-measure: %.2f%%\" % (f1 * 100))\n",
    "    print(\"Score: %.2f%%\" % (score * 100))\n",
    "    print(\"ROC AUC: %.2f%%\" % (roc_auc * 100))\n",
    "    \n",
    "    return [acc, prec, rec, f1, roc_auc, score]"
   ]
  },
  {
   "cell_type": "code",
   "execution_count": 54,
   "metadata": {},
   "outputs": [],
   "source": [
    "# function to plot the f1 vs parameter value\n",
    "def plot_f1_param(series, param_name):\n",
    "    series.plot(title = \"F-measure vs \" + param_name)\n",
    "    plt.xlabel(param_name)\n",
    "    plt.ylabel(\"F-measure\")"
   ]
  },
  {
   "cell_type": "code",
   "execution_count": 55,
   "metadata": {},
   "outputs": [],
   "source": [
    "# function to get the best F1 and the best parameter value of the model\n",
    "def best_f1_param(series):\n",
    "    best_f1 = series.max()\n",
    "    best_param = series.idxmax() \n",
    "    \n",
    "    return(best_f1, best_param)"
   ]
  },
  {
   "cell_type": "code",
   "execution_count": 56,
   "metadata": {},
   "outputs": [],
   "source": [
    "# function to train the model and to return the score\n",
    "def train_model(model, print_coef):\n",
    "    model.fit(X_train_sampled, y_train_sampled)\n",
    "    if (print_coef):\n",
    "        print_coefficients(model)\n",
    "    \n",
    "    score = model.score(X_validation, y_validation)\n",
    "    return score"
   ]
  },
  {
   "cell_type": "code",
   "execution_count": 58,
   "metadata": {},
   "outputs": [],
   "source": [
    "def get_params_values(min_value, max_value):\n",
    "    param_list = list(range(min_value, max_value))\n",
    "\n",
    "    # subsetting just the odd ones\n",
    "    params = list(filter(lambda x: x % 2 != 0, param_list))\n",
    "    return params"
   ]
  },
  {
   "cell_type": "code",
   "execution_count": 83,
   "metadata": {},
   "outputs": [],
   "source": [
    "# function to generate prediction file\n",
    "def generate_output(model, name):\n",
    "    y_pred = model.predict(X_test)\n",
    "    \n",
    "    test_predict_df = pd.DataFrame()\n",
    "    test_predict_df['Id'] = X_test.sequencial_candidato\n",
    "    test_predict_df['Predicted'] = y_pred\n",
    "    \n",
    "    test_predict_df['Predicted'] = test_predict_df['Predicted'].map({1: 'eleito', 0: 'nao_eleito'})\n",
    "    print(test_predict_df.head())\n",
    "    \n",
    "    test_predict_df.to_csv('data/output-' + name + '.csv', index = False, quoting = csv.QUOTE_ALL)"
   ]
  },
  {
   "cell_type": "markdown",
   "metadata": {},
   "source": [
    "### Regressão Logística"
   ]
  },
  {
   "cell_type": "code",
   "execution_count": 60,
   "metadata": {},
   "outputs": [
    {
     "data": {
      "image/png": "[encoded data removed]",
      "text/plain": [
       "<Figure size 432x288 with 1 Axes>"
      ]
     },
     "metadata": {
      "needs_background": "light"
     },
     "output_type": "display_data"
    }
   ],
   "source": [
    "# creating odd list of C parameter\n",
    "cs = [0.0001, 0.001, 0.005, 0.1, 0.5, 0.9]\n",
    "\n",
    "cv_logisticRegression_f1 = [f1_cv(LogisticRegression(C = c)).mean() \n",
    "            for c in cs]\n",
    "\n",
    "series_logisticRegression = pd.Series(cv_logisticRegression_f1, index = cs)\n",
    "plot_f1_param(series_logisticRegression, \"C\")"
   ]
  },
  {
   "cell_type": "code",
   "execution_count": 61,
   "metadata": {},
   "outputs": [
    {
     "name": "stdout",
     "output_type": "stream",
     "text": [
      "Modelo Regressão Logística, com os dados de 2006 e 2010: \n",
      "C = 0.0001 \n",
      "F-measure = 0.724001595027 \n",
      "Score = 0.56393442623\n"
     ]
    }
   ],
   "source": [
    "best_f1_logisticRegression, best_param_logisticRegression = best_f1_param(series_logisticRegression)\n",
    "\n",
    "model_logisticRegression = LogisticRegression(C = best_param_logisticRegression)\n",
    "score_logisticRegression = train_model(model_logisticRegression, False)\n",
    "\n",
    "print(\"Modelo Regressão Logística, com os dados de 2006 e 2010: \\nC = {0} \\nF-measure = {1} \\nScore = {2}\").format(best_param_logisticRegression, best_f1_logisticRegression, score_logisticRegression)"
   ]
  },
  {
   "cell_type": "code",
   "execution_count": 62,
   "metadata": {},
   "outputs": [
    {
     "name": "stdout",
     "output_type": "stream",
     "text": [
      "Training:\n",
      "Accuracy: 67.65%\n",
      "Precision: 63.17%\n",
      "Recall: 85.28% \n",
      "F-measure: 72.90%\n",
      "ROC AUC: 88.75%\n",
      "-------------------\n",
      "Validation:\n",
      "Accuracy: 56.39%\n",
      "Precision: 22.59%\n",
      "Recall: 82.81% \n",
      "F-measure: 35.50%\n",
      "Score: 56.39%\n",
      "ROC AUC: 67.36%\n"
     ]
    }
   ],
   "source": [
    "get_metrics_train(model_logisticRegression)\n",
    "\n",
    "acc_logReg, prec_logReg, rec_logReg, f1_logReg, roc_auc_logReg, score_logReg = get_metrics_validation(model_logisticRegression)"
   ]
  },
  {
   "cell_type": "markdown",
   "metadata": {},
   "source": [
    "### KNN"
   ]
  },
  {
   "cell_type": "markdown",
   "metadata": {},
   "source": [
    "O modelo de regressão k-NN é baseado nos k vizinhos mais próximos, ou seja, o valor alvo é classificado pela interpolação local dos valores alvos associados aos vizinhos mais próximos no conjunto de treinamento. Portanto, o melhor valor de k deve ser encontrado para o nosso conjunto de dados."
   ]
  },
  {
   "cell_type": "code",
   "execution_count": 64,
   "metadata": {},
   "outputs": [
    {
     "data": {
      "image/png": "[encoded data removed]",
      "text/plain": [
       "<Figure size 432x288 with 1 Axes>"
      ]
     },
     "metadata": {
      "needs_background": "light"
     },
     "output_type": "display_data"
    }
   ],
   "source": [
    "# creating odd list of K for KNN\n",
    "neighbors = get_params_values(1, 50)\n",
    "\n",
    "cv_knn_f1 = [f1_cv(KNeighborsClassifier(n_neighbors = n)).mean() \n",
    "            for n in neighbors]\n",
    "\n",
    "series_knn = pd.Series(cv_knn_f1, index = neighbors)\n",
    "plot_f1_param(series_knn, \"n_neighbors\")"
   ]
  },
  {
   "cell_type": "code",
   "execution_count": 65,
   "metadata": {},
   "outputs": [
    {
     "name": "stdout",
     "output_type": "stream",
     "text": [
      "Modelo K-NN, com os dados de 2006 e 2010: \n",
      "Neighbors = 1 \n",
      "F-score = 0.957492329336 \n",
      "Score = 0.88393442623\n"
     ]
    }
   ],
   "source": [
    "best_f1_knn, best_param_knn = best_f1_param(series_knn)\n",
    "\n",
    "model_knn = KNeighborsClassifier(n_neighbors = best_param_knn)\n",
    "score_knn = train_model(model_knn, False)\n",
    "\n",
    "print(\"Modelo K-NN, com os dados de 2006 e 2010: \\nNeighbors = {0} \\nF-score = {1} \\nScore = {2}\").format(best_param_knn, best_f1_knn, score_knn)"
   ]
  },
  {
   "cell_type": "code",
   "execution_count": 66,
   "metadata": {},
   "outputs": [
    {
     "name": "stdout",
     "output_type": "stream",
     "text": [
      "Training:\n",
      "Accuracy: 95.61%\n",
      "Precision: 92.53%\n",
      "Recall: 99.24% \n",
      "F-measure: 95.76%\n",
      "ROC AUC: 95.61%\n",
      "-------------------\n",
      "Validation:\n",
      "Accuracy: 88.39%\n",
      "Precision: 57.86%\n",
      "Recall: 73.30% \n",
      "F-measure: 64.67%\n",
      "Score: 88.39%\n",
      "ROC AUC: 82.13%\n"
     ]
    }
   ],
   "source": [
    "get_metrics_train(model_knn)\n",
    "\n",
    "acc_knn, prec_knn, rec_knn, f1_knn, roc_auc_knn, score_knn = get_metrics_validation(model_knn)"
   ]
  },
  {
   "cell_type": "markdown",
   "metadata": {},
   "source": [
    "### Árvore de Decisão"
   ]
  },
  {
   "cell_type": "markdown",
   "metadata": {},
   "source": [
    "Árvore de decisão constroi modelos de classificação na forma de uma estrutura em árvore. Ela divide um conjunto de dados em subconjuntos menores e menores, enquanto, ao mesmo tempo, uma árvore de decisão associada é incrementalmente desenvolvida. O resultado final é uma árvore com nós de decisão e nós de folha. Um nó de decisão tem dois ou mais ramos e o nó da folha representa uma classificação ou decisão."
   ]
  },
  {
   "cell_type": "code",
   "execution_count": 67,
   "metadata": {},
   "outputs": [
    {
     "data": {
      "image/png": "[encoded data removed]",
      "text/plain": [
       "<Figure size 432x288 with 1 Axes>"
      ]
     },
     "metadata": {
      "needs_background": "light"
     },
     "output_type": "display_data"
    }
   ],
   "source": [
    "max_depth = get_params_values(1, 50)\n",
    "\n",
    "cv_dt_f1 = [f1_cv(DecisionTreeClassifier(max_depth = d)).mean() \n",
    "            for d in max_depth]\n",
    "\n",
    "series_dt = pd.Series(cv_dt_f1, index = max_depth)\n",
    "plot_f1_param(series_dt, \"max_depth\")"
   ]
  },
  {
   "cell_type": "code",
   "execution_count": 68,
   "metadata": {},
   "outputs": [
    {
     "name": "stdout",
     "output_type": "stream",
     "text": [
      "Modelo Decision Tree, com os dados de 2006 e 2010: \n",
      "Max depth = 1 \n",
      "F-score = 0.957492329336 \n",
      "Score = 0.859016393443\n"
     ]
    }
   ],
   "source": [
    "best_f1_dt, best_param_dt = best_f1_param(series_knn)\n",
    "\n",
    "model_dt = DecisionTreeClassifier(max_depth = best_param_dt)\n",
    "score_dt = train_model(model_dt, False)\n",
    "\n",
    "print(\"Modelo Decision Tree, com os dados de 2006 e 2010: \\nMax depth = {0} \\nF-score = {1} \\nScore = {2}\").format(best_param_dt, best_f1_dt, score_dt)"
   ]
  },
  {
   "cell_type": "code",
   "execution_count": 69,
   "metadata": {},
   "outputs": [
    {
     "name": "stdout",
     "output_type": "stream",
     "text": [
      "Training:\n",
      "Accuracy: 91.41%\n",
      "Precision: 87.30%\n",
      "Recall: 95.99% \n",
      "F-measure: 91.83%\n",
      "ROC AUC: 91.41%\n",
      "-------------------\n",
      "Validation:\n",
      "Accuracy: 85.90%\n",
      "Precision: 50.72%\n",
      "Recall: 95.02% \n",
      "F-measure: 66.14%\n",
      "Score: 85.90%\n",
      "ROC AUC: 89.69%\n"
     ]
    }
   ],
   "source": [
    "get_metrics_train(model_dt)\n",
    "\n",
    "acc_dt, prec_dt, rec_dt, f1_dt, roc_auc_dt, score_dt = get_metrics_validation(model_dt)"
   ]
  },
  {
   "cell_type": "markdown",
   "metadata": {},
   "source": [
    "### AdaBoost"
   ]
  },
  {
   "cell_type": "markdown",
   "metadata": {},
   "source": [
    "Um classificador AdaBoost é um meta-estimador que começa ajustando um classificador no conjunto de dados original e, em seguida, ajusta cópias adicionais do classificador no mesmo conjunto de dados, mas onde os pesos das instâncias classificadas incorretamente são ajustados, de forma que os classificadores subsequentes se concentrem mais em casos difíceis."
   ]
  },
  {
   "cell_type": "code",
   "execution_count": 70,
   "metadata": {},
   "outputs": [
    {
     "data": {
      "image/png": "[encoded data removed]",
      "text/plain": [
       "<Figure size 432x288 with 1 Axes>"
      ]
     },
     "metadata": {
      "needs_background": "light"
     },
     "output_type": "display_data"
    }
   ],
   "source": [
    "estimators = get_params_values(1, 50)\n",
    "\n",
    "cv_ada_f1 = [f1_cv(AdaBoostClassifier(n_estimators = n)).mean() \n",
    "            for n in estimators]\n",
    "\n",
    "series_ada = pd.Series(cv_ada_f1, index = estimators)\n",
    "plot_f1_param(series_ada, \"estimators\")"
   ]
  },
  {
   "cell_type": "code",
   "execution_count": 71,
   "metadata": {},
   "outputs": [
    {
     "name": "stdout",
     "output_type": "stream",
     "text": [
      "Modelo AdaBoost, com os dados de 2006 e 2010: \n",
      "Estimators = 37 \n",
      "F-score = 0.94175644438 \n",
      "Score = 0.905573770492\n"
     ]
    }
   ],
   "source": [
    "best_f1_ada, best_param_ada = best_f1_param(series_ada)\n",
    "\n",
    "model_ada = AdaBoostClassifier(n_estimators = best_param_ada)\n",
    "score_ada = train_model(model_ada, False)\n",
    "\n",
    "print(\"Modelo AdaBoost, com os dados de 2006 e 2010: \\nEstimators = {0} \\nF-score = {1} \\nScore = {2}\").format(best_param_ada, best_f1_ada, score_ada)"
   ]
  },
  {
   "cell_type": "code",
   "execution_count": 72,
   "metadata": {},
   "outputs": [
    {
     "name": "stdout",
     "output_type": "stream",
     "text": [
      "Training:\n",
      "Accuracy: 95.23%\n",
      "Precision: 92.95%\n",
      "Recall: 98.09% \n",
      "F-measure: 95.36%\n",
      "ROC AUC: 99.34%\n",
      "-------------------\n",
      "Validation:\n",
      "Accuracy: 90.56%\n",
      "Precision: 62.79%\n",
      "Recall: 85.52% \n",
      "F-measure: 72.41%\n",
      "Score: 90.56%\n",
      "ROC AUC: 88.47%\n"
     ]
    }
   ],
   "source": [
    "get_metrics_train(model_ada)\n",
    "\n",
    "acc_ada, prec_ada, rec_ada, f1_ada, roc_auc_ada, score_ada = get_metrics_validation(model_ada)"
   ]
  },
  {
   "cell_type": "code",
   "execution_count": 73,
   "metadata": {},
   "outputs": [
    {
     "name": "stdout",
     "output_type": "stream",
     "text": [
      "               Id   Predicted\n",
      "7622  10000000135  nao_eleito\n",
      "7623  10000000142  nao_eleito\n",
      "7624  10000000158  nao_eleito\n",
      "7625  10000000161      eleito\n",
      "7626  10000000163      eleito\n"
     ]
    }
   ],
   "source": [
    "generate_output(model_ada, 'adaBoost')"
   ]
  },
  {
   "cell_type": "markdown",
   "metadata": {},
   "source": [
    "### Random Forest"
   ]
  },
  {
   "cell_type": "markdown",
   "metadata": {},
   "source": [
    "Random Forest é um meta estimador que ajusta vários classificadores de árvore de decisão em várias subamostras do conjunto de dados e usa a média para melhorar a precisão preditiva e controlar o ajuste excessivo. Seu parâmetro mais importante é a quantidade de árvores (estimators), o qual buscaremos o melhor."
   ]
  },
  {
   "cell_type": "code",
   "execution_count": 74,
   "metadata": {},
   "outputs": [
    {
     "data": {
      "image/png": "[encoded data removed]",
      "text/plain": [
       "<Figure size 432x288 with 1 Axes>"
      ]
     },
     "metadata": {
      "needs_background": "light"
     },
     "output_type": "display_data"
    }
   ],
   "source": [
    "estimators = get_params_values(1, 100)\n",
    "\n",
    "cv_rf_f1 = [f1_cv(RandomForestClassifier(n_estimators = n)).mean() \n",
    "            for n in estimators]\n",
    "\n",
    "series_rf = pd.Series(cv_rf_f1, index = estimators)\n",
    "plot_f1_param(series_rf, \"estimators\")"
   ]
  },
  {
   "cell_type": "code",
   "execution_count": 75,
   "metadata": {},
   "outputs": [
    {
     "name": "stdout",
     "output_type": "stream",
     "text": [
      "Modelo Random Forest, com os dados de 2006 e 2010: \n",
      "Estimators = 53 \n",
      "F-score = 0.961397566489 \n",
      "Score = 0.912786885246\n"
     ]
    }
   ],
   "source": [
    "best_f1_rf, best_param_rf= best_f1_param(series_rf)\n",
    "\n",
    "model_rf = RandomForestClassifier(n_estimators = best_param_rf)\n",
    "score_rf = train_model(model_rf, False)\n",
    "\n",
    "print(\"Modelo Random Forest, com os dados de 2006 e 2010: \\nEstimators = {0} \\nF-score = {1} \\nScore = {2}\").format(best_param_rf, best_f1_rf, score_rf)"
   ]
  },
  {
   "cell_type": "code",
   "execution_count": 76,
   "metadata": {},
   "outputs": [
    {
     "name": "stdout",
     "output_type": "stream",
     "text": [
      "Training:\n",
      "Accuracy: 96.66%\n",
      "Precision: 94.38%\n",
      "Recall: 99.81% \n",
      "F-measure: 96.85%\n",
      "ROC AUC: 99.84%\n",
      "-------------------\n",
      "Validation:\n",
      "Accuracy: 91.28%\n",
      "Precision: 65.83%\n",
      "Recall: 82.81% \n",
      "F-measure: 73.35%\n",
      "Score: 91.28%\n",
      "ROC AUC: 87.76%\n"
     ]
    }
   ],
   "source": [
    "get_metrics_train(model_rf)\n",
    "\n",
    "acc_rf, prec_rf, rec_rf, f1_rf, roc_auc_rf, score_rf = get_metrics_validation(model_rf)"
   ]
  },
  {
   "cell_type": "code",
   "execution_count": 77,
   "metadata": {},
   "outputs": [
    {
     "name": "stdout",
     "output_type": "stream",
     "text": [
      "               Id   Predicted\n",
      "7622  10000000135  nao_eleito\n",
      "7623  10000000142  nao_eleito\n",
      "7624  10000000158      eleito\n",
      "7625  10000000161      eleito\n",
      "7626  10000000163      eleito\n"
     ]
    }
   ],
   "source": [
    "generate_output(model_rf, 'randomForest')"
   ]
  },
  {
   "cell_type": "markdown",
   "metadata": {},
   "source": [
    "## Resultados"
   ]
  },
  {
   "cell_type": "markdown",
   "metadata": {},
   "source": [
    "Ao analisar as métricas Acurácia, Precisão, Recall, F-measure e AUC no treino e na validação, percebemos que elas sempre são menores na validação, ou seja, ao tentar classificar dados ainda não vistos. Os valores maiores na validação ocorrem porque os modelos vão adaptando-se aos dados e, portanto, produzindo menos erros.\n",
    "\n",
    "Abaixo, vemos essas métricas aplicadas na validação de cada modelo de classificação."
   ]
  },
  {
   "cell_type": "code",
   "execution_count": 78,
   "metadata": {},
   "outputs": [
    {
     "data": {
      "text/html": [
       "<div>\n",
       "<style scoped>\n",
       "    .dataframe tbody tr th:only-of-type {\n",
       "        vertical-align: middle;\n",
       "    }\n",
       "\n",
       "    .dataframe tbody tr th {\n",
       "        vertical-align: top;\n",
       "    }\n",
       "\n",
       "    .dataframe thead th {\n",
       "        text-align: right;\n",
       "    }\n",
       "</style>\n",
       "<table border=\"1\" class=\"dataframe\">\n",
       "  <thead>\n",
       "    <tr style=\"text-align: right;\">\n",
       "      <th></th>\n",
       "      <th>model</th>\n",
       "      <th>accuracy</th>\n",
       "      <th>precision</th>\n",
       "      <th>recall</th>\n",
       "      <th>f1</th>\n",
       "      <th>auc</th>\n",
       "      <th>score</th>\n",
       "    </tr>\n",
       "  </thead>\n",
       "  <tbody>\n",
       "    <tr>\n",
       "      <th>0</th>\n",
       "      <td>Regressão Logística</td>\n",
       "      <td>0.563934</td>\n",
       "      <td>0.225926</td>\n",
       "      <td>0.828054</td>\n",
       "      <td>0.354995</td>\n",
       "      <td>0.673613</td>\n",
       "      <td>0.563934</td>\n",
       "    </tr>\n",
       "    <tr>\n",
       "      <th>1</th>\n",
       "      <td>KNN</td>\n",
       "      <td>0.883934</td>\n",
       "      <td>0.578571</td>\n",
       "      <td>0.733032</td>\n",
       "      <td>0.646707</td>\n",
       "      <td>0.821270</td>\n",
       "      <td>0.883934</td>\n",
       "    </tr>\n",
       "    <tr>\n",
       "      <th>2</th>\n",
       "      <td>Árvore de Decisão</td>\n",
       "      <td>0.859016</td>\n",
       "      <td>0.507246</td>\n",
       "      <td>0.950226</td>\n",
       "      <td>0.661417</td>\n",
       "      <td>0.896892</td>\n",
       "      <td>0.859016</td>\n",
       "    </tr>\n",
       "    <tr>\n",
       "      <th>3</th>\n",
       "      <td>AdaBoost</td>\n",
       "      <td>0.905574</td>\n",
       "      <td>0.627907</td>\n",
       "      <td>0.855204</td>\n",
       "      <td>0.724138</td>\n",
       "      <td>0.884657</td>\n",
       "      <td>0.905574</td>\n",
       "    </tr>\n",
       "    <tr>\n",
       "      <th>4</th>\n",
       "      <td>Random Forest</td>\n",
       "      <td>0.912787</td>\n",
       "      <td>0.658273</td>\n",
       "      <td>0.828054</td>\n",
       "      <td>0.733467</td>\n",
       "      <td>0.877601</td>\n",
       "      <td>0.912787</td>\n",
       "    </tr>\n",
       "  </tbody>\n",
       "</table>\n",
       "</div>"
      ],
      "text/plain": [
       "                 model  accuracy  precision    recall        f1       auc  \\\n",
       "0  Regressão Logística  0.563934   0.225926  0.828054  0.354995  0.673613   \n",
       "1                  KNN  0.883934   0.578571  0.733032  0.646707  0.821270   \n",
       "2    Árvore de Decisão  0.859016   0.507246  0.950226  0.661417  0.896892   \n",
       "3             AdaBoost  0.905574   0.627907  0.855204  0.724138  0.884657   \n",
       "4        Random Forest  0.912787   0.658273  0.828054  0.733467  0.877601   \n",
       "\n",
       "      score  \n",
       "0  0.563934  \n",
       "1  0.883934  \n",
       "2  0.859016  \n",
       "3  0.905574  \n",
       "4  0.912787  "
      ]
     },
     "execution_count": 78,
     "metadata": {},
     "output_type": "execute_result"
    }
   ],
   "source": [
    "col_names = ['model', 'accuracy', 'precision', 'recall', 'f1', 'auc', 'score']\n",
    "\n",
    "acc_logReg, prec_logReg, rec_logReg, f1_logReg, roc_auc_logReg, score_logReg\n",
    "\n",
    "values = [['Regressão Logística', acc_logReg, prec_logReg, rec_logReg, f1_logReg, roc_auc_logReg, score_logReg],\n",
    "          ['KNN', acc_knn, prec_knn, rec_knn, f1_knn, roc_auc_knn, score_knn],\n",
    "          ['Árvore de Decisão', acc_dt, prec_dt, rec_dt, f1_dt, roc_auc_dt, score_dt],\n",
    "          ['AdaBoost', acc_ada, prec_ada, rec_ada, f1_ada, roc_auc_ada, score_ada],\n",
    "          ['Random Forest', acc_rf, prec_rf, rec_rf, f1_rf, roc_auc_rf, score_rf]]\n",
    "\n",
    "models_metrics_df = pd.DataFrame(values, columns = col_names)\n",
    "\n",
    "models_metrics_df"
   ]
  },
  {
   "cell_type": "code",
   "execution_count": 79,
   "metadata": {},
   "outputs": [
    {
     "data": {
      "text/plain": [
       "<matplotlib.axes._subplots.AxesSubplot at 0x2a878978>"
      ]
     },
     "execution_count": 79,
     "metadata": {},
     "output_type": "execute_result"
    },
    {
     "data": {
      "image/png": "[encoded data removed]",
      "text/plain": [
       "<Figure size 432x288 with 1 Axes>"
      ]
     },
     "metadata": {
      "needs_background": "light"
     },
     "output_type": "display_data"
    }
   ],
   "source": [
    "my_colors = ['#4C5760', '#A39A92', '#C5D1EB', '#ED6A5A', '#BAF2BB', '#F3DE8A']\n",
    "\n",
    "models_metrics_df.plot(x = 'model', kind = 'bar', title = u'Métricas de avaliação para cada modelo de classificação',\n",
    "                      color = my_colors)"
   ]
  },
  {
   "cell_type": "markdown",
   "metadata": {},
   "source": [
    "Em geral, a Regressão Logística teve o pior desempenho, enquanto que o Random Forest foi o melhor modelo, cujas predições nos dados de teste foram submetidas na competição do [Kaggle](https://www.kaggle.com/c/ufcg-cdp-20182-lab3)."
   ]
  },
  {
   "cell_type": "markdown",
   "metadata": {},
   "source": [
    "## Referências"
   ]
  },
  {
   "cell_type": "markdown",
   "metadata": {},
   "source": [
    "https://www.kaggle.com/rafjaa/resampling-strategies-for-imbalanced-datasets\n",
    "\n",
    "https://developers.google.com/machine-learning/crash-course/classification/roc-and-auc\n",
    "\n",
    "https://beckernick.github.io/oversampling-modeling/"
   ]
  },
  {
   "cell_type": "code",
   "execution_count": null,
   "metadata": {},
   "outputs": [],
   "source": []
  }
 ],
 "metadata": {
  "kernelspec": {
   "display_name": "Python 2",
   "language": "python",
   "name": "python2"
  }
 },
 "nbformat": 4,
 "nbformat_minor": 2
}
